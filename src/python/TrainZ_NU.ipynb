{
 "cells": [
  {
   "cell_type": "code",
   "execution_count": 1,
   "metadata": {},
   "outputs": [],
   "source": [
    "import sys\n",
    "from os import listdir\n",
    "from os.path import isfile, join\n",
    "import pandas as pd\n",
    "#!{sys.executable} -m pip install tensorflow-gpu==2.4\n",
    "!export LD_LIBRARY_PATH=$LD_LIBRARY_PATH:/home/bhawks/.conda/envs/dune-1dcnn/lib\n",
    "import numpy as np\n",
    "import matplotlib.pyplot as plt\n",
    "import tensorflow as tf\n",
    "from tensorflow import keras \n",
    "from sklearn.preprocessing import StandardScaler\n",
    "from sklearn.compose import ColumnTransformer, make_column_transformer\n",
    "from sklearn.model_selection import train_test_split\n",
    "from sklearn.utils import shuffle"
   ]
  },
  {
   "cell_type": "code",
   "execution_count": 2,
   "metadata": {},
   "outputs": [],
   "source": [
    "from tqdm import trange"
   ]
  },
  {
   "cell_type": "markdown",
   "metadata": {},
   "source": [
    "# Load data, select ADC"
   ]
  },
  {
   "cell_type": "code",
   "execution_count": 3,
   "metadata": {},
   "outputs": [],
   "source": [
    "wireplane = \"Z\"\n",
    "sig_name = wireplane+\"-signal\"\n",
    "cln_name = wireplane+\"-clnsig\"\n",
    "np.random.seed(42)\n",
    "nticks = 200\n",
    "max_mels = 11000\n",
    "min_edp = 50000\n",
    "ADC_MIN = 3\n",
    "ADC_MAX = 10\n",
    "waveform_scaler = StandardScaler()\n",
    "\n",
    "def extract_wave(data):\n",
    "    string = 'tck_'\n",
    "    waveforms = []\n",
    "    #Here I extract a column in each iteration and append to list\n",
    "    for i in range(nticks):\n",
    "        waveforms.append(data[string+str(i)].astype(np.int16))\n",
    "    #convert to numpy ndarray\n",
    "    waveforms = np.array(waveforms).astype(np.int16)\n",
    "    #since raws and columns are inverted we need to transpose it\n",
    "    return np.transpose(waveforms)\n",
    "\n",
    "def extract_peak(data):\n",
    "    #extract index of peak\n",
    "    idx = np.array([data['stp0'], data['adc0'], data['stp1'], data['adc1'], data['stp2'], data['adc2'], data['stp3'], data['adc3'], data['stp4'], data['adc4']])\n",
    "    #same as before\n",
    "    return np.transpose(idx)\n",
    "\n",
    "def extract_peak_info(data):\n",
    "    peaks_pos = [data['stp0'], data['stp1'], data['stp2'], data['stp3'], data['stp4']]\n",
    "    adcs = [data['adc0'], data['adc1'], data['adc2'], data['adc3'], data['adc4']]\n",
    "    return np.array(peaks_pos).T, np.array(adcs).T\n",
    "\n",
    "def extract_nel_info(data):\n",
    "    nels = [data['nel0'], data['nel1'], data['nel2'], data['nel3'], data['nel4']]\n",
    "    return np.array(nels).T\n",
    "\n",
    "def extract_edp_info(data):\n",
    "    edp = [data['edp0'], data['edp1'], data['edp2'], data['edp3'], data['edp4']]\n",
    "    return np.array(edp).T\n",
    "\n",
    "def filter_signals(data, clean_data, filter_adc_max=True):\n",
    "    #edp_mask = np.all(extract_edp_info(data)>min_edp, axis = 1)\n",
    "    #nel_mask = np.all(extract_nel_info(data)<max_mels, axis = 1)\n",
    "    #pd.DataFrame(np.all(extract_edp_info(data)>min_edp, axis = 1)).describe()\n",
    "    #print(edp_mask)\n",
    "    #print(nel_mask)\n",
    "    #filter_mask = nel_mask #np.logical_and(edp_mask,nel_mask) \n",
    "    filtered_data = data#[filter_mask]\n",
    "    cln_filtered_data = clean_data#[filter_mask]\n",
    "    \n",
    "    filtered_peak = extract_peak_info(cln_filtered_data)[1]\n",
    "    if filter_adc_max:\n",
    "        peak_mask = np.any(filtered_peak>ADC_MIN, axis = 1)\n",
    "        peak_mask &= np.any(filtered_peak<ADC_MAX, axis = 1)\n",
    "    else:\n",
    "        peak_mask = np.any(filtered_peak>ADC_MIN, axis = 1)\n",
    "    \n",
    "    filtered_data = filtered_data[peak_mask]\n",
    "    cln_filtered_data = cln_filtered_data[peak_mask]\n",
    "    \n",
    "    return filtered_data, cln_filtered_data, filtered_peak\n",
    "\n",
    "def get_std_waveforms(data):\n",
    "    #Extract and scale waveform data (passthrough rn)\n",
    "    raw_waveforms = extract_wave(data)\n",
    "    #print(raw_waveforms) \n",
    "    #scaled_waveforms = waveform_scaler.fit_transform(raw_waveforms)\n",
    "    return raw_waveforms"
   ]
  },
  {
   "cell_type": "code",
   "execution_count": 4,
   "metadata": {},
   "outputs": [],
   "source": [
    "#X = np.load(\"data/X_argoneut.npz\")\n",
    "#y = np.load(\"data/y_argoneut.npz\")\n",
    "#old_peak = np.load(\"peak_argoneut.npz\")\n",
    "\n",
    "#Load Training Data\n",
    "path = \"/home/bhawks/dunesnb/1dcnn/train/train/nu_cc/\"\n",
    "path2 = \"/home/bhawks/dunesnb/1dcnn/train/train/nu_es/\"\n",
    "filenames1 = [path+f for f in listdir(path) if (isfile(join(path, f)) and sig_name in f)]\n",
    "clean_filenames1 = [path+f for f in listdir(path) if (isfile(join(path, f)) and cln_name in f)]\n",
    "filenames2 = [path2+f for f in listdir(path2) if (isfile(join(path2, f)) and sig_name in f)]\n",
    "clean_filenames2 = [path2+f for f in listdir(path2) if (isfile(join(path2, f)) and cln_name in f)]\n",
    "\n",
    "filenames =  filenames1+filenames2\n",
    "clean_filenames = clean_filenames1+clean_filenames2\n",
    "\n",
    "combined_data = np.concatenate([np.load(fname) for fname in filenames])\n",
    "combined_clean_data = np.concatenate([np.load(fname) for fname in filenames])\n",
    "\n",
    "noise_path = \"/home/bhawks/dunesnb/1dcnn/train/train/noise/\"\n",
    "noise_filenames = [f for f in listdir(noise_path) if (isfile(join(noise_path, f)) and sig_name in f)]\n",
    "#print(noise_filenames)\n",
    "noise_clean_filenames = [f for f in listdir(noise_path) if (isfile(join(noise_path, f)) and cln_name in f)]\n",
    "\n",
    "combined_noise = np.concatenate([np.load(noise_path+fname) for fname in noise_filenames])\n",
    "#print(combined_noise)\n",
    "#combined_clean_noise = np.concatenate([np.load(noise_path+fname) for fname in noise_clean_filenames])\n",
    "\n"
   ]
  },
  {
   "cell_type": "markdown",
   "metadata": {},
   "source": [
    "# Train/Noise Data Preprocessing\n",
    "\n"
   ]
  },
  {
   "cell_type": "code",
   "execution_count": 5,
   "metadata": {},
   "outputs": [
    {
     "name": "stdout",
     "output_type": "stream",
     "text": [
      "210996\n",
      "128926\n",
      "64463\n",
      "59166\n",
      "64463\n"
     ]
    }
   ],
   "source": [
    "from sklearn.utils import shuffle\n",
    "print(combined_data.shape[0])\n",
    "#Filter out tiny signals < ADC_MIN, but leave big signals to test on (> ADC_MAX)\n",
    "combined_data, combined_clean_data, peak = filter_signals(combined_data, combined_clean_data, False)\n",
    "print(combined_data.shape[0])\n",
    "\n",
    "#split train and test sets (~50k ea before filtering) \n",
    "combined_data, x_test_data, combined_clean_data, x_test_clean  = train_test_split(\n",
    "    combined_data, combined_clean_data, test_size=0.5, shuffle=True\n",
    ")\n",
    "print(combined_data.shape[0])\n",
    "#filter data and extract waveforms of filtered data\n",
    "combined_data, combined_clean_data, peak = filter_signals(combined_data, combined_clean_data, True)\n",
    "signal_waveforms = get_std_waveforms(combined_data)\n",
    "print(combined_data.shape[0])\n",
    "#extract waveforms of noise\n",
    "noise_waveforms = get_std_waveforms(combined_noise)\n",
    "\n",
    "#extract waveforms of test data\n",
    "test_signal_waveforms = get_std_waveforms(x_test_data)\n",
    "print(test_signal_waveforms.shape[0])\n",
    "#generate y data (assuming all radiologicals contain signal, all noise does not)\n",
    "y_noise_full = np.zeros(noise_waveforms.shape[0])\n",
    "y_signal = np.ones(signal_waveforms.shape[0])\n",
    "y_test_signal = np.ones(test_signal_waveforms.shape[0])\n",
    "\n",
    "\n",
    "# split test and train noise datasets (50k)\n",
    "x_noise_train, x_noise_test, y_noise_train, y_noise_test = train_test_split(\n",
    "    noise_waveforms, y_noise_full, test_size=0.5, shuffle=True\n",
    ")\n",
    "\n",
    "#Shuffle signal waveforms to be safe\n",
    "signal_waveforms, y_signal = shuffle(signal_waveforms,y_signal)\n",
    "\n",
    "#Shuffle test waveformst to be safe\n",
    "x_test, y_test = shuffle(test_signal_waveforms,y_test_signal)\n",
    "\n",
    "#Select First n signal samples from (shuffled) set of signals where n = noise samples for balanced train set \n",
    "x_train = np.concatenate((signal_waveforms[:int(x_noise_train.shape[0])], x_noise_train))\n",
    "y_train = np.concatenate((y_signal[:int(x_noise_train.shape[0])], y_noise_train))\n",
    "\n",
    "x_test = np.concatenate((x_test[:int(x_noise_test.shape[0])], x_noise_test))\n",
    "y_test = np.concatenate((y_test_signal[:int(x_noise_test.shape[0])], y_noise_test))\n",
    "\n",
    "\n",
    "# extra train shuffle for good measure \n",
    "x_train, y_train = shuffle(x_train,y_train)\n",
    "\n",
    "# extra test shuffle for good measure \n",
    "x_test, y_test = shuffle(x_test,y_test)\n",
    "\n",
    "#split train and valid sets (40k train 10k valid) \n",
    "x_train, x_valid, y_train, y_valid = train_test_split(\n",
    "    x_train, y_train, test_size=0.2, shuffle=True\n",
    ")"
   ]
  },
  {
   "cell_type": "markdown",
   "metadata": {},
   "source": [
    "# Load Test Data"
   ]
  },
  {
   "cell_type": "code",
   "execution_count": 6,
   "metadata": {},
   "outputs": [
    {
     "data": {
      "text/plain": [
       "'\\n#Load Test Data\\ncc_path = \"/home/bhawks/dunesnb/1dcnn/train/train/nu_cc/\"\\ncc_filenames = [f for f in listdir(cc_path) if (isfile(join(cc_path, f)) and sig_name in f)]\\ncc_clean_filenames = [f for f in listdir(cc_path) if (isfile(join(cc_path, f)) and cln_name in f)]\\n\\nes_path = \"/home/bhawks/dunesnb/1dcnn/train/train/nu_es/\"\\nes_filenames = [f for f in listdir(es_path) if (isfile(join(es_path, f)) and sig_name in f)]\\nes_clean_filenames = [f for f in listdir(es_path) if (isfile(join(es_path, f)) and cln_name in f)]\\n\\ncc_combined_data = np.concatenate([np.load(cc_path+fname) for fname in cc_filenames])\\nes_combined_data = np.concatenate([np.load(es_path+fname) for fname in es_filenames])\\n\\ncc_combined_clean_data = np.concatenate([np.load(cc_path+fname) for fname in cc_filenames])\\nes_combined_clean_data= np.concatenate([np.load(es_path+fname) for fname in es_filenames])\\n'"
      ]
     },
     "execution_count": 6,
     "metadata": {},
     "output_type": "execute_result"
    }
   ],
   "source": [
    "'''\n",
    "#Load Test Data\n",
    "cc_path = \"/home/bhawks/dunesnb/1dcnn/train/train/nu_cc/\"\n",
    "cc_filenames = [f for f in listdir(cc_path) if (isfile(join(cc_path, f)) and sig_name in f)]\n",
    "cc_clean_filenames = [f for f in listdir(cc_path) if (isfile(join(cc_path, f)) and cln_name in f)]\n",
    "\n",
    "es_path = \"/home/bhawks/dunesnb/1dcnn/train/train/nu_es/\"\n",
    "es_filenames = [f for f in listdir(es_path) if (isfile(join(es_path, f)) and sig_name in f)]\n",
    "es_clean_filenames = [f for f in listdir(es_path) if (isfile(join(es_path, f)) and cln_name in f)]\n",
    "\n",
    "cc_combined_data = np.concatenate([np.load(cc_path+fname) for fname in cc_filenames])\n",
    "es_combined_data = np.concatenate([np.load(es_path+fname) for fname in es_filenames])\n",
    "\n",
    "cc_combined_clean_data = np.concatenate([np.load(cc_path+fname) for fname in cc_filenames])\n",
    "es_combined_clean_data= np.concatenate([np.load(es_path+fname) for fname in es_filenames])\n",
    "'''"
   ]
  },
  {
   "cell_type": "markdown",
   "metadata": {},
   "source": [
    "# Test Data Pre-Processing"
   ]
  },
  {
   "cell_type": "code",
   "execution_count": 7,
   "metadata": {},
   "outputs": [
    {
     "data": {
      "text/plain": [
       "'\\ncc_combined_data, cc_combined_clean_data, cc_peak = filter_signals(cc_combined_data, cc_combined_clean_data)\\nes_combined_data, es_combined_clean_data, es_peak = filter_signals(es_combined_data, es_combined_clean_data)\\n\\ncc_signal_waveforms = get_std_waveforms(cc_combined_data)\\nes_signal_waveforms = get_std_waveforms(es_combined_data)\\n\\ncc_y_signal = np.ones(cc_signal_waveforms.shape[0])\\nes_y_signal = np.ones(es_signal_waveforms.shape[0])\\n\\n#Select First n signal samples from (shuffled) set of signals where n = noise samples for balanced test \\ncc_x_test = np.concatenate((cc_signal_waveforms[:int(x_noise_test.shape[0])], x_noise_test))\\ncc_y_test = np.concatenate((cc_y_signal[:int(x_noise_test.shape[0])], y_noise_test))\\n\\n#Select First n signal samples from (shuffled) set of signals where n = noise samples for balanced test \\nes_x_test = np.concatenate((es_signal_waveforms[:int(x_noise_test.shape[0])], x_noise_test))\\nes_y_test = np.concatenate((es_y_signal[:int(x_noise_test.shape[0])], y_noise_test))\\n\\n#shuffle for good measure \\nfrom sklearn.utils import shuffle\\ncc_x_test, cc_y_test = shuffle(cc_x_test,cc_y_test)\\nes_x_test, es_y_test = shuffle(es_x_test,es_y_test)\\n'"
      ]
     },
     "execution_count": 7,
     "metadata": {},
     "output_type": "execute_result"
    }
   ],
   "source": [
    "'''\n",
    "cc_combined_data, cc_combined_clean_data, cc_peak = filter_signals(cc_combined_data, cc_combined_clean_data)\n",
    "es_combined_data, es_combined_clean_data, es_peak = filter_signals(es_combined_data, es_combined_clean_data)\n",
    "\n",
    "cc_signal_waveforms = get_std_waveforms(cc_combined_data)\n",
    "es_signal_waveforms = get_std_waveforms(es_combined_data)\n",
    "\n",
    "cc_y_signal = np.ones(cc_signal_waveforms.shape[0])\n",
    "es_y_signal = np.ones(es_signal_waveforms.shape[0])\n",
    "\n",
    "#Select First n signal samples from (shuffled) set of signals where n = noise samples for balanced test \n",
    "cc_x_test = np.concatenate((cc_signal_waveforms[:int(x_noise_test.shape[0])], x_noise_test))\n",
    "cc_y_test = np.concatenate((cc_y_signal[:int(x_noise_test.shape[0])], y_noise_test))\n",
    "\n",
    "#Select First n signal samples from (shuffled) set of signals where n = noise samples for balanced test \n",
    "es_x_test = np.concatenate((es_signal_waveforms[:int(x_noise_test.shape[0])], x_noise_test))\n",
    "es_y_test = np.concatenate((es_y_signal[:int(x_noise_test.shape[0])], y_noise_test))\n",
    "\n",
    "#shuffle for good measure \n",
    "from sklearn.utils import shuffle\n",
    "cc_x_test, cc_y_test = shuffle(cc_x_test,cc_y_test)\n",
    "es_x_test, es_y_test = shuffle(es_x_test,es_y_test)\n",
    "'''"
   ]
  },
  {
   "cell_type": "code",
   "execution_count": 8,
   "metadata": {},
   "outputs": [],
   "source": [
    "#pd.DataFrame(extract_nel_info(combined_data)).describe()"
   ]
  },
  {
   "cell_type": "code",
   "execution_count": 9,
   "metadata": {},
   "outputs": [],
   "source": [
    "#pd.DataFrame(old_peak[\"training_set\"]).describe()\n"
   ]
  },
  {
   "cell_type": "code",
   "execution_count": 10,
   "metadata": {},
   "outputs": [],
   "source": [
    "#for i in range(0,5): \n",
    "#    plt.hist(peak[:,i],bins=120)\n",
    "#    plt.show()\n",
    "#pd.DataFrame(peak).describe()"
   ]
  },
  {
   "cell_type": "code",
   "execution_count": 11,
   "metadata": {},
   "outputs": [],
   "source": [
    "#for i in range(0,5): \n",
    "#    plt.hist(unscaled_peak[:,i],bins=120)\n",
    "#    plt.show()\n",
    "#pd.DataFrame(unscaled_peak).describe()"
   ]
  },
  {
   "cell_type": "code",
   "execution_count": 12,
   "metadata": {},
   "outputs": [],
   "source": [
    "#x_train = X[\"training_set\"]\n",
    "#y_train = y[\"training_set\"]#\n",
    "#x_test = X[\"test_set\"]\n",
    "#y_test = y[\"test_set\"]\n",
    "\n",
    "#peak_train = peak[\"training_set\"]\n",
    "#peak_test = peak[\"test_set\"]\n",
    "#del y\n",
    "#del X\n",
    "#del peak"
   ]
  },
  {
   "cell_type": "code",
   "execution_count": 13,
   "metadata": {},
   "outputs": [],
   "source": [
    "#ADC_MIN = 3"
   ]
  },
  {
   "cell_type": "code",
   "execution_count": 14,
   "metadata": {},
   "outputs": [],
   "source": [
    "#signal = x_train[y_train == 1]\n",
    "#noise = x_train[y_train == 0]\n",
    "\n",
    "#peak_signal = peak_train[y_train == 1]\n",
    "#peak_noise =  peak_train[y_train == 0]"
   ]
  },
  {
   "cell_type": "code",
   "execution_count": 15,
   "metadata": {},
   "outputs": [],
   "source": [
    "#signal_test = x_test[y_test == 1]\n",
    "#noise_test = x_test[y_test == 0]\n",
    "\n",
    "#peak_signal_test = peak_test[y_test == 1]\n",
    "#peak_noise_test =  peak_test[y_test == 0]"
   ]
  },
  {
   "cell_type": "code",
   "execution_count": 16,
   "metadata": {},
   "outputs": [],
   "source": [
    "#mask = np.any(peak_signal>ADC_MIN, axis = 1)\n",
    "#peak_signal = signal[mask]\n",
    "#signal = signal[mask]"
   ]
  },
  {
   "cell_type": "code",
   "execution_count": 17,
   "metadata": {},
   "outputs": [],
   "source": [
    "#mask = np.any(peak_signal_test>ADC_MIN, axis = 1)\n",
    "#peak_signal_test = signal_test[mask]\n",
    "#signal_test = signal_test[mask]"
   ]
  },
  {
   "cell_type": "code",
   "execution_count": 18,
   "metadata": {},
   "outputs": [],
   "source": [
    "#y_noise = np.zeros(signal.shape[0])\n",
    "#y_signal = np.ones(signal.shape[0])\n",
    "\n",
    "#x_train = np.concatenate((noise[:signal.shape[0]], signal))\n",
    "#y_train = np.concatenate((y_noise, y_signal))\n",
    "#from sklearn.utils import shuffle\n",
    "#x_train, y_train = shuffle(x_train,y_train)"
   ]
  },
  {
   "cell_type": "code",
   "execution_count": 19,
   "metadata": {},
   "outputs": [],
   "source": [
    "#y_noise_test = np.zeros(signal_test.shape[0])\n",
    "#y_signal_test = np.ones(signal_test.shape[0])\n",
    "\n",
    "#x_test = np.concatenate((noise_test[:signal_test.shape[0]], signal_test))\n",
    "#y_test = np.concatenate((y_noise_test, y_signal_test))\n",
    "#from sklearn.utils import shuffle\n",
    "#x_test, y_test = shuffle(x_test,y_test)"
   ]
  },
  {
   "cell_type": "code",
   "execution_count": 20,
   "metadata": {},
   "outputs": [
    {
     "data": {
      "text/plain": [
       "(86880, 200)"
      ]
     },
     "execution_count": 20,
     "metadata": {},
     "output_type": "execute_result"
    }
   ],
   "source": [
    "x_train.shape"
   ]
  },
  {
   "cell_type": "code",
   "execution_count": 21,
   "metadata": {},
   "outputs": [
    {
     "data": {
      "text/plain": [
       "(21720, 200)"
      ]
     },
     "execution_count": 21,
     "metadata": {},
     "output_type": "execute_result"
    }
   ],
   "source": [
    "x_valid.shape"
   ]
  },
  {
   "cell_type": "code",
   "execution_count": 22,
   "metadata": {
    "executionInfo": {
     "elapsed": 3292,
     "status": "ok",
     "timestamp": 1602697140320,
     "user": {
      "displayName": "Lorenzo Uboldi",
      "photoUrl": "",
      "userId": "12025999408021597208"
     },
     "user_tz": -120
    },
    "id": "98hh3JJMgmL5"
   },
   "outputs": [],
   "source": [
    "mean = x_train.mean()\n",
    "std = x_train.std()"
   ]
  },
  {
   "cell_type": "code",
   "execution_count": 23,
   "metadata": {
    "executionInfo": {
     "elapsed": 2199,
     "status": "ok",
     "timestamp": 1602697150258,
     "user": {
      "displayName": "Lorenzo Uboldi",
      "photoUrl": "",
      "userId": "12025999408021597208"
     },
     "user_tz": -120
    },
    "id": "GNfE_-NlgmL9"
   },
   "outputs": [],
   "source": [
    "x_train_scaled = (x_train-mean)/std\n",
    "x_valid_scaled = (x_valid-mean)/std\n",
    "x_test_scaled = (x_test-mean)/std\n",
    "#cc_x_test_scaled = (cc_x_test-mean)/std \n",
    "#es_x_test_scaled = (es_x_test-mean)/std \n",
    "time_periods = 200"
   ]
  },
  {
   "cell_type": "code",
   "execution_count": 24,
   "metadata": {
    "executionInfo": {
     "elapsed": 835,
     "status": "ok",
     "timestamp": 1602698921642,
     "user": {
      "displayName": "Lorenzo Uboldi",
      "photoUrl": "",
      "userId": "12025999408021597208"
     },
     "user_tz": -120
    },
    "id": "f1Q5D9PrR26R"
   },
   "outputs": [],
   "source": [
    "np.save(\"models/mean_z_nu\", mean)\n",
    "np.save(\"models/scale_z_nu\", std)"
   ]
  },
  {
   "cell_type": "code",
   "execution_count": 25,
   "metadata": {
    "executionInfo": {
     "elapsed": 632,
     "status": "ok",
     "timestamp": 1602697152760,
     "user": {
      "displayName": "Lorenzo Uboldi",
      "photoUrl": "",
      "userId": "12025999408021597208"
     },
     "user_tz": -120
    },
    "id": "8Kv4B_L4gmMF"
   },
   "outputs": [],
   "source": [
    "from tensorflow.keras.models import Sequential\n",
    "from tensorflow.keras.layers import Conv1D, MaxPooling1D, GlobalMaxPooling1D, \\\n",
    "    Dropout, Dense,Flatten, AveragePooling1D, BatchNormalization"
   ]
  },
  {
   "cell_type": "code",
   "execution_count": 26,
   "metadata": {
    "colab": {
     "base_uri": "https://localhost:8080/",
     "height": 503
    },
    "executionInfo": {
     "elapsed": 6059,
     "status": "ok",
     "timestamp": 1602697386319,
     "user": {
      "displayName": "Lorenzo Uboldi",
      "photoUrl": "",
      "userId": "12025999408021597208"
     },
     "user_tz": -120
    },
    "id": "Qy2CLcCzgmMK",
    "outputId": "bde22703-bb05-4503-976c-fa68081e1c69"
   },
   "outputs": [
    {
     "name": "stdout",
     "output_type": "stream",
     "text": [
      "Model: \"sequential\"\n",
      "_________________________________________________________________\n",
      "Layer (type)                 Output Shape              Param #   \n",
      "=================================================================\n",
      "conv1d (Conv1D)              (None, 99, 16)            64        \n",
      "_________________________________________________________________\n",
      "max_pooling1d (MaxPooling1D) (None, 49, 16)            0         \n",
      "_________________________________________________________________\n",
      "conv1d_1 (Conv1D)            (None, 23, 32)            2592      \n",
      "_________________________________________________________________\n",
      "max_pooling1d_1 (MaxPooling1 (None, 11, 32)            0         \n",
      "_________________________________________________________________\n",
      "dropout (Dropout)            (None, 11, 32)            0         \n",
      "_________________________________________________________________\n",
      "conv1d_2 (Conv1D)            (None, 3, 64)             18496     \n",
      "_________________________________________________________________\n",
      "global_max_pooling1d (Global (None, 64)                0         \n",
      "_________________________________________________________________\n",
      "dropout_1 (Dropout)          (None, 64)                0         \n",
      "_________________________________________________________________\n",
      "flatten (Flatten)            (None, 64)                0         \n",
      "_________________________________________________________________\n",
      "wavrec_out (Dense)           (None, 1)                 65        \n",
      "=================================================================\n",
      "Total params: 21,217\n",
      "Trainable params: 21,217\n",
      "Non-trainable params: 0\n",
      "_________________________________________________________________\n"
     ]
    },
    {
     "name": "stderr",
     "output_type": "stream",
     "text": [
      "2022-02-17 16:54:07.758482: I tensorflow/core/platform/cpu_feature_guard.cc:142] This TensorFlow binary is optimized with oneAPI Deep Neural Network Library (oneDNN) to use the following CPU instructions in performance-critical operations:  SSE4.1 SSE4.2 AVX AVX2 AVX512F FMA\n",
      "To enable them in other operations, rebuild TensorFlow with the appropriate compiler flags.\n"
     ]
    }
   ],
   "source": [
    "time_periods = 200\n",
    "def create_model():\n",
    "  model = Sequential()  \n",
    "  #first convolutional block\n",
    "  model.add(Conv1D(filters=16, kernel_size=3, strides=2, activation = \"relu\", input_shape=(time_periods,1)))\n",
    "  model.add(MaxPooling1D(pool_size=2))\n",
    "\n",
    "  #second convolutional block\n",
    "  model.add(Conv1D(filters=32, kernel_size=5, strides=2, activation = \"relu\"))\n",
    "  model.add(MaxPooling1D(pool_size=2))\n",
    "  model.add(Dropout(0.1))\n",
    "  \n",
    "  #forth convolutional block\n",
    "  model.add(Conv1D(filters=64, kernel_size=9, activation = \"relu\"))\n",
    "  model.add(GlobalMaxPooling1D())\n",
    "  model.add(Dropout(0.2)) \n",
    "    \n",
    "  model.add(Flatten())\n",
    "  model.add(Dense(1, activation=\"sigmoid\", name=\"wavrec_out\"))\n",
    "  return model\n",
    "\n",
    "\n",
    "model = create_model()\n",
    "\n",
    "#lr=0.001\n",
    "adam = tf.keras.optimizers.Adam(learning_rate=0.001, beta_1=0.9, beta_2=0.999, epsilon=None, decay=0.0, amsgrad=False)\n",
    "\n",
    "model.compile(optimizer = adam, loss = 'binary_crossentropy', metrics = ['accuracy'])\n",
    "model.summary()"
   ]
  },
  {
   "cell_type": "code",
   "execution_count": 27,
   "metadata": {
    "executionInfo": {
     "elapsed": 619,
     "status": "ok",
     "timestamp": 1602697394483,
     "user": {
      "displayName": "Lorenzo Uboldi",
      "photoUrl": "",
      "userId": "12025999408021597208"
     },
     "user_tz": -120
    },
    "id": "ck6Dc8zpgmMQ"
   },
   "outputs": [],
   "source": [
    "x_train_scaled = x_train_scaled.reshape(x_train_scaled.shape[0], x_train_scaled.shape[1], 1)\n",
    "#cc_x_test_scaled = cc_x_test_scaled.reshape(cc_x_test_scaled.shape[0], cc_x_test_scaled.shape[1], 1)\n",
    "#es_x_test_scaled = es_x_test_scaled.reshape(es_x_test_scaled.shape[0], es_x_test_scaled.shape[1], 1)\n",
    "x_valid_scaled = x_valid_scaled.reshape(x_valid_scaled.shape[0], x_valid_scaled.shape[1], 1)\n",
    "x_test_scaled = x_test_scaled.reshape(x_test_scaled.shape[0], x_test_scaled.shape[1], 1)"
   ]
  },
  {
   "cell_type": "code",
   "execution_count": 28,
   "metadata": {},
   "outputs": [],
   "source": [
    "earlystop = tf.keras.callbacks.EarlyStopping(\n",
    "    monitor=\"val_loss\",\n",
    "    min_delta=0,\n",
    "    patience=5,\n",
    "    verbose=0,\n",
    "    mode=\"auto\",\n",
    "    baseline=None,\n",
    "    restore_best_weights=True,\n",
    ")\n"
   ]
  },
  {
   "cell_type": "code",
   "execution_count": 29,
   "metadata": {
    "colab": {
     "base_uri": "https://localhost:8080/",
     "height": 746
    },
    "executionInfo": {
     "elapsed": 190700,
     "status": "ok",
     "timestamp": 1602697588909,
     "user": {
      "displayName": "Lorenzo Uboldi",
      "photoUrl": "",
      "userId": "12025999408021597208"
     },
     "user_tz": -120
    },
    "id": "pvebeWPOgmMU",
    "outputId": "c59d02f0-c33a-40be-a52a-eef5f7409d69"
   },
   "outputs": [
    {
     "name": "stderr",
     "output_type": "stream",
     "text": [
      "2022-02-17 16:54:08.081842: I tensorflow/compiler/mlir/mlir_graph_optimization_pass.cc:116] None of the MLIR optimization passes are enabled (registered 2)\n",
      "2022-02-17 16:54:08.082562: I tensorflow/core/platform/profile_utils/cpu_utils.cc:112] CPU Frequency: 2199995000 Hz\n"
     ]
    },
    {
     "name": "stdout",
     "output_type": "stream",
     "text": [
      "Epoch 1/100\n",
      "43/43 [==============================] - 4s 76ms/step - loss: 0.5863 - accuracy: 0.6226 - val_loss: 0.3199 - val_accuracy: 0.8724\n",
      "Epoch 2/100\n",
      "43/43 [==============================] - 2s 53ms/step - loss: 0.3018 - accuracy: 0.8756 - val_loss: 0.2613 - val_accuracy: 0.8930\n",
      "Epoch 3/100\n",
      "43/43 [==============================] - 2s 52ms/step - loss: 0.2573 - accuracy: 0.8968 - val_loss: 0.2456 - val_accuracy: 0.9001\n",
      "Epoch 4/100\n",
      "43/43 [==============================] - 2s 52ms/step - loss: 0.2438 - accuracy: 0.9036 - val_loss: 0.2391 - val_accuracy: 0.9031\n",
      "Epoch 5/100\n",
      "43/43 [==============================] - 2s 55ms/step - loss: 0.2395 - accuracy: 0.9046 - val_loss: 0.2360 - val_accuracy: 0.9061\n",
      "Epoch 6/100\n",
      "43/43 [==============================] - 2s 50ms/step - loss: 0.2371 - accuracy: 0.9062 - val_loss: 0.2343 - val_accuracy: 0.9074\n",
      "Epoch 7/100\n",
      "43/43 [==============================] - 2s 51ms/step - loss: 0.2363 - accuracy: 0.9070 - val_loss: 0.2328 - val_accuracy: 0.9076\n",
      "Epoch 8/100\n",
      "43/43 [==============================] - 2s 52ms/step - loss: 0.2308 - accuracy: 0.9102 - val_loss: 0.2330 - val_accuracy: 0.9084\n",
      "Epoch 9/100\n",
      "43/43 [==============================] - 2s 51ms/step - loss: 0.2297 - accuracy: 0.9111 - val_loss: 0.2316 - val_accuracy: 0.9088\n",
      "Epoch 10/100\n",
      "43/43 [==============================] - 2s 54ms/step - loss: 0.2331 - accuracy: 0.9092 - val_loss: 0.2303 - val_accuracy: 0.9087\n",
      "Epoch 11/100\n",
      "43/43 [==============================] - 2s 55ms/step - loss: 0.2290 - accuracy: 0.9109 - val_loss: 0.2301 - val_accuracy: 0.9095\n",
      "Epoch 12/100\n",
      "43/43 [==============================] - 2s 54ms/step - loss: 0.2305 - accuracy: 0.9106 - val_loss: 0.2299 - val_accuracy: 0.9088\n",
      "Epoch 13/100\n",
      "43/43 [==============================] - 2s 54ms/step - loss: 0.2269 - accuracy: 0.9119 - val_loss: 0.2289 - val_accuracy: 0.9101\n",
      "Epoch 14/100\n",
      "43/43 [==============================] - 2s 54ms/step - loss: 0.2266 - accuracy: 0.9126 - val_loss: 0.2286 - val_accuracy: 0.9101\n",
      "Epoch 15/100\n",
      "43/43 [==============================] - 2s 52ms/step - loss: 0.2262 - accuracy: 0.9122 - val_loss: 0.2281 - val_accuracy: 0.9100\n",
      "Epoch 16/100\n",
      "43/43 [==============================] - 2s 52ms/step - loss: 0.2274 - accuracy: 0.9117 - val_loss: 0.2282 - val_accuracy: 0.9101\n",
      "Epoch 17/100\n",
      "43/43 [==============================] - 2s 54ms/step - loss: 0.2280 - accuracy: 0.9108 - val_loss: 0.2282 - val_accuracy: 0.9097\n",
      "Epoch 18/100\n",
      "43/43 [==============================] - 2s 53ms/step - loss: 0.2253 - accuracy: 0.9129 - val_loss: 0.2272 - val_accuracy: 0.9105\n",
      "Epoch 19/100\n",
      "43/43 [==============================] - 2s 51ms/step - loss: 0.2247 - accuracy: 0.9130 - val_loss: 0.2269 - val_accuracy: 0.9105\n",
      "Epoch 20/100\n",
      "43/43 [==============================] - 2s 54ms/step - loss: 0.2236 - accuracy: 0.9134 - val_loss: 0.2273 - val_accuracy: 0.9102\n",
      "Epoch 21/100\n",
      "43/43 [==============================] - 2s 54ms/step - loss: 0.2262 - accuracy: 0.9123 - val_loss: 0.2288 - val_accuracy: 0.9102\n",
      "Epoch 22/100\n",
      "43/43 [==============================] - 2s 53ms/step - loss: 0.2196 - accuracy: 0.9168 - val_loss: 0.2261 - val_accuracy: 0.9110\n",
      "Epoch 23/100\n",
      "43/43 [==============================] - 2s 54ms/step - loss: 0.2248 - accuracy: 0.9138 - val_loss: 0.2259 - val_accuracy: 0.9107\n",
      "Epoch 24/100\n",
      "43/43 [==============================] - 2s 54ms/step - loss: 0.2248 - accuracy: 0.9133 - val_loss: 0.2257 - val_accuracy: 0.9108\n",
      "Epoch 25/100\n",
      "43/43 [==============================] - 2s 50ms/step - loss: 0.2211 - accuracy: 0.9153 - val_loss: 0.2255 - val_accuracy: 0.9110\n",
      "Epoch 26/100\n",
      "43/43 [==============================] - 2s 56ms/step - loss: 0.2234 - accuracy: 0.9151 - val_loss: 0.2256 - val_accuracy: 0.9107\n",
      "Epoch 27/100\n",
      "43/43 [==============================] - 2s 54ms/step - loss: 0.2211 - accuracy: 0.9133 - val_loss: 0.2259 - val_accuracy: 0.9109\n",
      "Epoch 28/100\n",
      "43/43 [==============================] - 2s 54ms/step - loss: 0.2229 - accuracy: 0.9140 - val_loss: 0.2251 - val_accuracy: 0.9109\n",
      "Epoch 29/100\n",
      "43/43 [==============================] - 2s 52ms/step - loss: 0.2220 - accuracy: 0.9147 - val_loss: 0.2255 - val_accuracy: 0.9109\n",
      "Epoch 30/100\n",
      "43/43 [==============================] - 2s 54ms/step - loss: 0.2225 - accuracy: 0.9143 - val_loss: 0.2250 - val_accuracy: 0.9108\n",
      "Epoch 31/100\n",
      "43/43 [==============================] - 2s 53ms/step - loss: 0.2208 - accuracy: 0.9154 - val_loss: 0.2248 - val_accuracy: 0.9110\n",
      "Epoch 32/100\n",
      "43/43 [==============================] - 2s 53ms/step - loss: 0.2213 - accuracy: 0.9140 - val_loss: 0.2249 - val_accuracy: 0.9114\n",
      "Epoch 33/100\n",
      "43/43 [==============================] - 2s 55ms/step - loss: 0.2185 - accuracy: 0.9163 - val_loss: 0.2259 - val_accuracy: 0.9109\n",
      "Epoch 34/100\n",
      "43/43 [==============================] - 2s 52ms/step - loss: 0.2203 - accuracy: 0.9155 - val_loss: 0.2245 - val_accuracy: 0.9112\n",
      "Epoch 35/100\n",
      "43/43 [==============================] - 2s 52ms/step - loss: 0.2189 - accuracy: 0.9159 - val_loss: 0.2245 - val_accuracy: 0.9116\n",
      "Epoch 36/100\n",
      "43/43 [==============================] - 2s 54ms/step - loss: 0.2203 - accuracy: 0.9156 - val_loss: 0.2248 - val_accuracy: 0.9115\n",
      "Epoch 37/100\n",
      "43/43 [==============================] - 2s 55ms/step - loss: 0.2209 - accuracy: 0.9155 - val_loss: 0.2246 - val_accuracy: 0.9116\n",
      "Epoch 38/100\n",
      "43/43 [==============================] - 2s 52ms/step - loss: 0.2206 - accuracy: 0.9151 - val_loss: 0.2241 - val_accuracy: 0.9117\n",
      "Epoch 39/100\n",
      "43/43 [==============================] - 2s 52ms/step - loss: 0.2200 - accuracy: 0.9153 - val_loss: 0.2260 - val_accuracy: 0.9107\n",
      "Epoch 40/100\n",
      "43/43 [==============================] - 2s 53ms/step - loss: 0.2207 - accuracy: 0.9152 - val_loss: 0.2244 - val_accuracy: 0.9114\n",
      "Epoch 41/100\n",
      "43/43 [==============================] - 2s 51ms/step - loss: 0.2197 - accuracy: 0.9151 - val_loss: 0.2241 - val_accuracy: 0.9118\n",
      "Epoch 42/100\n",
      "43/43 [==============================] - 2s 54ms/step - loss: 0.2209 - accuracy: 0.9158 - val_loss: 0.2239 - val_accuracy: 0.9117\n",
      "Epoch 43/100\n",
      "43/43 [==============================] - 2s 53ms/step - loss: 0.2176 - accuracy: 0.9161 - val_loss: 0.2238 - val_accuracy: 0.9120\n",
      "Epoch 44/100\n",
      "43/43 [==============================] - 2s 53ms/step - loss: 0.2180 - accuracy: 0.9166 - val_loss: 0.2240 - val_accuracy: 0.9117\n",
      "Epoch 45/100\n",
      "43/43 [==============================] - 2s 51ms/step - loss: 0.2186 - accuracy: 0.9163 - val_loss: 0.2238 - val_accuracy: 0.9118\n",
      "Epoch 46/100\n",
      "43/43 [==============================] - 2s 51ms/step - loss: 0.2162 - accuracy: 0.9173 - val_loss: 0.2244 - val_accuracy: 0.9114\n",
      "Epoch 47/100\n",
      "43/43 [==============================] - 2s 54ms/step - loss: 0.2183 - accuracy: 0.9160 - val_loss: 0.2235 - val_accuracy: 0.9119\n",
      "Epoch 48/100\n",
      "43/43 [==============================] - 2s 53ms/step - loss: 0.2174 - accuracy: 0.9166 - val_loss: 0.2235 - val_accuracy: 0.9117\n",
      "Epoch 49/100\n",
      "43/43 [==============================] - 2s 52ms/step - loss: 0.2164 - accuracy: 0.9174 - val_loss: 0.2233 - val_accuracy: 0.9112\n",
      "Epoch 50/100\n",
      "43/43 [==============================] - 2s 53ms/step - loss: 0.2198 - accuracy: 0.9164 - val_loss: 0.2240 - val_accuracy: 0.9116\n",
      "Epoch 51/100\n",
      "43/43 [==============================] - 2s 53ms/step - loss: 0.2181 - accuracy: 0.9168 - val_loss: 0.2232 - val_accuracy: 0.9120\n",
      "Epoch 52/100\n",
      "43/43 [==============================] - 2s 51ms/step - loss: 0.2193 - accuracy: 0.9161 - val_loss: 0.2229 - val_accuracy: 0.9121\n",
      "Epoch 53/100\n",
      "43/43 [==============================] - 2s 52ms/step - loss: 0.2170 - accuracy: 0.9167 - val_loss: 0.2235 - val_accuracy: 0.9120\n",
      "Epoch 54/100\n",
      "43/43 [==============================] - 2s 54ms/step - loss: 0.2184 - accuracy: 0.9157 - val_loss: 0.2229 - val_accuracy: 0.9117\n",
      "Epoch 55/100\n",
      "43/43 [==============================] - 2s 55ms/step - loss: 0.2161 - accuracy: 0.9178 - val_loss: 0.2229 - val_accuracy: 0.9124\n",
      "Epoch 56/100\n",
      "43/43 [==============================] - 2s 52ms/step - loss: 0.2174 - accuracy: 0.9169 - val_loss: 0.2240 - val_accuracy: 0.9118\n",
      "Epoch 57/100\n",
      "43/43 [==============================] - 2s 52ms/step - loss: 0.2171 - accuracy: 0.9163 - val_loss: 0.2230 - val_accuracy: 0.9118\n",
      "Epoch 58/100\n",
      "43/43 [==============================] - 2s 54ms/step - loss: 0.2147 - accuracy: 0.9174 - val_loss: 0.2227 - val_accuracy: 0.9122\n",
      "Epoch 59/100\n",
      "43/43 [==============================] - 2s 53ms/step - loss: 0.2178 - accuracy: 0.9163 - val_loss: 0.2239 - val_accuracy: 0.9118\n",
      "Epoch 60/100\n",
      "43/43 [==============================] - 2s 53ms/step - loss: 0.2155 - accuracy: 0.9178 - val_loss: 0.2233 - val_accuracy: 0.9122\n",
      "Epoch 61/100\n",
      "43/43 [==============================] - 2s 51ms/step - loss: 0.2164 - accuracy: 0.9173 - val_loss: 0.2237 - val_accuracy: 0.9118\n",
      "Epoch 62/100\n",
      "43/43 [==============================] - 2s 52ms/step - loss: 0.2137 - accuracy: 0.9192 - val_loss: 0.2227 - val_accuracy: 0.9121\n",
      "Epoch 63/100\n",
      "43/43 [==============================] - 2s 54ms/step - loss: 0.2178 - accuracy: 0.9167 - val_loss: 0.2227 - val_accuracy: 0.9118\n",
      "Epoch 64/100\n",
      "43/43 [==============================] - 2s 52ms/step - loss: 0.2133 - accuracy: 0.9190 - val_loss: 0.2227 - val_accuracy: 0.9119\n",
      "Epoch 65/100\n",
      "43/43 [==============================] - 2s 52ms/step - loss: 0.2161 - accuracy: 0.9172 - val_loss: 0.2241 - val_accuracy: 0.9115\n",
      "Epoch 66/100\n",
      "43/43 [==============================] - 2s 52ms/step - loss: 0.2166 - accuracy: 0.9163 - val_loss: 0.2229 - val_accuracy: 0.9121\n",
      "Epoch 67/100\n",
      "43/43 [==============================] - 2s 52ms/step - loss: 0.2144 - accuracy: 0.9179 - val_loss: 0.2239 - val_accuracy: 0.9113\n",
      "CPU times: user 22min 12s, sys: 7min 43s, total: 29min 55s\n",
      "Wall time: 2min 33s\n"
     ]
    }
   ],
   "source": [
    "%%time\n",
    "history = model.fit(x_train_scaled,                                                              \n",
    "                    y_train,                                                            \n",
    "                    batch_size=2048,                                              \n",
    "                    epochs=100,      \n",
    "                    \n",
    "                   # epochs=30, \n",
    "                    #epochs = 6,\n",
    "                    callbacks=[earlystop],\n",
    "                     # callbacks=callbacks_list,                         \n",
    "                    validation_data=(x_valid_scaled, y_valid),                                               \n",
    "                    verbose=1)   "
   ]
  },
  {
   "cell_type": "code",
   "execution_count": 30,
   "metadata": {
    "colab": {
     "base_uri": "https://localhost:8080/",
     "height": 513
    },
    "executionInfo": {
     "elapsed": 710,
     "status": "ok",
     "timestamp": 1602697613662,
     "user": {
      "displayName": "Lorenzo Uboldi",
      "photoUrl": "",
      "userId": "12025999408021597208"
     },
     "user_tz": -120
    },
    "id": "KagllrzUgmMZ",
    "outputId": "0a5d4266-3904-4eda-9d3e-6db6aa89664e"
   },
   "outputs": [
    {
     "data": {
      "image/png": "[encoded data removed]",
      "text/plain": [
       "<Figure size 864x576 with 1 Axes>"
      ]
     },
     "metadata": {
      "needs_background": "light"
     },
     "output_type": "display_data"
    }
   ],
   "source": [
    "plt.figure(figsize=(12, 8))                                                     \n",
    "plt.plot(history.history['accuracy'], \"g--\", label=\"Accuracy of training data\", antialiased=True)\n",
    "plt.plot(history.history['val_accuracy'], \"g\", label=\"Accuracy of validation data\", antialiased=True)\n",
    "plt.plot(history.history['loss'], \"r--\", label=\"Loss of training data\", antialiased=True)\n",
    "plt.plot(history.history['val_loss'], \"r\", label=\"Loss of validation data\", antialiased=True)\n",
    "plt.title('Model Accuracy and Loss')                                            \n",
    "plt.ylabel('Accuracy and Loss')                                                 \n",
    "plt.xlabel('Training Epoch')                                                    \n",
    "#plt.ylim(0)                                                                     \n",
    "plt.legend()                                                                    \n",
    "plt.show()     "
   ]
  },
  {
   "cell_type": "code",
   "execution_count": 31,
   "metadata": {},
   "outputs": [
    {
     "data": {
      "text/plain": [
       "5629"
      ]
     },
     "execution_count": 31,
     "metadata": {},
     "output_type": "execute_result"
    }
   ],
   "source": [
    "#del x_train\n",
    "\n",
    "import gc\n",
    "gc.collect()"
   ]
  },
  {
   "cell_type": "code",
   "execution_count": 32,
   "metadata": {
    "collapsed": false,
    "jupyter": {
     "outputs_hidden": false
    },
    "pycharm": {
     "name": "#%%\n"
    }
   },
   "outputs": [],
   "source": [
    "model.save(\"models/zplane_nu.h5\")"
   ]
  },
  {
   "cell_type": "code",
   "execution_count": 33,
   "metadata": {},
   "outputs": [
    {
     "data": {
      "text/plain": [
       "[0.4793231189250946,\n",
       " 0.2854997217655182,\n",
       " 0.25402653217315674,\n",
       " 0.24307222664356232,\n",
       " 0.23780794441699982,\n",
       " 0.23533131182193756,\n",
       " 0.23301273584365845,\n",
       " 0.23244048655033112,\n",
       " 0.23034006357192993,\n",
       " 0.22993940114974976,\n",
       " 0.2298373579978943,\n",
       " 0.22931155562400818,\n",
       " 0.22733187675476074,\n",
       " 0.22718802094459534,\n",
       " 0.2268686592578888,\n",
       " 0.22604429721832275,\n",
       " 0.22594612836837769,\n",
       " 0.22490519285202026,\n",
       " 0.22473901510238647,\n",
       " 0.22446444630622864,\n",
       " 0.22486995160579681,\n",
       " 0.22341354191303253,\n",
       " 0.22282375395298004,\n",
       " 0.2229609340429306,\n",
       " 0.2225019931793213,\n",
       " 0.2229560911655426,\n",
       " 0.22226983308792114,\n",
       " 0.22209841012954712,\n",
       " 0.22197584807872772,\n",
       " 0.22168003022670746,\n",
       " 0.22121624648571014,\n",
       " 0.22096888720989227,\n",
       " 0.22079876065254211,\n",
       " 0.22070974111557007,\n",
       " 0.2206130474805832,\n",
       " 0.2201855480670929,\n",
       " 0.21970675885677338,\n",
       " 0.2200595736503601,\n",
       " 0.2194165587425232,\n",
       " 0.2191362828016281,\n",
       " 0.2191993147134781,\n",
       " 0.21903851628303528,\n",
       " 0.21901379525661469,\n",
       " 0.21840637922286987,\n",
       " 0.21864767372608185,\n",
       " 0.21780091524124146,\n",
       " 0.21791474521160126,\n",
       " 0.2175886183977127,\n",
       " 0.21738730370998383,\n",
       " 0.21677502989768982,\n",
       " 0.2171863317489624,\n",
       " 0.2170899510383606,\n",
       " 0.21671909093856812,\n",
       " 0.21634364128112793,\n",
       " 0.21624615788459778,\n",
       " 0.21655406057834625,\n",
       " 0.2163487821817398,\n",
       " 0.21552936732769012,\n",
       " 0.21633121371269226,\n",
       " 0.21586942672729492,\n",
       " 0.21575601398944855,\n",
       " 0.2152724415063858,\n",
       " 0.21483036875724792,\n",
       " 0.2153996080160141,\n",
       " 0.21462413668632507,\n",
       " 0.21522389352321625,\n",
       " 0.21456125378608704]"
      ]
     },
     "execution_count": 33,
     "metadata": {},
     "output_type": "execute_result"
    }
   ],
   "source": [
    "history.history['loss']"
   ]
  },
  {
   "cell_type": "code",
   "execution_count": 34,
   "metadata": {},
   "outputs": [
    {
     "data": {
      "text/plain": [
       "[0.3198644518852234,\n",
       " 0.26131731271743774,\n",
       " 0.24561771750450134,\n",
       " 0.2391151785850525,\n",
       " 0.23597827553749084,\n",
       " 0.23427852988243103,\n",
       " 0.23279744386672974,\n",
       " 0.23298397660255432,\n",
       " 0.2316385954618454,\n",
       " 0.23028935492038727,\n",
       " 0.23014505207538605,\n",
       " 0.22992216050624847,\n",
       " 0.22885800898075104,\n",
       " 0.22859086096286774,\n",
       " 0.2281356155872345,\n",
       " 0.22821404039859772,\n",
       " 0.22821079194545746,\n",
       " 0.2271791398525238,\n",
       " 0.2268935739994049,\n",
       " 0.22731906175613403,\n",
       " 0.22880131006240845,\n",
       " 0.22612828016281128,\n",
       " 0.22592227160930634,\n",
       " 0.22568848729133606,\n",
       " 0.22546356916427612,\n",
       " 0.22557595372200012,\n",
       " 0.22585132718086243,\n",
       " 0.22508126497268677,\n",
       " 0.22546404600143433,\n",
       " 0.22504597902297974,\n",
       " 0.2247859388589859,\n",
       " 0.2248539924621582,\n",
       " 0.22585618495941162,\n",
       " 0.22445650398731232,\n",
       " 0.22449013590812683,\n",
       " 0.2248380333185196,\n",
       " 0.22456003725528717,\n",
       " 0.22408366203308105,\n",
       " 0.22603973746299744,\n",
       " 0.224397674202919,\n",
       " 0.22410544753074646,\n",
       " 0.2238827347755432,\n",
       " 0.22378599643707275,\n",
       " 0.22399389743804932,\n",
       " 0.2237517386674881,\n",
       " 0.22439874708652496,\n",
       " 0.22346872091293335,\n",
       " 0.22346685826778412,\n",
       " 0.2233067750930786,\n",
       " 0.2240292876958847,\n",
       " 0.22323809564113617,\n",
       " 0.2229408323764801,\n",
       " 0.22346985340118408,\n",
       " 0.2229374796152115,\n",
       " 0.22286327183246613,\n",
       " 0.22401395440101624,\n",
       " 0.22304004430770874,\n",
       " 0.2227397859096527,\n",
       " 0.22390425205230713,\n",
       " 0.22329699993133545,\n",
       " 0.22365251183509827,\n",
       " 0.22269080579280853,\n",
       " 0.22272279858589172,\n",
       " 0.22273890674114227,\n",
       " 0.22412459552288055,\n",
       " 0.22294649481773376,\n",
       " 0.2239428609609604]"
      ]
     },
     "execution_count": 34,
     "metadata": {},
     "output_type": "execute_result"
    }
   ],
   "source": [
    "history.history['val_loss']"
   ]
  },
  {
   "cell_type": "code",
   "execution_count": 35,
   "metadata": {},
   "outputs": [
    {
     "data": {
      "text/plain": [
       "[0.7536256909370422,\n",
       " 0.8815147280693054,\n",
       " 0.8980202674865723,\n",
       " 0.9032918810844421,\n",
       " 0.9057781100273132,\n",
       " 0.9075852036476135,\n",
       " 0.9090124368667603,\n",
       " 0.9091275334358215,\n",
       " 0.9105778336524963,\n",
       " 0.910531759262085,\n",
       " 0.9105662703514099,\n",
       " 0.9107734560966492,\n",
       " 0.911544680595398,\n",
       " 0.9120510816574097,\n",
       " 0.9119129776954651,\n",
       " 0.9123503565788269,\n",
       " 0.9121086597442627,\n",
       " 0.912960410118103,\n",
       " 0.9131560921669006,\n",
       " 0.9131790995597839,\n",
       " 0.9131330847740173,\n",
       " 0.9140883684158325,\n",
       " 0.9142150282859802,\n",
       " 0.9142610430717468,\n",
       " 0.9141919612884521,\n",
       " 0.9150667786598206,\n",
       " 0.9140193462371826,\n",
       " 0.9144222140312195,\n",
       " 0.9149516820907593,\n",
       " 0.9149286150932312,\n",
       " 0.9150897860527039,\n",
       " 0.9149631857872009,\n",
       " 0.9152163863182068,\n",
       " 0.9150092005729675,\n",
       " 0.9150897860527039,\n",
       " 0.9154811501502991,\n",
       " 0.9157228469848633,\n",
       " 0.9157803654670715,\n",
       " 0.9161257147789001,\n",
       " 0.9156652688980103,\n",
       " 0.9155962467193604,\n",
       " 0.9161487221717834,\n",
       " 0.9152278900146484,\n",
       " 0.9162753224372864,\n",
       " 0.9161832332611084,\n",
       " 0.916563093662262,\n",
       " 0.9172536730766296,\n",
       " 0.9167932868003845,\n",
       " 0.9169313907623291,\n",
       " 0.9170464873313904,\n",
       " 0.9167817831039429,\n",
       " 0.9169774651527405,\n",
       " 0.9167587757110596,\n",
       " 0.9165745973587036,\n",
       " 0.9174838662147522,\n",
       " 0.9175529479980469,\n",
       " 0.9170464873313904,\n",
       " 0.9173917770385742,\n",
       " 0.9173112511634827,\n",
       " 0.9172306656837463,\n",
       " 0.9173572659492493,\n",
       " 0.9180018305778503,\n",
       " 0.918197512626648,\n",
       " 0.9176335334777832,\n",
       " 0.9185543060302734,\n",
       " 0.9174723625183105,\n",
       " 0.9178407192230225]"
      ]
     },
     "execution_count": 35,
     "metadata": {},
     "output_type": "execute_result"
    }
   ],
   "source": [
    "history.history['accuracy']"
   ]
  },
  {
   "cell_type": "code",
   "execution_count": 36,
   "metadata": {},
   "outputs": [
    {
     "data": {
      "text/plain": [
       "[0.8724217414855957,\n",
       " 0.8929557800292969,\n",
       " 0.9001381397247314,\n",
       " 0.9030846953392029,\n",
       " 0.9060773253440857,\n",
       " 0.9073664546012878,\n",
       " 0.9076427221298218,\n",
       " 0.9083793759346008,\n",
       " 0.9087937474250793,\n",
       " 0.9086556434631348,\n",
       " 0.9095304012298584,\n",
       " 0.9087937474250793,\n",
       " 0.9100828766822815,\n",
       " 0.9100828766822815,\n",
       " 0.9099907875061035,\n",
       " 0.9100828766822815,\n",
       " 0.9097145199775696,\n",
       " 0.91049724817276,\n",
       " 0.91049724817276,\n",
       " 0.9102209806442261,\n",
       " 0.9101749658584595,\n",
       " 0.9109576344490051,\n",
       " 0.910681426525116,\n",
       " 0.9108195304870605,\n",
       " 0.9109576344490051,\n",
       " 0.9107274413108826,\n",
       " 0.9109116196632385,\n",
       " 0.9108655452728271,\n",
       " 0.9109116196632385,\n",
       " 0.9108195304870605,\n",
       " 0.9110497236251831,\n",
       " 0.9114180207252502,\n",
       " 0.9108655452728271,\n",
       " 0.9111878275871277,\n",
       " 0.9116021990776062,\n",
       " 0.9115101099014282,\n",
       " 0.9115561842918396,\n",
       " 0.9116942882537842,\n",
       " 0.9107274413108826,\n",
       " 0.9114180207252502,\n",
       " 0.9118323922157288,\n",
       " 0.9116942882537842,\n",
       " 0.9119705557823181,\n",
       " 0.9117403030395508,\n",
       " 0.9118323922157288,\n",
       " 0.9114180207252502,\n",
       " 0.9118784666061401,\n",
       " 0.9116942882537842,\n",
       " 0.9111878275871277,\n",
       " 0.9116482734680176,\n",
       " 0.9119705557823181,\n",
       " 0.9120625853538513,\n",
       " 0.9120165705680847,\n",
       " 0.9116942882537842,\n",
       " 0.9124309420585632,\n",
       " 0.9118323922157288,\n",
       " 0.9118323922157288,\n",
       " 0.9122467637062073,\n",
       " 0.9117863774299622,\n",
       " 0.9122467637062073,\n",
       " 0.9118323922157288,\n",
       " 0.9120625853538513,\n",
       " 0.9118323922157288,\n",
       " 0.9119244813919067,\n",
       " 0.9115101099014282,\n",
       " 0.9120625853538513,\n",
       " 0.9112799167633057]"
      ]
     },
     "execution_count": 36,
     "metadata": {},
     "output_type": "execute_result"
    }
   ],
   "source": [
    "history.history['val_accuracy']"
   ]
  },
  {
   "cell_type": "code",
   "execution_count": 37,
   "metadata": {
    "collapsed": false,
    "jupyter": {
     "outputs_hidden": false
    },
    "pycharm": {
     "name": "#%%\n"
    }
   },
   "outputs": [
    {
     "name": "stdout",
     "output_type": "stream",
     "text": [
      "27/27 [==============================] - 1s 27ms/step - loss: 0.2122 - accuracy: 0.9190\n"
     ]
    },
    {
     "data": {
      "text/plain": [
       "[0.21223509311676025, 0.9190239310264587]"
      ]
     },
     "execution_count": 37,
     "metadata": {},
     "output_type": "execute_result"
    }
   ],
   "source": [
    "model.evaluate(x_test_scaled, y_test, batch_size=4096)"
   ]
  },
  {
   "cell_type": "code",
   "execution_count": 38,
   "metadata": {
    "colab": {
     "base_uri": "https://localhost:8080/",
     "height": 52
    },
    "executionInfo": {
     "elapsed": 2171,
     "status": "ok",
     "timestamp": 1602697903973,
     "user": {
      "displayName": "Lorenzo Uboldi",
      "photoUrl": "",
      "userId": "12025999408021597208"
     },
     "user_tz": -120
    },
    "id": "8ErHxak3gmMc",
    "outputId": "6dd2309f-6cf0-4d2c-b194-03a61962813a"
   },
   "outputs": [],
   "source": [
    "#model.evaluate(es_x_test_scaled, es_y_test, batch_size=4096)"
   ]
  },
  {
   "cell_type": "code",
   "execution_count": 39,
   "metadata": {},
   "outputs": [],
   "source": [
    "x_train_ = x_train_scaled\n",
    "y_train_ = y_train\n",
    "\n",
    "x_valid_ = x_valid_scaled\n",
    "y_valid_ = y_valid\n"
   ]
  },
  {
   "cell_type": "markdown",
   "metadata": {},
   "source": [
    "# Train"
   ]
  },
  {
   "cell_type": "code",
   "execution_count": 40,
   "metadata": {},
   "outputs": [
    {
     "name": "stdout",
     "output_type": "stream",
     "text": [
      "CPU times: user 5.06 s, sys: 2.7 s, total: 7.76 s\n",
      "Wall time: 911 ms\n"
     ]
    }
   ],
   "source": [
    "%%time\n",
    "%matplotlib inline\n",
    "import seaborn as sns\n",
    "infer = model.predict(x_train_, batch_size=4096)"
   ]
  },
  {
   "cell_type": "code",
   "execution_count": 41,
   "metadata": {},
   "outputs": [
    {
     "data": {
      "text/plain": [
       "<AxesSubplot:>"
      ]
     },
     "execution_count": 41,
     "metadata": {},
     "output_type": "execute_result"
    },
    {
     "data": {
      "image/png": "[encoded data removed]",
      "text/plain": [
       "<Figure size 432x288 with 2 Axes>"
      ]
     },
     "metadata": {
      "needs_background": "light"
     },
     "output_type": "display_data"
    }
   ],
   "source": [
    "from sklearn.metrics import confusion_matrix, ConfusionMatrixDisplay\n",
    "cm = confusion_matrix(y_train_, infer>0.5)\n",
    "sns.heatmap(cm, annot=True)"
   ]
  },
  {
   "cell_type": "code",
   "execution_count": 42,
   "metadata": {},
   "outputs": [
    {
     "data": {
      "text/plain": [
       "<AxesSubplot:>"
      ]
     },
     "execution_count": 42,
     "metadata": {},
     "output_type": "execute_result"
    },
    {
     "data": {
      "image/png": "[encoded data removed]",
      "text/plain": [
       "<Figure size 432x288 with 2 Axes>"
      ]
     },
     "metadata": {
      "needs_background": "light"
     },
     "output_type": "display_data"
    }
   ],
   "source": [
    "from sklearn.metrics import confusion_matrix\n",
    "cm2 = confusion_matrix(y_train_, infer>0.9)\n",
    "sns.heatmap(cm2, annot=True)"
   ]
  },
  {
   "cell_type": "code",
   "execution_count": 43,
   "metadata": {},
   "outputs": [],
   "source": [
    "from sklearn.metrics import roc_curve\n",
    "fpr_keras, tpr_keras, thresholds_keras = roc_curve(y_train_, infer)"
   ]
  },
  {
   "cell_type": "code",
   "execution_count": 44,
   "metadata": {},
   "outputs": [],
   "source": [
    "from sklearn.metrics import auc\n",
    "auc_keras = auc(fpr_keras, tpr_keras)"
   ]
  },
  {
   "cell_type": "code",
   "execution_count": 45,
   "metadata": {},
   "outputs": [],
   "source": [
    "np.save(\"results/false_positive_V_train\", fpr_keras)\n",
    "np.save(\"results/true_positive_V_train\", tpr_keras)\n",
    "np.save(\"results/thresholds_V_train\", thresholds_keras)"
   ]
  },
  {
   "cell_type": "code",
   "execution_count": 46,
   "metadata": {},
   "outputs": [],
   "source": [
    "from sklearn.metrics import auc\n",
    "auc_keras = auc(fpr_keras, tpr_keras)"
   ]
  },
  {
   "cell_type": "markdown",
   "metadata": {},
   "source": [
    "# Valid"
   ]
  },
  {
   "cell_type": "code",
   "execution_count": 47,
   "metadata": {},
   "outputs": [
    {
     "name": "stdout",
     "output_type": "stream",
     "text": [
      "CPU times: user 1.33 s, sys: 523 ms, total: 1.85 s\n",
      "Wall time: 158 ms\n"
     ]
    }
   ],
   "source": [
    "%%time\n",
    "infer = model.predict(x_valid_, batch_size=4096)"
   ]
  },
  {
   "cell_type": "code",
   "execution_count": 48,
   "metadata": {},
   "outputs": [
    {
     "data": {
      "image/png": "[encoded data removed]",
      "text/plain": [
       "<Figure size 432x288 with 2 Axes>"
      ]
     },
     "metadata": {
      "needs_background": "light"
     },
     "output_type": "display_data"
    }
   ],
   "source": [
    "from sklearn.metrics import confusion_matrix\n",
    "cmv = confusion_matrix(y_valid_, infer>0.5)\n",
    "sns.heatmap(cmv, annot=True)\n",
    "plt.xlabel(\"Predicted Class (>0.5)\")\n",
    "plt.ylabel(\"True Class\")\n",
    "plt.show()"
   ]
  },
  {
   "cell_type": "code",
   "execution_count": 49,
   "metadata": {},
   "outputs": [
    {
     "data": {
      "text/plain": [
       "<AxesSubplot:>"
      ]
     },
     "execution_count": 49,
     "metadata": {},
     "output_type": "execute_result"
    },
    {
     "data": {
      "image/png": "[encoded data removed]",
      "text/plain": [
       "<Figure size 432x288 with 2 Axes>"
      ]
     },
     "metadata": {
      "needs_background": "light"
     },
     "output_type": "display_data"
    }
   ],
   "source": [
    "from sklearn.metrics import confusion_matrix\n",
    "cmv2 = confusion_matrix(y_valid_, infer>0.9)\n",
    "sns.heatmap(cmv2, annot=True)"
   ]
  },
  {
   "cell_type": "code",
   "execution_count": 50,
   "metadata": {},
   "outputs": [],
   "source": [
    "from sklearn.metrics import roc_curve\n",
    "fpr_keras, tpr_keras, thresholds_keras = roc_curve(y_valid_, infer)"
   ]
  },
  {
   "cell_type": "code",
   "execution_count": 51,
   "metadata": {},
   "outputs": [],
   "source": [
    "np.save(\"results/false_positive_V_valid\", fpr_keras)\n",
    "np.save(\"results/true_positive_V_valid\", tpr_keras)\n",
    "np.save(\"results/thresholds_V_valid\", thresholds_keras)"
   ]
  },
  {
   "cell_type": "code",
   "execution_count": 52,
   "metadata": {},
   "outputs": [
    {
     "data": {
      "text/plain": [
       "Text(0, 0.5, 'True Positive Rate')"
      ]
     },
     "execution_count": 52,
     "metadata": {},
     "output_type": "execute_result"
    },
    {
     "data": {
      "image/png": "[encoded data removed]",
      "text/plain": [
       "<Figure size 432x288 with 1 Axes>"
      ]
     },
     "metadata": {
      "needs_background": "light"
     },
     "output_type": "display_data"
    }
   ],
   "source": [
    "plt.plot(fpr_keras, tpr_keras)\n",
    "plt.title(\"ROC Curve - Validation Dataset\")\n",
    "plt.xlabel(\"False Positive Rate\")\n",
    "plt.ylabel(\"True Positive Rate\")"
   ]
  },
  {
   "cell_type": "markdown",
   "metadata": {},
   "source": [
    "# test"
   ]
  },
  {
   "cell_type": "code",
   "execution_count": 53,
   "metadata": {},
   "outputs": [],
   "source": [
    "#%%time\n",
    "#cc_infer = model.predict(cc_x_test_scaled, batch_size=4096)\n",
    "#es_infer = model.predict(es_x_test_scaled, batch_size=4096)\n",
    "all_infer = model.predict(x_test_scaled, batch_size=4096)\n",
    "all_y_test = y_test\n"
   ]
  },
  {
   "cell_type": "code",
   "execution_count": 54,
   "metadata": {},
   "outputs": [],
   "source": [
    "from sklearn.metrics import confusion_matrix\n",
    "#cc1 = confusion_matrix(cc_y_test, cc_infer>0.5)\n",
    "#sns.heatmap(cc1, annot=True)"
   ]
  },
  {
   "cell_type": "code",
   "execution_count": 55,
   "metadata": {},
   "outputs": [],
   "source": [
    "#es1 = confusion_matrix(es_y_test, es_infer>0.5)\n",
    "#sns.heatmap(es1, annot=True)"
   ]
  },
  {
   "cell_type": "code",
   "execution_count": 56,
   "metadata": {},
   "outputs": [
    {
     "data": {
      "image/png": "[encoded data removed]",
      "text/plain": [
       "<Figure size 432x288 with 2 Axes>"
      ]
     },
     "metadata": {
      "needs_background": "light"
     },
     "output_type": "display_data"
    }
   ],
   "source": [
    "all1 = confusion_matrix(all_y_test, all_infer>0.5)\n",
    "sns.heatmap(all1, annot=True)\n",
    "plt.title(\"Confusion Matrix - Test Dataset Plane \" + wireplane)\n",
    "plt.xlabel(\"Predicted Class (>0.5)\")\n",
    "plt.ylabel(\"True Class\")\n",
    "plt.show()"
   ]
  },
  {
   "cell_type": "code",
   "execution_count": 57,
   "metadata": {},
   "outputs": [],
   "source": [
    "from sklearn.metrics import confusion_matrix\n",
    "#cc2 = confusion_matrix(cc_y_test, cc_infer>0.9)\n",
    "#sns.heatmap(cc2, annot=True)"
   ]
  },
  {
   "cell_type": "code",
   "execution_count": 58,
   "metadata": {},
   "outputs": [],
   "source": [
    "#es2 = confusion_matrix(es_y_test, es_infer>0.9)\n",
    "#sns.heatmap(es2, annot=True)"
   ]
  },
  {
   "cell_type": "code",
   "execution_count": 59,
   "metadata": {},
   "outputs": [
    {
     "data": {
      "image/png": "[encoded data removed]",
      "text/plain": [
       "<Figure size 432x288 with 2 Axes>"
      ]
     },
     "metadata": {
      "needs_background": "light"
     },
     "output_type": "display_data"
    }
   ],
   "source": [
    "all2 = confusion_matrix(all_y_test, all_infer>0.9)\n",
    "sns.heatmap(all2, annot=True)\n",
    "plt.title(\"Confusion Matrix - Test Dataset Plane \" + wireplane)\n",
    "plt.xlabel(\"Predicted Class (>0.9)\")\n",
    "plt.ylabel(\"True Class\")\n",
    "plt.show()"
   ]
  },
  {
   "cell_type": "code",
   "execution_count": 60,
   "metadata": {},
   "outputs": [],
   "source": [
    "from sklearn.metrics import roc_curve\n",
    "#fpr_keras, tpr_keras, thresholds_keras = roc_curve(cc_y_test, cc_infer)\n",
    "#plt.plot(fpr_keras, tpr_keras)"
   ]
  },
  {
   "cell_type": "code",
   "execution_count": 61,
   "metadata": {},
   "outputs": [],
   "source": [
    "#fpr_keras, tpr_keras, thresholds_keras = roc_curve(es_y_test, es_infer)\n",
    "#plt.plot(fpr_keras, tpr_keras)"
   ]
  },
  {
   "cell_type": "code",
   "execution_count": 62,
   "metadata": {},
   "outputs": [
    {
     "data": {
      "image/png": "[encoded data removed]",
      "text/plain": [
       "<Figure size 432x288 with 1 Axes>"
      ]
     },
     "metadata": {
      "needs_background": "light"
     },
     "output_type": "display_data"
    }
   ],
   "source": [
    "fpr_keras, tpr_keras, thresholds_keras = roc_curve(all_y_test, all_infer)\n",
    "plt.plot(fpr_keras, tpr_keras)\n",
    "plt.title(\"ROC Curve - Test Dataset Plane\" + wireplane)\n",
    "plt.xlabel(\"False Positive Rate\")\n",
    "plt.ylabel(\"True Positive Rate\")\n",
    "plt.show()"
   ]
  },
  {
   "cell_type": "code",
   "execution_count": 63,
   "metadata": {},
   "outputs": [],
   "source": [
    "np.save(\"results/false_positive_V_test\", fpr_keras)\n",
    "np.save(\"results/true_positive_V_test\", tpr_keras)\n",
    "np.save(\"results/thresholds_V_test\", thresholds_keras)"
   ]
  },
  {
   "cell_type": "code",
   "execution_count": 64,
   "metadata": {},
   "outputs": [],
   "source": [
    "#plt.hist(cc_infer, bins = 100);"
   ]
  },
  {
   "cell_type": "code",
   "execution_count": 65,
   "metadata": {},
   "outputs": [],
   "source": [
    "#plt.hist(es_infer, bins = 100);"
   ]
  },
  {
   "cell_type": "code",
   "execution_count": 66,
   "metadata": {},
   "outputs": [
    {
     "data": {
      "image/png": "[encoded data removed]",
      "text/plain": [
       "<Figure size 432x288 with 1 Axes>"
      ]
     },
     "metadata": {
      "needs_background": "light"
     },
     "output_type": "display_data"
    }
   ],
   "source": [
    "plt.hist(all_infer, bins = 100);"
   ]
  },
  {
   "cell_type": "code",
   "execution_count": 67,
   "metadata": {},
   "outputs": [
    {
     "name": "stdout",
     "output_type": "stream",
     "text": [
      "CPU times: user 6.47 s, sys: 3.11 s, total: 9.58 s\n",
      "Wall time: 981 ms\n"
     ]
    }
   ],
   "source": [
    "%%time\n",
    "#cc_infer_signal = model.predict(cc_x_test_scaled[cc_y_test==1], batch_size=4096)\n",
    "#cc_infer_noise = model.predict(cc_x_test_scaled[cc_y_test==0], batch_size=4096)\n",
    "#es_infer_signal = model.predict(es_x_test_scaled[es_y_test==1], batch_size=4096)\n",
    "#es_infer_noise = model.predict(es_x_test_scaled[es_y_test==0], batch_size=4096)\n",
    "all_infer_signal = model.predict(x_test_scaled[y_test==1], batch_size=4096)\n",
    "all_infer_noise = model.predict(x_test_scaled[y_test==0], batch_size=4096)"
   ]
  },
  {
   "cell_type": "code",
   "execution_count": 68,
   "metadata": {},
   "outputs": [],
   "source": [
    "#plt.hist(cc_infer_noise, range = (0,1), bins=20)"
   ]
  },
  {
   "cell_type": "code",
   "execution_count": 69,
   "metadata": {},
   "outputs": [],
   "source": [
    "#plt.hist(es_infer_noise, range = (0,1), bins=20)"
   ]
  },
  {
   "cell_type": "code",
   "execution_count": 70,
   "metadata": {},
   "outputs": [
    {
     "data": {
      "text/plain": [
       "(array([ 5594., 25250., 10327.,  4585.,  2537.,  1572.,  1007.,   724.,\n",
       "          555.,   434.,   327.,   284.,   221.,   176.,   161.,   137.,\n",
       "          137.,   106.,    82.,    84.]),\n",
       " array([0.  , 0.05, 0.1 , 0.15, 0.2 , 0.25, 0.3 , 0.35, 0.4 , 0.45, 0.5 ,\n",
       "        0.55, 0.6 , 0.65, 0.7 , 0.75, 0.8 , 0.85, 0.9 , 0.95, 1.  ],\n",
       "       dtype=float32),\n",
       " <BarContainer object of 20 artists>)"
      ]
     },
     "execution_count": 70,
     "metadata": {},
     "output_type": "execute_result"
    },
    {
     "data": {
      "image/png": "[encoded data removed]",
      "text/plain": [
       "<Figure size 432x288 with 1 Axes>"
      ]
     },
     "metadata": {
      "needs_background": "light"
     },
     "output_type": "display_data"
    }
   ],
   "source": [
    "plt.hist(all_infer_noise, range = (0,1), bins=20)"
   ]
  },
  {
   "cell_type": "code",
   "execution_count": 71,
   "metadata": {},
   "outputs": [],
   "source": [
    "#plt.hist(cc_infer_signal, range = (0,1), bins=20)"
   ]
  },
  {
   "cell_type": "code",
   "execution_count": 72,
   "metadata": {},
   "outputs": [],
   "source": [
    "#plt.hist(es_infer_signal, range = (0,1), bins=20)"
   ]
  },
  {
   "cell_type": "code",
   "execution_count": 73,
   "metadata": {},
   "outputs": [
    {
     "data": {
      "text/plain": [
       "(array([  164.,  1708.,  1394.,  1010.,   689.,   530.,   485.,   419.,\n",
       "          367.,   313.,   301.,   326.,   315.,   288.,   319.,   361.,\n",
       "          391.,   505.,   737., 43678.]),\n",
       " array([0.  , 0.05, 0.1 , 0.15, 0.2 , 0.25, 0.3 , 0.35, 0.4 , 0.45, 0.5 ,\n",
       "        0.55, 0.6 , 0.65, 0.7 , 0.75, 0.8 , 0.85, 0.9 , 0.95, 1.  ],\n",
       "       dtype=float32),\n",
       " <BarContainer object of 20 artists>)"
      ]
     },
     "execution_count": 73,
     "metadata": {},
     "output_type": "execute_result"
    },
    {
     "data": {
      "image/png": "[encoded data removed]",
      "text/plain": [
       "<Figure size 432x288 with 1 Axes>"
      ]
     },
     "metadata": {
      "needs_background": "light"
     },
     "output_type": "display_data"
    }
   ],
   "source": [
    "plt.hist(all_infer_signal, range = (0,1), bins=20)"
   ]
  },
  {
   "cell_type": "code",
   "execution_count": null,
   "metadata": {},
   "outputs": [],
   "source": []
  },
  {
   "cell_type": "code",
   "execution_count": null,
   "metadata": {},
   "outputs": [],
   "source": []
  },
  {
   "cell_type": "code",
   "execution_count": null,
   "metadata": {},
   "outputs": [],
   "source": []
  },
  {
   "cell_type": "code",
   "execution_count": null,
   "metadata": {},
   "outputs": [],
   "source": []
  },
  {
   "cell_type": "code",
   "execution_count": null,
   "metadata": {},
   "outputs": [],
   "source": []
  },
  {
   "cell_type": "code",
   "execution_count": null,
   "metadata": {},
   "outputs": [],
   "source": []
  }
 ],
 "metadata": {
  "accelerator": "GPU",
  "colab": {
   "name": "Small windows.ipynb",
   "provenance": []
  },
  "kernelspec": {
   "display_name": "dune-1dcnn",
   "language": "python",
   "name": "dune-1dcnn"
  },
  "language_info": {
   "codemirror_mode": {
    "name": "ipython",
    "version": 3
   },
   "file_extension": ".py",
   "mimetype": "text/x-python",
   "name": "python",
   "nbconvert_exporter": "python",
   "pygments_lexer": "ipython3",
   "version": "3.9.9"
  }
 },
 "nbformat": 4,
 "nbformat_minor": 4
}
