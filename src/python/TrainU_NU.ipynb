{
 "cells": [
  {
   "cell_type": "code",
   "execution_count": 1,
   "metadata": {},
   "outputs": [
    {
     "name": "stderr",
     "output_type": "stream",
     "text": [
      "2023-01-10 13:38:22.233675: I tensorflow/core/util/util.cc:169] oneDNN custom operations are on. You may see slightly different numerical results due to floating-point round-off errors from different computation orders. To turn them off, set the environment variable `TF_ENABLE_ONEDNN_OPTS=0`.\n",
      "2023-01-10 13:38:22.345823: W tensorflow/stream_executor/platform/default/dso_loader.cc:64] Could not load dynamic library 'libcudart.so.11.0'; dlerror: libcudart.so.11.0: cannot open shared object file: No such file or directory\n",
      "2023-01-10 13:38:22.345860: I tensorflow/stream_executor/cuda/cudart_stub.cc:29] Ignore above cudart dlerror if you do not have a GPU set up on your machine.\n"
     ]
    }
   ],
   "source": [
    "import sys\n",
    "from os import listdir\n",
    "from os.path import isfile, join\n",
    "import pandas as pd\n",
    "#!{sys.executable} -m pip install tensorflow-gpu==2.4\n",
    "!export LD_LIBRARY_PATH=$LD_LIBRARY_PATH:/home/bhawks/.conda/envs/dune-1dcnn/lib\n",
    "import numpy as np\n",
    "import matplotlib.pyplot as plt\n",
    "import tensorflow as tf\n",
    "from tensorflow import keras \n",
    "from sklearn.preprocessing import StandardScaler\n",
    "from sklearn.compose import ColumnTransformer, make_column_transformer\n",
    "from sklearn.model_selection import train_test_split\n",
    "from sklearn.utils import shuffle"
   ]
  },
  {
   "cell_type": "code",
   "execution_count": 2,
   "metadata": {},
   "outputs": [],
   "source": [
    "from tqdm import trange"
   ]
  },
  {
   "cell_type": "markdown",
   "metadata": {},
   "source": [
    "# Load data, select ADC"
   ]
  },
  {
   "cell_type": "code",
   "execution_count": 3,
   "metadata": {},
   "outputs": [],
   "source": [
    "wireplane = \"U\"\n",
    "sig_name = wireplane+\"-signal\"\n",
    "cln_name = wireplane+\"-clnsig\"\n",
    "np.random.seed(42)\n",
    "nticks = 200\n",
    "max_mels = 11000\n",
    "min_edp = 50000\n",
    "ADC_MIN = 3\n",
    "ADC_MAX = 10\n",
    "waveform_scaler = StandardScaler()\n",
    "\n",
    "def extract_wave(data):\n",
    "    string = 'tck_'\n",
    "    waveforms = []\n",
    "    #Here I extract a column in each iteration and append to list\n",
    "    for i in range(nticks):\n",
    "        waveforms.append(data[string+str(i)].astype(np.int16))\n",
    "    #convert to numpy ndarray\n",
    "    waveforms = np.array(waveforms).astype(np.int16)\n",
    "    #since raws and columns are inverted we need to transpose it\n",
    "    return np.transpose(waveforms)\n",
    "\n",
    "def extract_peak(data):\n",
    "    #extract index of peak\n",
    "    idx = np.array([data['stp0'], data['adc0'], data['stp1'], data['adc1'], data['stp2'], data['adc2'], data['stp3'], data['adc3'], data['stp4'], data['adc4']])\n",
    "    #same as before\n",
    "    return np.transpose(idx)\n",
    "\n",
    "def extract_peak_info(data):\n",
    "    peaks_pos = [data['stp0'], data['stp1'], data['stp2'], data['stp3'], data['stp4']]\n",
    "    adcs = [data['adc0'], data['adc1'], data['adc2'], data['adc3'], data['adc4']]\n",
    "    return np.array(peaks_pos).T, np.array(adcs).T\n",
    "\n",
    "def extract_nel_info(data):\n",
    "    nels = [data['nel0'], data['nel1'], data['nel2'], data['nel3'], data['nel4']]\n",
    "    return np.array(nels).T\n",
    "\n",
    "def extract_edp_info(data):\n",
    "    edp = [data['edp0'], data['edp1'], data['edp2'], data['edp3'], data['edp4']]\n",
    "    return np.array(edp).T\n",
    "\n",
    "def filter_signals(data, clean_data, filter_adc_max=True):\n",
    "    #edp_mask = np.all(extract_edp_info(data)>min_edp, axis = 1)\n",
    "    #nel_mask = np.all(extract_nel_info(data)<max_mels, axis = 1)\n",
    "    #pd.DataFrame(np.all(extract_edp_info(data)>min_edp, axis = 1)).describe()\n",
    "    #print(edp_mask)\n",
    "    #print(nel_mask)\n",
    "    #filter_mask = nel_mask #np.logical_and(edp_mask,nel_mask) \n",
    "    filtered_data = data#[filter_mask]\n",
    "    cln_filtered_data = clean_data#[filter_mask]\n",
    "    \n",
    "    filtered_peak = extract_peak_info(cln_filtered_data)[1]\n",
    "    if filter_adc_max:\n",
    "        peak_mask = np.any(filtered_peak>ADC_MIN, axis = 1)\n",
    "        peak_mask &= np.any(filtered_peak<ADC_MAX, axis = 1)\n",
    "    else:\n",
    "        peak_mask = np.any(filtered_peak>ADC_MIN, axis = 1)\n",
    "    \n",
    "    filtered_data = filtered_data[peak_mask]\n",
    "    cln_filtered_data = cln_filtered_data[peak_mask]\n",
    "    \n",
    "    return filtered_data, cln_filtered_data, filtered_peak\n",
    "\n",
    "def get_std_waveforms(data):\n",
    "    #Extract and scale waveform data (passthrough rn)\n",
    "    raw_waveforms = extract_wave(data)\n",
    "    #print(raw_waveforms) \n",
    "    #scaled_waveforms = waveform_scaler.fit_transform(raw_waveforms)\n",
    "    return raw_waveforms"
   ]
  },
  {
   "cell_type": "code",
   "execution_count": 4,
   "metadata": {},
   "outputs": [],
   "source": [
    "#X = np.load(\"data/X_argoneut.npz\")\n",
    "#y = np.load(\"data/y_argoneut.npz\")\n",
    "#old_peak = np.load(\"peak_argoneut.npz\")\n",
    "\n",
    "#Load Training Data\n",
    "path = \"/home/sayala/hls4ml-tutorial/Neutrino_Detector/Dune_1DCNN/dunesnb/1dcnn/train/train/nu_cc/\"\n",
    "path2 = \"/home/sayala/hls4ml-tutorial/Neutrino_Detector/Dune_1DCNN/dunesnb/1dcnn/train/train/nu_es/\"\n",
    "filenames1 = [path+f for f in listdir(path) if (isfile(join(path, f)) and sig_name in f)]\n",
    "clean_filenames1 = [path+f for f in listdir(path) if (isfile(join(path, f)) and cln_name in f)]\n",
    "filenames2 = [path2+f for f in listdir(path2) if (isfile(join(path2, f)) and sig_name in f)]\n",
    "clean_filenames2 = [path2+f for f in listdir(path2) if (isfile(join(path2, f)) and cln_name in f)]\n",
    "\n",
    "filenames =  filenames1+filenames2\n",
    "clean_filenames = clean_filenames1+clean_filenames2\n",
    "\n",
    "combined_data = np.concatenate([np.load(fname) for fname in filenames])\n",
    "combined_clean_data = np.concatenate([np.load(fname) for fname in filenames])\n",
    "\n",
    "noise_path = \"/home/sayala/hls4ml-tutorial/Neutrino_Detector/Dune_1DCNN/dunesnb/1dcnn/train/train/noise/\"\n",
    "noise_filenames = [f for f in listdir(noise_path) if (isfile(join(noise_path, f)) and sig_name in f)]\n",
    "#print(noise_filenames)\n",
    "noise_clean_filenames = [f for f in listdir(noise_path) if (isfile(join(noise_path, f)) and cln_name in f)]\n",
    "\n",
    "combined_noise = np.concatenate([np.load(noise_path+fname) for fname in noise_filenames])\n",
    "#print(combined_noise)\n",
    "#combined_clean_noise = np.concatenate([np.load(noise_path+fname) for fname in noise_clean_filenames])\n",
    "\n"
   ]
  },
  {
   "cell_type": "markdown",
   "metadata": {},
   "source": [
    "# Train/Noise Data Preprocessing\n",
    "\n"
   ]
  },
  {
   "cell_type": "code",
   "execution_count": 5,
   "metadata": {},
   "outputs": [
    {
     "name": "stdout",
     "output_type": "stream",
     "text": [
      "203316\n",
      "112385\n",
      "56192\n",
      "53901\n",
      "56193\n"
     ]
    }
   ],
   "source": [
    "from sklearn.utils import shuffle\n",
    "print(combined_data.shape[0])\n",
    "#Filter out tiny signals < ADC_MIN, but leave big signals to test on (incl > ADC_MAX)\n",
    "combined_data, combined_clean_data, peak = filter_signals(combined_data, combined_clean_data, False)\n",
    "print(combined_data.shape[0])\n",
    "\n",
    "#split train and test sets (~50k ea before filtering) \n",
    "combined_data, x_test_data, combined_clean_data, x_test_clean  = train_test_split(\n",
    "    combined_data, combined_clean_data, test_size=0.5, shuffle=True\n",
    ")\n",
    "print(combined_data.shape[0])\n",
    "#filter data and extract waveforms of filtered data\n",
    "combined_data, combined_clean_data, peak = filter_signals(combined_data, combined_clean_data, True)\n",
    "signal_waveforms = get_std_waveforms(combined_data)\n",
    "print(combined_data.shape[0])\n",
    "#extract waveforms of noise\n",
    "noise_waveforms = get_std_waveforms(combined_noise)\n",
    "\n",
    "#extract waveforms of test data\n",
    "test_signal_waveforms = get_std_waveforms(x_test_data)\n",
    "print(test_signal_waveforms.shape[0])\n",
    "#generate y data (assuming all radiologicals contain signal, all noise does not)\n",
    "y_noise_full = np.zeros(noise_waveforms.shape[0])\n",
    "y_signal = np.ones(signal_waveforms.shape[0])\n",
    "y_test_signal = np.ones(test_signal_waveforms.shape[0])\n",
    "\n",
    "\n",
    "# split test and train noise datasets (50k)\n",
    "x_noise_train, x_noise_test, y_noise_train, y_noise_test = train_test_split(\n",
    "    noise_waveforms, y_noise_full, test_size=0.5, shuffle=True\n",
    ")\n",
    "\n",
    "#Shuffle signal waveforms to be safe\n",
    "signal_waveforms, y_signal = shuffle(signal_waveforms,y_signal)\n",
    "\n",
    "#Shuffle test waveformst to be safe\n",
    "x_test, y_test = shuffle(test_signal_waveforms,y_test_signal)\n",
    "\n",
    "#Select First n signal samples from (shuffled) set of signals where n = noise samples for balanced train set \n",
    "x_train = np.concatenate((signal_waveforms[:int(x_noise_train.shape[0])], x_noise_train))\n",
    "y_train = np.concatenate((y_signal[:int(x_noise_train.shape[0])], y_noise_train))\n",
    "\n",
    "x_test = np.concatenate((x_test[:int(x_noise_test.shape[0])], x_noise_test))\n",
    "y_test = np.concatenate((y_test_signal[:int(x_noise_test.shape[0])], y_noise_test))\n",
    "\n",
    "\n",
    "# extra train shuffle for good measure \n",
    "x_train, y_train = shuffle(x_train,y_train)\n",
    "\n",
    "# extra test shuffle for good measure \n",
    "x_test, y_test = shuffle(x_test,y_test)\n",
    "\n",
    "#split train and valid sets (40k train 10k valid) \n",
    "x_train, x_valid, y_train, y_valid = train_test_split(\n",
    "    x_train, y_train, test_size=0.2, shuffle=True\n",
    ")"
   ]
  },
  {
   "cell_type": "markdown",
   "metadata": {},
   "source": [
    "# Load Test Data"
   ]
  },
  {
   "cell_type": "code",
   "execution_count": 6,
   "metadata": {},
   "outputs": [
    {
     "data": {
      "text/plain": [
       "'\\n#Load Test Data\\ncc_path = \"/home/sayala/hls4ml-tutorial/Neutrino_Detector/Dune_1DCNN/dunesnb/1dcnn/train/train/nu_cc/\"\\ncc_filenames = [f for f in listdir(cc_path) if (isfile(join(cc_path, f)) and sig_name in f)]\\ncc_clean_filenames = [f for f in listdir(cc_path) if (isfile(join(cc_path, f)) and cln_name in f)]\\n\\nes_path = \"/home/sayala/hls4ml-tutorial/Neutrino_Detector/Dune_1DCNN/dunesnb/1dcnn/train/train/nu_es/\"\\nes_filenames = [f for f in listdir(es_path) if (isfile(join(es_path, f)) and sig_name in f)]\\nes_clean_filenames = [f for f in listdir(es_path) if (isfile(join(es_path, f)) and cln_name in f)]\\n\\ncc_combined_data = np.concatenate([np.load(cc_path+fname) for fname in cc_filenames])\\nes_combined_data = np.concatenate([np.load(es_path+fname) for fname in es_filenames])\\n\\ncc_combined_clean_data = np.concatenate([np.load(cc_path+fname) for fname in cc_filenames])\\nes_combined_clean_data= np.concatenate([np.load(es_path+fname) for fname in es_filenames])\\n'"
      ]
     },
     "execution_count": 6,
     "metadata": {},
     "output_type": "execute_result"
    }
   ],
   "source": [
    "'''\n",
    "#Load Test Data\n",
    "cc_path = \"/home/sayala/hls4ml-tutorial/Neutrino_Detector/Dune_1DCNN/dunesnb/1dcnn/train/train/nu_cc/\"\n",
    "cc_filenames = [f for f in listdir(cc_path) if (isfile(join(cc_path, f)) and sig_name in f)]\n",
    "cc_clean_filenames = [f for f in listdir(cc_path) if (isfile(join(cc_path, f)) and cln_name in f)]\n",
    "\n",
    "es_path = \"/home/sayala/hls4ml-tutorial/Neutrino_Detector/Dune_1DCNN/dunesnb/1dcnn/train/train/nu_es/\"\n",
    "es_filenames = [f for f in listdir(es_path) if (isfile(join(es_path, f)) and sig_name in f)]\n",
    "es_clean_filenames = [f for f in listdir(es_path) if (isfile(join(es_path, f)) and cln_name in f)]\n",
    "\n",
    "cc_combined_data = np.concatenate([np.load(cc_path+fname) for fname in cc_filenames])\n",
    "es_combined_data = np.concatenate([np.load(es_path+fname) for fname in es_filenames])\n",
    "\n",
    "cc_combined_clean_data = np.concatenate([np.load(cc_path+fname) for fname in cc_filenames])\n",
    "es_combined_clean_data= np.concatenate([np.load(es_path+fname) for fname in es_filenames])\n",
    "'''"
   ]
  },
  {
   "cell_type": "markdown",
   "metadata": {},
   "source": [
    "# Test Data Pre-Processing"
   ]
  },
  {
   "cell_type": "code",
   "execution_count": 7,
   "metadata": {},
   "outputs": [
    {
     "data": {
      "text/plain": [
       "'\\ncc_combined_data, cc_combined_clean_data, cc_peak = filter_signals(cc_combined_data, cc_combined_clean_data)\\nes_combined_data, es_combined_clean_data, es_peak = filter_signals(es_combined_data, es_combined_clean_data)\\n\\ncc_signal_waveforms = get_std_waveforms(cc_combined_data)\\nes_signal_waveforms = get_std_waveforms(es_combined_data)\\n\\ncc_y_signal = np.ones(cc_signal_waveforms.shape[0])\\nes_y_signal = np.ones(es_signal_waveforms.shape[0])\\n\\n#Select First n signal samples from (shuffled) set of signals where n = noise samples for balanced test \\ncc_x_test = np.concatenate((cc_signal_waveforms[:int(x_noise_test.shape[0])], x_noise_test))\\ncc_y_test = np.concatenate((cc_y_signal[:int(x_noise_test.shape[0])], y_noise_test))\\n\\n#Select First n signal samples from (shuffled) set of signals where n = noise samples for balanced test \\nes_x_test = np.concatenate((es_signal_waveforms[:int(x_noise_test.shape[0])], x_noise_test))\\nes_y_test = np.concatenate((es_y_signal[:int(x_noise_test.shape[0])], y_noise_test))\\n\\n#shuffle for good measure \\nfrom sklearn.utils import shuffle\\ncc_x_test, cc_y_test = shuffle(cc_x_test,cc_y_test)\\nes_x_test, es_y_test = shuffle(es_x_test,es_y_test)\\n'"
      ]
     },
     "execution_count": 7,
     "metadata": {},
     "output_type": "execute_result"
    }
   ],
   "source": [
    "'''\n",
    "cc_combined_data, cc_combined_clean_data, cc_peak = filter_signals(cc_combined_data, cc_combined_clean_data)\n",
    "es_combined_data, es_combined_clean_data, es_peak = filter_signals(es_combined_data, es_combined_clean_data)\n",
    "\n",
    "cc_signal_waveforms = get_std_waveforms(cc_combined_data)\n",
    "es_signal_waveforms = get_std_waveforms(es_combined_data)\n",
    "\n",
    "cc_y_signal = np.ones(cc_signal_waveforms.shape[0])\n",
    "es_y_signal = np.ones(es_signal_waveforms.shape[0])\n",
    "\n",
    "#Select First n signal samples from (shuffled) set of signals where n = noise samples for balanced test \n",
    "cc_x_test = np.concatenate((cc_signal_waveforms[:int(x_noise_test.shape[0])], x_noise_test))\n",
    "cc_y_test = np.concatenate((cc_y_signal[:int(x_noise_test.shape[0])], y_noise_test))\n",
    "\n",
    "#Select First n signal samples from (shuffled) set of signals where n = noise samples for balanced test \n",
    "es_x_test = np.concatenate((es_signal_waveforms[:int(x_noise_test.shape[0])], x_noise_test))\n",
    "es_y_test = np.concatenate((es_y_signal[:int(x_noise_test.shape[0])], y_noise_test))\n",
    "\n",
    "#shuffle for good measure \n",
    "from sklearn.utils import shuffle\n",
    "cc_x_test, cc_y_test = shuffle(cc_x_test,cc_y_test)\n",
    "es_x_test, es_y_test = shuffle(es_x_test,es_y_test)\n",
    "'''"
   ]
  },
  {
   "cell_type": "code",
   "execution_count": 8,
   "metadata": {},
   "outputs": [],
   "source": [
    "#pd.DataFrame(extract_nel_info(combined_data)).describe()"
   ]
  },
  {
   "cell_type": "code",
   "execution_count": 9,
   "metadata": {},
   "outputs": [],
   "source": [
    "#pd.DataFrame(old_peak[\"training_set\"]).describe()\n"
   ]
  },
  {
   "cell_type": "code",
   "execution_count": 10,
   "metadata": {},
   "outputs": [],
   "source": [
    "#for i in range(0,5): \n",
    "#    plt.hist(peak[:,i],bins=120)\n",
    "#    plt.show()\n",
    "#pd.DataFrame(peak).describe()"
   ]
  },
  {
   "cell_type": "code",
   "execution_count": 11,
   "metadata": {},
   "outputs": [],
   "source": [
    "#for i in range(0,5): \n",
    "#    plt.hist(unscaled_peak[:,i],bins=120)\n",
    "#    plt.show()\n",
    "#pd.DataFrame(unscaled_peak).describe()"
   ]
  },
  {
   "cell_type": "code",
   "execution_count": 12,
   "metadata": {},
   "outputs": [],
   "source": [
    "#x_train = X[\"training_set\"]\n",
    "#y_train = y[\"training_set\"]#\n",
    "#x_test = X[\"test_set\"]\n",
    "#y_test = y[\"test_set\"]\n",
    "\n",
    "#peak_train = peak[\"training_set\"]\n",
    "#peak_test = peak[\"test_set\"]\n",
    "#del y\n",
    "#del X\n",
    "#del peak"
   ]
  },
  {
   "cell_type": "code",
   "execution_count": 13,
   "metadata": {},
   "outputs": [],
   "source": [
    "#ADC_MIN = 3"
   ]
  },
  {
   "cell_type": "code",
   "execution_count": 14,
   "metadata": {},
   "outputs": [],
   "source": [
    "#signal = x_train[y_train == 1]\n",
    "#noise = x_train[y_train == 0]\n",
    "\n",
    "#peak_signal = peak_train[y_train == 1]\n",
    "#peak_noise =  peak_train[y_train == 0]"
   ]
  },
  {
   "cell_type": "code",
   "execution_count": 15,
   "metadata": {},
   "outputs": [],
   "source": [
    "#signal_test = x_test[y_test == 1]\n",
    "#noise_test = x_test[y_test == 0]\n",
    "\n",
    "#peak_signal_test = peak_test[y_test == 1]\n",
    "#peak_noise_test =  peak_test[y_test == 0]"
   ]
  },
  {
   "cell_type": "code",
   "execution_count": 16,
   "metadata": {},
   "outputs": [],
   "source": [
    "#mask = np.any(peak_signal>ADC_MIN, axis = 1)\n",
    "#peak_signal = signal[mask]\n",
    "#signal = signal[mask]"
   ]
  },
  {
   "cell_type": "code",
   "execution_count": 17,
   "metadata": {},
   "outputs": [],
   "source": [
    "#mask = np.any(peak_signal_test>ADC_MIN, axis = 1)\n",
    "#peak_signal_test = signal_test[mask]\n",
    "#signal_test = signal_test[mask]"
   ]
  },
  {
   "cell_type": "code",
   "execution_count": 18,
   "metadata": {},
   "outputs": [],
   "source": [
    "#y_noise = np.zeros(signal.shape[0])\n",
    "#y_signal = np.ones(signal.shape[0])\n",
    "\n",
    "#x_train = np.concatenate((noise[:signal.shape[0]], signal))\n",
    "#y_train = np.concatenate((y_noise, y_signal))\n",
    "#from sklearn.utils import shuffle\n",
    "#x_train, y_train = shuffle(x_train,y_train)"
   ]
  },
  {
   "cell_type": "code",
   "execution_count": 19,
   "metadata": {},
   "outputs": [],
   "source": [
    "#y_noise_test = np.zeros(signal_test.shape[0])\n",
    "#y_signal_test = np.ones(signal_test.shape[0])\n",
    "\n",
    "#x_test = np.concatenate((noise_test[:signal_test.shape[0]], signal_test))\n",
    "#y_test = np.concatenate((y_noise_test, y_signal_test))\n",
    "#from sklearn.utils import shuffle\n",
    "#x_test, y_test = shuffle(x_test,y_test)"
   ]
  },
  {
   "cell_type": "code",
   "execution_count": 20,
   "metadata": {},
   "outputs": [
    {
     "data": {
      "text/plain": [
       "(86560, 200)"
      ]
     },
     "execution_count": 20,
     "metadata": {},
     "output_type": "execute_result"
    }
   ],
   "source": [
    "x_train.shape"
   ]
  },
  {
   "cell_type": "code",
   "execution_count": 21,
   "metadata": {},
   "outputs": [
    {
     "data": {
      "text/plain": [
       "(21641, 200)"
      ]
     },
     "execution_count": 21,
     "metadata": {},
     "output_type": "execute_result"
    }
   ],
   "source": [
    "x_valid.shape"
   ]
  },
  {
   "cell_type": "code",
   "execution_count": 22,
   "metadata": {
    "executionInfo": {
     "elapsed": 3292,
     "status": "ok",
     "timestamp": 1602697140320,
     "user": {
      "displayName": "Lorenzo Uboldi",
      "photoUrl": "",
      "userId": "12025999408021597208"
     },
     "user_tz": -120
    },
    "id": "98hh3JJMgmL5"
   },
   "outputs": [],
   "source": [
    "mean = x_train.mean()\n",
    "std = x_train.std()"
   ]
  },
  {
   "cell_type": "code",
   "execution_count": 23,
   "metadata": {
    "executionInfo": {
     "elapsed": 2199,
     "status": "ok",
     "timestamp": 1602697150258,
     "user": {
      "displayName": "Lorenzo Uboldi",
      "photoUrl": "",
      "userId": "12025999408021597208"
     },
     "user_tz": -120
    },
    "id": "GNfE_-NlgmL9"
   },
   "outputs": [],
   "source": [
    "x_train_scaled = (x_train-mean)/std\n",
    "x_valid_scaled = (x_valid-mean)/std\n",
    "x_test_scaled = (x_test-mean)/std\n",
    "#cc_x_test_scaled = (cc_x_test-mean)/std \n",
    "#es_x_test_scaled = (es_x_test-mean)/std \n",
    "time_periods = 200"
   ]
  },
  {
   "cell_type": "code",
   "execution_count": 24,
   "metadata": {
    "executionInfo": {
     "elapsed": 835,
     "status": "ok",
     "timestamp": 1602698921642,
     "user": {
      "displayName": "Lorenzo Uboldi",
      "photoUrl": "",
      "userId": "12025999408021597208"
     },
     "user_tz": -120
    },
    "id": "f1Q5D9PrR26R"
   },
   "outputs": [],
   "source": [
    "np.save(\"models/mean_u_nu\", mean)\n",
    "np.save(\"models/scale_u_nu\", std)"
   ]
  },
  {
   "cell_type": "code",
   "execution_count": 25,
   "metadata": {
    "executionInfo": {
     "elapsed": 632,
     "status": "ok",
     "timestamp": 1602697152760,
     "user": {
      "displayName": "Lorenzo Uboldi",
      "photoUrl": "",
      "userId": "12025999408021597208"
     },
     "user_tz": -120
    },
    "id": "8Kv4B_L4gmMF"
   },
   "outputs": [],
   "source": [
    "from tensorflow.keras.models import Sequential\n",
    "from tensorflow.keras.layers import Conv1D, MaxPooling1D, GlobalMaxPooling1D, \\\n",
    "    Dropout, Dense,Flatten, AveragePooling1D, BatchNormalization"
   ]
  },
  {
   "cell_type": "code",
   "execution_count": 26,
   "metadata": {
    "colab": {
     "base_uri": "https://localhost:8080/",
     "height": 503
    },
    "executionInfo": {
     "elapsed": 6059,
     "status": "ok",
     "timestamp": 1602697386319,
     "user": {
      "displayName": "Lorenzo Uboldi",
      "photoUrl": "",
      "userId": "12025999408021597208"
     },
     "user_tz": -120
    },
    "id": "Qy2CLcCzgmMK",
    "outputId": "bde22703-bb05-4503-976c-fa68081e1c69"
   },
   "outputs": [
    {
     "name": "stdout",
     "output_type": "stream",
     "text": [
      "Model: \"sequential\"\n",
      "_________________________________________________________________\n",
      " Layer (type)                Output Shape              Param #   \n",
      "=================================================================\n",
      " conv1d (Conv1D)             (None, 99, 16)            64        \n",
      "                                                                 \n",
      " max_pooling1d (MaxPooling1D  (None, 49, 16)           0         \n",
      " )                                                               \n",
      "                                                                 \n",
      " conv1d_1 (Conv1D)           (None, 23, 32)            2592      \n",
      "                                                                 \n",
      " max_pooling1d_1 (MaxPooling  (None, 11, 32)           0         \n",
      " 1D)                                                             \n",
      "                                                                 \n",
      " dropout (Dropout)           (None, 11, 32)            0         \n",
      "                                                                 \n",
      " conv1d_2 (Conv1D)           (None, 3, 64)             18496     \n",
      "                                                                 \n",
      " global_max_pooling1d (Globa  (None, 64)               0         \n",
      " lMaxPooling1D)                                                  \n",
      "                                                                 \n",
      " dropout_1 (Dropout)         (None, 64)                0         \n",
      "                                                                 \n",
      " flatten (Flatten)           (None, 64)                0         \n",
      "                                                                 \n",
      " wavrec_out (Dense)          (None, 1)                 65        \n",
      "                                                                 \n",
      "=================================================================\n",
      "Total params: 21,217\n",
      "Trainable params: 21,217\n",
      "Non-trainable params: 0\n",
      "_________________________________________________________________\n"
     ]
    },
    {
     "name": "stderr",
     "output_type": "stream",
     "text": [
      "2023-01-10 13:38:35.397525: I tensorflow/stream_executor/cuda/cuda_gpu_executor.cc:961] could not open file to read NUMA node: /sys/bus/pci/devices/0000:01:00.0/numa_node\n",
      "Your kernel may have been built without NUMA support.\n",
      "2023-01-10 13:38:35.397788: W tensorflow/stream_executor/platform/default/dso_loader.cc:64] Could not load dynamic library 'libcudart.so.11.0'; dlerror: libcudart.so.11.0: cannot open shared object file: No such file or directory\n",
      "2023-01-10 13:38:35.397979: W tensorflow/stream_executor/platform/default/dso_loader.cc:64] Could not load dynamic library 'libcublas.so.11'; dlerror: libcublas.so.11: cannot open shared object file: No such file or directory\n",
      "2023-01-10 13:38:35.398091: W tensorflow/stream_executor/platform/default/dso_loader.cc:64] Could not load dynamic library 'libcublasLt.so.11'; dlerror: libcublasLt.so.11: cannot open shared object file: No such file or directory\n",
      "2023-01-10 13:38:35.398190: W tensorflow/stream_executor/platform/default/dso_loader.cc:64] Could not load dynamic library 'libcufft.so.10'; dlerror: libcufft.so.10: cannot open shared object file: No such file or directory\n",
      "2023-01-10 13:38:35.684649: W tensorflow/stream_executor/platform/default/dso_loader.cc:64] Could not load dynamic library 'libcusparse.so.11'; dlerror: libcusparse.so.11: cannot open shared object file: No such file or directory\n",
      "2023-01-10 13:38:35.684816: W tensorflow/stream_executor/platform/default/dso_loader.cc:64] Could not load dynamic library 'libcudnn.so.8'; dlerror: libcudnn.so.8: cannot open shared object file: No such file or directory\n",
      "2023-01-10 13:38:35.684843: W tensorflow/core/common_runtime/gpu/gpu_device.cc:1850] Cannot dlopen some GPU libraries. Please make sure the missing libraries mentioned above are installed properly if you would like to use GPU. Follow the guide at https://www.tensorflow.org/install/gpu for how to download and setup the required libraries for your platform.\n",
      "Skipping registering GPU devices...\n",
      "2023-01-10 13:38:35.687243: I tensorflow/core/platform/cpu_feature_guard.cc:193] This TensorFlow binary is optimized with oneAPI Deep Neural Network Library (oneDNN) to use the following CPU instructions in performance-critical operations:  AVX2 AVX_VNNI FMA\n",
      "To enable them in other operations, rebuild TensorFlow with the appropriate compiler flags.\n"
     ]
    }
   ],
   "source": [
    "time_periods = 200\n",
    "def create_model():\n",
    "  model = Sequential()  \n",
    "  #first convolutional block\n",
    "  model.add(Conv1D(filters=16, kernel_size=3, strides=2, activation = \"relu\", input_shape=(time_periods,1)))\n",
    "  model.add(MaxPooling1D(pool_size=2))\n",
    "\n",
    "  #second convolutional block\n",
    "  model.add(Conv1D(filters=32, kernel_size=5, strides=2, activation = \"relu\"))\n",
    "  model.add(MaxPooling1D(pool_size=2))\n",
    "  model.add(Dropout(0.1))\n",
    "  \n",
    "  #forth convolutional block\n",
    "  model.add(Conv1D(filters=64, kernel_size=9, activation = \"relu\"))\n",
    "  model.add(GlobalMaxPooling1D())\n",
    "  model.add(Dropout(0.2)) \n",
    "    \n",
    "  model.add(Flatten())\n",
    "\n",
    "  \n",
    " \n",
    "  model.add(Dense(1, activation=\"sigmoid\", name=\"wavrec_out\"))\n",
    "  return model\n",
    "\n",
    "\n",
    "model = create_model()\n",
    "\n",
    "#lr=0.001\n",
    "adam = tf.keras.optimizers.Adam(learning_rate=0.001, beta_1=0.9, beta_2=0.999, epsilon=None, decay=0.0, amsgrad=False)\n",
    "\n",
    "model.compile(optimizer = adam, loss = 'binary_crossentropy', metrics = ['accuracy'])\n",
    "model.summary()"
   ]
  },
  {
   "cell_type": "code",
   "execution_count": 27,
   "metadata": {
    "executionInfo": {
     "elapsed": 619,
     "status": "ok",
     "timestamp": 1602697394483,
     "user": {
      "displayName": "Lorenzo Uboldi",
      "photoUrl": "",
      "userId": "12025999408021597208"
     },
     "user_tz": -120
    },
    "id": "ck6Dc8zpgmMQ"
   },
   "outputs": [
    {
     "name": "stdout",
     "output_type": "stream",
     "text": [
      "86560\n",
      "21641\n",
      "108600\n"
     ]
    }
   ],
   "source": [
    "x_train_scaled = x_train_scaled.reshape(x_train_scaled.shape[0], x_train_scaled.shape[1], 1)\n",
    "#cc_x_test_scaled = cc_x_test_scaled.reshape(cc_x_test_scaled.shape[0], cc_x_test_scaled.shape[1], 1)\n",
    "#es_x_test_scaled = es_x_test_scaled.reshape(es_x_test_scaled.shape[0], es_x_test_scaled.shape[1], 1)\n",
    "x_valid_scaled = x_valid_scaled.reshape(x_valid_scaled.shape[0], x_valid_scaled.shape[1], 1)\n",
    "x_test_scaled = x_test_scaled.reshape(x_test_scaled.shape[0], x_test_scaled.shape[1], 1)\n",
    "print(x_train_scaled.shape[0])\n",
    "print(x_valid_scaled.shape[0])\n",
    "print(x_test_scaled.shape[0])"
   ]
  },
  {
   "cell_type": "code",
   "execution_count": 28,
   "metadata": {},
   "outputs": [],
   "source": [
    "earlystop = tf.keras.callbacks.EarlyStopping(\n",
    "    monitor=\"val_loss\",\n",
    "    min_delta=0,\n",
    "    patience=5,\n",
    "    verbose=0,\n",
    "    mode=\"auto\",\n",
    "    baseline=None,\n",
    "    restore_best_weights=True,\n",
    ")\n"
   ]
  },
  {
   "cell_type": "code",
   "execution_count": 29,
   "metadata": {
    "colab": {
     "base_uri": "https://localhost:8080/",
     "height": 746
    },
    "executionInfo": {
     "elapsed": 190700,
     "status": "ok",
     "timestamp": 1602697588909,
     "user": {
      "displayName": "Lorenzo Uboldi",
      "photoUrl": "",
      "userId": "12025999408021597208"
     },
     "user_tz": -120
    },
    "id": "pvebeWPOgmMU",
    "outputId": "c59d02f0-c33a-40be-a52a-eef5f7409d69"
   },
   "outputs": [
    {
     "name": "stdout",
     "output_type": "stream",
     "text": [
      "Epoch 1/100\n",
      "43/43 [==============================] - 3s 50ms/step - loss: 0.5373 - accuracy: 0.6768 - val_loss: 0.3716 - val_accuracy: 0.8626\n",
      "Epoch 2/100\n",
      "43/43 [==============================] - 2s 42ms/step - loss: 0.3049 - accuracy: 0.8790 - val_loss: 0.2640 - val_accuracy: 0.8969\n",
      "Epoch 3/100\n",
      "43/43 [==============================] - 2s 43ms/step - loss: 0.2614 - accuracy: 0.8963 - val_loss: 0.2499 - val_accuracy: 0.9031\n",
      "Epoch 4/100\n",
      "43/43 [==============================] - 2s 41ms/step - loss: 0.2499 - accuracy: 0.9031 - val_loss: 0.2434 - val_accuracy: 0.9055\n",
      "Epoch 5/100\n",
      "43/43 [==============================] - 2s 42ms/step - loss: 0.2448 - accuracy: 0.9056 - val_loss: 0.2407 - val_accuracy: 0.9067\n",
      "Epoch 6/100\n",
      "43/43 [==============================] - 2s 42ms/step - loss: 0.2421 - accuracy: 0.9075 - val_loss: 0.2388 - val_accuracy: 0.9073\n",
      "Epoch 7/100\n",
      "43/43 [==============================] - 2s 41ms/step - loss: 0.2401 - accuracy: 0.9089 - val_loss: 0.2379 - val_accuracy: 0.9076\n",
      "Epoch 8/100\n",
      "43/43 [==============================] - 2s 41ms/step - loss: 0.2396 - accuracy: 0.9084 - val_loss: 0.2397 - val_accuracy: 0.9082\n",
      "Epoch 9/100\n",
      "43/43 [==============================] - 2s 43ms/step - loss: 0.2385 - accuracy: 0.9093 - val_loss: 0.2370 - val_accuracy: 0.9079\n",
      "Epoch 10/100\n",
      "43/43 [==============================] - 2s 41ms/step - loss: 0.2371 - accuracy: 0.9098 - val_loss: 0.2364 - val_accuracy: 0.9083\n",
      "Epoch 11/100\n",
      "43/43 [==============================] - 2s 41ms/step - loss: 0.2369 - accuracy: 0.9096 - val_loss: 0.2360 - val_accuracy: 0.9088\n",
      "Epoch 12/100\n",
      "43/43 [==============================] - 2s 42ms/step - loss: 0.2368 - accuracy: 0.9104 - val_loss: 0.2358 - val_accuracy: 0.9092\n",
      "Epoch 13/100\n",
      "43/43 [==============================] - 2s 42ms/step - loss: 0.2352 - accuracy: 0.9109 - val_loss: 0.2389 - val_accuracy: 0.9092\n",
      "Epoch 14/100\n",
      "43/43 [==============================] - 2s 41ms/step - loss: 0.2352 - accuracy: 0.9108 - val_loss: 0.2349 - val_accuracy: 0.9097\n",
      "Epoch 15/100\n",
      "43/43 [==============================] - 2s 42ms/step - loss: 0.2354 - accuracy: 0.9109 - val_loss: 0.2361 - val_accuracy: 0.9102\n",
      "Epoch 16/100\n",
      "43/43 [==============================] - 2s 42ms/step - loss: 0.2334 - accuracy: 0.9113 - val_loss: 0.2355 - val_accuracy: 0.9093\n",
      "Epoch 17/100\n",
      "43/43 [==============================] - 2s 41ms/step - loss: 0.2334 - accuracy: 0.9114 - val_loss: 0.2365 - val_accuracy: 0.9079\n",
      "Epoch 18/100\n",
      "43/43 [==============================] - 2s 42ms/step - loss: 0.2335 - accuracy: 0.9112 - val_loss: 0.2343 - val_accuracy: 0.9095\n",
      "Epoch 19/100\n",
      "43/43 [==============================] - 2s 41ms/step - loss: 0.2335 - accuracy: 0.9118 - val_loss: 0.2343 - val_accuracy: 0.9106\n",
      "Epoch 20/100\n",
      "43/43 [==============================] - 2s 42ms/step - loss: 0.2325 - accuracy: 0.9118 - val_loss: 0.2339 - val_accuracy: 0.9103\n",
      "Epoch 21/100\n",
      "43/43 [==============================] - 2s 41ms/step - loss: 0.2319 - accuracy: 0.9118 - val_loss: 0.2340 - val_accuracy: 0.9095\n",
      "Epoch 22/100\n",
      "43/43 [==============================] - 2s 42ms/step - loss: 0.2318 - accuracy: 0.9118 - val_loss: 0.2337 - val_accuracy: 0.9102\n",
      "Epoch 23/100\n",
      "43/43 [==============================] - 2s 42ms/step - loss: 0.2315 - accuracy: 0.9123 - val_loss: 0.2339 - val_accuracy: 0.9101\n",
      "Epoch 24/100\n",
      "43/43 [==============================] - 2s 41ms/step - loss: 0.2308 - accuracy: 0.9127 - val_loss: 0.2339 - val_accuracy: 0.9098\n",
      "Epoch 25/100\n",
      "43/43 [==============================] - 2s 41ms/step - loss: 0.2306 - accuracy: 0.9119 - val_loss: 0.2339 - val_accuracy: 0.9095\n",
      "Epoch 26/100\n",
      "43/43 [==============================] - 2s 42ms/step - loss: 0.2305 - accuracy: 0.9129 - val_loss: 0.2335 - val_accuracy: 0.9095\n",
      "Epoch 27/100\n",
      "43/43 [==============================] - 1s 24ms/step - loss: 0.2302 - accuracy: 0.9127 - val_loss: 0.2331 - val_accuracy: 0.9098\n",
      "Epoch 28/100\n",
      "43/43 [==============================] - 1s 24ms/step - loss: 0.2298 - accuracy: 0.9128 - val_loss: 0.2332 - val_accuracy: 0.9097\n",
      "Epoch 29/100\n",
      "43/43 [==============================] - 2s 42ms/step - loss: 0.2295 - accuracy: 0.9128 - val_loss: 0.2331 - val_accuracy: 0.9095\n",
      "Epoch 30/100\n",
      "43/43 [==============================] - 2s 41ms/step - loss: 0.2291 - accuracy: 0.9128 - val_loss: 0.2349 - val_accuracy: 0.9101\n",
      "Epoch 31/100\n",
      "43/43 [==============================] - 2s 39ms/step - loss: 0.2296 - accuracy: 0.9126 - val_loss: 0.2331 - val_accuracy: 0.9103\n",
      "Epoch 32/100\n",
      "43/43 [==============================] - 1s 31ms/step - loss: 0.2283 - accuracy: 0.9132 - val_loss: 0.2332 - val_accuracy: 0.9099\n",
      "Epoch 33/100\n",
      "43/43 [==============================] - 2s 40ms/step - loss: 0.2287 - accuracy: 0.9132 - val_loss: 0.2329 - val_accuracy: 0.9096\n",
      "Epoch 34/100\n",
      "43/43 [==============================] - 2s 42ms/step - loss: 0.2279 - accuracy: 0.9132 - val_loss: 0.2328 - val_accuracy: 0.9098\n",
      "Epoch 35/100\n",
      "43/43 [==============================] - 2s 42ms/step - loss: 0.2274 - accuracy: 0.9136 - val_loss: 0.2328 - val_accuracy: 0.9102\n",
      "Epoch 36/100\n",
      "43/43 [==============================] - 2s 42ms/step - loss: 0.2274 - accuracy: 0.9134 - val_loss: 0.2328 - val_accuracy: 0.9098\n",
      "Epoch 37/100\n",
      "43/43 [==============================] - 2s 43ms/step - loss: 0.2274 - accuracy: 0.9137 - val_loss: 0.2327 - val_accuracy: 0.9098\n",
      "Epoch 38/100\n",
      "43/43 [==============================] - 2s 44ms/step - loss: 0.2264 - accuracy: 0.9141 - val_loss: 0.2328 - val_accuracy: 0.9098\n",
      "Epoch 39/100\n",
      "43/43 [==============================] - 2s 43ms/step - loss: 0.2268 - accuracy: 0.9133 - val_loss: 0.2346 - val_accuracy: 0.9109\n",
      "Epoch 40/100\n",
      "43/43 [==============================] - 2s 44ms/step - loss: 0.2270 - accuracy: 0.9137 - val_loss: 0.2329 - val_accuracy: 0.9097\n",
      "Epoch 41/100\n",
      "43/43 [==============================] - 2s 43ms/step - loss: 0.2253 - accuracy: 0.9143 - val_loss: 0.2344 - val_accuracy: 0.9085\n",
      "Epoch 42/100\n",
      "43/43 [==============================] - 2s 43ms/step - loss: 0.2257 - accuracy: 0.9136 - val_loss: 0.2356 - val_accuracy: 0.9080\n",
      "CPU times: user 10min 14s, sys: 51.5 s, total: 11min 5s\n",
      "Wall time: 1min 15s\n"
     ]
    }
   ],
   "source": [
    "%%time\n",
    "history = model.fit(x_train_scaled,                                                              \n",
    "                    y_train,                                                            \n",
    "                    batch_size=2048,                                              \n",
    "                    epochs=100,      \n",
    "                    \n",
    "                   # epochs=30, \n",
    "                    #epochs = 6,\n",
    "                    callbacks=[earlystop],\n",
    "                     # callbacks=callbacks_list,                         \n",
    "                    validation_data=(x_valid_scaled, y_valid),                                               \n",
    "                    verbose=1)   "
   ]
  },
  {
   "cell_type": "code",
   "execution_count": 30,
   "metadata": {
    "colab": {
     "base_uri": "https://localhost:8080/",
     "height": 513
    },
    "executionInfo": {
     "elapsed": 710,
     "status": "ok",
     "timestamp": 1602697613662,
     "user": {
      "displayName": "Lorenzo Uboldi",
      "photoUrl": "",
      "userId": "12025999408021597208"
     },
     "user_tz": -120
    },
    "id": "KagllrzUgmMZ",
    "outputId": "0a5d4266-3904-4eda-9d3e-6db6aa89664e"
   },
   "outputs": [
    {
     "data": {
      "image/png": "[encoded data removed]",
      "text/plain": [
       "<Figure size 864x576 with 1 Axes>"
      ]
     },
     "metadata": {
      "needs_background": "light"
     },
     "output_type": "display_data"
    }
   ],
   "source": [
    "plt.figure(figsize=(12, 8))                                                     \n",
    "plt.plot(history.history['accuracy'], \"g--\", label=\"Accuracy of training data\", antialiased=True)\n",
    "plt.plot(history.history['val_accuracy'], \"g\", label=\"Accuracy of validation data\", antialiased=True)\n",
    "plt.plot(history.history['loss'], \"r--\", label=\"Loss of training data\", antialiased=True)\n",
    "plt.plot(history.history['val_loss'], \"r\", label=\"Loss of validation data\", antialiased=True)\n",
    "plt.title('Model Accuracy and Loss')                                            \n",
    "plt.ylabel('Accuracy and Loss')                                                 \n",
    "plt.xlabel('Training Epoch')                                                    \n",
    "#plt.ylim(0)                                                                     \n",
    "plt.legend()                                                                    \n",
    "plt.show()     "
   ]
  },
  {
   "cell_type": "code",
   "execution_count": 31,
   "metadata": {},
   "outputs": [
    {
     "data": {
      "text/plain": [
       "5379"
      ]
     },
     "execution_count": 31,
     "metadata": {},
     "output_type": "execute_result"
    }
   ],
   "source": [
    "#del x_train\n",
    "\n",
    "import gc\n",
    "gc.collect()"
   ]
  },
  {
   "cell_type": "code",
   "execution_count": 32,
   "metadata": {
    "jupyter": {
     "outputs_hidden": false
    },
    "pycharm": {
     "name": "#%%\n"
    }
   },
   "outputs": [],
   "source": [
    "model.save(\"models/uplane_nu.h5\")"
   ]
  },
  {
   "cell_type": "code",
   "execution_count": 33,
   "metadata": {},
   "outputs": [
    {
     "data": {
      "text/plain": [
       "[0.5373480319976807,\n",
       " 0.3048986792564392,\n",
       " 0.2614183723926544,\n",
       " 0.24985170364379883,\n",
       " 0.24481943249702454,\n",
       " 0.24212129414081573,\n",
       " 0.24013398587703705,\n",
       " 0.23961642384529114,\n",
       " 0.23852406442165375,\n",
       " 0.23709924519062042,\n",
       " 0.23691368103027344,\n",
       " 0.2368193417787552,\n",
       " 0.23523128032684326,\n",
       " 0.23516800999641418,\n",
       " 0.23535041511058807,\n",
       " 0.2334069013595581,\n",
       " 0.23343385756015778,\n",
       " 0.2334534078836441,\n",
       " 0.233488529920578,\n",
       " 0.23246391117572784,\n",
       " 0.23193547129631042,\n",
       " 0.23181693255901337,\n",
       " 0.23154696822166443,\n",
       " 0.230775386095047,\n",
       " 0.2305726408958435,\n",
       " 0.23049212992191315,\n",
       " 0.23016177117824554,\n",
       " 0.22984462976455688,\n",
       " 0.22951306402683258,\n",
       " 0.22906938195228577,\n",
       " 0.22960753738880157,\n",
       " 0.22827884554862976,\n",
       " 0.22867709398269653,\n",
       " 0.22789056599140167,\n",
       " 0.2274082601070404,\n",
       " 0.2273576259613037,\n",
       " 0.2274213433265686,\n",
       " 0.22641810774803162,\n",
       " 0.2267833799123764,\n",
       " 0.22699414193630219,\n",
       " 0.2252737432718277,\n",
       " 0.2256585955619812]"
      ]
     },
     "execution_count": 33,
     "metadata": {},
     "output_type": "execute_result"
    }
   ],
   "source": [
    "history.history['loss']"
   ]
  },
  {
   "cell_type": "code",
   "execution_count": 34,
   "metadata": {},
   "outputs": [
    {
     "data": {
      "text/plain": [
       "[0.37160539627075195,\n",
       " 0.26402774453163147,\n",
       " 0.2498844712972641,\n",
       " 0.2434464544057846,\n",
       " 0.24067595601081848,\n",
       " 0.2387789785861969,\n",
       " 0.2378585785627365,\n",
       " 0.2396683692932129,\n",
       " 0.23699580132961273,\n",
       " 0.23641690611839294,\n",
       " 0.23602059483528137,\n",
       " 0.23580637574195862,\n",
       " 0.23888519406318665,\n",
       " 0.2349497675895691,\n",
       " 0.23607081174850464,\n",
       " 0.2354753464460373,\n",
       " 0.23651878535747528,\n",
       " 0.23433950543403625,\n",
       " 0.2343439757823944,\n",
       " 0.233905628323555,\n",
       " 0.23404821753501892,\n",
       " 0.23374097049236298,\n",
       " 0.2339472472667694,\n",
       " 0.23390869796276093,\n",
       " 0.23385143280029297,\n",
       " 0.23348282277584076,\n",
       " 0.2331339567899704,\n",
       " 0.23322883248329163,\n",
       " 0.23309428989887238,\n",
       " 0.23485630750656128,\n",
       " 0.2330797165632248,\n",
       " 0.23318521678447723,\n",
       " 0.2329433411359787,\n",
       " 0.23284056782722473,\n",
       " 0.232753187417984,\n",
       " 0.23282410204410553,\n",
       " 0.23266729712486267,\n",
       " 0.2328297644853592,\n",
       " 0.23460796475410461,\n",
       " 0.23294979333877563,\n",
       " 0.23443108797073364,\n",
       " 0.235564187169075]"
      ]
     },
     "execution_count": 34,
     "metadata": {},
     "output_type": "execute_result"
    }
   ],
   "source": [
    "history.history['val_loss']"
   ]
  },
  {
   "cell_type": "code",
   "execution_count": 35,
   "metadata": {
    "scrolled": true
   },
   "outputs": [
    {
     "data": {
      "text/plain": [
       "[0.6768137812614441,\n",
       " 0.8789741396903992,\n",
       " 0.896303117275238,\n",
       " 0.9030614495277405,\n",
       " 0.9056492447853088,\n",
       " 0.9074861407279968,\n",
       " 0.9088609218597412,\n",
       " 0.9083872437477112,\n",
       " 0.909253716468811,\n",
       " 0.9098082184791565,\n",
       " 0.909623384475708,\n",
       " 0.9103627800941467,\n",
       " 0.9108595252037048,\n",
       " 0.9108248353004456,\n",
       " 0.9108595252037048,\n",
       " 0.9112753868103027,\n",
       " 0.9114025235176086,\n",
       " 0.9112176299095154,\n",
       " 0.9117606282234192,\n",
       " 0.9118068218231201,\n",
       " 0.9117721915245056,\n",
       " 0.9118415117263794,\n",
       " 0.9122804999351501,\n",
       " 0.9126501679420471,\n",
       " 0.9118761420249939,\n",
       " 0.9128696918487549,\n",
       " 0.9127426147460938,\n",
       " 0.912823498249054,\n",
       " 0.9128119349479675,\n",
       " 0.912823498249054,\n",
       " 0.9126039743423462,\n",
       " 0.9132047295570374,\n",
       " 0.9132162928581238,\n",
       " 0.9132162928581238,\n",
       " 0.9135743975639343,\n",
       " 0.9134011268615723,\n",
       " 0.9136783480644226,\n",
       " 0.9140596389770508,\n",
       " 0.9133318066596985,\n",
       " 0.913666844367981,\n",
       " 0.9143484234809875,\n",
       " 0.9136437177658081]"
      ]
     },
     "execution_count": 35,
     "metadata": {},
     "output_type": "execute_result"
    }
   ],
   "source": [
    "history.history['accuracy']"
   ]
  },
  {
   "cell_type": "code",
   "execution_count": 36,
   "metadata": {},
   "outputs": [
    {
     "data": {
      "text/plain": [
       "[0.8626219034194946,\n",
       " 0.8968624472618103,\n",
       " 0.9031468033790588,\n",
       " 0.9054572582244873,\n",
       " 0.906704843044281,\n",
       " 0.9073055982589722,\n",
       " 0.9076290130615234,\n",
       " 0.9082297682762146,\n",
       " 0.9079062938690186,\n",
       " 0.9083221554756165,\n",
       " 0.9087842702865601,\n",
       " 0.909153938293457,\n",
       " 0.9092463254928589,\n",
       " 0.9096621870994568,\n",
       " 0.9102166891098022,\n",
       " 0.9092925190925598,\n",
       " 0.9078601002693176,\n",
       " 0.9094773530960083,\n",
       " 0.910586416721344,\n",
       " 0.9103091359138489,\n",
       " 0.9094773530960083,\n",
       " 0.9101704955101013,\n",
       " 0.9101243019104004,\n",
       " 0.9098008275032043,\n",
       " 0.9094773530960083,\n",
       " 0.909523606300354,\n",
       " 0.9098008275032043,\n",
       " 0.9097084403038025,\n",
       " 0.909523606300354,\n",
       " 0.9100781083106995,\n",
       " 0.910262942314148,\n",
       " 0.9099394679069519,\n",
       " 0.9096159934997559,\n",
       " 0.9098470211029053,\n",
       " 0.9101704955101013,\n",
       " 0.9097546339035034,\n",
       " 0.9097546339035034,\n",
       " 0.9097546339035034,\n",
       " 0.9108636379241943,\n",
       " 0.9096621870994568,\n",
       " 0.908460795879364,\n",
       " 0.9080449342727661]"
      ]
     },
     "execution_count": 36,
     "metadata": {},
     "output_type": "execute_result"
    }
   ],
   "source": [
    "history.history['val_accuracy']"
   ]
  },
  {
   "cell_type": "code",
   "execution_count": 37,
   "metadata": {
    "jupyter": {
     "outputs_hidden": false
    },
    "pycharm": {
     "name": "#%%\n"
    }
   },
   "outputs": [
    {
     "name": "stdout",
     "output_type": "stream",
     "text": [
      "27/27 [==============================] - 1s 22ms/step - loss: 0.2218 - accuracy: 0.9167\n"
     ]
    },
    {
     "data": {
      "text/plain": [
       "[0.22175399959087372, 0.9166574478149414]"
      ]
     },
     "execution_count": 37,
     "metadata": {},
     "output_type": "execute_result"
    }
   ],
   "source": [
    "model.evaluate(x_test_scaled, y_test, batch_size=4096)"
   ]
  },
  {
   "cell_type": "code",
   "execution_count": 38,
   "metadata": {
    "colab": {
     "base_uri": "https://localhost:8080/",
     "height": 52
    },
    "executionInfo": {
     "elapsed": 2171,
     "status": "ok",
     "timestamp": 1602697903973,
     "user": {
      "displayName": "Lorenzo Uboldi",
      "photoUrl": "",
      "userId": "12025999408021597208"
     },
     "user_tz": -120
    },
    "id": "8ErHxak3gmMc",
    "outputId": "6dd2309f-6cf0-4d2c-b194-03a61962813a"
   },
   "outputs": [],
   "source": [
    "#model.evaluate(es_x_test_scaled, es_y_test, batch_size=4096)"
   ]
  },
  {
   "cell_type": "code",
   "execution_count": 39,
   "metadata": {},
   "outputs": [],
   "source": [
    "x_train_ = x_train_scaled\n",
    "y_train_ = y_train\n",
    "\n",
    "x_valid_ = x_valid_scaled\n",
    "y_valid_ = y_valid\n"
   ]
  },
  {
   "cell_type": "markdown",
   "metadata": {},
   "source": [
    "# Train"
   ]
  },
  {
   "cell_type": "code",
   "execution_count": 40,
   "metadata": {},
   "outputs": [
    {
     "name": "stdout",
     "output_type": "stream",
     "text": [
      "22/22 [==============================] - 1s 32ms/step\n",
      "CPU times: user 5.75 s, sys: 786 ms, total: 6.54 s\n",
      "Wall time: 1.03 s\n"
     ]
    }
   ],
   "source": [
    "%%time\n",
    "%matplotlib inline\n",
    "import seaborn as sns\n",
    "infer = model.predict(x_train_, batch_size=4096)"
   ]
  },
  {
   "cell_type": "code",
   "execution_count": 41,
   "metadata": {},
   "outputs": [
    {
     "data": {
      "text/plain": [
       "<AxesSubplot:>"
      ]
     },
     "execution_count": 41,
     "metadata": {},
     "output_type": "execute_result"
    },
    {
     "data": {
      "image/png": "[encoded data removed]",
      "text/plain": [
       "<Figure size 432x288 with 2 Axes>"
      ]
     },
     "metadata": {
      "needs_background": "light"
     },
     "output_type": "display_data"
    }
   ],
   "source": [
    "from sklearn.metrics import confusion_matrix, ConfusionMatrixDisplay\n",
    "cm = confusion_matrix(y_train_, infer>0.5)\n",
    "sns.heatmap(cm, annot=True)"
   ]
  },
  {
   "cell_type": "code",
   "execution_count": 42,
   "metadata": {},
   "outputs": [
    {
     "data": {
      "text/plain": [
       "<AxesSubplot:>"
      ]
     },
     "execution_count": 42,
     "metadata": {},
     "output_type": "execute_result"
    },
    {
     "data": {
      "image/png": "[encoded data removed]",
      "text/plain": [
       "<Figure size 432x288 with 2 Axes>"
      ]
     },
     "metadata": {
      "needs_background": "light"
     },
     "output_type": "display_data"
    }
   ],
   "source": [
    "from sklearn.metrics import confusion_matrix\n",
    "cm2 = confusion_matrix(y_train_, infer>0.9)\n",
    "sns.heatmap(cm2, annot=True)"
   ]
  },
  {
   "cell_type": "code",
   "execution_count": 43,
   "metadata": {},
   "outputs": [],
   "source": [
    "from sklearn.metrics import roc_curve\n",
    "fpr_keras, tpr_keras, thresholds_keras = roc_curve(y_train_, infer)"
   ]
  },
  {
   "cell_type": "code",
   "execution_count": 44,
   "metadata": {},
   "outputs": [],
   "source": [
    "from sklearn.metrics import auc\n",
    "auc_keras = auc(fpr_keras, tpr_keras)"
   ]
  },
  {
   "cell_type": "code",
   "execution_count": 45,
   "metadata": {},
   "outputs": [],
   "source": [
    "np.save(\"results/false_positive_V_train\", fpr_keras)\n",
    "np.save(\"results/true_positive_V_train\", tpr_keras)\n",
    "np.save(\"results/thresholds_V_train\", thresholds_keras)"
   ]
  },
  {
   "cell_type": "code",
   "execution_count": 46,
   "metadata": {},
   "outputs": [],
   "source": [
    "from sklearn.metrics import auc\n",
    "auc_keras = auc(fpr_keras, tpr_keras)"
   ]
  },
  {
   "cell_type": "markdown",
   "metadata": {},
   "source": [
    "# Valid"
   ]
  },
  {
   "cell_type": "code",
   "execution_count": 47,
   "metadata": {},
   "outputs": [
    {
     "name": "stdout",
     "output_type": "stream",
     "text": [
      "6/6 [==============================] - 0s 25ms/step\n",
      "CPU times: user 1.15 s, sys: 123 ms, total: 1.27 s\n",
      "Wall time: 214 ms\n"
     ]
    }
   ],
   "source": [
    "%%time\n",
    "infer = model.predict(x_valid_, batch_size=4096)"
   ]
  },
  {
   "cell_type": "code",
   "execution_count": 48,
   "metadata": {},
   "outputs": [
    {
     "data": {
      "image/png": "[encoded data removed]",
      "text/plain": [
       "<Figure size 432x288 with 2 Axes>"
      ]
     },
     "metadata": {
      "needs_background": "light"
     },
     "output_type": "display_data"
    }
   ],
   "source": [
    "from sklearn.metrics import confusion_matrix\n",
    "cmv = confusion_matrix(y_valid_, infer>0.5)\n",
    "sns.heatmap(cmv, annot=True)\n",
    "plt.show()"
   ]
  },
  {
   "cell_type": "code",
   "execution_count": 49,
   "metadata": {},
   "outputs": [
    {
     "data": {
      "text/plain": [
       "<AxesSubplot:>"
      ]
     },
     "execution_count": 49,
     "metadata": {},
     "output_type": "execute_result"
    },
    {
     "data": {
      "image/png": "[encoded data removed]",
      "text/plain": [
       "<Figure size 432x288 with 2 Axes>"
      ]
     },
     "metadata": {
      "needs_background": "light"
     },
     "output_type": "display_data"
    }
   ],
   "source": [
    "from sklearn.metrics import confusion_matrix\n",
    "cmv2 = confusion_matrix(y_valid_, infer>0.9)\n",
    "sns.heatmap(cmv2, annot=True)"
   ]
  },
  {
   "cell_type": "code",
   "execution_count": 50,
   "metadata": {},
   "outputs": [],
   "source": [
    "from sklearn.metrics import roc_curve\n",
    "fpr_keras, tpr_keras, thresholds_keras = roc_curve(y_valid_, infer)"
   ]
  },
  {
   "cell_type": "code",
   "execution_count": 51,
   "metadata": {},
   "outputs": [],
   "source": [
    "np.save(\"results/false_positive_V_valid\", fpr_keras)\n",
    "np.save(\"results/true_positive_V_valid\", tpr_keras)\n",
    "np.save(\"results/thresholds_V_valid\", thresholds_keras)"
   ]
  },
  {
   "cell_type": "code",
   "execution_count": 52,
   "metadata": {},
   "outputs": [
    {
     "data": {
      "text/plain": [
       "[<matplotlib.lines.Line2D at 0x7fdc19ba37c0>]"
      ]
     },
     "execution_count": 52,
     "metadata": {},
     "output_type": "execute_result"
    },
    {
     "data": {
      "image/png": "[encoded data removed]",
      "text/plain": [
       "<Figure size 432x288 with 1 Axes>"
      ]
     },
     "metadata": {
      "needs_background": "light"
     },
     "output_type": "display_data"
    }
   ],
   "source": [
    "plt.plot(fpr_keras, tpr_keras)"
   ]
  },
  {
   "cell_type": "markdown",
   "metadata": {},
   "source": [
    "# test"
   ]
  },
  {
   "cell_type": "code",
   "execution_count": 53,
   "metadata": {},
   "outputs": [
    {
     "name": "stdout",
     "output_type": "stream",
     "text": [
      "27/27 [==============================] - 1s 22ms/step\n"
     ]
    }
   ],
   "source": [
    "#%%time\n",
    "#cc_infer = model.predict(cc_x_test_scaled, batch_size=4096)\n",
    "#es_infer = model.predict(es_x_test_scaled, batch_size=4096)\n",
    "all_infer = model.predict(x_test_scaled, batch_size=4096)\n",
    "all_y_test = y_test\n"
   ]
  },
  {
   "cell_type": "code",
   "execution_count": 54,
   "metadata": {},
   "outputs": [],
   "source": [
    "from sklearn.metrics import confusion_matrix\n",
    "#cc1 = confusion_matrix(cc_y_test, cc_infer>0.5)\n",
    "#sns.heatmap(cc1, annot=True)"
   ]
  },
  {
   "cell_type": "code",
   "execution_count": 55,
   "metadata": {},
   "outputs": [],
   "source": [
    "#es1 = confusion_matrix(es_y_test, es_infer>0.5)\n",
    "#sns.heatmap(es1, annot=True)"
   ]
  },
  {
   "cell_type": "code",
   "execution_count": 56,
   "metadata": {},
   "outputs": [
    {
     "data": {
      "image/png": "[encoded data removed]",
      "text/plain": [
       "<Figure size 432x288 with 2 Axes>"
      ]
     },
     "metadata": {
      "needs_background": "light"
     },
     "output_type": "display_data"
    }
   ],
   "source": [
    "all1 = confusion_matrix(all_y_test, all_infer>0.5)\n",
    "sns.heatmap(all1, annot=True)\n",
    "plt.title(\"Confusion Matrix - Test Dataset Plane \" + wireplane)\n",
    "plt.xlabel(\"Predicted Class (>0.5)\")\n",
    "plt.ylabel(\"True Class\")\n",
    "plt.show()"
   ]
  },
  {
   "cell_type": "code",
   "execution_count": 57,
   "metadata": {},
   "outputs": [],
   "source": [
    "from sklearn.metrics import confusion_matrix\n",
    "#cc2 = confusion_matrix(cc_y_test, cc_infer>0.9)\n",
    "#sns.heatmap(cc2, annot=True)"
   ]
  },
  {
   "cell_type": "code",
   "execution_count": 58,
   "metadata": {},
   "outputs": [],
   "source": [
    "#es2 = confusion_matrix(es_y_test, es_infer>0.9)\n",
    "#sns.heatmap(es2, annot=True)"
   ]
  },
  {
   "cell_type": "code",
   "execution_count": 59,
   "metadata": {},
   "outputs": [
    {
     "data": {
      "image/png": "[encoded data removed]",
      "text/plain": [
       "<Figure size 432x288 with 2 Axes>"
      ]
     },
     "metadata": {
      "needs_background": "light"
     },
     "output_type": "display_data"
    }
   ],
   "source": [
    "all2 = confusion_matrix(all_y_test, all_infer>0.9)\n",
    "sns.heatmap(all2, annot=True)\n",
    "plt.title(\"Confusion Matrix - Test Dataset Plane \" + wireplane)\n",
    "plt.xlabel(\"Predicted Class (>0.9)\")\n",
    "plt.ylabel(\"True Class\")\n",
    "plt.show()"
   ]
  },
  {
   "cell_type": "code",
   "execution_count": 60,
   "metadata": {},
   "outputs": [],
   "source": [
    "from sklearn.metrics import roc_curve\n",
    "#fpr_keras, tpr_keras, thresholds_keras = roc_curve(cc_y_test, cc_infer)\n",
    "#plt.plot(fpr_keras, tpr_keras)"
   ]
  },
  {
   "cell_type": "code",
   "execution_count": 61,
   "metadata": {},
   "outputs": [],
   "source": [
    "#fpr_keras, tpr_keras, thresholds_keras = roc_curve(es_y_test, es_infer)\n",
    "#plt.plot(fpr_keras, tpr_keras)"
   ]
  },
  {
   "cell_type": "code",
   "execution_count": 62,
   "metadata": {},
   "outputs": [
    {
     "data": {
      "image/png": "[encoded data removed]",
      "text/plain": [
       "<Figure size 432x288 with 1 Axes>"
      ]
     },
     "metadata": {
      "needs_background": "light"
     },
     "output_type": "display_data"
    }
   ],
   "source": [
    "fpr_keras, tpr_keras, thresholds_keras = roc_curve(all_y_test, all_infer)\n",
    "plt.plot(fpr_keras, tpr_keras)\n",
    "plt.title(\"ROC Curve - Test Dataset Plane \" + wireplane)\n",
    "plt.xlabel(\"False Positive Rate\")\n",
    "plt.ylabel(\"True Positive Rate\")\n",
    "plt.show()"
   ]
  },
  {
   "cell_type": "code",
   "execution_count": 63,
   "metadata": {},
   "outputs": [],
   "source": [
    "np.save(\"results/false_positive_V_test\", fpr_keras)\n",
    "np.save(\"results/true_positive_V_test\", tpr_keras)\n",
    "np.save(\"results/thresholds_V_test\", thresholds_keras)"
   ]
  },
  {
   "cell_type": "code",
   "execution_count": 64,
   "metadata": {},
   "outputs": [],
   "source": [
    "#plt.hist(cc_infer, bins = 100);"
   ]
  },
  {
   "cell_type": "code",
   "execution_count": 65,
   "metadata": {},
   "outputs": [],
   "source": [
    "#plt.hist(es_infer, bins = 100);"
   ]
  },
  {
   "cell_type": "code",
   "execution_count": 66,
   "metadata": {},
   "outputs": [
    {
     "data": {
      "image/png": "[encoded data removed]",
      "text/plain": [
       "<Figure size 432x288 with 1 Axes>"
      ]
     },
     "metadata": {
      "needs_background": "light"
     },
     "output_type": "display_data"
    }
   ],
   "source": [
    "plt.hist(all_infer, bins = 100);"
   ]
  },
  {
   "cell_type": "code",
   "execution_count": 67,
   "metadata": {},
   "outputs": [
    {
     "name": "stdout",
     "output_type": "stream",
     "text": [
      "14/14 [==============================] - 0s 22ms/step\n",
      "14/14 [==============================] - 0s 21ms/step\n",
      "CPU times: user 4.53 s, sys: 580 ms, total: 5.11 s\n",
      "Wall time: 837 ms\n"
     ]
    }
   ],
   "source": [
    "%%time\n",
    "#cc_infer_signal = model.predict(cc_x_test_scaled[cc_y_test==1], batch_size=4096)\n",
    "#cc_infer_noise = model.predict(cc_x_test_scaled[cc_y_test==0], batch_size=4096)\n",
    "#es_infer_signal = model.predict(es_x_test_scaled[es_y_test==1], batch_size=4096)\n",
    "#es_infer_noise = model.predict(es_x_test_scaled[es_y_test==0], batch_size=4096)\n",
    "all_infer_signal = model.predict(x_test_scaled[y_test==1], batch_size=4096)\n",
    "all_infer_noise = model.predict(x_test_scaled[y_test==0], batch_size=4096)"
   ]
  },
  {
   "cell_type": "code",
   "execution_count": 68,
   "metadata": {},
   "outputs": [],
   "source": [
    "#plt.hist(cc_infer_noise, range = (0,1), bins=20)"
   ]
  },
  {
   "cell_type": "code",
   "execution_count": 69,
   "metadata": {},
   "outputs": [],
   "source": [
    "#plt.hist(es_infer_noise, range = (0,1), bins=20)"
   ]
  },
  {
   "cell_type": "code",
   "execution_count": 70,
   "metadata": {},
   "outputs": [
    {
     "data": {
      "text/plain": [
       "(array([  156., 29125., 13103.,  4632.,  2237.,  1338.,   927.,   576.,\n",
       "          492.,   341.,   253.,   234.,   194.,   147.,   127.,   134.,\n",
       "           86.,    84.,    73.,    41.]),\n",
       " array([0.  , 0.05, 0.1 , 0.15, 0.2 , 0.25, 0.3 , 0.35, 0.4 , 0.45, 0.5 ,\n",
       "        0.55, 0.6 , 0.65, 0.7 , 0.75, 0.8 , 0.85, 0.9 , 0.95, 1.  ],\n",
       "       dtype=float32),\n",
       " <BarContainer object of 20 artists>)"
      ]
     },
     "execution_count": 70,
     "metadata": {},
     "output_type": "execute_result"
    },
    {
     "data": {
      "image/png": "[encoded data removed]",
      "text/plain": [
       "<Figure size 432x288 with 1 Axes>"
      ]
     },
     "metadata": {
      "needs_background": "light"
     },
     "output_type": "display_data"
    }
   ],
   "source": [
    "plt.hist(all_infer_noise, range = (0,1), bins=20)"
   ]
  },
  {
   "cell_type": "code",
   "execution_count": 71,
   "metadata": {},
   "outputs": [],
   "source": [
    "#plt.hist(cc_infer_signal, range = (0,1), bins=20)"
   ]
  },
  {
   "cell_type": "code",
   "execution_count": 72,
   "metadata": {},
   "outputs": [],
   "source": [
    "#plt.hist(es_infer_signal, range = (0,1), bins=20)"
   ]
  },
  {
   "cell_type": "code",
   "execution_count": 73,
   "metadata": {},
   "outputs": [
    {
     "data": {
      "text/plain": [
       "(array([6.0000e+00, 2.2270e+03, 1.8650e+03, 9.6300e+02, 7.0800e+02,\n",
       "        5.3500e+02, 4.0700e+02, 3.3900e+02, 3.2100e+02, 3.0700e+02,\n",
       "        2.8300e+02, 2.4200e+02, 3.1400e+02, 2.5100e+02, 3.0600e+02,\n",
       "        2.9800e+02, 3.4200e+02, 4.7000e+02, 7.1200e+02, 4.3404e+04]),\n",
       " array([0.  , 0.05, 0.1 , 0.15, 0.2 , 0.25, 0.3 , 0.35, 0.4 , 0.45, 0.5 ,\n",
       "        0.55, 0.6 , 0.65, 0.7 , 0.75, 0.8 , 0.85, 0.9 , 0.95, 1.  ],\n",
       "       dtype=float32),\n",
       " <BarContainer object of 20 artists>)"
      ]
     },
     "execution_count": 73,
     "metadata": {},
     "output_type": "execute_result"
    },
    {
     "data": {
      "image/png": "[encoded data removed]",
      "text/plain": [
       "<Figure size 432x288 with 1 Axes>"
      ]
     },
     "metadata": {
      "needs_background": "light"
     },
     "output_type": "display_data"
    }
   ],
   "source": [
    "plt.hist(all_infer_signal, range = (0,1), bins=20)"
   ]
  },
  {
   "cell_type": "markdown",
   "metadata": {},
   "source": [
    "## HLS4ML \n"
   ]
  },
  {
   "cell_type": "code",
   "execution_count": 74,
   "metadata": {},
   "outputs": [
    {
     "name": "stderr",
     "output_type": "stream",
     "text": [
      "/home/sayala/miniconda3/envs/hls4ml-tutorial/lib/python3.8/site-packages/hls4ml/converters/__init__.py:16: UserWarning: WARNING: Pytorch converter is not enabled!\n",
      "  warnings.warn(\"WARNING: Pytorch converter is not enabled!\")\n"
     ]
    }
   ],
   "source": [
    "import hls4ml"
   ]
  },
  {
   "cell_type": "code",
   "execution_count": 75,
   "metadata": {},
   "outputs": [],
   "source": [
    "load_model = tf.keras.models.load_model('models/uplane_nu.h5')"
   ]
  },
  {
   "cell_type": "code",
   "execution_count": 76,
   "metadata": {},
   "outputs": [],
   "source": [
    "# config = hls4ml.utils.config_from_keras_model(load_model, granularity='name')\n",
    "# config['IOType'] = 'io_stream'\n",
    "# print(config)"
   ]
  },
  {
   "cell_type": "code",
   "execution_count": 77,
   "metadata": {},
   "outputs": [
    {
     "name": "stdout",
     "output_type": "stream",
     "text": [
      "Model: \"sequential\"\n",
      "_________________________________________________________________\n",
      " Layer (type)                Output Shape              Param #   \n",
      "=================================================================\n",
      " conv1d (Conv1D)             (None, 99, 16)            64        \n",
      "                                                                 \n",
      " max_pooling1d (MaxPooling1D  (None, 49, 16)           0         \n",
      " )                                                               \n",
      "                                                                 \n",
      " conv1d_1 (Conv1D)           (None, 23, 32)            2592      \n",
      "                                                                 \n",
      " max_pooling1d_1 (MaxPooling  (None, 11, 32)           0         \n",
      " 1D)                                                             \n",
      "                                                                 \n",
      " dropout (Dropout)           (None, 11, 32)            0         \n",
      "                                                                 \n",
      " conv1d_2 (Conv1D)           (None, 3, 64)             18496     \n",
      "                                                                 \n",
      " global_max_pooling1d (Globa  (None, 64)               0         \n",
      " lMaxPooling1D)                                                  \n",
      "                                                                 \n",
      " dropout_1 (Dropout)         (None, 64)                0         \n",
      "                                                                 \n",
      " flatten (Flatten)           (None, 64)                0         \n",
      "                                                                 \n",
      " wavrec_out (Dense)          (None, 1)                 65        \n",
      "                                                                 \n",
      "=================================================================\n",
      "Total params: 21,217\n",
      "Trainable params: 21,217\n",
      "Non-trainable params: 0\n",
      "_________________________________________________________________\n"
     ]
    }
   ],
   "source": [
    "load_model.summary()"
   ]
  },
  {
   "cell_type": "code",
   "execution_count": 78,
   "metadata": {},
   "outputs": [],
   "source": [
    "# cfg = hls4ml.converters.create_config(backend='Vivado')\n",
    "# cfg['IOType']     = 'io_stream' # Must set this if using CNNs!\n",
    "# cfg['HLSConfig']  = config\n",
    "# cfg['KerasModel'] = load_model\n",
    "# # cfg['OutputDir']  = 'model1/'\n",
    "# cfg['XilinxPart'] = 'xcu250-figd2104-2L-e'"
   ]
  },
  {
   "cell_type": "code",
   "execution_count": 79,
   "metadata": {},
   "outputs": [
    {
     "name": "stdout",
     "output_type": "stream",
     "text": [
      "Interpreting Sequential\n",
      "Topology:\n",
      "Layer name: conv1d_input, layer type: Input\n",
      "Layer name: conv1d, layer type: Conv1D\n",
      "  -> Activation (relu), layer name: conv1d\n",
      "Layer name: max_pooling1d, layer type: MaxPooling1D\n",
      "Layer name: conv1d_1, layer type: Conv1D\n",
      "  -> Activation (relu), layer name: conv1d_1\n",
      "Layer name: max_pooling1d_1, layer type: MaxPooling1D\n",
      "Layer name: conv1d_2, layer type: Conv1D\n",
      "  -> Activation (relu), layer name: conv1d_2\n",
      "Layer name: global_max_pooling1d, layer type: GlobalMaxPooling1D\n",
      "Layer name: wavrec_out, layer type: Dense\n",
      "  -> Activation (sigmoid), layer name: wavrec_out\n",
      "{'Model': {'Precision': 'ap_fixed<16,6>', 'ReuseFactor': 1, 'Strategy': 'Resource'}, 'LayerName': {'conv1d_input': {'Precision': {'result': 'ap_fixed<16,6>'}, 'ReuseFactor': 48, 'ConvImplementation': 'encoded'}, 'conv1d': {'Precision': {'weight': 'ap_fixed<16,6>', 'bias': 'ap_fixed<16,6>', 'result': 'ap_fixed<16,6>'}, 'ReuseFactor': 48, 'ConvImplementation': 'encoded'}, 'conv1d_relu': {'Precision': 'ap_fixed<16,6>', 'ReuseFactor': 48, 'table_size': 1024, 'table_t': 'ap_fixed<18,8>', 'ConvImplementation': 'encoded'}, 'max_pooling1d': {'Precision': 'ap_fixed<16,6>', 'ReuseFactor': 48, 'ConvImplementation': 'encoded'}, 'conv1d_1': {'Precision': {'weight': 'ap_fixed<16,6>', 'bias': 'ap_fixed<16,6>', 'result': 'ap_fixed<16,6>'}, 'ReuseFactor': 48, 'ConvImplementation': 'encoded'}, 'conv1d_1_relu': {'Precision': 'ap_fixed<16,6>', 'ReuseFactor': 48, 'table_size': 1024, 'table_t': 'ap_fixed<18,8>', 'ConvImplementation': 'encoded'}, 'max_pooling1d_1': {'Precision': 'ap_fixed<16,6>', 'ReuseFactor': 48, 'ConvImplementation': 'encoded'}, 'conv1d_2': {'Precision': {'weight': 'ap_fixed<16,6>', 'bias': 'ap_fixed<16,6>', 'result': 'ap_fixed<16,6>'}, 'ReuseFactor': 48, 'ConvImplementation': 'encoded'}, 'conv1d_2_relu': {'Precision': 'ap_fixed<16,6>', 'ReuseFactor': 48, 'table_size': 1024, 'table_t': 'ap_fixed<18,8>', 'ConvImplementation': 'encoded'}, 'global_max_pooling1d': {'Precision': 'ap_fixed<16,6>', 'ReuseFactor': 48, 'ConvImplementation': 'encoded'}, 'wavrec_out': {'Precision': {'weight': 'ap_fixed<16,6>', 'bias': 'ap_fixed<16,6>', 'result': 'ap_fixed<16,6>'}, 'ReuseFactor': 48, 'ConvImplementation': 'encoded'}, 'wavrec_out_sigmoid': {'Precision': 'ap_fixed<16,6>', 'ReuseFactor': 48, 'table_size': 1024, 'table_t': 'ap_fixed<18,8>', 'ConvImplementation': 'encoded'}}}\n"
     ]
    }
   ],
   "source": [
    "from qkeras.utils import _add_supported_quantized_objects\n",
    "\n",
    "co= {}\n",
    "_add_supported_quantized_objects(co)\n",
    "\n",
    "config = hls4ml.utils.config_from_keras_model(model, granularity='name')\n",
    "config[\"Model\"][\"Strategy\"] = 'Resource'\n",
    "#config[\"LayerName\"]['Conv_1_input']['Precision'] = 'ap_uint<32>'\n",
    "for layer in config[\"LayerName\"]:\n",
    "    config[\"LayerName\"][layer]['ReuseFactor'] = 16\n",
    "    config[\"LayerName\"][layer][\"ConvImplementation\"] = \"encoded\"\n",
    "    \n",
    "print(config)"
   ]
  },
  {
   "cell_type": "code",
   "execution_count": 80,
   "metadata": {},
   "outputs": [],
   "source": [
    "# # hls_model = hls4ml.converters.keras_to_hls(cfg)\n",
    "# hls_model = hls4ml.converters.keras_to_hls(cfg)\n"
   ]
  },
  {
   "cell_type": "code",
   "execution_count": 81,
   "metadata": {},
   "outputs": [
    {
     "name": "stdout",
     "output_type": "stream",
     "text": [
      "Interpreting Sequential\n",
      "Topology:\n",
      "Layer name: conv1d_input, layer type: InputLayer, input shapes: [[None, 200, 1]], output shape: [None, 200, 1]\n",
      "Layer name: conv1d, layer type: Conv1D, input shapes: [[None, 200, 1]], output shape: [None, 99, 16]\n",
      "Layer name: max_pooling1d, layer type: MaxPooling1D, input shapes: [[None, 99, 16]], output shape: [None, 49, 16]\n",
      "Layer name: conv1d_1, layer type: Conv1D, input shapes: [[None, 49, 16]], output shape: [None, 23, 32]\n",
      "Layer name: max_pooling1d_1, layer type: MaxPooling1D, input shapes: [[None, 23, 32]], output shape: [None, 11, 32]\n",
      "Layer name: conv1d_2, layer type: Conv1D, input shapes: [[None, 11, 32]], output shape: [None, 3, 64]\n",
      "Layer name: global_max_pooling1d, layer type: GlobalMaxPooling1D, input shapes: [[None, 3, 64]], output shape: [None, 64]\n",
      "Layer name: flatten, layer type: Reshape, input shapes: [[None, 64]], output shape: [None, 64]\n",
      "Layer name: wavrec_out, layer type: Dense, input shapes: [[None, 64]], output shape: [None, 1]\n",
      "Creating HLS model\n",
      "WARNING: Invalid ReuseFactor=48 with \"Resource\" strategy in layer \"conv1d_1\". Using ReuseFactor=40 instead. Valid ReuseFactor(s): 2,4,5,8,10,16,20,40,80,160,320,640,1280,2560.\n",
      "WARNING: Invalid ReuseFactor=48 with \"Resource\" strategy in layer \"wavrec_out\". Using ReuseFactor=32 instead. Valid ReuseFactor(s): 2,4,8,16,32,64.\n"
     ]
    }
   ],
   "source": [
    "hls_model = hls4ml.converters.convert_from_keras_model(model,\n",
    "                                                       hls_config=config,\n",
    "                                                       io_type='io_stream',\n",
    "                                                       output_dir='uplane-test',\n",
    "                                                       part='xc7vx690t-ffg1761-2',\n",
    "                                                       clock_period=3.33,\n",
    "                                                       #project_name='vplane'\n",
    "                                                      )"
   ]
  },
  {
   "cell_type": "code",
   "execution_count": 82,
   "metadata": {},
   "outputs": [
    {
     "name": "stdout",
     "output_type": "stream",
     "text": [
      "Writing HLS project\n",
      "Done\n",
      "Model: \"sequential\"\n",
      "_________________________________________________________________\n",
      " Layer (type)                Output Shape              Param #   \n",
      "=================================================================\n",
      " conv1d (Conv1D)             (None, 99, 16)            64        \n",
      "                                                                 \n",
      " max_pooling1d (MaxPooling1D  (None, 49, 16)           0         \n",
      " )                                                               \n",
      "                                                                 \n",
      " conv1d_1 (Conv1D)           (None, 23, 32)            2592      \n",
      "                                                                 \n",
      " max_pooling1d_1 (MaxPooling  (None, 11, 32)           0         \n",
      " 1D)                                                             \n",
      "                                                                 \n",
      " dropout (Dropout)           (None, 11, 32)            0         \n",
      "                                                                 \n",
      " conv1d_2 (Conv1D)           (None, 3, 64)             18496     \n",
      "                                                                 \n",
      " global_max_pooling1d (Globa  (None, 64)               0         \n",
      " lMaxPooling1D)                                                  \n",
      "                                                                 \n",
      " dropout_1 (Dropout)         (None, 64)                0         \n",
      "                                                                 \n",
      " flatten (Flatten)           (None, 64)                0         \n",
      "                                                                 \n",
      " wavrec_out (Dense)          (None, 1)                 65        \n",
      "                                                                 \n",
      "=================================================================\n",
      "Total params: 21,217\n",
      "Trainable params: 21,217\n",
      "Non-trainable params: 0\n",
      "_________________________________________________________________\n"
     ]
    }
   ],
   "source": [
    "hls_model.compile()\n",
    "model.summary()"
   ]
  },
  {
   "cell_type": "code",
   "execution_count": 83,
   "metadata": {
    "scrolled": true
   },
   "outputs": [
    {
     "name": "stdout",
     "output_type": "stream",
     "text": [
      "\n",
      "****** Vivado(TM) HLS - High-Level Synthesis from C, C++ and SystemC v2019.2 (64-bit)\n",
      "  **** SW Build 2708876 on Wed Nov  6 21:39:14 MST 2019\n",
      "  **** IP Build 2700528 on Thu Nov  7 00:09:20 MST 2019\n",
      "    ** Copyright 1986-2019 Xilinx, Inc. All Rights Reserved.\n",
      "\n",
      "source /tools/Xilinx/Vivado/2019.2/scripts/vivado_hls/hls.tcl -notrace\n",
      "INFO: [HLS 200-10] Running '/tools/Xilinx/Vivado/2019.2/bin/unwrapped/lnx64.o/vivado_hls'\n",
      "INFO: [HLS 200-10] For user 'sayala' on host 'Steph_Laptop.localdomain' (Linux_x86_64 version 5.10.16.3-microsoft-standard-WSL2) on Tue Jan 10 13:40:07 PST 2023\n",
      "INFO: [HLS 200-10] On os Ubuntu 18.04.6 LTS\n",
      "INFO: [HLS 200-10] In directory '/home/sayala/hls4ml-tutorial/Neutrino_Detector/Dune_1DCNN/lartpc-dune-1dcnn-main/LArTPC_Training_Notebooks/Neutrino_Trained/uplane-test'\n",
      "Sourcing Tcl script 'build_prj.tcl'\n",
      "INFO: [HLS 200-10] Creating and opening project '/home/sayala/hls4ml-tutorial/Neutrino_Detector/Dune_1DCNN/lartpc-dune-1dcnn-main/LArTPC_Training_Notebooks/Neutrino_Trained/uplane-test/myproject_prj'.\n",
      "INFO: [HLS 200-10] Adding design file 'firmware/myproject.cpp' to the project\n",
      "INFO: [HLS 200-10] Adding test bench file 'myproject_test.cpp' to the project\n",
      "INFO: [HLS 200-10] Adding test bench file 'firmware/weights' to the project\n",
      "INFO: [HLS 200-10] Adding test bench file 'tb_data' to the project\n",
      "INFO: [HLS 200-10] Creating and opening solution '/home/sayala/hls4ml-tutorial/Neutrino_Detector/Dune_1DCNN/lartpc-dune-1dcnn-main/LArTPC_Training_Notebooks/Neutrino_Trained/uplane-test/myproject_prj/solution1'.\n",
      "INFO: [XFORM 203-101] Allowed max sub elements number after partition is 4096.\n",
      "INFO: [XFORM 203-1161] The maximum of name length is set into 60.\n",
      "INFO: [HLS 200-10] Setting target device to 'xc7vx690t-ffg1761-2'\n",
      "INFO: [SYN 201-201] Setting up clock 'default' with a period of 3.33ns.\n",
      "***** C/RTL SYNTHESIS *****\n",
      "INFO: [SCHED 204-61] Option 'relax_ii_for_timing' is enabled, will increase II to preserve clock frequency constraints.\n",
      "INFO: [HLS 200-10] Analyzing design file 'firmware/myproject.cpp' ... \n",
      "WARNING: [HLS 214-114] Since the only kind of statements allowed in a canonical dataflow region are variable declarations and function calls, the compiler may not be able to correctly handle the region: firmware/nnet_utils/nnet_dense_latency.h:64:9\n",
      "WARNING: [HLS 214-114] Since the only kind of statements allowed in a canonical dataflow region are variable declarations and function calls, the compiler may not be able to correctly handle the region: firmware/nnet_utils/nnet_dense_latency.h:79:2\n",
      "WARNING: [HLS 214-104] Only for-loops and functions support the dataflow: firmware/nnet_utils/nnet_dense_latency.h:76:9\n",
      "WARNING: [HLS 214-113] Either use an argument of the function or declare the variable inside the dataflow loop body: firmware/myproject.cpp:62:73\n",
      "WARNING: [HLS 214-113] Either use an argument of the function or declare the variable inside the dataflow loop body: firmware/myproject.cpp:62:77\n",
      "WARNING: [HLS 214-113] Either use an argument of the function or declare the variable inside the dataflow loop body: firmware/myproject.cpp:74:72\n",
      "WARNING: [HLS 214-113] Either use an argument of the function or declare the variable inside the dataflow loop body: firmware/myproject.cpp:74:76\n",
      "WARNING: [HLS 214-113] Either use an argument of the function or declare the variable inside the dataflow loop body: firmware/myproject.cpp:86:72\n",
      "WARNING: [HLS 214-113] Either use an argument of the function or declare the variable inside the dataflow loop body: firmware/myproject.cpp:86:76\n",
      "WARNING: [HLS 214-113] Either use an argument of the function or declare the variable inside the dataflow loop body: firmware/myproject.cpp:98:72\n",
      "WARNING: [HLS 214-113] Either use an argument of the function or declare the variable inside the dataflow loop body: firmware/myproject.cpp:98:77\n",
      "WARNING: [HLS 214-114] Since the only kind of statements allowed in a canonical dataflow region are variable declarations and function calls, the compiler may not be able to correctly handle the region: firmware/myproject.cpp:35:2\n",
      "WARNING: [HLS 214-114] Since the only kind of statements allowed in a canonical dataflow region are variable declarations and function calls, the compiler may not be able to correctly handle the region: firmware/myproject.cpp:36:5\n",
      "WARNING: [HLS 200-471] Dataflow form checks found 13 issue(s) in file firmware/myproject.cpp\n",
      "INFO: [HLS 200-111] Finished Linking Time (s): cpu = 00:00:35 ; elapsed = 00:00:38 . Memory (MB): peak = 892.238 ; gain = 459.035 ; free physical = 10031 ; free virtual = 16178\n",
      "INFO: [HLS 200-111] Finished Checking Pragmas Time (s): cpu = 00:00:35 ; elapsed = 00:00:38 . Memory (MB): peak = 892.238 ; gain = 459.035 ; free physical = 10031 ; free virtual = 16178\n",
      "INFO: [HLS 200-10] Starting code transformations ...\n",
      "INFO: [HLS 200-489] Unrolling loop 'ResPack' (firmware/nnet_utils/nnet_dense_stream.h:60) in function 'void nnet::dense<nnet::array<ap_fixed<16, 6, (ap_q_mode)5, (ap_o_mode)3, 0>, 64u>, nnet::array<ap_fixed<16, 6, (ap_q_mode)5, (ap_o_mode)3, 0>, 1u>, config12>(hls::stream<FORWARD_REFERENCE>&, hls::stream<FORWARD_REFERENCE>&, FORWARD_REFERENCE::weight_t*, FORWARD_REFERENCE::bias_t*)' completely with a factor of 1.\n",
      "INFO: [HLS 200-489] Unrolling loop 'SigmoidPackLoop' (firmware/nnet_utils/nnet_activation_stream.h:103) in function 'void nnet::sigmoid<nnet::array<ap_fixed<16, 6, (ap_q_mode)5, (ap_o_mode)3, 0>, 1u>, nnet::array<ap_fixed<16, 6, (ap_q_mode)5, (ap_o_mode)3, 0>, 1u>, sigmoid_config13>(hls::stream<FORWARD_REFERENCE>&, hls::stream<FORWARD_REFERENCE>&)' completely with a factor of 1.\n",
      "INFO: [HLS 200-489] Unrolling loop 'InitAccum' (firmware/nnet_utils/nnet_dense_resource.h:58) in function 'void nnet::dense_resource_rf_leq_nin<ap_fixed<16, 6, (ap_q_mode)5, (ap_o_mode)3, 0>, ap_fixed<16, 6, (ap_q_mode)5, (ap_o_mode)3, 0>, config12>(FORWARD_REFERENCE*, FORWARD_REFERENCE*, FORWARD_REFERENCE::weight_t*, FORWARD_REFERENCE::bias_t*)' completely with a factor of 1.\n",
      "INFO: [HLS 200-489] Unrolling loop 'Result' (firmware/nnet_utils/nnet_dense_resource.h:97) in function 'void nnet::dense_resource_rf_leq_nin<ap_fixed<16, 6, (ap_q_mode)5, (ap_o_mode)3, 0>, ap_fixed<16, 6, (ap_q_mode)5, (ap_o_mode)3, 0>, config12>(FORWARD_REFERENCE*, FORWARD_REFERENCE*, FORWARD_REFERENCE::weight_t*, FORWARD_REFERENCE::bias_t*)' completely with a factor of 1.\n",
      "INFO: [HLS 200-489] Unrolling loop 'PixelLoop' (firmware/nnet_utils/nnet_pooling_stream.h:485) in function 'void nnet::compute_global_pool<nnet::array<ap_fixed<16, 6, (ap_q_mode)5, (ap_o_mode)3, 0>, 64u>, nnet::array<ap_fixed<16, 6, (ap_q_mode)5, (ap_o_mode)3, 0>, 64u>, config10>(FORWARD_REFERENCE const&, FORWARD_REFERENCE::accum_t*)' completely with a factor of 1.\n",
      "INFO: [HLS 200-489] Unrolling loop 'ComputeIndex' (firmware/nnet_utils/nnet_conv1d_stream.h:17) in function 'void nnet::compute_scaled_indices_1d<nnet::array<ap_fixed<16, 6, (ap_q_mode)5, (ap_o_mode)3, 0>, 32u>, config8>(unsigned int, ap_uint<FORWARD_REFERENCE::filt_width>*)' completely with a factor of 1.\n",
      "INFO: [HLS 200-489] Unrolling loop 'ComputeIndex' (firmware/nnet_utils/nnet_conv1d_stream.h:17) in function 'void nnet::compute_scaled_indices_1d<nnet::array<ap_fixed<16, 6, (ap_q_mode)5, (ap_o_mode)3, 0>, 16u>, config5>(unsigned int, ap_uint<FORWARD_REFERENCE::filt_width>*)' completely with a factor of 1.\n",
      "INFO: [HLS 200-489] Unrolling loop 'ComputeIndex' (firmware/nnet_utils/nnet_conv1d_stream.h:17) in function 'void nnet::compute_scaled_indices_1d<nnet::array<ap_fixed<16, 6, (ap_q_mode)5, (ap_o_mode)3, 0>, 1u>, config2>(unsigned int, ap_uint<FORWARD_REFERENCE::filt_width>*)' completely with a factor of 1.\n",
      "INFO: [HLS 200-489] Unrolling loop 'CopyDataChan' (firmware/nnet_utils/nnet_conv_stream.h:137) in function 'void nnet::compute_output_encoded<nnet::array<ap_fixed<16, 6, (ap_q_mode)5, (ap_o_mode)3, 0>, 1u>, nnet::array<ap_fixed<16, 6, (ap_q_mode)5, (ap_o_mode)3, 0>, 16u>, config2>(FORWARD_REFERENCE const&, hls::stream<FORWARD_REFERENCE::value_type>*, hls::stream<FORWARD_REFERENCE>&, FORWARD_REFERENCE&, unsigned int&, FORWARD_REFERENCE::weight_t*, FORWARD_REFERENCE::bias_t*, ap_uint<FORWARD_REFERENCE::kernel_size>*)' completely with a factor of 1.\n",
      "INFO: [HLS 200-489] Unrolling loop 'MultLoop' (firmware/nnet_utils/nnet_dense_resource.h:158) in function 'void nnet::dense_resource_rf_gt_nin_rem0<ap_fixed<16, 6, (ap_q_mode)5, (ap_o_mode)3, 0>, ap_fixed<16, 6, (ap_q_mode)5, (ap_o_mode)3, 0>, config2_mult>(FORWARD_REFERENCE*, FORWARD_REFERENCE*, FORWARD_REFERENCE::weight_t*, FORWARD_REFERENCE::bias_t*)' completely with a factor of 1.\n"
     ]
    },
    {
     "name": "stdout",
     "output_type": "stream",
     "text": [
      "INFO: [XFORM 203-603] Inlining function 'nnet::scale_index_K_gte_S<3u, 2u, 200u>' into 'nnet::scale_index<3u, 2u, 200u>' (firmware/nnet_utils/nnet_conv_stream.h:65).\n",
      "INFO: [XFORM 203-603] Inlining function 'nnet::scale_index<3u, 2u, 200u>' into 'nnet::compute_scaled_indices_1d<nnet::array<ap_fixed<16, 6, (ap_q_mode)5, (ap_o_mode)3, 0>, 1u>, config2>' (firmware/nnet_utils/nnet_conv1d_stream.h:20).\n",
      "INFO: [XFORM 203-603] Inlining function 'nnet::array<ap_fixed<16, 6, (ap_q_mode)5, (ap_o_mode)3, 0>, 1u>::operator[].1' into 'nnet::compute_output_encoded<nnet::array<ap_fixed<16, 6, (ap_q_mode)5, (ap_o_mode)3, 0>, 1u>, nnet::array<ap_fixed<16, 6, (ap_q_mode)5, (ap_o_mode)3, 0>, 16u>, config2>' (firmware/nnet_utils/nnet_conv_stream.h:139).\n",
      "INFO: [XFORM 203-603] Inlining function 'nnet::product::mult<ap_fixed<16, 6, (ap_q_mode)5, (ap_o_mode)3, 0>, ap_fixed<16, 6, (ap_q_mode)5, (ap_o_mode)3, 0>, ap_fixed<16, 6, (ap_q_mode)5, (ap_o_mode)3, 0> >::product' into 'nnet::dense_resource_rf_gt_nin_rem0<ap_fixed<16, 6, (ap_q_mode)5, (ap_o_mode)3, 0>, ap_fixed<16, 6, (ap_q_mode)5, (ap_o_mode)3, 0>, config2_mult>' (firmware/nnet_utils/nnet_dense_resource.h:160).\n",
      "INFO: [XFORM 203-603] Inlining function 'nnet::product::mult<ap_fixed<16, 6, (ap_q_mode)5, (ap_o_mode)3, 0>, ap_fixed<16, 6, (ap_q_mode)5, (ap_o_mode)3, 0>, ap_fixed<16, 6, (ap_q_mode)5, (ap_o_mode)3, 0> >::product' into 'nnet::dense_resource_rf_leq_nin<ap_fixed<16, 6, (ap_q_mode)5, (ap_o_mode)3, 0>, ap_fixed<16, 6, (ap_q_mode)5, (ap_o_mode)3, 0>, config5_mult>' (firmware/nnet_utils/nnet_dense_resource.h:76).\n",
      "INFO: [XFORM 203-603] Inlining function 'nnet::product::mult<ap_fixed<16, 6, (ap_q_mode)5, (ap_o_mode)3, 0>, ap_fixed<16, 6, (ap_q_mode)5, (ap_o_mode)3, 0>, ap_fixed<16, 6, (ap_q_mode)5, (ap_o_mode)3, 0> >::product' into 'nnet::dense_resource_rf_leq_nin<ap_fixed<16, 6, (ap_q_mode)5, (ap_o_mode)3, 0>, ap_fixed<16, 6, (ap_q_mode)5, (ap_o_mode)3, 0>, config8_mult>' (firmware/nnet_utils/nnet_dense_resource.h:76).\n",
      "INFO: [XFORM 203-603] Inlining function 'nnet::product::mult<ap_fixed<16, 6, (ap_q_mode)5, (ap_o_mode)3, 0>, ap_fixed<16, 6, (ap_q_mode)5, (ap_o_mode)3, 0>, ap_fixed<16, 6, (ap_q_mode)5, (ap_o_mode)3, 0> >::product' into 'nnet::dense_resource_rf_leq_nin<ap_fixed<16, 6, (ap_q_mode)5, (ap_o_mode)3, 0>, ap_fixed<16, 6, (ap_q_mode)5, (ap_o_mode)3, 0>, config12>' (firmware/nnet_utils/nnet_dense_resource.h:76).\n",
      "INFO: [XFORM 203-603] Inlining function 'nnet::dense_resource_rf_gt_nin_rem0<ap_fixed<16, 6, (ap_q_mode)5, (ap_o_mode)3, 0>, ap_fixed<16, 6, (ap_q_mode)5, (ap_o_mode)3, 0>, config2_mult>' into 'nnet::dense_resource<ap_fixed<16, 6, (ap_q_mode)5, (ap_o_mode)3, 0>, ap_fixed<16, 6, (ap_q_mode)5, (ap_o_mode)3, 0>, config2_mult>' (firmware/nnet_utils/nnet_dense_resource.h:276).\n",
      "INFO: [XFORM 203-603] Inlining function 'nnet::array<ap_fixed<16, 6, (ap_q_mode)5, (ap_o_mode)3, 0>, 16u>::operator[].1' into 'nnet::mult_buffer<nnet::array<ap_fixed<16, 6, (ap_q_mode)5, (ap_o_mode)3, 0>, 1u>, nnet::array<ap_fixed<16, 6, (ap_q_mode)5, (ap_o_mode)3, 0>, 16u>, config2>' (firmware/nnet_utils/nnet_conv_stream.h:102).\n",
      "INFO: [XFORM 203-603] Inlining function 'nnet::array<ap_fixed<16, 6, (ap_q_mode)5, (ap_o_mode)3, 0>, 16u>::operator[].1' into 'nnet::compute_pool_encoded_1d<nnet::array<ap_fixed<16, 6, (ap_q_mode)5, (ap_o_mode)3, 0>, 16u>, nnet::array<ap_fixed<16, 6, (ap_q_mode)5, (ap_o_mode)3, 0>, 16u>, config4>' (firmware/nnet_utils/nnet_pooling_stream.h:318).\n",
      "INFO: [XFORM 203-603] Inlining function 'nnet::array<ap_fixed<16, 6, (ap_q_mode)5, (ap_o_mode)3, 0>, 16u>::operator[].1' into 'nnet::relu<nnet::array<ap_fixed<16, 6, (ap_q_mode)5, (ap_o_mode)3, 0>, 16u>, nnet::array<ap_fixed<16, 6, (ap_q_mode)5, (ap_o_mode)3, 0>, 16u>, relu_config3>' (firmware/nnet_utils/nnet_activation_stream.h:70).\n",
      "INFO: [XFORM 203-603] Inlining function 'nnet::array<ap_fixed<16, 6, (ap_q_mode)5, (ap_o_mode)3, 0>, 16u>::operator[].1' into 'nnet::relu<nnet::array<ap_fixed<16, 6, (ap_q_mode)5, (ap_o_mode)3, 0>, 16u>, nnet::array<ap_fixed<16, 6, (ap_q_mode)5, (ap_o_mode)3, 0>, 16u>, relu_config3>' (firmware/nnet_utils/nnet_activation_stream.h:69).\n",
      "INFO: [XFORM 203-603] Inlining function 'nnet::array<ap_fixed<16, 6, (ap_q_mode)5, (ap_o_mode)3, 0>, 16u>::operator[].1' into 'nnet::relu<nnet::array<ap_fixed<16, 6, (ap_q_mode)5, (ap_o_mode)3, 0>, 16u>, nnet::array<ap_fixed<16, 6, (ap_q_mode)5, (ap_o_mode)3, 0>, 16u>, relu_config3>' (firmware/nnet_utils/nnet_activation_stream.h:69).\n",
      "INFO: [XFORM 203-603] Inlining function 'nnet::array<ap_fixed<16, 6, (ap_q_mode)5, (ap_o_mode)3, 0>, 16u>::operator[].1' into 'nnet::relu<nnet::array<ap_fixed<16, 6, (ap_q_mode)5, (ap_o_mode)3, 0>, 16u>, nnet::array<ap_fixed<16, 6, (ap_q_mode)5, (ap_o_mode)3, 0>, 16u>, relu_config3>' (firmware/nnet_utils/nnet_activation_stream.h:69).\n",
      "INFO: [XFORM 203-603] Inlining function 'nnet::dense_resource<ap_fixed<16, 6, (ap_q_mode)5, (ap_o_mode)3, 0>, ap_fixed<16, 6, (ap_q_mode)5, (ap_o_mode)3, 0>, config2_mult>' into 'nnet::mult_buffer<nnet::array<ap_fixed<16, 6, (ap_q_mode)5, (ap_o_mode)3, 0>, 1u>, nnet::array<ap_fixed<16, 6, (ap_q_mode)5, (ap_o_mode)3, 0>, 16u>, config2>' (firmware/nnet_utils/nnet_conv_stream.h:96).\n",
      "INFO: [XFORM 203-603] Inlining function 'nnet::mult_buffer<nnet::array<ap_fixed<16, 6, (ap_q_mode)5, (ap_o_mode)3, 0>, 1u>, nnet::array<ap_fixed<16, 6, (ap_q_mode)5, (ap_o_mode)3, 0>, 16u>, config2>' into 'nnet::compute_output_encoded<nnet::array<ap_fixed<16, 6, (ap_q_mode)5, (ap_o_mode)3, 0>, 1u>, nnet::array<ap_fixed<16, 6, (ap_q_mode)5, (ap_o_mode)3, 0>, 16u>, config2>' (firmware/nnet_utils/nnet_conv_stream.h:143).\n",
      "INFO: [XFORM 203-603] Inlining function 'nnet::compute_output_encoded<nnet::array<ap_fixed<16, 6, (ap_q_mode)5, (ap_o_mode)3, 0>, 1u>, nnet::array<ap_fixed<16, 6, (ap_q_mode)5, (ap_o_mode)3, 0>, 16u>, config2>' into 'nnet::conv_1d_encoded_cl<nnet::array<ap_fixed<16, 6, (ap_q_mode)5, (ap_o_mode)3, 0>, 1u>, nnet::array<ap_fixed<16, 6, (ap_q_mode)5, (ap_o_mode)3, 0>, 16u>, config2>' (firmware/nnet_utils/nnet_conv1d_stream.h:55).\n",
      "INFO: [XFORM 203-603] Inlining function 'nnet::conv_1d_encoded_cl<nnet::array<ap_fixed<16, 6, (ap_q_mode)5, (ap_o_mode)3, 0>, 1u>, nnet::array<ap_fixed<16, 6, (ap_q_mode)5, (ap_o_mode)3, 0>, 16u>, config2>' into 'nnet::conv_1d_cl<nnet::array<ap_fixed<16, 6, (ap_q_mode)5, (ap_o_mode)3, 0>, 1u>, nnet::array<ap_fixed<16, 6, (ap_q_mode)5, (ap_o_mode)3, 0>, 16u>, config2>' (firmware/nnet_utils/nnet_conv1d_stream.h:90).\n",
      "INFO: [XFORM 203-603] Inlining function 'nnet::array<ap_fixed<16, 6, (ap_q_mode)5, (ap_o_mode)3, 0>, 16u>::operator[]' into 'nnet::compute_pool_encoded_1d<nnet::array<ap_fixed<16, 6, (ap_q_mode)5, (ap_o_mode)3, 0>, 16u>, nnet::array<ap_fixed<16, 6, (ap_q_mode)5, (ap_o_mode)3, 0>, 16u>, config4>' (firmware/nnet_utils/nnet_pooling_stream.h:309).\n",
      "INFO: [XFORM 203-603] Inlining function 'nnet::array<ap_fixed<16, 6, (ap_q_mode)5, (ap_o_mode)3, 0>, 16u>::operator[]' into 'nnet::compute_output_encoded<nnet::array<ap_fixed<16, 6, (ap_q_mode)5, (ap_o_mode)3, 0>, 16u>, nnet::array<ap_fixed<16, 6, (ap_q_mode)5, (ap_o_mode)3, 0>, 32u>, config5>' (firmware/nnet_utils/nnet_conv_stream.h:139).\n",
      "INFO: [XFORM 203-603] Inlining function 'nnet::reduce_pool<ap_fixed<16, 6, (ap_q_mode)5, (ap_o_mode)3, 0>, 2, config4>' into 'nnet::compute_pool_encoded_1d<nnet::array<ap_fixed<16, 6, (ap_q_mode)5, (ap_o_mode)3, 0>, 16u>, nnet::array<ap_fixed<16, 6, (ap_q_mode)5, (ap_o_mode)3, 0>, 16u>, config4>' (firmware/nnet_utils/nnet_pooling_stream.h:318).\n",
      "INFO: [XFORM 203-603] Inlining function 'nnet::compute_pool_encoded_1d<nnet::array<ap_fixed<16, 6, (ap_q_mode)5, (ap_o_mode)3, 0>, 16u>, nnet::array<ap_fixed<16, 6, (ap_q_mode)5, (ap_o_mode)3, 0>, 16u>, config4>' into 'nnet::pooling1d_encoded_cl<nnet::array<ap_fixed<16, 6, (ap_q_mode)5, (ap_o_mode)3, 0>, 16u>, nnet::array<ap_fixed<16, 6, (ap_q_mode)5, (ap_o_mode)3, 0>, 16u>, config4>' (firmware/nnet_utils/nnet_pooling_stream.h:363).\n",
      "INFO: [XFORM 203-603] Inlining function 'nnet::pooling1d_encoded_cl<nnet::array<ap_fixed<16, 6, (ap_q_mode)5, (ap_o_mode)3, 0>, 16u>, nnet::array<ap_fixed<16, 6, (ap_q_mode)5, (ap_o_mode)3, 0>, 16u>, config4>' into 'nnet::pooling1d_cl<nnet::array<ap_fixed<16, 6, (ap_q_mode)5, (ap_o_mode)3, 0>, 16u>, nnet::array<ap_fixed<16, 6, (ap_q_mode)5, (ap_o_mode)3, 0>, 16u>, config4>' (firmware/nnet_utils/nnet_pooling_stream.h:450).\n",
      "INFO: [XFORM 203-603] Inlining function 'nnet::scale_index_K_gte_S<5u, 2u, 49u>' into 'nnet::scale_index<5u, 2u, 49u>' (firmware/nnet_utils/nnet_conv_stream.h:65).\n",
      "INFO: [XFORM 203-603] Inlining function 'nnet::scale_index<5u, 2u, 49u>' into 'nnet::compute_scaled_indices_1d<nnet::array<ap_fixed<16, 6, (ap_q_mode)5, (ap_o_mode)3, 0>, 16u>, config5>' (firmware/nnet_utils/nnet_conv1d_stream.h:20).\n",
      "INFO: [XFORM 203-603] Inlining function 'nnet::dense_resource_rf_leq_nin<ap_fixed<16, 6, (ap_q_mode)5, (ap_o_mode)3, 0>, ap_fixed<16, 6, (ap_q_mode)5, (ap_o_mode)3, 0>, config5_mult>' into 'nnet::dense_resource<ap_fixed<16, 6, (ap_q_mode)5, (ap_o_mode)3, 0>, ap_fixed<16, 6, (ap_q_mode)5, (ap_o_mode)3, 0>, config5_mult>' (firmware/nnet_utils/nnet_dense_resource.h:274).\n",
      "INFO: [XFORM 203-603] Inlining function 'nnet::array<ap_fixed<16, 6, (ap_q_mode)5, (ap_o_mode)3, 0>, 32u>::operator[].1' into 'nnet::mult_buffer<nnet::array<ap_fixed<16, 6, (ap_q_mode)5, (ap_o_mode)3, 0>, 16u>, nnet::array<ap_fixed<16, 6, (ap_q_mode)5, (ap_o_mode)3, 0>, 32u>, config5>' (firmware/nnet_utils/nnet_conv_stream.h:102).\n",
      "INFO: [XFORM 203-603] Inlining function 'nnet::array<ap_fixed<16, 6, (ap_q_mode)5, (ap_o_mode)3, 0>, 32u>::operator[].1' into 'nnet::compute_pool_encoded_1d<nnet::array<ap_fixed<16, 6, (ap_q_mode)5, (ap_o_mode)3, 0>, 32u>, nnet::array<ap_fixed<16, 6, (ap_q_mode)5, (ap_o_mode)3, 0>, 32u>, config7>' (firmware/nnet_utils/nnet_pooling_stream.h:318).\n",
      "INFO: [XFORM 203-603] Inlining function 'nnet::array<ap_fixed<16, 6, (ap_q_mode)5, (ap_o_mode)3, 0>, 32u>::operator[].1' into 'nnet::relu<nnet::array<ap_fixed<16, 6, (ap_q_mode)5, (ap_o_mode)3, 0>, 32u>, nnet::array<ap_fixed<16, 6, (ap_q_mode)5, (ap_o_mode)3, 0>, 32u>, relu_config6>' (firmware/nnet_utils/nnet_activation_stream.h:70).\n",
      "INFO: [XFORM 203-603] Inlining function 'nnet::array<ap_fixed<16, 6, (ap_q_mode)5, (ap_o_mode)3, 0>, 32u>::operator[].1' into 'nnet::relu<nnet::array<ap_fixed<16, 6, (ap_q_mode)5, (ap_o_mode)3, 0>, 32u>, nnet::array<ap_fixed<16, 6, (ap_q_mode)5, (ap_o_mode)3, 0>, 32u>, relu_config6>' (firmware/nnet_utils/nnet_activation_stream.h:69).\n",
      "INFO: [XFORM 203-603] Inlining function 'nnet::array<ap_fixed<16, 6, (ap_q_mode)5, (ap_o_mode)3, 0>, 32u>::operator[].1' into 'nnet::relu<nnet::array<ap_fixed<16, 6, (ap_q_mode)5, (ap_o_mode)3, 0>, 32u>, nnet::array<ap_fixed<16, 6, (ap_q_mode)5, (ap_o_mode)3, 0>, 32u>, relu_config6>' (firmware/nnet_utils/nnet_activation_stream.h:69).\n",
      "INFO: [XFORM 203-603] Inlining function 'nnet::array<ap_fixed<16, 6, (ap_q_mode)5, (ap_o_mode)3, 0>, 32u>::operator[].1' into 'nnet::relu<nnet::array<ap_fixed<16, 6, (ap_q_mode)5, (ap_o_mode)3, 0>, 32u>, nnet::array<ap_fixed<16, 6, (ap_q_mode)5, (ap_o_mode)3, 0>, 32u>, relu_config6>' (firmware/nnet_utils/nnet_activation_stream.h:69).\n",
      "INFO: [XFORM 203-603] Inlining function 'nnet::dense_resource<ap_fixed<16, 6, (ap_q_mode)5, (ap_o_mode)3, 0>, ap_fixed<16, 6, (ap_q_mode)5, (ap_o_mode)3, 0>, config5_mult>' into 'nnet::mult_buffer<nnet::array<ap_fixed<16, 6, (ap_q_mode)5, (ap_o_mode)3, 0>, 16u>, nnet::array<ap_fixed<16, 6, (ap_q_mode)5, (ap_o_mode)3, 0>, 32u>, config5>' (firmware/nnet_utils/nnet_conv_stream.h:96).\n",
      "INFO: [XFORM 203-603] Inlining function 'nnet::mult_buffer<nnet::array<ap_fixed<16, 6, (ap_q_mode)5, (ap_o_mode)3, 0>, 16u>, nnet::array<ap_fixed<16, 6, (ap_q_mode)5, (ap_o_mode)3, 0>, 32u>, config5>' into 'nnet::compute_output_encoded<nnet::array<ap_fixed<16, 6, (ap_q_mode)5, (ap_o_mode)3, 0>, 16u>, nnet::array<ap_fixed<16, 6, (ap_q_mode)5, (ap_o_mode)3, 0>, 32u>, config5>' (firmware/nnet_utils/nnet_conv_stream.h:143).\n",
      "INFO: [XFORM 203-603] Inlining function 'nnet::compute_output_encoded<nnet::array<ap_fixed<16, 6, (ap_q_mode)5, (ap_o_mode)3, 0>, 16u>, nnet::array<ap_fixed<16, 6, (ap_q_mode)5, (ap_o_mode)3, 0>, 32u>, config5>' into 'nnet::conv_1d_encoded_cl<nnet::array<ap_fixed<16, 6, (ap_q_mode)5, (ap_o_mode)3, 0>, 16u>, nnet::array<ap_fixed<16, 6, (ap_q_mode)5, (ap_o_mode)3, 0>, 32u>, config5>' (firmware/nnet_utils/nnet_conv1d_stream.h:55).\n",
      "INFO: [XFORM 203-603] Inlining function 'nnet::conv_1d_encoded_cl<nnet::array<ap_fixed<16, 6, (ap_q_mode)5, (ap_o_mode)3, 0>, 16u>, nnet::array<ap_fixed<16, 6, (ap_q_mode)5, (ap_o_mode)3, 0>, 32u>, config5>' into 'nnet::conv_1d_cl<nnet::array<ap_fixed<16, 6, (ap_q_mode)5, (ap_o_mode)3, 0>, 16u>, nnet::array<ap_fixed<16, 6, (ap_q_mode)5, (ap_o_mode)3, 0>, 32u>, config5>' (firmware/nnet_utils/nnet_conv1d_stream.h:90).\n",
      "INFO: [XFORM 203-603] Inlining function 'nnet::array<ap_fixed<16, 6, (ap_q_mode)5, (ap_o_mode)3, 0>, 32u>::operator[]' into 'nnet::compute_pool_encoded_1d<nnet::array<ap_fixed<16, 6, (ap_q_mode)5, (ap_o_mode)3, 0>, 32u>, nnet::array<ap_fixed<16, 6, (ap_q_mode)5, (ap_o_mode)3, 0>, 32u>, config7>' (firmware/nnet_utils/nnet_pooling_stream.h:309).\n",
      "INFO: [XFORM 203-603] Inlining function 'nnet::array<ap_fixed<16, 6, (ap_q_mode)5, (ap_o_mode)3, 0>, 32u>::operator[]' into 'nnet::compute_output_encoded<nnet::array<ap_fixed<16, 6, (ap_q_mode)5, (ap_o_mode)3, 0>, 32u>, nnet::array<ap_fixed<16, 6, (ap_q_mode)5, (ap_o_mode)3, 0>, 64u>, config8>' (firmware/nnet_utils/nnet_conv_stream.h:139).\n",
      "INFO: [XFORM 203-603] Inlining function 'nnet::reduce_pool<ap_fixed<16, 6, (ap_q_mode)5, (ap_o_mode)3, 0>, 2, config7>' into 'nnet::compute_pool_encoded_1d<nnet::array<ap_fixed<16, 6, (ap_q_mode)5, (ap_o_mode)3, 0>, 32u>, nnet::array<ap_fixed<16, 6, (ap_q_mode)5, (ap_o_mode)3, 0>, 32u>, config7>' (firmware/nnet_utils/nnet_pooling_stream.h:318).\n",
      "INFO: [XFORM 203-603] Inlining function 'nnet::compute_pool_encoded_1d<nnet::array<ap_fixed<16, 6, (ap_q_mode)5, (ap_o_mode)3, 0>, 32u>, nnet::array<ap_fixed<16, 6, (ap_q_mode)5, (ap_o_mode)3, 0>, 32u>, config7>' into 'nnet::pooling1d_encoded_cl<nnet::array<ap_fixed<16, 6, (ap_q_mode)5, (ap_o_mode)3, 0>, 32u>, nnet::array<ap_fixed<16, 6, (ap_q_mode)5, (ap_o_mode)3, 0>, 32u>, config7>' (firmware/nnet_utils/nnet_pooling_stream.h:363).\n",
      "INFO: [XFORM 203-603] Inlining function 'nnet::pooling1d_encoded_cl<nnet::array<ap_fixed<16, 6, (ap_q_mode)5, (ap_o_mode)3, 0>, 32u>, nnet::array<ap_fixed<16, 6, (ap_q_mode)5, (ap_o_mode)3, 0>, 32u>, config7>' into 'nnet::pooling1d_cl<nnet::array<ap_fixed<16, 6, (ap_q_mode)5, (ap_o_mode)3, 0>, 32u>, nnet::array<ap_fixed<16, 6, (ap_q_mode)5, (ap_o_mode)3, 0>, 32u>, config7>' (firmware/nnet_utils/nnet_pooling_stream.h:450).\n",
      "INFO: [XFORM 203-603] Inlining function 'nnet::scale_index_K_gte_S<9u, 1u, 11u>' into 'nnet::scale_index<9u, 1u, 11u>' (firmware/nnet_utils/nnet_conv_stream.h:65).\n",
      "INFO: [XFORM 203-603] Inlining function 'nnet::scale_index<9u, 1u, 11u>' into 'nnet::compute_scaled_indices_1d<nnet::array<ap_fixed<16, 6, (ap_q_mode)5, (ap_o_mode)3, 0>, 32u>, config8>' (firmware/nnet_utils/nnet_conv1d_stream.h:20).\n",
      "INFO: [XFORM 203-603] Inlining function 'nnet::dense_resource_rf_leq_nin<ap_fixed<16, 6, (ap_q_mode)5, (ap_o_mode)3, 0>, ap_fixed<16, 6, (ap_q_mode)5, (ap_o_mode)3, 0>, config8_mult>' into 'nnet::dense_resource<ap_fixed<16, 6, (ap_q_mode)5, (ap_o_mode)3, 0>, ap_fixed<16, 6, (ap_q_mode)5, (ap_o_mode)3, 0>, config8_mult>' (firmware/nnet_utils/nnet_dense_resource.h:274).\n",
      "INFO: [XFORM 203-603] Inlining function 'nnet::array<ap_fixed<16, 6, (ap_q_mode)5, (ap_o_mode)3, 0>, 64u>::operator[]' into 'nnet::mult_buffer<nnet::array<ap_fixed<16, 6, (ap_q_mode)5, (ap_o_mode)3, 0>, 32u>, nnet::array<ap_fixed<16, 6, (ap_q_mode)5, (ap_o_mode)3, 0>, 64u>, config8>' (firmware/nnet_utils/nnet_conv_stream.h:102).\n",
      "INFO: [XFORM 203-603] Inlining function 'nnet::array<ap_fixed<16, 6, (ap_q_mode)5, (ap_o_mode)3, 0>, 64u>::operator[]' into 'nnet::dense<nnet::array<ap_fixed<16, 6, (ap_q_mode)5, (ap_o_mode)3, 0>, 64u>, nnet::array<ap_fixed<16, 6, (ap_q_mode)5, (ap_o_mode)3, 0>, 1u>, config12>' (firmware/nnet_utils/nnet_dense_stream.h:48).\n",
      "INFO: [XFORM 203-603] Inlining function 'nnet::array<ap_fixed<16, 6, (ap_q_mode)5, (ap_o_mode)3, 0>, 64u>::operator[]' into 'nnet::global_pooling1d_cl<nnet::array<ap_fixed<16, 6, (ap_q_mode)5, (ap_o_mode)3, 0>, 64u>, nnet::array<ap_fixed<16, 6, (ap_q_mode)5, (ap_o_mode)3, 0>, 64u>, config10>' (firmware/nnet_utils/nnet_pooling_stream.h:583).\n",
      "INFO: [XFORM 203-603] Inlining function 'nnet::array<ap_fixed<16, 6, (ap_q_mode)5, (ap_o_mode)3, 0>, 64u>::operator[]' into 'nnet::relu<nnet::array<ap_fixed<16, 6, (ap_q_mode)5, (ap_o_mode)3, 0>, 64u>, nnet::array<ap_fixed<16, 6, (ap_q_mode)5, (ap_o_mode)3, 0>, 64u>, relu_config9>' (firmware/nnet_utils/nnet_activation_stream.h:70).\n",
      "INFO: [XFORM 203-603] Inlining function 'nnet::array<ap_fixed<16, 6, (ap_q_mode)5, (ap_o_mode)3, 0>, 64u>::operator[]' into 'nnet::relu<nnet::array<ap_fixed<16, 6, (ap_q_mode)5, (ap_o_mode)3, 0>, 64u>, nnet::array<ap_fixed<16, 6, (ap_q_mode)5, (ap_o_mode)3, 0>, 64u>, relu_config9>' (firmware/nnet_utils/nnet_activation_stream.h:69).\n",
      "INFO: [XFORM 203-603] Inlining function 'nnet::array<ap_fixed<16, 6, (ap_q_mode)5, (ap_o_mode)3, 0>, 64u>::operator[]' into 'nnet::relu<nnet::array<ap_fixed<16, 6, (ap_q_mode)5, (ap_o_mode)3, 0>, 64u>, nnet::array<ap_fixed<16, 6, (ap_q_mode)5, (ap_o_mode)3, 0>, 64u>, relu_config9>' (firmware/nnet_utils/nnet_activation_stream.h:69).\n",
      "INFO: [XFORM 203-603] Inlining function 'nnet::array<ap_fixed<16, 6, (ap_q_mode)5, (ap_o_mode)3, 0>, 64u>::operator[]' into 'nnet::relu<nnet::array<ap_fixed<16, 6, (ap_q_mode)5, (ap_o_mode)3, 0>, 64u>, nnet::array<ap_fixed<16, 6, (ap_q_mode)5, (ap_o_mode)3, 0>, 64u>, relu_config9>' (firmware/nnet_utils/nnet_activation_stream.h:69).\n",
      "INFO: [XFORM 203-603] Inlining function 'nnet::dense_resource<ap_fixed<16, 6, (ap_q_mode)5, (ap_o_mode)3, 0>, ap_fixed<16, 6, (ap_q_mode)5, (ap_o_mode)3, 0>, config8_mult>' into 'nnet::mult_buffer<nnet::array<ap_fixed<16, 6, (ap_q_mode)5, (ap_o_mode)3, 0>, 32u>, nnet::array<ap_fixed<16, 6, (ap_q_mode)5, (ap_o_mode)3, 0>, 64u>, config8>' (firmware/nnet_utils/nnet_conv_stream.h:96).\n",
      "INFO: [XFORM 203-603] Inlining function 'nnet::mult_buffer<nnet::array<ap_fixed<16, 6, (ap_q_mode)5, (ap_o_mode)3, 0>, 32u>, nnet::array<ap_fixed<16, 6, (ap_q_mode)5, (ap_o_mode)3, 0>, 64u>, config8>' into 'nnet::compute_output_encoded<nnet::array<ap_fixed<16, 6, (ap_q_mode)5, (ap_o_mode)3, 0>, 32u>, nnet::array<ap_fixed<16, 6, (ap_q_mode)5, (ap_o_mode)3, 0>, 64u>, config8>' (firmware/nnet_utils/nnet_conv_stream.h:143).\n",
      "INFO: [XFORM 203-603] Inlining function 'nnet::compute_output_encoded<nnet::array<ap_fixed<16, 6, (ap_q_mode)5, (ap_o_mode)3, 0>, 32u>, nnet::array<ap_fixed<16, 6, (ap_q_mode)5, (ap_o_mode)3, 0>, 64u>, config8>' into 'nnet::conv_1d_encoded_cl<nnet::array<ap_fixed<16, 6, (ap_q_mode)5, (ap_o_mode)3, 0>, 32u>, nnet::array<ap_fixed<16, 6, (ap_q_mode)5, (ap_o_mode)3, 0>, 64u>, config8>' (firmware/nnet_utils/nnet_conv1d_stream.h:55).\n",
      "INFO: [XFORM 203-603] Inlining function 'nnet::conv_1d_encoded_cl<nnet::array<ap_fixed<16, 6, (ap_q_mode)5, (ap_o_mode)3, 0>, 32u>, nnet::array<ap_fixed<16, 6, (ap_q_mode)5, (ap_o_mode)3, 0>, 64u>, config8>' into 'nnet::conv_1d_cl<nnet::array<ap_fixed<16, 6, (ap_q_mode)5, (ap_o_mode)3, 0>, 32u>, nnet::array<ap_fixed<16, 6, (ap_q_mode)5, (ap_o_mode)3, 0>, 64u>, config8>' (firmware/nnet_utils/nnet_conv1d_stream.h:90).\n",
      "INFO: [XFORM 203-603] Inlining function 'nnet::array<ap_fixed<16, 6, (ap_q_mode)5, (ap_o_mode)3, 0>, 64u>::operator[].1' into 'nnet::compute_global_pool<nnet::array<ap_fixed<16, 6, (ap_q_mode)5, (ap_o_mode)3, 0>, 64u>, nnet::array<ap_fixed<16, 6, (ap_q_mode)5, (ap_o_mode)3, 0>, 64u>, config10>' (firmware/nnet_utils/nnet_pooling_stream.h:487).\n",
      "INFO: [XFORM 203-603] Inlining function 'nnet::reduce_global_pool<ap_fixed<16, 6, (ap_q_mode)5, (ap_o_mode)3, 0>, 1, config10>' into 'nnet::compute_global_pool<nnet::array<ap_fixed<16, 6, (ap_q_mode)5, (ap_o_mode)3, 0>, 64u>, nnet::array<ap_fixed<16, 6, (ap_q_mode)5, (ap_o_mode)3, 0>, 64u>, config10>' (firmware/nnet_utils/nnet_pooling_stream.h:489).\n",
      "INFO: [XFORM 203-603] Inlining function 'nnet::dense_resource_rf_leq_nin<ap_fixed<16, 6, (ap_q_mode)5, (ap_o_mode)3, 0>, ap_fixed<16, 6, (ap_q_mode)5, (ap_o_mode)3, 0>, config12>' into 'nnet::dense_resource<ap_fixed<16, 6, (ap_q_mode)5, (ap_o_mode)3, 0>, ap_fixed<16, 6, (ap_q_mode)5, (ap_o_mode)3, 0>, config12>' (firmware/nnet_utils/nnet_dense_resource.h:274).\n",
      "INFO: [XFORM 203-603] Inlining function 'nnet::dense_resource<ap_fixed<16, 6, (ap_q_mode)5, (ap_o_mode)3, 0>, ap_fixed<16, 6, (ap_q_mode)5, (ap_o_mode)3, 0>, config12>' into 'nnet::dense_wrapper<ap_fixed<16, 6, (ap_q_mode)5, (ap_o_mode)3, 0>, ap_fixed<16, 6, (ap_q_mode)5, (ap_o_mode)3, 0>, config12>' (firmware/nnet_utils/nnet_dense_stream.h:24).\n",
      "INFO: [XFORM 203-603] Inlining function 'nnet::array<ap_fixed<16, 6, (ap_q_mode)5, (ap_o_mode)3, 0>, 1u>::operator[]' into 'nnet::dense<nnet::array<ap_fixed<16, 6, (ap_q_mode)5, (ap_o_mode)3, 0>, 64u>, nnet::array<ap_fixed<16, 6, (ap_q_mode)5, (ap_o_mode)3, 0>, 1u>, config12>' (firmware/nnet_utils/nnet_dense_stream.h:62).\n"
     ]
    },
    {
     "name": "stdout",
     "output_type": "stream",
     "text": [
      "INFO: [XFORM 203-603] Inlining function 'nnet::array<ap_fixed<16, 6, (ap_q_mode)5, (ap_o_mode)3, 0>, 1u>::operator[]' into 'nnet::sigmoid<nnet::array<ap_fixed<16, 6, (ap_q_mode)5, (ap_o_mode)3, 0>, 1u>, nnet::array<ap_fixed<16, 6, (ap_q_mode)5, (ap_o_mode)3, 0>, 1u>, sigmoid_config13>' (firmware/nnet_utils/nnet_activation_stream.h:109).\n",
      "INFO: [XFORM 203-603] Inlining function 'nnet::array<ap_fixed<16, 6, (ap_q_mode)5, (ap_o_mode)3, 0>, 1u>::operator[]' into 'nnet::sigmoid<nnet::array<ap_fixed<16, 6, (ap_q_mode)5, (ap_o_mode)3, 0>, 1u>, nnet::array<ap_fixed<16, 6, (ap_q_mode)5, (ap_o_mode)3, 0>, 1u>, sigmoid_config13>' (firmware/nnet_utils/nnet_activation_stream.h:105).\n",
      "INFO: [HLS 200-111] Finished Standard Transforms Time (s): cpu = 00:00:55 ; elapsed = 00:00:58 . Memory (MB): peak = 958.340 ; gain = 525.137 ; free physical = 9924 ; free virtual = 16068\n",
      "INFO: [HLS 200-10] Checking synthesizability ...\n",
      "INFO: [XFORM 203-602] Inlining function 'nnet::compute_scaled_indices_1d<nnet::array<ap_fixed<16, 6, (ap_q_mode)5, (ap_o_mode)3, 0>, 1u>, config2>' into 'nnet::conv_1d_cl<nnet::array<ap_fixed<16, 6, (ap_q_mode)5, (ap_o_mode)3, 0>, 1u>, nnet::array<ap_fixed<16, 6, (ap_q_mode)5, (ap_o_mode)3, 0>, 16u>, config2>' (firmware/nnet_utils/nnet_conv1d_stream.h:54->firmware/nnet_utils/nnet_conv1d_stream.h:90) automatically.\n",
      "INFO: [XFORM 203-602] Inlining function 'nnet::cast<ap_fixed<16, 6, (ap_q_mode)5, (ap_o_mode)3, 0>, ap_fixed<16, 6, (ap_q_mode)5, (ap_o_mode)3, 0>, config2_mult>' into 'nnet::conv_1d_cl<nnet::array<ap_fixed<16, 6, (ap_q_mode)5, (ap_o_mode)3, 0>, 1u>, nnet::array<ap_fixed<16, 6, (ap_q_mode)5, (ap_o_mode)3, 0>, 16u>, config2>' (firmware/nnet_utils/nnet_dense_resource.h:178->firmware/nnet_utils/nnet_dense_resource.h:276->firmware/nnet_utils/nnet_conv_stream.h:96->firmware/nnet_utils/nnet_conv_stream.h:143->firmware/nnet_utils/nnet_conv1d_stream.h:55->firmware/nnet_utils/nnet_conv1d_stream.h:90) automatically.\n",
      "INFO: [XFORM 203-602] Inlining function 'nnet::Op_max<ap_fixed<16, 6, (ap_q_mode)5, (ap_o_mode)3, 0> >::operator()' into 'nnet::reduce<ap_fixed<16, 6, (ap_q_mode)5, (ap_o_mode)3, 0>, 2, nnet::Op_max<ap_fixed<16, 6, (ap_q_mode)5, (ap_o_mode)3, 0> > >' (firmware/nnet_utils/nnet_common.h:53) automatically.\n",
      "INFO: [XFORM 203-602] Inlining function 'nnet::reduce<ap_fixed<16, 6, (ap_q_mode)5, (ap_o_mode)3, 0>, 2, nnet::Op_max<ap_fixed<16, 6, (ap_q_mode)5, (ap_o_mode)3, 0> > >' into 'nnet::pooling1d_cl<nnet::array<ap_fixed<16, 6, (ap_q_mode)5, (ap_o_mode)3, 0>, 16u>, nnet::array<ap_fixed<16, 6, (ap_q_mode)5, (ap_o_mode)3, 0>, 16u>, config4>' (firmware/nnet_utils/nnet_pooling_stream.h:22->firmware/nnet_utils/nnet_pooling_stream.h:318->firmware/nnet_utils/nnet_pooling_stream.h:363->firmware/nnet_utils/nnet_pooling_stream.h:450) automatically.\n",
      "INFO: [XFORM 203-602] Inlining function 'nnet::compute_scaled_indices_1d<nnet::array<ap_fixed<16, 6, (ap_q_mode)5, (ap_o_mode)3, 0>, 16u>, config5>' into 'nnet::conv_1d_cl<nnet::array<ap_fixed<16, 6, (ap_q_mode)5, (ap_o_mode)3, 0>, 16u>, nnet::array<ap_fixed<16, 6, (ap_q_mode)5, (ap_o_mode)3, 0>, 32u>, config5>' (firmware/nnet_utils/nnet_conv1d_stream.h:54->firmware/nnet_utils/nnet_conv1d_stream.h:90) automatically.\n",
      "INFO: [XFORM 203-602] Inlining function 'nnet::cast<ap_fixed<16, 6, (ap_q_mode)5, (ap_o_mode)3, 0>, ap_fixed<16, 6, (ap_q_mode)5, (ap_o_mode)3, 0>, config5_mult>' into 'nnet::conv_1d_cl<nnet::array<ap_fixed<16, 6, (ap_q_mode)5, (ap_o_mode)3, 0>, 16u>, nnet::array<ap_fixed<16, 6, (ap_q_mode)5, (ap_o_mode)3, 0>, 32u>, config5>' (firmware/nnet_utils/nnet_dense_resource.h:99->firmware/nnet_utils/nnet_dense_resource.h:274->firmware/nnet_utils/nnet_conv_stream.h:96->firmware/nnet_utils/nnet_conv_stream.h:143->firmware/nnet_utils/nnet_conv1d_stream.h:55->firmware/nnet_utils/nnet_conv1d_stream.h:90) automatically.\n",
      "INFO: [XFORM 203-602] Inlining function 'nnet::reduce<ap_fixed<16, 6, (ap_q_mode)5, (ap_o_mode)3, 0>, 2, nnet::Op_max<ap_fixed<16, 6, (ap_q_mode)5, (ap_o_mode)3, 0> > >' into 'nnet::pooling1d_cl<nnet::array<ap_fixed<16, 6, (ap_q_mode)5, (ap_o_mode)3, 0>, 32u>, nnet::array<ap_fixed<16, 6, (ap_q_mode)5, (ap_o_mode)3, 0>, 32u>, config7>' (firmware/nnet_utils/nnet_pooling_stream.h:22->firmware/nnet_utils/nnet_pooling_stream.h:318->firmware/nnet_utils/nnet_pooling_stream.h:363->firmware/nnet_utils/nnet_pooling_stream.h:450) automatically.\n",
      "INFO: [XFORM 203-602] Inlining function 'nnet::compute_scaled_indices_1d<nnet::array<ap_fixed<16, 6, (ap_q_mode)5, (ap_o_mode)3, 0>, 32u>, config8>' into 'nnet::conv_1d_cl<nnet::array<ap_fixed<16, 6, (ap_q_mode)5, (ap_o_mode)3, 0>, 32u>, nnet::array<ap_fixed<16, 6, (ap_q_mode)5, (ap_o_mode)3, 0>, 64u>, config8>' (firmware/nnet_utils/nnet_conv1d_stream.h:54->firmware/nnet_utils/nnet_conv1d_stream.h:90) automatically.\n",
      "INFO: [XFORM 203-602] Inlining function 'nnet::cast<ap_fixed<16, 6, (ap_q_mode)5, (ap_o_mode)3, 0>, ap_fixed<16, 6, (ap_q_mode)5, (ap_o_mode)3, 0>, config8_mult>' into 'nnet::conv_1d_cl<nnet::array<ap_fixed<16, 6, (ap_q_mode)5, (ap_o_mode)3, 0>, 32u>, nnet::array<ap_fixed<16, 6, (ap_q_mode)5, (ap_o_mode)3, 0>, 64u>, config8>' (firmware/nnet_utils/nnet_dense_resource.h:99->firmware/nnet_utils/nnet_dense_resource.h:274->firmware/nnet_utils/nnet_conv_stream.h:96->firmware/nnet_utils/nnet_conv_stream.h:143->firmware/nnet_utils/nnet_conv1d_stream.h:55->firmware/nnet_utils/nnet_conv1d_stream.h:90) automatically.\n",
      "INFO: [XFORM 203-602] Inlining function 'hls::numeric_limits<ap_int<16> >::min' into 'hls::numeric_limits<ap_fixed<16, 6, (ap_q_mode)5, (ap_o_mode)3, 0> >::min' (/tools/Xilinx/Vivado/2019.2/common/technology/autopilot/utils/x_hls_utils.h:88) automatically.\n",
      "INFO: [XFORM 203-602] Inlining function 'nnet::reduce<ap_fixed<16, 6, (ap_q_mode)5, (ap_o_mode)3, 0>, 1, nnet::Op_max<ap_fixed<16, 6, (ap_q_mode)5, (ap_o_mode)3, 0> > >' into 'nnet::compute_global_pool<nnet::array<ap_fixed<16, 6, (ap_q_mode)5, (ap_o_mode)3, 0>, 64u>, nnet::array<ap_fixed<16, 6, (ap_q_mode)5, (ap_o_mode)3, 0>, 64u>, config10>' (firmware/nnet_utils/nnet_pooling_stream.h:465->firmware/nnet_utils/nnet_pooling_stream.h:489) automatically.\n",
      "INFO: [XFORM 203-602] Inlining function 'hls::numeric_limits<ap_fixed<16, 6, (ap_q_mode)5, (ap_o_mode)3, 0> >::min' into 'nnet::global_pooling1d_cl<nnet::array<ap_fixed<16, 6, (ap_q_mode)5, (ap_o_mode)3, 0>, 64u>, nnet::array<ap_fixed<16, 6, (ap_q_mode)5, (ap_o_mode)3, 0>, 64u>, config10>' (firmware/nnet_utils/nnet_pooling_stream.h:562) automatically.\n",
      "INFO: [XFORM 203-602] Inlining function 'nnet::compute_global_pool<nnet::array<ap_fixed<16, 6, (ap_q_mode)5, (ap_o_mode)3, 0>, 64u>, nnet::array<ap_fixed<16, 6, (ap_q_mode)5, (ap_o_mode)3, 0>, 64u>, config10>' into 'nnet::global_pooling1d_cl<nnet::array<ap_fixed<16, 6, (ap_q_mode)5, (ap_o_mode)3, 0>, 64u>, nnet::array<ap_fixed<16, 6, (ap_q_mode)5, (ap_o_mode)3, 0>, 64u>, config10>' (firmware/nnet_utils/nnet_pooling_stream.h:572) automatically.\n",
      "INFO: [XFORM 203-602] Inlining function 'nnet::cast<ap_fixed<16, 6, (ap_q_mode)5, (ap_o_mode)3, 0>, ap_fixed<16, 6, (ap_q_mode)5, (ap_o_mode)3, 0>, config12>' into 'nnet::dense_wrapper<ap_fixed<16, 6, (ap_q_mode)5, (ap_o_mode)3, 0>, ap_fixed<16, 6, (ap_q_mode)5, (ap_o_mode)3, 0>, config12>' (firmware/nnet_utils/nnet_dense_resource.h:99->firmware/nnet_utils/nnet_dense_resource.h:274->firmware/nnet_utils/nnet_dense_stream.h:24) automatically.\n",
      "INFO: [HLS 200-111] Finished Checking Synthesizability Time (s): cpu = 00:00:56 ; elapsed = 00:00:59 . Memory (MB): peak = 958.340 ; gain = 525.137 ; free physical = 9921 ; free virtual = 16068\n",
      "INFO: [XFORM 203-1101] Packing variable 'out_data.data.V' (firmware/nnet_utils/nnet_activation_stream.h:100) into a 16-bit variable.\n",
      "INFO: [XFORM 203-1101] Packing variable 'out_data.data.V' (firmware/nnet_utils/nnet_activation_stream.h:64) into a 1024-bit variable.\n",
      "INFO: [XFORM 203-1101] Packing variable 'out_data.data.V' (firmware/nnet_utils/nnet_activation_stream.h:64) into a 512-bit variable.\n",
      "INFO: [XFORM 203-1101] Packing variable 'out_data.data.V' (firmware/nnet_utils/nnet_activation_stream.h:64) into a 256-bit variable.\n",
      "INFO: [XFORM 203-1101] Packing variable 'res_pack.data.V' (firmware/nnet_utils/nnet_pooling_stream.h:346) into a 512-bit variable.\n",
      "INFO: [XFORM 203-1101] Packing variable 'res_pack.data.V' (firmware/nnet_utils/nnet_pooling_stream.h:346) into a 256-bit variable.\n",
      "INFO: [XFORM 203-1101] Packing variable 'res_pack.data.V' (firmware/nnet_utils/nnet_pooling_stream.h:579) into a 1024-bit variable.\n",
      "INFO: [XFORM 203-1101] Packing variable 'res_pack.data.V' (firmware/nnet_utils/nnet_dense_stream.h:58) into a 16-bit variable.\n",
      "INFO: [XFORM 203-1101] Packing variable 'res_pack.data.V' (firmware/nnet_utils/nnet_conv1d_stream.h:42) into a 1024-bit variable.\n",
      "INFO: [XFORM 203-1101] Packing variable 'res_pack.data.V' (firmware/nnet_utils/nnet_conv1d_stream.h:42) into a 256-bit variable.\n",
      "INFO: [XFORM 203-1101] Packing variable 'res_pack.data.V' (firmware/nnet_utils/nnet_conv1d_stream.h:42) into a 512-bit variable.\n"
     ]
    },
    {
     "name": "stdout",
     "output_type": "stream",
     "text": [
      "INFO: [XFORM 203-502] Unrolling all sub-loops inside loop 'ReLUActLoop' (firmware/nnet_utils/nnet_activation_stream.h:60) in function 'nnet::relu<nnet::array<ap_fixed<16, 6, (ap_q_mode)5, (ap_o_mode)3, 0>, 64u>, nnet::array<ap_fixed<16, 6, (ap_q_mode)5, (ap_o_mode)3, 0>, 64u>, relu_config9>' for pipelining.\n",
      "INFO: [XFORM 203-502] Unrolling all sub-loops inside loop 'ReLUActLoop' (firmware/nnet_utils/nnet_activation_stream.h:60) in function 'nnet::relu<nnet::array<ap_fixed<16, 6, (ap_q_mode)5, (ap_o_mode)3, 0>, 32u>, nnet::array<ap_fixed<16, 6, (ap_q_mode)5, (ap_o_mode)3, 0>, 32u>, relu_config6>' for pipelining.\n",
      "INFO: [XFORM 203-502] Unrolling all sub-loops inside loop 'ReLUActLoop' (firmware/nnet_utils/nnet_activation_stream.h:60) in function 'nnet::relu<nnet::array<ap_fixed<16, 6, (ap_q_mode)5, (ap_o_mode)3, 0>, 16u>, nnet::array<ap_fixed<16, 6, (ap_q_mode)5, (ap_o_mode)3, 0>, 16u>, relu_config3>' for pipelining.\n",
      "INFO: [XFORM 203-502] Unrolling all sub-loops inside loop 'ReadInputWidth' (firmware/nnet_utils/nnet_pooling_stream.h:358) in function 'nnet::pooling1d_cl<nnet::array<ap_fixed<16, 6, (ap_q_mode)5, (ap_o_mode)3, 0>, 32u>, nnet::array<ap_fixed<16, 6, (ap_q_mode)5, (ap_o_mode)3, 0>, 32u>, config7>' for pipelining.\n",
      "INFO: [XFORM 203-502] Unrolling all sub-loops inside loop 'ReadInputWidth' (firmware/nnet_utils/nnet_pooling_stream.h:358) in function 'nnet::pooling1d_cl<nnet::array<ap_fixed<16, 6, (ap_q_mode)5, (ap_o_mode)3, 0>, 16u>, nnet::array<ap_fixed<16, 6, (ap_q_mode)5, (ap_o_mode)3, 0>, 16u>, config4>' for pipelining.\n",
      "INFO: [XFORM 203-502] Unrolling all loops for pipelining in function 'nnet::global_pooling1d_cl<nnet::array<ap_fixed<16, 6, (ap_q_mode)5, (ap_o_mode)3, 0>, 64u>, nnet::array<ap_fixed<16, 6, (ap_q_mode)5, (ap_o_mode)3, 0>, 64u>, config10>' (firmware/nnet_utils/nnet_pooling_stream.h:557:63).\n",
      "INFO: [XFORM 203-502] Unrolling all sub-loops inside loop 'ReuseLoop' (firmware/nnet_utils/nnet_dense_resource.h:64) in function 'nnet::conv_1d_cl<nnet::array<ap_fixed<16, 6, (ap_q_mode)5, (ap_o_mode)3, 0>, 32u>, nnet::array<ap_fixed<16, 6, (ap_q_mode)5, (ap_o_mode)3, 0>, 64u>, config8>' for pipelining.\n",
      "INFO: [XFORM 203-502] Unrolling all sub-loops inside loop 'ReuseLoop' (firmware/nnet_utils/nnet_dense_resource.h:64) in function 'nnet::conv_1d_cl<nnet::array<ap_fixed<16, 6, (ap_q_mode)5, (ap_o_mode)3, 0>, 16u>, nnet::array<ap_fixed<16, 6, (ap_q_mode)5, (ap_o_mode)3, 0>, 32u>, config5>' for pipelining.\n",
      "INFO: [XFORM 203-502] Unrolling all sub-loops inside loop 'ReuseLoop' (firmware/nnet_utils/nnet_dense_resource.h:64) in function 'nnet::dense_wrapper<ap_fixed<16, 6, (ap_q_mode)5, (ap_o_mode)3, 0>, ap_fixed<16, 6, (ap_q_mode)5, (ap_o_mode)3, 0>, config12>' for pipelining.\n",
      "INFO: [XFORM 203-502] Unrolling all loops for pipelining in function 'nnet::compute_global_pool<nnet::array<ap_fixed<16, 6, (ap_q_mode)5, (ap_o_mode)3, 0>, 64u>, nnet::array<ap_fixed<16, 6, (ap_q_mode)5, (ap_o_mode)3, 0>, 64u>, config10>' (firmware/nnet_utils/nnet_pooling_stream.h:465:58).\n",
      "INFO: [HLS 200-489] Unrolling loop 'ReLUPackLoop' (firmware/nnet_utils/nnet_activation_stream.h:67) in function 'nnet::relu<nnet::array<ap_fixed<16, 6, (ap_q_mode)5, (ap_o_mode)3, 0>, 64u>, nnet::array<ap_fixed<16, 6, (ap_q_mode)5, (ap_o_mode)3, 0>, 64u>, relu_config9>' completely with a factor of 64.\n",
      "INFO: [HLS 200-489] Unrolling loop 'ReLUPackLoop' (firmware/nnet_utils/nnet_activation_stream.h:67) in function 'nnet::relu<nnet::array<ap_fixed<16, 6, (ap_q_mode)5, (ap_o_mode)3, 0>, 32u>, nnet::array<ap_fixed<16, 6, (ap_q_mode)5, (ap_o_mode)3, 0>, 32u>, relu_config6>' completely with a factor of 32.\n",
      "INFO: [HLS 200-489] Unrolling loop 'ReLUPackLoop' (firmware/nnet_utils/nnet_activation_stream.h:67) in function 'nnet::relu<nnet::array<ap_fixed<16, 6, (ap_q_mode)5, (ap_o_mode)3, 0>, 16u>, nnet::array<ap_fixed<16, 6, (ap_q_mode)5, (ap_o_mode)3, 0>, 16u>, relu_config3>' completely with a factor of 16.\n",
      "INFO: [HLS 200-489] Unrolling loop 'CopyDataFilt' (firmware/nnet_utils/nnet_pooling_stream.h:308) in function 'nnet::pooling1d_cl<nnet::array<ap_fixed<16, 6, (ap_q_mode)5, (ap_o_mode)3, 0>, 32u>, nnet::array<ap_fixed<16, 6, (ap_q_mode)5, (ap_o_mode)3, 0>, 32u>, config7>' completely with a factor of 32.\n",
      "INFO: [HLS 200-489] Unrolling loop 'FiltLoop' (firmware/nnet_utils/nnet_pooling_stream.h:313) in function 'nnet::pooling1d_cl<nnet::array<ap_fixed<16, 6, (ap_q_mode)5, (ap_o_mode)3, 0>, 32u>, nnet::array<ap_fixed<16, 6, (ap_q_mode)5, (ap_o_mode)3, 0>, 32u>, config7>' completely with a factor of 32.\n",
      "INFO: [HLS 200-489] Unrolling loop 'PoolLoop' (firmware/nnet_utils/nnet_pooling_stream.h:314) in function 'nnet::pooling1d_cl<nnet::array<ap_fixed<16, 6, (ap_q_mode)5, (ap_o_mode)3, 0>, 32u>, nnet::array<ap_fixed<16, 6, (ap_q_mode)5, (ap_o_mode)3, 0>, 32u>, config7>' completely with a factor of 2.\n",
      "INFO: [HLS 200-489] Unrolling loop 'CopyDataFilt' (firmware/nnet_utils/nnet_pooling_stream.h:308) in function 'nnet::pooling1d_cl<nnet::array<ap_fixed<16, 6, (ap_q_mode)5, (ap_o_mode)3, 0>, 16u>, nnet::array<ap_fixed<16, 6, (ap_q_mode)5, (ap_o_mode)3, 0>, 16u>, config4>' completely with a factor of 16.\n",
      "INFO: [HLS 200-489] Unrolling loop 'FiltLoop' (firmware/nnet_utils/nnet_pooling_stream.h:313) in function 'nnet::pooling1d_cl<nnet::array<ap_fixed<16, 6, (ap_q_mode)5, (ap_o_mode)3, 0>, 16u>, nnet::array<ap_fixed<16, 6, (ap_q_mode)5, (ap_o_mode)3, 0>, 16u>, config4>' completely with a factor of 16.\n",
      "INFO: [HLS 200-489] Unrolling loop 'PoolLoop' (firmware/nnet_utils/nnet_pooling_stream.h:314) in function 'nnet::pooling1d_cl<nnet::array<ap_fixed<16, 6, (ap_q_mode)5, (ap_o_mode)3, 0>, 16u>, nnet::array<ap_fixed<16, 6, (ap_q_mode)5, (ap_o_mode)3, 0>, 16u>, config4>' completely with a factor of 2.\n",
      "INFO: [HLS 200-489] Unrolling loop 'PoolInitLoop' (firmware/nnet_utils/nnet_pooling_stream.h:565) in function 'nnet::global_pooling1d_cl<nnet::array<ap_fixed<16, 6, (ap_q_mode)5, (ap_o_mode)3, 0>, 64u>, nnet::array<ap_fixed<16, 6, (ap_q_mode)5, (ap_o_mode)3, 0>, 64u>, config10>' completely with a factor of 64.\n",
      "INFO: [HLS 200-489] Unrolling loop 'ReadInput' (firmware/nnet_utils/nnet_pooling_stream.h:570) in function 'nnet::global_pooling1d_cl<nnet::array<ap_fixed<16, 6, (ap_q_mode)5, (ap_o_mode)3, 0>, 64u>, nnet::array<ap_fixed<16, 6, (ap_q_mode)5, (ap_o_mode)3, 0>, 64u>, config10>' completely with a factor of 3.\n",
      "INFO: [HLS 200-489] Unrolling loop 'MaxPoolPack' (firmware/nnet_utils/nnet_pooling_stream.h:581) in function 'nnet::global_pooling1d_cl<nnet::array<ap_fixed<16, 6, (ap_q_mode)5, (ap_o_mode)3, 0>, 64u>, nnet::array<ap_fixed<16, 6, (ap_q_mode)5, (ap_o_mode)3, 0>, 64u>, config10>' completely with a factor of 64.\n",
      "INFO: [HLS 200-489] Unrolling loop 'DataPack' (firmware/nnet_utils/nnet_dense_stream.h:46) in function 'nnet::dense<nnet::array<ap_fixed<16, 6, (ap_q_mode)5, (ap_o_mode)3, 0>, 64u>, nnet::array<ap_fixed<16, 6, (ap_q_mode)5, (ap_o_mode)3, 0>, 1u>, config12>' completely with a factor of 64.\n",
      "INFO: [HLS 200-489] Unrolling loop 'CopyDataFilt' (firmware/nnet_utils/nnet_conv_stream.h:135) in function 'nnet::conv_1d_cl<nnet::array<ap_fixed<16, 6, (ap_q_mode)5, (ap_o_mode)3, 0>, 32u>, nnet::array<ap_fixed<16, 6, (ap_q_mode)5, (ap_o_mode)3, 0>, 64u>, config8>' completely with a factor of 9.\n",
      "INFO: [HLS 200-489] Unrolling loop 'CopyDataChan' (firmware/nnet_utils/nnet_conv_stream.h:137) in function 'nnet::conv_1d_cl<nnet::array<ap_fixed<16, 6, (ap_q_mode)5, (ap_o_mode)3, 0>, 32u>, nnet::array<ap_fixed<16, 6, (ap_q_mode)5, (ap_o_mode)3, 0>, 64u>, config8>' completely with a factor of 32.\n",
      "INFO: [HLS 200-489] Unrolling loop 'InitData' (firmware/nnet_utils/nnet_conv_stream.h:87) in function 'nnet::conv_1d_cl<nnet::array<ap_fixed<16, 6, (ap_q_mode)5, (ap_o_mode)3, 0>, 32u>, nnet::array<ap_fixed<16, 6, (ap_q_mode)5, (ap_o_mode)3, 0>, 64u>, config8>' completely with a factor of 288.\n",
      "INFO: [HLS 200-489] Unrolling loop 'InitAccum' (firmware/nnet_utils/nnet_dense_resource.h:58) in function 'nnet::conv_1d_cl<nnet::array<ap_fixed<16, 6, (ap_q_mode)5, (ap_o_mode)3, 0>, 32u>, nnet::array<ap_fixed<16, 6, (ap_q_mode)5, (ap_o_mode)3, 0>, 64u>, config8>' completely with a factor of 64.\n",
      "INFO: [HLS 200-489] Unrolling loop 'MultLoop' (firmware/nnet_utils/nnet_dense_resource.h:73) in function 'nnet::conv_1d_cl<nnet::array<ap_fixed<16, 6, (ap_q_mode)5, (ap_o_mode)3, 0>, 32u>, nnet::array<ap_fixed<16, 6, (ap_q_mode)5, (ap_o_mode)3, 0>, 64u>, config8>' completely with a factor of 384.\n",
      "INFO: [HLS 200-489] Unrolling loop 'Result' (firmware/nnet_utils/nnet_dense_resource.h:97) in function 'nnet::conv_1d_cl<nnet::array<ap_fixed<16, 6, (ap_q_mode)5, (ap_o_mode)3, 0>, 32u>, nnet::array<ap_fixed<16, 6, (ap_q_mode)5, (ap_o_mode)3, 0>, 64u>, config8>' completely with a factor of 64.\n"
     ]
    },
    {
     "name": "stdout",
     "output_type": "stream",
     "text": [
      "INFO: [HLS 200-489] Unrolling loop 'CastLoop' (firmware/nnet_utils/nnet_conv_stream.h:99) in function 'nnet::conv_1d_cl<nnet::array<ap_fixed<16, 6, (ap_q_mode)5, (ap_o_mode)3, 0>, 32u>, nnet::array<ap_fixed<16, 6, (ap_q_mode)5, (ap_o_mode)3, 0>, 64u>, config8>' completely with a factor of 64.\n",
      "INFO: [HLS 200-489] Unrolling loop 'CopyDataFilt' (firmware/nnet_utils/nnet_conv_stream.h:135) in function 'nnet::conv_1d_cl<nnet::array<ap_fixed<16, 6, (ap_q_mode)5, (ap_o_mode)3, 0>, 1u>, nnet::array<ap_fixed<16, 6, (ap_q_mode)5, (ap_o_mode)3, 0>, 16u>, config2>' completely with a factor of 3.\n",
      "INFO: [HLS 200-489] Unrolling loop 'InitData' (firmware/nnet_utils/nnet_conv_stream.h:87) in function 'nnet::conv_1d_cl<nnet::array<ap_fixed<16, 6, (ap_q_mode)5, (ap_o_mode)3, 0>, 1u>, nnet::array<ap_fixed<16, 6, (ap_q_mode)5, (ap_o_mode)3, 0>, 16u>, config2>' completely with a factor of 3.\n",
      "INFO: [HLS 200-489] Unrolling loop 'InitAccum' (firmware/nnet_utils/nnet_dense_resource.h:130) in function 'nnet::conv_1d_cl<nnet::array<ap_fixed<16, 6, (ap_q_mode)5, (ap_o_mode)3, 0>, 1u>, nnet::array<ap_fixed<16, 6, (ap_q_mode)5, (ap_o_mode)3, 0>, 16u>, config2>' completely with a factor of 16.\n",
      "INFO: [HLS 200-489] Unrolling loop 'Result' (firmware/nnet_utils/nnet_dense_resource.h:176) in function 'nnet::conv_1d_cl<nnet::array<ap_fixed<16, 6, (ap_q_mode)5, (ap_o_mode)3, 0>, 1u>, nnet::array<ap_fixed<16, 6, (ap_q_mode)5, (ap_o_mode)3, 0>, 16u>, config2>' completely with a factor of 16.\n",
      "INFO: [HLS 200-489] Unrolling loop 'CastLoop' (firmware/nnet_utils/nnet_conv_stream.h:99) in function 'nnet::conv_1d_cl<nnet::array<ap_fixed<16, 6, (ap_q_mode)5, (ap_o_mode)3, 0>, 1u>, nnet::array<ap_fixed<16, 6, (ap_q_mode)5, (ap_o_mode)3, 0>, 16u>, config2>' completely with a factor of 16.\n",
      "INFO: [HLS 200-489] Unrolling loop 'CopyDataFilt' (firmware/nnet_utils/nnet_conv_stream.h:135) in function 'nnet::conv_1d_cl<nnet::array<ap_fixed<16, 6, (ap_q_mode)5, (ap_o_mode)3, 0>, 16u>, nnet::array<ap_fixed<16, 6, (ap_q_mode)5, (ap_o_mode)3, 0>, 32u>, config5>' completely with a factor of 5.\n",
      "INFO: [HLS 200-489] Unrolling loop 'CopyDataChan' (firmware/nnet_utils/nnet_conv_stream.h:137) in function 'nnet::conv_1d_cl<nnet::array<ap_fixed<16, 6, (ap_q_mode)5, (ap_o_mode)3, 0>, 16u>, nnet::array<ap_fixed<16, 6, (ap_q_mode)5, (ap_o_mode)3, 0>, 32u>, config5>' completely with a factor of 16.\n",
      "INFO: [HLS 200-489] Unrolling loop 'InitData' (firmware/nnet_utils/nnet_conv_stream.h:87) in function 'nnet::conv_1d_cl<nnet::array<ap_fixed<16, 6, (ap_q_mode)5, (ap_o_mode)3, 0>, 16u>, nnet::array<ap_fixed<16, 6, (ap_q_mode)5, (ap_o_mode)3, 0>, 32u>, config5>' completely with a factor of 80.\n",
      "INFO: [HLS 200-489] Unrolling loop 'InitAccum' (firmware/nnet_utils/nnet_dense_resource.h:58) in function 'nnet::conv_1d_cl<nnet::array<ap_fixed<16, 6, (ap_q_mode)5, (ap_o_mode)3, 0>, 16u>, nnet::array<ap_fixed<16, 6, (ap_q_mode)5, (ap_o_mode)3, 0>, 32u>, config5>' completely with a factor of 32.\n",
      "INFO: [HLS 200-489] Unrolling loop 'MultLoop' (firmware/nnet_utils/nnet_dense_resource.h:73) in function 'nnet::conv_1d_cl<nnet::array<ap_fixed<16, 6, (ap_q_mode)5, (ap_o_mode)3, 0>, 16u>, nnet::array<ap_fixed<16, 6, (ap_q_mode)5, (ap_o_mode)3, 0>, 32u>, config5>' completely with a factor of 64.\n",
      "INFO: [HLS 200-489] Unrolling loop 'Result' (firmware/nnet_utils/nnet_dense_resource.h:97) in function 'nnet::conv_1d_cl<nnet::array<ap_fixed<16, 6, (ap_q_mode)5, (ap_o_mode)3, 0>, 16u>, nnet::array<ap_fixed<16, 6, (ap_q_mode)5, (ap_o_mode)3, 0>, 32u>, config5>' completely with a factor of 32.\n",
      "INFO: [HLS 200-489] Unrolling loop 'CastLoop' (firmware/nnet_utils/nnet_conv_stream.h:99) in function 'nnet::conv_1d_cl<nnet::array<ap_fixed<16, 6, (ap_q_mode)5, (ap_o_mode)3, 0>, 16u>, nnet::array<ap_fixed<16, 6, (ap_q_mode)5, (ap_o_mode)3, 0>, 32u>, config5>' completely with a factor of 32.\n",
      "INFO: [HLS 200-489] Unrolling loop 'MultLoop' (firmware/nnet_utils/nnet_dense_resource.h:73) in function 'nnet::dense_wrapper<ap_fixed<16, 6, (ap_q_mode)5, (ap_o_mode)3, 0>, ap_fixed<16, 6, (ap_q_mode)5, (ap_o_mode)3, 0>, config12>' completely with a factor of 2.\n",
      "INFO: [HLS 200-489] Unrolling loop 'PoolFilt' (firmware/nnet_utils/nnet_pooling_stream.h:479) in function 'nnet::compute_global_pool<nnet::array<ap_fixed<16, 6, (ap_q_mode)5, (ap_o_mode)3, 0>, 64u>, nnet::array<ap_fixed<16, 6, (ap_q_mode)5, (ap_o_mode)3, 0>, 64u>, config10>' completely with a factor of 64.\n",
      "WARNING: [XFORM 203-135] Cannot reshape array 'w2.V' : incorrect reshape factor 1.\n",
      "WARNING: [XFORM 203-135] Cannot reshape array 'w2.V' : incorrect reshape factor 1.\n",
      "INFO: [XFORM 203-131] Reshaping array 'w8.V'  in dimension 1 with a block factor of 384.\n",
      "INFO: [XFORM 203-131] Reshaping array 'w5.V'  in dimension 1 with a block factor of 64.\n",
      "INFO: [XFORM 203-131] Reshaping array 'w12.V'  in dimension 1 with a block factor of 2.\n",
      "INFO: [XFORM 203-102] Automatically partitioning streamed array 'layer12_out.V.data.V' (firmware/myproject.cpp:96) .\n",
      "INFO: [XFORM 203-102] Automatically partitioning streamed array 'layer13_out.V.data.V' (firmware/myproject.cpp:26) .\n",
      "INFO: [XFORM 203-102] Automatically partitioning streamed array 'layer8_out.V.data.V' (firmware/myproject.cpp:84) .\n",
      "INFO: [XFORM 203-102] Automatically partitioning streamed array 'layer9_out.V.data.V' (firmware/myproject.cpp:88) .\n",
      "INFO: [XFORM 203-102] Automatically partitioning streamed array 'layer5_out.V.data.V' (firmware/myproject.cpp:72) .\n",
      "INFO: [XFORM 203-102] Automatically partitioning streamed array 'layer6_out.V.data.V' (firmware/myproject.cpp:76) .\n",
      "INFO: [XFORM 203-102] Automatically partitioning streamed array 'layer2_out.V.data.V' (firmware/myproject.cpp:60) .\n",
      "INFO: [XFORM 203-102] Automatically partitioning streamed array 'layer3_out.V.data.V' (firmware/myproject.cpp:64) .\n",
      "INFO: [XFORM 203-102] Automatically partitioning streamed array 'data_window.V.V' (firmware/nnet_utils/nnet_pooling_stream.h:350) .\n",
      "INFO: [XFORM 203-102] Automatically partitioning streamed array 'layer7_out.V.data.V' (firmware/myproject.cpp:80) .\n",
      "INFO: [XFORM 203-102] Automatically partitioning streamed array 'data_window.V.V' (firmware/nnet_utils/nnet_pooling_stream.h:350) .\n",
      "INFO: [XFORM 203-102] Automatically partitioning streamed array 'layer4_out.V.data.V' (firmware/myproject.cpp:68) .\n",
      "INFO: [XFORM 203-102] Automatically partitioning streamed array 'layer10_out.V.data.V' (firmware/myproject.cpp:92) .\n",
      "INFO: [XFORM 203-102] Automatically partitioning streamed array 'data_window.V.V' (firmware/nnet_utils/nnet_conv1d_stream.h:34) .\n",
      "INFO: [XFORM 203-102] Automatically partitioning streamed array 'data_window.V.V' (firmware/nnet_utils/nnet_conv1d_stream.h:34) .\n",
      "INFO: [XFORM 203-102] Automatically partitioning streamed array 'conv1d_input.V.data.V' (firmware/myproject.cpp:25) .\n",
      "INFO: [XFORM 203-102] Automatically partitioning streamed array 'data_window.V.V' (firmware/nnet_utils/nnet_conv1d_stream.h:34) .\n",
      "INFO: [XFORM 203-101] Partitioning array 'tmp.data.V' in dimension 1 completely.\n",
      "INFO: [XFORM 203-101] Partitioning array 'tmp.data.V' in dimension 1 completely.\n",
      "INFO: [XFORM 203-101] Partitioning array 'tmp.data.V' in dimension 1 completely.\n",
      "INFO: [XFORM 203-101] Partitioning array 'tmp.data.V.5' in dimension 1 completely.\n",
      "INFO: [XFORM 203-101] Partitioning array 'pool_window.V' (firmware/nnet_utils/nnet_pooling_stream.h:295) in dimension 1 completely.\n",
      "INFO: [XFORM 203-101] Partitioning array 'tmp.data.V.6' in dimension 1 completely.\n",
      "INFO: [XFORM 203-101] Partitioning array 'pool_window.V' (firmware/nnet_utils/nnet_pooling_stream.h:295) in dimension 1 completely.\n",
      "INFO: [XFORM 203-101] Partitioning array 'data_window.V' (firmware/nnet_utils/nnet_pooling_stream.h:557) in dimension 1 completely.\n",
      "INFO: [XFORM 203-101] Partitioning array 'data.V' (firmware/nnet_utils/nnet_dense_stream.h:35) in dimension 1 completely.\n",
      "INFO: [XFORM 203-101] Partitioning array 'res.V' (firmware/nnet_utils/nnet_dense_stream.h:38) in dimension 1 completely.\n",
      "INFO: [XFORM 203-101] Partitioning array 'tmp.data.V' in dimension 1 completely.\n",
      "INFO: [XFORM 203-101] Partitioning array 'config8::pixels.V'  in dimension 1 completely.\n",
      "INFO: [XFORM 203-101] Partitioning array 'pixel_idx.V' (firmware/nnet_utils/nnet_conv1d_stream.h:46) in dimension 1 completely.\n"
     ]
    },
    {
     "name": "stdout",
     "output_type": "stream",
     "text": [
      "INFO: [XFORM 203-101] Partitioning array 'tmp.data.V.9' in dimension 1 completely.\n",
      "WARNING: [XFORM 203-104] Completely partitioning array 'data.V' (firmware/nnet_utils/nnet_conv_stream.h:82) accessed through non-constant indices on dimension 1 (firmware/nnet_utils/nnet_dense_resource.h:76:20), which may result in long runtime and suboptimal QoR due to large multiplexers. Please consider wrapping the array access into a function or using a register file core instead.\n",
      "INFO: [XFORM 203-101] Partitioning array 'data.V' (firmware/nnet_utils/nnet_conv_stream.h:82) in dimension 1 completely.\n",
      "INFO: [XFORM 203-101] Partitioning array 'res.i.i.i'  in dimension 1 completely.\n",
      "INFO: [XFORM 203-101] Partitioning array 'b8.V'  in dimension 1 completely.\n",
      "INFO: [XFORM 203-101] Partitioning array 'acc.V' (firmware/nnet_utils/nnet_dense_resource.h:54) in dimension 1 completely.\n",
      "INFO: [XFORM 203-101] Partitioning array 'config2::pixels.V'  in dimension 1 completely.\n",
      "INFO: [XFORM 203-101] Partitioning array 'pixel_idx.V' (firmware/nnet_utils/nnet_conv1d_stream.h:46) in dimension 1 completely.\n",
      "INFO: [XFORM 203-101] Partitioning array 'data.V' (firmware/nnet_utils/nnet_conv_stream.h:82) in dimension 1 completely.\n",
      "INFO: [XFORM 203-101] Partitioning array 'res.i.i.i'  in dimension 1 completely.\n",
      "INFO: [XFORM 203-101] Partitioning array 'b2.V'  in dimension 1 completely.\n",
      "INFO: [XFORM 203-101] Partitioning array 'acc.V' (firmware/nnet_utils/nnet_dense_resource.h:126) in dimension 1 completely.\n",
      "INFO: [XFORM 203-101] Partitioning array 'config5::pixels.V'  in dimension 1 completely.\n",
      "INFO: [XFORM 203-101] Partitioning array 'pixel_idx.V' (firmware/nnet_utils/nnet_conv1d_stream.h:46) in dimension 1 completely.\n",
      "INFO: [XFORM 203-101] Partitioning array 'tmp.data.V.11' in dimension 1 completely.\n",
      "WARNING: [XFORM 203-104] Completely partitioning array 'data.V' (firmware/nnet_utils/nnet_conv_stream.h:82) accessed through non-constant indices on dimension 1 (firmware/nnet_utils/nnet_dense_resource.h:76:20), which may result in long runtime and suboptimal QoR due to large multiplexers. Please consider wrapping the array access into a function or using a register file core instead.\n",
      "INFO: [XFORM 203-101] Partitioning array 'data.V' (firmware/nnet_utils/nnet_conv_stream.h:82) in dimension 1 completely.\n",
      "INFO: [XFORM 203-101] Partitioning array 'res.i.i.i'  in dimension 1 completely.\n",
      "INFO: [XFORM 203-101] Partitioning array 'b5.V'  in dimension 1 completely.\n",
      "INFO: [XFORM 203-101] Partitioning array 'acc.V' (firmware/nnet_utils/nnet_dense_resource.h:54) in dimension 1 completely.\n",
      "INFO: [XFORM 203-101] Partitioning array 'b12.V'  in dimension 1 completely.\n",
      "INFO: [XFORM 203-101] Partitioning array 'acc.V' (firmware/nnet_utils/nnet_dense_resource.h:54) in dimension 1 completely.\n",
      "INFO: [XFORM 203-101] Partitioning array 'data_pack.V' (firmware/nnet_utils/nnet_pooling_stream.h:482) in dimension 1 completely.\n",
      "INFO: [XFORM 203-101] Partitioning array 'layer12_out.V.data.V' (firmware/myproject.cpp:96) in dimension 1 completely.\n",
      "INFO: [XFORM 203-101] Partitioning array 'layer13_out.V.data.V' (firmware/myproject.cpp:26) in dimension 1 completely.\n",
      "INFO: [XFORM 203-101] Partitioning array 'layer8_out.V.data.V' (firmware/myproject.cpp:84) in dimension 1 completely.\n",
      "INFO: [XFORM 203-101] Partitioning array 'layer9_out.V.data.V' (firmware/myproject.cpp:88) in dimension 1 completely.\n",
      "INFO: [XFORM 203-101] Partitioning array 'layer5_out.V.data.V' (firmware/myproject.cpp:72) in dimension 1 completely.\n",
      "INFO: [XFORM 203-101] Partitioning array 'layer6_out.V.data.V' (firmware/myproject.cpp:76) in dimension 1 completely.\n",
      "INFO: [XFORM 203-101] Partitioning array 'layer2_out.V.data.V' (firmware/myproject.cpp:60) in dimension 1 completely.\n",
      "INFO: [XFORM 203-101] Partitioning array 'layer3_out.V.data.V' (firmware/myproject.cpp:64) in dimension 1 completely.\n",
      "WARNING: [XFORM 203-104] Completely partitioning array 'data_window.V.V' (firmware/nnet_utils/nnet_pooling_stream.h:350) accessed through non-constant indices on dimension 1 (firmware/nnet_utils/nnet_pooling_stream.h:309:102), which may result in long runtime and suboptimal QoR due to large multiplexers. Please consider wrapping the array access into a function or using a register file core instead.\n",
      "INFO: [XFORM 203-101] Partitioning array 'data_window.V.V' (firmware/nnet_utils/nnet_pooling_stream.h:350) in dimension 1 completely.\n",
      "INFO: [XFORM 203-101] Partitioning array 'layer7_out.V.data.V' (firmware/myproject.cpp:80) in dimension 1 completely.\n",
      "INFO: [XFORM 203-101] Partitioning array 'data_window.V.V' (firmware/nnet_utils/nnet_pooling_stream.h:350) in dimension 1 completely.\n",
      "INFO: [XFORM 203-101] Partitioning array 'layer4_out.V.data.V' (firmware/myproject.cpp:68) in dimension 1 completely.\n",
      "INFO: [XFORM 203-101] Partitioning array 'layer10_out.V.data.V' (firmware/myproject.cpp:92) in dimension 1 completely.\n",
      "WARNING: [XFORM 203-104] Completely partitioning array 'data_window.V.V' (firmware/nnet_utils/nnet_conv1d_stream.h:34) accessed through non-constant indices on dimension 1 (firmware/nnet_utils/nnet_conv1d_stream.h:37:1), which may result in long runtime and suboptimal QoR due to large multiplexers. Please consider wrapping the array access into a function or using a register file core instead.\n",
      "INFO: [XFORM 203-101] Partitioning array 'data_window.V.V' (firmware/nnet_utils/nnet_conv1d_stream.h:34) in dimension 1 completely.\n",
      "INFO: [XFORM 203-101] Partitioning array 'data_window.V.V' (firmware/nnet_utils/nnet_conv1d_stream.h:34) in dimension 1 completely.\n",
      "INFO: [XFORM 203-101] Partitioning array 'conv1d_input.V.data.V' (firmware/myproject.cpp:25) in dimension 1 completely.\n",
      "WARNING: [XFORM 203-104] Completely partitioning array 'data_window.V.V' (firmware/nnet_utils/nnet_conv1d_stream.h:34) accessed through non-constant indices on dimension 1 (firmware/nnet_utils/nnet_conv1d_stream.h:37:1), which may result in long runtime and suboptimal QoR due to large multiplexers. Please consider wrapping the array access into a function or using a register file core instead.\n",
      "INFO: [XFORM 203-101] Partitioning array 'data_window.V.V' (firmware/nnet_utils/nnet_conv1d_stream.h:34) in dimension 1 completely.\n",
      "WARNING: [XFORM 203-104] Completely partitioning array 'data.V' (firmware/nnet_utils/nnet_dense_stream.h:35) accessed through non-constant indices on dimension 1 (firmware/nnet_utils/nnet_dense_resource.h:76:20), which may result in long runtime and suboptimal QoR due to large multiplexers. Please consider wrapping the array access into a function or using a register file core instead.\n",
      "INFO: [XFORM 203-602] Inlining function 'nnet::compute_scaled_indices_1d<nnet::array<ap_fixed<16, 6, (ap_q_mode)5, (ap_o_mode)3, 0>, 1u>, config2>' into 'nnet::conv_1d_cl<nnet::array<ap_fixed<16, 6, (ap_q_mode)5, (ap_o_mode)3, 0>, 1u>, nnet::array<ap_fixed<16, 6, (ap_q_mode)5, (ap_o_mode)3, 0>, 16u>, config2>' (firmware/nnet_utils/nnet_conv1d_stream.h:54->firmware/nnet_utils/nnet_conv1d_stream.h:90) automatically.\n",
      "INFO: [XFORM 203-602] Inlining function 'nnet::cast<ap_fixed<16, 6, (ap_q_mode)5, (ap_o_mode)3, 0>, ap_fixed<16, 6, (ap_q_mode)5, (ap_o_mode)3, 0>, config2_mult>' into 'nnet::conv_1d_cl<nnet::array<ap_fixed<16, 6, (ap_q_mode)5, (ap_o_mode)3, 0>, 1u>, nnet::array<ap_fixed<16, 6, (ap_q_mode)5, (ap_o_mode)3, 0>, 16u>, config2>' (firmware/nnet_utils/nnet_dense_resource.h:178->firmware/nnet_utils/nnet_dense_resource.h:276->firmware/nnet_utils/nnet_conv_stream.h:96->firmware/nnet_utils/nnet_conv_stream.h:143->firmware/nnet_utils/nnet_conv1d_stream.h:55->firmware/nnet_utils/nnet_conv1d_stream.h:90) automatically.\n",
      "INFO: [XFORM 203-602] Inlining function 'nnet::Op_max<ap_fixed<16, 6, (ap_q_mode)5, (ap_o_mode)3, 0> >::operator()' into 'nnet::reduce<ap_fixed<16, 6, (ap_q_mode)5, (ap_o_mode)3, 0>, 2, nnet::Op_max<ap_fixed<16, 6, (ap_q_mode)5, (ap_o_mode)3, 0> > >' (firmware/nnet_utils/nnet_common.h:53) automatically.\n",
      "INFO: [XFORM 203-602] Inlining function 'nnet::reduce<ap_fixed<16, 6, (ap_q_mode)5, (ap_o_mode)3, 0>, 2, nnet::Op_max<ap_fixed<16, 6, (ap_q_mode)5, (ap_o_mode)3, 0> > >' into 'nnet::pooling1d_cl<nnet::array<ap_fixed<16, 6, (ap_q_mode)5, (ap_o_mode)3, 0>, 16u>, nnet::array<ap_fixed<16, 6, (ap_q_mode)5, (ap_o_mode)3, 0>, 16u>, config4>' (firmware/nnet_utils/nnet_pooling_stream.h:22->firmware/nnet_utils/nnet_pooling_stream.h:318->firmware/nnet_utils/nnet_pooling_stream.h:363->firmware/nnet_utils/nnet_pooling_stream.h:450) automatically.\n"
     ]
    },
    {
     "name": "stdout",
     "output_type": "stream",
     "text": [
      "INFO: [XFORM 203-602] Inlining function 'nnet::compute_scaled_indices_1d<nnet::array<ap_fixed<16, 6, (ap_q_mode)5, (ap_o_mode)3, 0>, 16u>, config5>' into 'nnet::conv_1d_cl<nnet::array<ap_fixed<16, 6, (ap_q_mode)5, (ap_o_mode)3, 0>, 16u>, nnet::array<ap_fixed<16, 6, (ap_q_mode)5, (ap_o_mode)3, 0>, 32u>, config5>' (firmware/nnet_utils/nnet_conv1d_stream.h:54->firmware/nnet_utils/nnet_conv1d_stream.h:90) automatically.\n",
      "INFO: [XFORM 203-602] Inlining function 'nnet::cast<ap_fixed<16, 6, (ap_q_mode)5, (ap_o_mode)3, 0>, ap_fixed<16, 6, (ap_q_mode)5, (ap_o_mode)3, 0>, config5_mult>' into 'nnet::conv_1d_cl<nnet::array<ap_fixed<16, 6, (ap_q_mode)5, (ap_o_mode)3, 0>, 16u>, nnet::array<ap_fixed<16, 6, (ap_q_mode)5, (ap_o_mode)3, 0>, 32u>, config5>' (firmware/nnet_utils/nnet_dense_resource.h:99->firmware/nnet_utils/nnet_dense_resource.h:274->firmware/nnet_utils/nnet_conv_stream.h:96->firmware/nnet_utils/nnet_conv_stream.h:143->firmware/nnet_utils/nnet_conv1d_stream.h:55->firmware/nnet_utils/nnet_conv1d_stream.h:90) automatically.\n",
      "INFO: [XFORM 203-602] Inlining function 'nnet::reduce<ap_fixed<16, 6, (ap_q_mode)5, (ap_o_mode)3, 0>, 2, nnet::Op_max<ap_fixed<16, 6, (ap_q_mode)5, (ap_o_mode)3, 0> > >' into 'nnet::pooling1d_cl<nnet::array<ap_fixed<16, 6, (ap_q_mode)5, (ap_o_mode)3, 0>, 32u>, nnet::array<ap_fixed<16, 6, (ap_q_mode)5, (ap_o_mode)3, 0>, 32u>, config7>' (firmware/nnet_utils/nnet_pooling_stream.h:22->firmware/nnet_utils/nnet_pooling_stream.h:318->firmware/nnet_utils/nnet_pooling_stream.h:363->firmware/nnet_utils/nnet_pooling_stream.h:450) automatically.\n",
      "INFO: [XFORM 203-602] Inlining function 'nnet::compute_scaled_indices_1d<nnet::array<ap_fixed<16, 6, (ap_q_mode)5, (ap_o_mode)3, 0>, 32u>, config8>' into 'nnet::conv_1d_cl<nnet::array<ap_fixed<16, 6, (ap_q_mode)5, (ap_o_mode)3, 0>, 32u>, nnet::array<ap_fixed<16, 6, (ap_q_mode)5, (ap_o_mode)3, 0>, 64u>, config8>' (firmware/nnet_utils/nnet_conv1d_stream.h:54->firmware/nnet_utils/nnet_conv1d_stream.h:90) automatically.\n",
      "INFO: [XFORM 203-602] Inlining function 'nnet::cast<ap_fixed<16, 6, (ap_q_mode)5, (ap_o_mode)3, 0>, ap_fixed<16, 6, (ap_q_mode)5, (ap_o_mode)3, 0>, config8_mult>' into 'nnet::conv_1d_cl<nnet::array<ap_fixed<16, 6, (ap_q_mode)5, (ap_o_mode)3, 0>, 32u>, nnet::array<ap_fixed<16, 6, (ap_q_mode)5, (ap_o_mode)3, 0>, 64u>, config8>' (firmware/nnet_utils/nnet_dense_resource.h:99->firmware/nnet_utils/nnet_dense_resource.h:274->firmware/nnet_utils/nnet_conv_stream.h:96->firmware/nnet_utils/nnet_conv_stream.h:143->firmware/nnet_utils/nnet_conv1d_stream.h:55->firmware/nnet_utils/nnet_conv1d_stream.h:90) automatically.\n",
      "INFO: [XFORM 203-602] Inlining function 'hls::numeric_limits<ap_int<16> >::min' into 'hls::numeric_limits<ap_fixed<16, 6, (ap_q_mode)5, (ap_o_mode)3, 0> >::min' (/tools/Xilinx/Vivado/2019.2/common/technology/autopilot/utils/x_hls_utils.h:88) automatically.\n",
      "INFO: [XFORM 203-602] Inlining function 'nnet::reduce<ap_fixed<16, 6, (ap_q_mode)5, (ap_o_mode)3, 0>, 1, nnet::Op_max<ap_fixed<16, 6, (ap_q_mode)5, (ap_o_mode)3, 0> > >' into 'nnet::compute_global_pool<nnet::array<ap_fixed<16, 6, (ap_q_mode)5, (ap_o_mode)3, 0>, 64u>, nnet::array<ap_fixed<16, 6, (ap_q_mode)5, (ap_o_mode)3, 0>, 64u>, config10>' (firmware/nnet_utils/nnet_pooling_stream.h:465->firmware/nnet_utils/nnet_pooling_stream.h:489) automatically.\n",
      "INFO: [XFORM 203-602] Inlining function 'hls::numeric_limits<ap_fixed<16, 6, (ap_q_mode)5, (ap_o_mode)3, 0> >::min' into 'nnet::global_pooling1d_cl<nnet::array<ap_fixed<16, 6, (ap_q_mode)5, (ap_o_mode)3, 0>, 64u>, nnet::array<ap_fixed<16, 6, (ap_q_mode)5, (ap_o_mode)3, 0>, 64u>, config10>' (firmware/nnet_utils/nnet_pooling_stream.h:562) automatically.\n",
      "INFO: [XFORM 203-602] Inlining function 'nnet::cast<ap_fixed<16, 6, (ap_q_mode)5, (ap_o_mode)3, 0>, ap_fixed<16, 6, (ap_q_mode)5, (ap_o_mode)3, 0>, config12>' into 'nnet::dense_wrapper<ap_fixed<16, 6, (ap_q_mode)5, (ap_o_mode)3, 0>, ap_fixed<16, 6, (ap_q_mode)5, (ap_o_mode)3, 0>, config12>' (firmware/nnet_utils/nnet_dense_resource.h:99->firmware/nnet_utils/nnet_dense_resource.h:274->firmware/nnet_utils/nnet_dense_stream.h:24) automatically.\n",
      "INFO: [XFORM 203-712] Applying dataflow to function 'myproject', detected/extracted 12 process function(s): \n",
      "\t 'Block__proc'\n",
      "\t 'nnet::conv_1d_cl<nnet::array<ap_fixed<16, 6, (ap_q_mode)5, (ap_o_mode)3, 0>, 1u>, nnet::array<ap_fixed<16, 6, (ap_q_mode)5, (ap_o_mode)3, 0>, 16u>, config2>'\n",
      "\t 'nnet::relu<nnet::array<ap_fixed<16, 6, (ap_q_mode)5, (ap_o_mode)3, 0>, 16u>, nnet::array<ap_fixed<16, 6, (ap_q_mode)5, (ap_o_mode)3, 0>, 16u>, relu_config3>'\n",
      "\t 'nnet::pooling1d_cl<nnet::array<ap_fixed<16, 6, (ap_q_mode)5, (ap_o_mode)3, 0>, 16u>, nnet::array<ap_fixed<16, 6, (ap_q_mode)5, (ap_o_mode)3, 0>, 16u>, config4>'\n",
      "\t 'nnet::conv_1d_cl<nnet::array<ap_fixed<16, 6, (ap_q_mode)5, (ap_o_mode)3, 0>, 16u>, nnet::array<ap_fixed<16, 6, (ap_q_mode)5, (ap_o_mode)3, 0>, 32u>, config5>'\n",
      "\t 'nnet::relu<nnet::array<ap_fixed<16, 6, (ap_q_mode)5, (ap_o_mode)3, 0>, 32u>, nnet::array<ap_fixed<16, 6, (ap_q_mode)5, (ap_o_mode)3, 0>, 32u>, relu_config6>'\n",
      "\t 'nnet::pooling1d_cl<nnet::array<ap_fixed<16, 6, (ap_q_mode)5, (ap_o_mode)3, 0>, 32u>, nnet::array<ap_fixed<16, 6, (ap_q_mode)5, (ap_o_mode)3, 0>, 32u>, config7>'\n",
      "\t 'nnet::conv_1d_cl<nnet::array<ap_fixed<16, 6, (ap_q_mode)5, (ap_o_mode)3, 0>, 32u>, nnet::array<ap_fixed<16, 6, (ap_q_mode)5, (ap_o_mode)3, 0>, 64u>, config8>'\n",
      "\t 'nnet::relu<nnet::array<ap_fixed<16, 6, (ap_q_mode)5, (ap_o_mode)3, 0>, 64u>, nnet::array<ap_fixed<16, 6, (ap_q_mode)5, (ap_o_mode)3, 0>, 64u>, relu_config9>'\n",
      "\t 'nnet::global_pooling1d_cl<nnet::array<ap_fixed<16, 6, (ap_q_mode)5, (ap_o_mode)3, 0>, 64u>, nnet::array<ap_fixed<16, 6, (ap_q_mode)5, (ap_o_mode)3, 0>, 64u>, config10>'\n",
      "\t 'nnet::dense<nnet::array<ap_fixed<16, 6, (ap_q_mode)5, (ap_o_mode)3, 0>, 64u>, nnet::array<ap_fixed<16, 6, (ap_q_mode)5, (ap_o_mode)3, 0>, 1u>, config12>'\n",
      "\t 'nnet::sigmoid<nnet::array<ap_fixed<16, 6, (ap_q_mode)5, (ap_o_mode)3, 0>, 1u>, nnet::array<ap_fixed<16, 6, (ap_q_mode)5, (ap_o_mode)3, 0>, 1u>, sigmoid_config13>'.\n",
      "INFO: [XFORM 203-401] Performing if-conversion on hyperblock to (firmware/nnet_utils/nnet_activation_stream.h:114:1) in function 'nnet::sigmoid<nnet::array<ap_fixed<16, 6, (ap_q_mode)5, (ap_o_mode)3, 0>, 1u>, nnet::array<ap_fixed<16, 6, (ap_q_mode)5, (ap_o_mode)3, 0>, 1u>, sigmoid_config13>'... converting 5 basic blocks.\n",
      "INFO: [XFORM 203-401] Performing if-conversion on hyperblock from (firmware/nnet_utils/nnet_activation_stream.h:60:74) to (firmware/nnet_utils/nnet_activation_stream.h:60:68) in function 'nnet::relu<nnet::array<ap_fixed<16, 6, (ap_q_mode)5, (ap_o_mode)3, 0>, 64u>, nnet::array<ap_fixed<16, 6, (ap_q_mode)5, (ap_o_mode)3, 0>, 64u>, relu_config9>'... converting 193 basic blocks.\n",
      "INFO: [XFORM 203-401] Performing if-conversion on hyperblock from (firmware/nnet_utils/nnet_activation_stream.h:60:74) to (firmware/nnet_utils/nnet_activation_stream.h:60:68) in function 'nnet::relu<nnet::array<ap_fixed<16, 6, (ap_q_mode)5, (ap_o_mode)3, 0>, 32u>, nnet::array<ap_fixed<16, 6, (ap_q_mode)5, (ap_o_mode)3, 0>, 32u>, relu_config6>'... converting 97 basic blocks.\n",
      "INFO: [XFORM 203-401] Performing if-conversion on hyperblock from (firmware/nnet_utils/nnet_activation_stream.h:60:74) to (firmware/nnet_utils/nnet_activation_stream.h:60:68) in function 'nnet::relu<nnet::array<ap_fixed<16, 6, (ap_q_mode)5, (ap_o_mode)3, 0>, 16u>, nnet::array<ap_fixed<16, 6, (ap_q_mode)5, (ap_o_mode)3, 0>, 16u>, relu_config3>'... converting 49 basic blocks.\n",
      "INFO: [XFORM 203-401] Performing if-conversion on hyperblock from (firmware/nnet_utils/nnet_pooling_stream.h:358:93) to (firmware/nnet_utils/nnet_pooling_stream.h:309:17) in function 'nnet::pooling1d_cl<nnet::array<ap_fixed<16, 6, (ap_q_mode)5, (ap_o_mode)3, 0>, 32u>, nnet::array<ap_fixed<16, 6, (ap_q_mode)5, (ap_o_mode)3, 0>, 32u>, config7>'... converting 3 basic blocks.\n",
      "INFO: [XFORM 203-401] Performing if-conversion on hyperblock from (firmware/nnet_utils/nnet_pooling_stream.h:358:93) to (firmware/nnet_utils/nnet_pooling_stream.h:309:17) in function 'nnet::pooling1d_cl<nnet::array<ap_fixed<16, 6, (ap_q_mode)5, (ap_o_mode)3, 0>, 16u>, nnet::array<ap_fixed<16, 6, (ap_q_mode)5, (ap_o_mode)3, 0>, 16u>, config4>'... converting 3 basic blocks.\n",
      "INFO: [XFORM 203-401] Performing if-conversion on hyperblock from (firmware/nnet_utils/nnet_conv1d_stream.h:49:114) to (firmware/nnet_utils/nnet_conv_stream.h:139:6) in function 'nnet::conv_1d_cl<nnet::array<ap_fixed<16, 6, (ap_q_mode)5, (ap_o_mode)3, 0>, 1u>, nnet::array<ap_fixed<16, 6, (ap_q_mode)5, (ap_o_mode)3, 0>, 16u>, config2>'... converting 6 basic blocks.\n",
      "INFO: [XFORM 203-401] Performing if-conversion on hyperblock from (firmware/nnet_utils/nnet_conv1d_stream.h:49:114) to (firmware/nnet_utils/nnet_conv_stream.h:139:6) in function 'nnet::conv_1d_cl<nnet::array<ap_fixed<16, 6, (ap_q_mode)5, (ap_o_mode)3, 0>, 16u>, nnet::array<ap_fixed<16, 6, (ap_q_mode)5, (ap_o_mode)3, 0>, 32u>, config5>'... converting 5 basic blocks.\n"
     ]
    },
    {
     "name": "stdout",
     "output_type": "stream",
     "text": [
      "INFO: [XFORM 203-603] Inlining function 'aesl_mux_load.6i3P.i3' into 'nnet::conv_1d_cl<nnet::array<ap_fixed<16, 6, (ap_q_mode)5, (ap_o_mode)3, 0>, 1u>, nnet::array<ap_fixed<16, 6, (ap_q_mode)5, (ap_o_mode)3, 0>, 16u>, config2>' (firmware/nnet_utils/nnet_conv1d_stream.h:21->firmware/nnet_utils/nnet_conv1d_stream.h:54->firmware/nnet_utils/nnet_conv1d_stream.h:90).\n",
      "INFO: [XFORM 203-603] Inlining function 'aesl_mux_load.9i5P.i4' into 'nnet::conv_1d_cl<nnet::array<ap_fixed<16, 6, (ap_q_mode)5, (ap_o_mode)3, 0>, 16u>, nnet::array<ap_fixed<16, 6, (ap_q_mode)5, (ap_o_mode)3, 0>, 32u>, config5>' (firmware/nnet_utils/nnet_conv1d_stream.h:21->firmware/nnet_utils/nnet_conv1d_stream.h:54->firmware/nnet_utils/nnet_conv1d_stream.h:90).\n",
      "INFO: [XFORM 203-603] Inlining function 'aesl_mux_load.17i9P.i5' into 'nnet::conv_1d_cl<nnet::array<ap_fixed<16, 6, (ap_q_mode)5, (ap_o_mode)3, 0>, 32u>, nnet::array<ap_fixed<16, 6, (ap_q_mode)5, (ap_o_mode)3, 0>, 64u>, config8>' (firmware/nnet_utils/nnet_conv1d_stream.h:21->firmware/nnet_utils/nnet_conv1d_stream.h:54->firmware/nnet_utils/nnet_conv1d_stream.h:90).\n",
      "INFO: [XFORM 203-11] Balancing expressions in function 'nnet::conv_1d_cl<nnet::array<ap_fixed<16, 6, (ap_q_mode)5, (ap_o_mode)3, 0>, 32u>, nnet::array<ap_fixed<16, 6, (ap_q_mode)5, (ap_o_mode)3, 0>, 64u>, config8>' (firmware/nnet_utils/nnet_dense_resource.h:13:20)...384 expression(s) balanced.\n",
      "INFO: [HLS 200-111] Finished Pre-synthesis Time (s): cpu = 00:07:20 ; elapsed = 00:07:23 . Memory (MB): peak = 1964.254 ; gain = 1531.051 ; free physical = 9278 ; free virtual = 15428\n",
      "WARNING: [XFORM 203-542] Cannot flatten a loop nest 'ReadInputWidth' (firmware/nnet_utils/nnet_conv1d_stream.h:49:114) in function 'nnet::conv_1d_cl<nnet::array<ap_fixed<16, 6, (ap_q_mode)5, (ap_o_mode)3, 0>, 32u>, nnet::array<ap_fixed<16, 6, (ap_q_mode)5, (ap_o_mode)3, 0>, 64u>, config8>' : \n",
      "\n",
      "the outer loop is not a perfect loop because there is nontrivial logic before entering the inner loop.\n",
      "WARNING: [XFORM 203-542] Cannot flatten a loop nest 'ReadInputWidth' (firmware/nnet_utils/nnet_conv1d_stream.h:49:114) in function 'nnet::conv_1d_cl<nnet::array<ap_fixed<16, 6, (ap_q_mode)5, (ap_o_mode)3, 0>, 1u>, nnet::array<ap_fixed<16, 6, (ap_q_mode)5, (ap_o_mode)3, 0>, 16u>, config2>' : \n",
      "\n",
      "the outer loop is not a perfect loop because there is nontrivial logic before entering the inner loop.\n",
      "WARNING: [XFORM 203-542] Cannot flatten a loop nest 'ReadInputWidth' (firmware/nnet_utils/nnet_conv1d_stream.h:49:114) in function 'nnet::conv_1d_cl<nnet::array<ap_fixed<16, 6, (ap_q_mode)5, (ap_o_mode)3, 0>, 16u>, nnet::array<ap_fixed<16, 6, (ap_q_mode)5, (ap_o_mode)3, 0>, 32u>, config5>' : \n",
      "\n",
      "the outer loop is not a perfect loop because there is nontrivial logic before entering the inner loop.\n",
      "WARNING: [XFORM 203-631] Renaming function 'nnet::sigmoid<nnet::array<ap_fixed<16, 6, (ap_q_mode)5, (ap_o_mode)3, 0>, 1u>, nnet::array<ap_fixed<16, 6, (ap_q_mode)5, (ap_o_mode)3, 0>, 1u>, sigmoid_config13>' to 'sigmoid<array,array<ap_fixed,1u>,sigmoid_config13>' (firmware/nnet_utils/nnet_activation_stream.h:96:1)\n",
      "WARNING: [XFORM 203-631] Renaming function 'nnet::relu<nnet::array<ap_fixed<16, 6, (ap_q_mode)5, (ap_o_mode)3, 0>, 64u>, nnet::array<ap_fixed<16, 6, (ap_q_mode)5, (ap_o_mode)3, 0>, 64u>, relu_config9>' to 'relu<array,array<ap_fixed,64u>,relu_config9>' (firmware/nnet_utils/nnet_activation_stream.h:60:68)\n",
      "WARNING: [XFORM 203-631] Renaming function 'nnet::relu<nnet::array<ap_fixed<16, 6, (ap_q_mode)5, (ap_o_mode)3, 0>, 32u>, nnet::array<ap_fixed<16, 6, (ap_q_mode)5, (ap_o_mode)3, 0>, 32u>, relu_config6>' to 'relu<array,array<ap_fixed,32u>,relu_config6>' (firmware/nnet_utils/nnet_activation_stream.h:60:68)\n",
      "WARNING: [XFORM 203-631] Renaming function 'nnet::relu<nnet::array<ap_fixed<16, 6, (ap_q_mode)5, (ap_o_mode)3, 0>, 16u>, nnet::array<ap_fixed<16, 6, (ap_q_mode)5, (ap_o_mode)3, 0>, 16u>, relu_config3>' to 'relu<array,array<ap_fixed,16u>,relu_config3>' (firmware/nnet_utils/nnet_activation_stream.h:60:68)\n",
      "WARNING: [XFORM 203-631] Renaming function 'nnet::pooling1d_cl<nnet::array<ap_fixed<16, 6, (ap_q_mode)5, (ap_o_mode)3, 0>, 32u>, nnet::array<ap_fixed<16, 6, (ap_q_mode)5, (ap_o_mode)3, 0>, 32u>, config7>' to 'pooling1d_cl<array,array<ap_fixed,32u>,config7>' (firmware/nnet_utils/nnet_pooling_stream.h:86:102)\n",
      "WARNING: [XFORM 203-631] Renaming function 'nnet::pooling1d_cl<nnet::array<ap_fixed<16, 6, (ap_q_mode)5, (ap_o_mode)3, 0>, 16u>, nnet::array<ap_fixed<16, 6, (ap_q_mode)5, (ap_o_mode)3, 0>, 16u>, config4>' to 'pooling1d_cl<array,array<ap_fixed,16u>,config4>' (firmware/nnet_utils/nnet_pooling_stream.h:86:102)\n",
      "WARNING: [XFORM 203-631] Renaming function 'nnet::global_pooling1d_cl<nnet::array<ap_fixed<16, 6, (ap_q_mode)5, (ap_o_mode)3, 0>, 64u>, nnet::array<ap_fixed<16, 6, (ap_q_mode)5, (ap_o_mode)3, 0>, 64u>, config10>' to 'global_pooling1d_cl<array,array<ap_fixed,64u>,config10>' (firmware/nnet_utils/nnet_pooling_stream.h:572:1)\n",
      "WARNING: [XFORM 203-631] Renaming function 'nnet::dense_wrapper<ap_fixed<16, 6, (ap_q_mode)5, (ap_o_mode)3, 0>, ap_fixed<16, 6, (ap_q_mode)5, (ap_o_mode)3, 0>, config12>' to 'dense_wrapper<ap_fixed,ap_fixed<16,6,5,3,0>,config12>' (firmware/nnet_utils/nnet_dense_resource.h:24:20)\n",
      "WARNING: [XFORM 203-631] Renaming function 'nnet::dense<nnet::array<ap_fixed<16, 6, (ap_q_mode)5, (ap_o_mode)3, 0>, 64u>, nnet::array<ap_fixed<16, 6, (ap_q_mode)5, (ap_o_mode)3, 0>, 1u>, config12>' to 'dense<array,array<ap_fixed<16,6,5,3,0>,1u>,config12>' (firmware/nnet_utils/nnet_dense_stream.h:41:1)\n",
      "WARNING: [XFORM 203-631] Renaming function 'nnet::conv_1d_cl<nnet::array<ap_fixed<16, 6, (ap_q_mode)5, (ap_o_mode)3, 0>, 32u>, nnet::array<ap_fixed<16, 6, (ap_q_mode)5, (ap_o_mode)3, 0>, 64u>, config8>' to 'conv_1d_cl<array,array<ap_fixed,64u>,config8>' (firmware/nnet_utils/nnet_dense_resource.h:13:20)\n",
      "WARNING: [XFORM 203-631] Renaming function 'nnet::conv_1d_cl<nnet::array<ap_fixed<16, 6, (ap_q_mode)5, (ap_o_mode)3, 0>, 1u>, nnet::array<ap_fixed<16, 6, (ap_q_mode)5, (ap_o_mode)3, 0>, 16u>, config2>' to 'conv_1d_cl<array,array<ap_fixed,16u>,config2>' (firmware/nnet_utils/nnet_dense_resource.h:13:20)\n",
      "WARNING: [XFORM 203-631] Renaming function 'nnet::conv_1d_cl<nnet::array<ap_fixed<16, 6, (ap_q_mode)5, (ap_o_mode)3, 0>, 16u>, nnet::array<ap_fixed<16, 6, (ap_q_mode)5, (ap_o_mode)3, 0>, 32u>, config5>' to 'conv_1d_cl<array,array<ap_fixed,32u>,config5>' (firmware/nnet_utils/nnet_dense_resource.h:13:20)\n",
      "WARNING: [XFORM 203-631] Renaming function 'nnet::compute_global_pool<nnet::array<ap_fixed<16, 6, (ap_q_mode)5, (ap_o_mode)3, 0>, 64u>, nnet::array<ap_fixed<16, 6, (ap_q_mode)5, (ap_o_mode)3, 0>, 64u>, config10>' to 'compute_global_pool<array,array<ap_fixed,64u>,config10>' (firmware/nnet_utils/nnet_pooling_stream.h:466:1)\n",
      "WARNING: [XFORM 203-561] Ignored multiple trip count directives for loop 'ReadInputWidth' in function 'conv_1d_cl<array,array<ap_fixed,64u>,config8>'.\n",
      "WARNING: [XFORM 203-561] Ignored multiple trip count directives for loop 'ReadInputWidth' in function 'conv_1d_cl<array,array<ap_fixed,32u>,config5>'.\n",
      "WARNING: [XFORM 203-561] Ignored multiple trip count directives for loop 'ReadInputWidth' in function 'conv_1d_cl<array,array<ap_fixed,16u>,config2>'.\n",
      "INFO: [XFORM 203-531] Rewinding loop 'ReuseLoop' (firmware/nnet_utils/nnet_dense_resource.h:64) in function 'dense_wrapper<ap_fixed,ap_fixed<16,6,5,3,0>,config12>'.\n",
      "WARNING: [XFORM 203-532] Unable to rewind loop 'ReadInputWidth' (firmware/nnet_utils/nnet_conv1d_stream.h:49) in function 'conv_1d_cl<array,array<ap_fixed,64u>,config8>': loop nest is not flattened.\n",
      "WARNING: [XFORM 203-532] Unable to rewind loop 'ReadInputWidth' (firmware/nnet_utils/nnet_conv1d_stream.h:49) in function 'conv_1d_cl<array,array<ap_fixed,32u>,config5>': loop nest is not flattened.\n",
      "WARNING: [XFORM 203-532] Unable to rewind loop 'ReadInputWidth' (firmware/nnet_utils/nnet_conv1d_stream.h:49) in function 'conv_1d_cl<array,array<ap_fixed,16u>,config2>': loop nest is not flattened.\n",
      "WARNING: [XFORM 203-561] Ignored multiple trip count directives for loop 'ReuseLoop' in function 'dense_wrapper<ap_fixed,ap_fixed<16,6,5,3,0>,config12>'.\n",
      "INFO: [HLS 200-111] Finished Architecture Synthesis Time (s): cpu = 00:08:15 ; elapsed = 00:08:18 . Memory (MB): peak = 1964.254 ; gain = 1531.051 ; free physical = 9191 ; free virtual = 15344\n",
      "INFO: [HLS 200-10] Starting hardware synthesis ...\n",
      "INFO: [HLS 200-10] Synthesizing 'myproject' ...\n",
      "WARNING: [SYN 201-103] Legalizing function name 'Block__proc' to 'Block_proc'.\n",
      "WARNING: [SYN 201-103] Legalizing function name 'conv_1d_cl<array,array<ap_fixed,16u>,config2>' to 'conv_1d_cl_array_array_ap_fixed_16u_config2_s'.\n",
      "WARNING: [SYN 201-103] Legalizing function name 'relu<array,array<ap_fixed,16u>,relu_config3>' to 'relu_array_array_ap_fixed_16u_relu_config3_s'.\n",
      "WARNING: [SYN 201-103] Legalizing function name 'pooling1d_cl<array,array<ap_fixed,16u>,config4>' to 'pooling1d_cl_array_array_ap_fixed_16u_config4_s'.\n",
      "WARNING: [SYN 201-103] Legalizing function name 'conv_1d_cl<array,array<ap_fixed,32u>,config5>' to 'conv_1d_cl_array_array_ap_fixed_32u_config5_s'.\n",
      "WARNING: [SYN 201-103] Legalizing function name 'relu<array,array<ap_fixed,32u>,relu_config6>' to 'relu_array_array_ap_fixed_32u_relu_config6_s'.\n",
      "WARNING: [SYN 201-103] Legalizing function name 'pooling1d_cl<array,array<ap_fixed,32u>,config7>' to 'pooling1d_cl_array_array_ap_fixed_32u_config7_s'.\n",
      "WARNING: [SYN 201-103] Legalizing function name 'conv_1d_cl<array,array<ap_fixed,64u>,config8>' to 'conv_1d_cl_array_array_ap_fixed_64u_config8_s'.\n",
      "WARNING: [SYN 201-103] Legalizing function name 'relu<array,array<ap_fixed,64u>,relu_config9>' to 'relu_array_array_ap_fixed_64u_relu_config9_s'.\n",
      "WARNING: [SYN 201-103] Legalizing function name 'compute_global_pool<array,array<ap_fixed,64u>,config10>' to 'compute_global_pool_array_array_ap_fixed_64u_config10_s'.\n",
      "WARNING: [SYN 201-103] Legalizing function name 'global_pooling1d_cl<array,array<ap_fixed,64u>,config10>' to 'global_pooling1d_cl_array_array_ap_fixed_64u_config10_s'.\n",
      "WARNING: [SYN 201-103] Legalizing function name 'dense_wrapper<ap_fixed,ap_fixed<16,6,5,3,0>,config12>' to 'dense_wrapper_ap_fixed_ap_fixed_16_6_5_3_0_config12_s'.\n",
      "WARNING: [SYN 201-103] Legalizing function name 'dense<array,array<ap_fixed<16,6,5,3,0>,1u>,config12>' to 'dense_array_array_ap_fixed_16_6_5_3_0_1u_config12_s'.\n",
      "WARNING: [SYN 201-103] Legalizing function name 'sigmoid<array,array<ap_fixed,1u>,sigmoid_config13>' to 'sigmoid_array_array_ap_fixed_1u_sigmoid_config13_s'.\n"
     ]
    },
    {
     "name": "stdout",
     "output_type": "stream",
     "text": [
      "INFO: [HLS 200-10] ----------------------------------------------------------------\n",
      "INFO: [HLS 200-42] -- Implementing module 'Block_proc' \n",
      "INFO: [HLS 200-10] ----------------------------------------------------------------\n",
      "INFO: [SCHED 204-11] Starting scheduling ...\n",
      "INFO: [SCHED 204-11] Finished scheduling.\n",
      "INFO: [HLS 200-111]  Elapsed time: 500.48 seconds; current allocated memory: 527.526 MB.\n",
      "INFO: [BIND 205-100] Starting micro-architecture generation ...\n",
      "INFO: [BIND 205-101] Performing variable lifetime analysis.\n",
      "INFO: [BIND 205-101] Exploring resource sharing.\n",
      "INFO: [BIND 205-101] Binding ...\n",
      "INFO: [BIND 205-100] Finished micro-architecture generation.\n",
      "INFO: [HLS 200-111]  Elapsed time: 0.08 seconds; current allocated memory: 527.572 MB.\n",
      "INFO: [HLS 200-10] ----------------------------------------------------------------\n",
      "INFO: [HLS 200-42] -- Implementing module 'conv_1d_cl_array_array_ap_fixed_16u_config2_s' \n",
      "INFO: [HLS 200-10] ----------------------------------------------------------------\n",
      "INFO: [SCHED 204-11] Starting scheduling ...\n",
      "INFO: [SCHED 204-61] Pipelining loop 'ReuseLoop'.\n",
      "INFO: [SCHED 204-61] Pipelining result : Target II = 1, Final II = 1, Depth = 6.\n",
      "WARNING: [SCHED 204-21] Estimated clock period (3.644ns) exceeds the target (target clock period: 3.33ns, clock uncertainty: 0.41625ns, effective delay budget: 2.91375ns).\n",
      "WARNING: [SCHED 204-21] The critical path in module 'conv_1d_cl_array_array_ap_fixed_16u_config2_s' consists of the following:\n",
      "\t'select' operation ('select_ln168', firmware/nnet_utils/nnet_dense_resource.h:168->firmware/nnet_utils/nnet_dense_resource.h:276->firmware/nnet_utils/nnet_conv_stream.h:96->firmware/nnet_utils/nnet_conv_stream.h:143->firmware/nnet_utils/nnet_conv1d_stream.h:55->firmware/nnet_utils/nnet_conv1d_stream.h:90) [188]  (0.87 ns)\n",
      "\t'phi' operation ('in_index_0_i_i_i_i_i49', firmware/nnet_utils/nnet_dense_resource.h:168->firmware/nnet_utils/nnet_dense_resource.h:276->firmware/nnet_utils/nnet_conv_stream.h:96->firmware/nnet_utils/nnet_conv_stream.h:143->firmware/nnet_utils/nnet_conv1d_stream.h:55->firmware/nnet_utils/nnet_conv1d_stream.h:90) with incoming values : ('select_ln168', firmware/nnet_utils/nnet_dense_resource.h:168->firmware/nnet_utils/nnet_dense_resource.h:276->firmware/nnet_utils/nnet_conv_stream.h:96->firmware/nnet_utils/nnet_conv_stream.h:143->firmware/nnet_utils/nnet_conv1d_stream.h:55->firmware/nnet_utils/nnet_conv1d_stream.h:90) [104]  (0 ns)\n",
      "\t'add' operation ('in_index', firmware/nnet_utils/nnet_dense_resource.h:167->firmware/nnet_utils/nnet_dense_resource.h:276->firmware/nnet_utils/nnet_conv_stream.h:96->firmware/nnet_utils/nnet_conv_stream.h:143->firmware/nnet_utils/nnet_conv1d_stream.h:55->firmware/nnet_utils/nnet_conv1d_stream.h:90) [186]  (1.51 ns)\n",
      "\t'icmp' operation ('icmp_ln168', firmware/nnet_utils/nnet_dense_resource.h:168->firmware/nnet_utils/nnet_dense_resource.h:276->firmware/nnet_utils/nnet_conv_stream.h:96->firmware/nnet_utils/nnet_conv_stream.h:143->firmware/nnet_utils/nnet_conv1d_stream.h:55->firmware/nnet_utils/nnet_conv1d_stream.h:90) [187]  (1.26 ns)\n",
      "INFO: [SCHED 204-11] Finished scheduling.\n",
      "INFO: [HLS 200-111]  Elapsed time: 0.36 seconds; current allocated memory: 528.332 MB.\n",
      "INFO: [BIND 205-100] Starting micro-architecture generation ...\n",
      "INFO: [BIND 205-101] Performing variable lifetime analysis.\n",
      "INFO: [BIND 205-101] Exploring resource sharing.\n",
      "INFO: [BIND 205-101] Binding ...\n",
      "INFO: [BIND 205-100] Finished micro-architecture generation.\n",
      "INFO: [HLS 200-111]  Elapsed time: 0.57 seconds; current allocated memory: 529.625 MB.\n",
      "INFO: [HLS 200-10] ----------------------------------------------------------------\n",
      "INFO: [HLS 200-42] -- Implementing module 'relu_array_array_ap_fixed_16u_relu_config3_s' \n",
      "INFO: [HLS 200-10] ----------------------------------------------------------------\n",
      "INFO: [SCHED 204-11] Starting scheduling ...\n",
      "INFO: [SCHED 204-61] Pipelining loop 'ReLUActLoop'.\n",
      "INFO: [SCHED 204-61] Pipelining result : Target II = 1, Final II = 1, Depth = 3.\n",
      "INFO: [SCHED 204-11] Finished scheduling.\n",
      "INFO: [HLS 200-111]  Elapsed time: 0.63 seconds; current allocated memory: 529.930 MB.\n",
      "INFO: [BIND 205-100] Starting micro-architecture generation ...\n",
      "INFO: [BIND 205-101] Performing variable lifetime analysis.\n",
      "INFO: [BIND 205-101] Exploring resource sharing.\n",
      "INFO: [BIND 205-101] Binding ...\n",
      "INFO: [BIND 205-100] Finished micro-architecture generation.\n",
      "INFO: [HLS 200-111]  Elapsed time: 0.34 seconds; current allocated memory: 530.614 MB.\n",
      "INFO: [HLS 200-10] ----------------------------------------------------------------\n",
      "INFO: [HLS 200-42] -- Implementing module 'pooling1d_cl_array_array_ap_fixed_16u_config4_s' \n",
      "INFO: [HLS 200-10] ----------------------------------------------------------------\n",
      "INFO: [SCHED 204-11] Starting scheduling ...\n",
      "INFO: [SCHED 204-61] Pipelining loop 'ReadInputWidth'.\n",
      "INFO: [SCHED 204-61] Pipelining result : Target II = 1, Final II = 1, Depth = 6.\n",
      "INFO: [SCHED 204-11] Finished scheduling.\n",
      "INFO: [HLS 200-111]  Elapsed time: 0.53 seconds; current allocated memory: 531.843 MB.\n",
      "INFO: [BIND 205-100] Starting micro-architecture generation ...\n",
      "INFO: [BIND 205-101] Performing variable lifetime analysis.\n",
      "INFO: [BIND 205-101] Exploring resource sharing.\n",
      "INFO: [BIND 205-101] Binding ...\n",
      "INFO: [BIND 205-100] Finished micro-architecture generation.\n",
      "INFO: [HLS 200-111]  Elapsed time: 0.95 seconds; current allocated memory: 533.610 MB.\n",
      "INFO: [HLS 200-10] ----------------------------------------------------------------\n",
      "INFO: [HLS 200-42] -- Implementing module 'conv_1d_cl_array_array_ap_fixed_32u_config5_s' \n",
      "INFO: [HLS 200-10] ----------------------------------------------------------------\n",
      "INFO: [SCHED 204-11] Starting scheduling ...\n",
      "INFO: [SCHED 204-61] Pipelining loop 'ReuseLoop'.\n",
      "INFO: [SCHED 204-61] Pipelining result : Target II = 1, Final II = 1, Depth = 6.\n",
      "WARNING: [SCHED 204-21] Estimated clock period (2.94ns) exceeds the target (target clock period: 3.33ns, clock uncertainty: 0.41625ns, effective delay budget: 2.91375ns).\n",
      "WARNING: [SCHED 204-21] The critical path in module 'conv_1d_cl_array_array_ap_fixed_32u_config5_s' consists of the following:\n",
      "\t'mul' operation of DSP[614] ('mul_ln1118', firmware/nnet_utils/nnet_mult.h:77->firmware/nnet_utils/nnet_dense_resource.h:76->firmware/nnet_utils/nnet_dense_resource.h:274->firmware/nnet_utils/nnet_conv_stream.h:96->firmware/nnet_utils/nnet_conv_stream.h:143->firmware/nnet_utils/nnet_conv1d_stream.h:55->firmware/nnet_utils/nnet_conv1d_stream.h:90) [614]  (2.94 ns)\n",
      "INFO: [SCHED 204-11] Finished scheduling.\n",
      "INFO: [HLS 200-111]  Elapsed time: 1.62 seconds; current allocated memory: 537.671 MB.\n",
      "INFO: [BIND 205-100] Starting micro-architecture generation ...\n",
      "INFO: [BIND 205-101] Performing variable lifetime analysis.\n",
      "INFO: [BIND 205-101] Exploring resource sharing.\n",
      "INFO: [BIND 205-101] Binding ...\n",
      "INFO: [BIND 205-100] Finished micro-architecture generation.\n",
      "INFO: [HLS 200-111]  Elapsed time: 3.68 seconds; current allocated memory: 550.597 MB.\n",
      "INFO: [HLS 200-10] ----------------------------------------------------------------\n",
      "INFO: [HLS 200-42] -- Implementing module 'relu_array_array_ap_fixed_32u_relu_config6_s' \n",
      "INFO: [HLS 200-10] ----------------------------------------------------------------\n",
      "INFO: [SCHED 204-11] Starting scheduling ...\n",
      "INFO: [SCHED 204-61] Pipelining loop 'ReLUActLoop'.\n",
      "INFO: [SCHED 204-61] Pipelining result : Target II = 1, Final II = 1, Depth = 3.\n",
      "INFO: [SCHED 204-11] Finished scheduling.\n",
      "INFO: [HLS 200-111]  Elapsed time: 3.61 seconds; current allocated memory: 551.073 MB.\n",
      "INFO: [BIND 205-100] Starting micro-architecture generation ...\n",
      "INFO: [BIND 205-101] Performing variable lifetime analysis.\n",
      "INFO: [BIND 205-101] Exploring resource sharing.\n",
      "INFO: [BIND 205-101] Binding ...\n",
      "INFO: [BIND 205-100] Finished micro-architecture generation.\n",
      "INFO: [HLS 200-111]  Elapsed time: 0.53 seconds; current allocated memory: 552.415 MB.\n",
      "INFO: [HLS 200-10] ----------------------------------------------------------------\n",
      "INFO: [HLS 200-42] -- Implementing module 'pooling1d_cl_array_array_ap_fixed_32u_config7_s' \n",
      "INFO: [HLS 200-10] ----------------------------------------------------------------\n",
      "INFO: [SCHED 204-11] Starting scheduling ...\n",
      "INFO: [SCHED 204-61] Pipelining loop 'ReadInputWidth'.\n"
     ]
    },
    {
     "name": "stdout",
     "output_type": "stream",
     "text": [
      "INFO: [SCHED 204-61] Pipelining result : Target II = 1, Final II = 1, Depth = 6.\n",
      "INFO: [SCHED 204-11] Finished scheduling.\n",
      "INFO: [HLS 200-111]  Elapsed time: 0.91 seconds; current allocated memory: 555.080 MB.\n",
      "INFO: [BIND 205-100] Starting micro-architecture generation ...\n",
      "INFO: [BIND 205-101] Performing variable lifetime analysis.\n",
      "INFO: [BIND 205-101] Exploring resource sharing.\n",
      "INFO: [BIND 205-101] Binding ...\n",
      "INFO: [BIND 205-100] Finished micro-architecture generation.\n",
      "INFO: [HLS 200-111]  Elapsed time: 1.85 seconds; current allocated memory: 558.446 MB.\n",
      "INFO: [HLS 200-10] ----------------------------------------------------------------\n",
      "INFO: [HLS 200-42] -- Implementing module 'conv_1d_cl_array_array_ap_fixed_64u_config8_s' \n",
      "INFO: [HLS 200-10] ----------------------------------------------------------------\n",
      "INFO: [SCHED 204-11] Starting scheduling ...\n",
      "INFO: [SCHED 204-61] Pipelining loop 'ReuseLoop'.\n",
      "INFO: [SCHED 204-61] Pipelining result : Target II = 1, Final II = 1, Depth = 7.\n",
      "WARNING: [SCHED 204-21] Estimated clock period (2.94ns) exceeds the target (target clock period: 3.33ns, clock uncertainty: 0.41625ns, effective delay budget: 2.91375ns).\n",
      "WARNING: [SCHED 204-21] The critical path in module 'conv_1d_cl_array_array_ap_fixed_64u_config8_s' consists of the following:\n",
      "\t'mul' operation of DSP[1808] ('mul_ln1118', firmware/nnet_utils/nnet_mult.h:77->firmware/nnet_utils/nnet_dense_resource.h:76->firmware/nnet_utils/nnet_dense_resource.h:274->firmware/nnet_utils/nnet_conv_stream.h:96->firmware/nnet_utils/nnet_conv_stream.h:143->firmware/nnet_utils/nnet_conv1d_stream.h:55->firmware/nnet_utils/nnet_conv1d_stream.h:90) [1808]  (2.94 ns)\n",
      "INFO: [SCHED 204-11] Finished scheduling.\n",
      "INFO: [HLS 200-111]  Elapsed time: 5.59 seconds; current allocated memory: 574.111 MB.\n",
      "INFO: [BIND 205-100] Starting micro-architecture generation ...\n",
      "INFO: [BIND 205-101] Performing variable lifetime analysis.\n",
      "INFO: [BIND 205-101] Exploring resource sharing.\n",
      "INFO: [BIND 205-101] Binding ...\n",
      "INFO: [BIND 205-100] Finished micro-architecture generation.\n",
      "INFO: [HLS 200-111]  Elapsed time: 14.84 seconds; current allocated memory: 596.866 MB.\n",
      "INFO: [HLS 200-10] ----------------------------------------------------------------\n",
      "INFO: [HLS 200-42] -- Implementing module 'relu_array_array_ap_fixed_64u_relu_config9_s' \n",
      "INFO: [HLS 200-10] ----------------------------------------------------------------\n",
      "INFO: [SCHED 204-11] Starting scheduling ...\n",
      "INFO: [SCHED 204-61] Pipelining loop 'ReLUActLoop'.\n",
      "INFO: [SCHED 204-61] Pipelining result : Target II = 1, Final II = 1, Depth = 3.\n",
      "INFO: [SCHED 204-11] Finished scheduling.\n",
      "INFO: [HLS 200-111]  Elapsed time: 14.24 seconds; current allocated memory: 598.286 MB.\n",
      "INFO: [BIND 205-100] Starting micro-architecture generation ...\n",
      "INFO: [BIND 205-101] Performing variable lifetime analysis.\n",
      "INFO: [BIND 205-101] Exploring resource sharing.\n",
      "INFO: [BIND 205-101] Binding ...\n",
      "INFO: [BIND 205-100] Finished micro-architecture generation.\n",
      "INFO: [HLS 200-111]  Elapsed time: 0.97 seconds; current allocated memory: 600.862 MB.\n",
      "INFO: [HLS 200-10] ----------------------------------------------------------------\n",
      "INFO: [HLS 200-42] -- Implementing module 'compute_global_pool_array_array_ap_fixed_64u_config10_s' \n",
      "INFO: [HLS 200-10] ----------------------------------------------------------------\n",
      "INFO: [SCHED 204-11] Starting scheduling ...\n",
      "INFO: [SCHED 204-61] Pipelining function 'compute_global_pool<array,array<ap_fixed,64u>,config10>'.\n",
      "INFO: [SCHED 204-61] Pipelining result : Target II = 1, Final II = 1, Depth = 1.\n",
      "INFO: [SCHED 204-11] Finished scheduling.\n",
      "INFO: [HLS 200-111]  Elapsed time: 1.09 seconds; current allocated memory: 602.068 MB.\n",
      "INFO: [BIND 205-100] Starting micro-architecture generation ...\n",
      "INFO: [BIND 205-101] Performing variable lifetime analysis.\n",
      "INFO: [BIND 205-101] Exploring resource sharing.\n",
      "INFO: [BIND 205-101] Binding ...\n",
      "INFO: [BIND 205-100] Finished micro-architecture generation.\n",
      "INFO: [HLS 200-111]  Elapsed time: 0.91 seconds; current allocated memory: 603.245 MB.\n",
      "INFO: [HLS 200-10] ----------------------------------------------------------------\n",
      "INFO: [HLS 200-42] -- Implementing module 'global_pooling1d_cl_array_array_ap_fixed_64u_config10_s' \n",
      "INFO: [HLS 200-10] ----------------------------------------------------------------\n",
      "INFO: [SCHED 204-11] Starting scheduling ...\n",
      "INFO: [SCHED 204-61] Pipelining function 'global_pooling1d_cl<array,array<ap_fixed,64u>,config10>'.\n",
      "WARNING: [SCHED 204-68] The II Violation in module 'global_pooling1d_cl_array_array_ap_fixed_64u_config10_s' (Function: global_pooling1d_cl<array,array<ap_fixed,64u>,config10>): Unable to enforce a carried dependence constraint (II = 1, distance = 1, offset = 1)\n",
      "   between fifo read on port 'data_V_data_0_V' (firmware/nnet_utils/nnet_pooling_stream.h:572) and fifo read on port 'data_V_data_0_V' (firmware/nnet_utils/nnet_pooling_stream.h:572).\n",
      "WARNING: [SCHED 204-68] The II Violation in module 'global_pooling1d_cl_array_array_ap_fixed_64u_config10_s' (Function: global_pooling1d_cl<array,array<ap_fixed,64u>,config10>): Unable to enforce a carried dependence constraint (II = 2, distance = 1, offset = 1)\n",
      "   between fifo read on port 'data_V_data_0_V' (firmware/nnet_utils/nnet_pooling_stream.h:572) and fifo read on port 'data_V_data_0_V' (firmware/nnet_utils/nnet_pooling_stream.h:572).\n",
      "INFO: [SCHED 204-61] Pipelining result : Target II = 1, Final II = 3, Depth = 5.\n",
      "INFO: [SCHED 204-11] Finished scheduling.\n",
      "INFO: [HLS 200-111]  Elapsed time: 1.11 seconds; current allocated memory: 604.835 MB.\n",
      "INFO: [BIND 205-100] Starting micro-architecture generation ...\n",
      "INFO: [BIND 205-101] Performing variable lifetime analysis.\n",
      "INFO: [BIND 205-101] Exploring resource sharing.\n",
      "INFO: [BIND 205-101] Binding ...\n",
      "INFO: [BIND 205-100] Finished micro-architecture generation.\n",
      "INFO: [HLS 200-111]  Elapsed time: 1.45 seconds; current allocated memory: 607.549 MB.\n",
      "INFO: [HLS 200-10] ----------------------------------------------------------------\n",
      "INFO: [HLS 200-42] -- Implementing module 'dense_wrapper_ap_fixed_ap_fixed_16_6_5_3_0_config12_s' \n",
      "INFO: [HLS 200-10] ----------------------------------------------------------------\n",
      "INFO: [SCHED 204-11] Starting scheduling ...\n",
      "INFO: [SCHED 204-61] Pipelining loop 'ReuseLoop'.\n",
      "INFO: [SCHED 204-61] Pipelining result : Target II = 1, Final II = 1, Depth = 6.\n",
      "WARNING: [SCHED 204-21] Estimated clock period (2.94ns) exceeds the target (target clock period: 3.33ns, clock uncertainty: 0.41625ns, effective delay budget: 2.91375ns).\n",
      "WARNING: [SCHED 204-21] The critical path in module 'dense_wrapper_ap_fixed_ap_fixed_16_6_5_3_0_config12_s' consists of the following:\n",
      "\t'mul' operation of DSP[280] ('mul_ln1118', firmware/nnet_utils/nnet_mult.h:77->firmware/nnet_utils/nnet_dense_resource.h:76->firmware/nnet_utils/nnet_dense_resource.h:274->firmware/nnet_utils/nnet_dense_stream.h:24) [280]  (2.94 ns)\n",
      "INFO: [SCHED 204-11] Finished scheduling.\n",
      "INFO: [HLS 200-111]  Elapsed time: 1.65 seconds; current allocated memory: 608.467 MB.\n",
      "INFO: [BIND 205-100] Starting micro-architecture generation ...\n",
      "INFO: [BIND 205-101] Performing variable lifetime analysis.\n",
      "INFO: [BIND 205-101] Exploring resource sharing.\n",
      "INFO: [BIND 205-101] Binding ...\n",
      "INFO: [BIND 205-100] Finished micro-architecture generation.\n",
      "INFO: [HLS 200-111]  Elapsed time: 0.68 seconds; current allocated memory: 610.022 MB.\n",
      "INFO: [HLS 200-10] ----------------------------------------------------------------\n",
      "INFO: [HLS 200-42] -- Implementing module 'dense_array_array_ap_fixed_16_6_5_3_0_1u_config12_s' \n",
      "INFO: [HLS 200-10] ----------------------------------------------------------------\n",
      "INFO: [SCHED 204-11] Starting scheduling ...\n",
      "INFO: [SCHED 204-11] Finished scheduling.\n",
      "INFO: [HLS 200-111]  Elapsed time: 0.75 seconds; current allocated memory: 610.338 MB.\n",
      "INFO: [BIND 205-100] Starting micro-architecture generation ...\n",
      "INFO: [BIND 205-101] Performing variable lifetime analysis.\n",
      "INFO: [BIND 205-101] Exploring resource sharing.\n",
      "INFO: [BIND 205-101] Binding ...\n",
      "INFO: [BIND 205-100] Finished micro-architecture generation.\n",
      "INFO: [HLS 200-111]  Elapsed time: 0.43 seconds; current allocated memory: 611.548 MB.\n",
      "INFO: [HLS 200-10] ----------------------------------------------------------------\n",
      "INFO: [HLS 200-42] -- Implementing module 'sigmoid_array_array_ap_fixed_1u_sigmoid_config13_s' \n",
      "INFO: [HLS 200-10] ----------------------------------------------------------------\n",
      "INFO: [SCHED 204-11] Starting scheduling ...\n",
      "INFO: [SCHED 204-61] Pipelining function 'sigmoid<array,array<ap_fixed,1u>,sigmoid_config13>'.\n",
      "INFO: [SCHED 204-61] Pipelining result : Target II = 1, Final II = 1, Depth = 5.\n",
      "INFO: [SCHED 204-11] Finished scheduling.\n",
      "INFO: [HLS 200-111]  Elapsed time: 0.49 seconds; current allocated memory: 611.664 MB.\n"
     ]
    },
    {
     "name": "stdout",
     "output_type": "stream",
     "text": [
      "INFO: [BIND 205-100] Starting micro-architecture generation ...\n",
      "INFO: [BIND 205-101] Performing variable lifetime analysis.\n",
      "INFO: [BIND 205-101] Exploring resource sharing.\n",
      "INFO: [BIND 205-101] Binding ...\n",
      "INFO: [BIND 205-100] Finished micro-architecture generation.\n",
      "INFO: [HLS 200-111]  Elapsed time: 0.17 seconds; current allocated memory: 611.860 MB.\n",
      "INFO: [HLS 200-10] ----------------------------------------------------------------\n",
      "INFO: [HLS 200-42] -- Implementing module 'myproject' \n",
      "INFO: [HLS 200-10] ----------------------------------------------------------------\n",
      "INFO: [SCHED 204-11] Starting scheduling ...\n",
      "INFO: [SCHED 204-11] Finished scheduling.\n",
      "INFO: [HLS 200-111]  Elapsed time: 0.44 seconds; current allocated memory: 613.630 MB.\n",
      "INFO: [BIND 205-100] Starting micro-architecture generation ...\n",
      "INFO: [BIND 205-101] Performing variable lifetime analysis.\n",
      "INFO: [BIND 205-101] Exploring resource sharing.\n",
      "INFO: [BIND 205-101] Binding ...\n",
      "INFO: [BIND 205-100] Finished micro-architecture generation.\n",
      "INFO: [HLS 200-111]  Elapsed time: 7.03 seconds; current allocated memory: 624.995 MB.\n",
      "INFO: [HLS 200-10] ----------------------------------------------------------------\n",
      "INFO: [HLS 200-10] -- Generating RTL for module 'Block_proc' \n",
      "INFO: [HLS 200-10] ----------------------------------------------------------------\n",
      "INFO: [RTGEN 206-100] Finished creating RTL model for 'Block_proc'.\n",
      "INFO: [HLS 200-111]  Elapsed time: 4.2 seconds; current allocated memory: 626.119 MB.\n",
      "INFO: [HLS 200-10] ----------------------------------------------------------------\n",
      "INFO: [HLS 200-10] -- Generating RTL for module 'conv_1d_cl_array_array_ap_fixed_16u_config2_s' \n",
      "INFO: [HLS 200-10] ----------------------------------------------------------------\n",
      "INFO: [RTGEN 206-100] Generating core module 'myproject_mul_mul_10s_16s_26_3_1': 1 instance(s).\n",
      "INFO: [RTGEN 206-100] Generating core module 'myproject_mux_164_16_1_1': 1 instance(s).\n",
      "INFO: [RTGEN 206-100] Generating core module 'myproject_mux_32_16_1_1': 1 instance(s).\n",
      "INFO: [RTGEN 206-100] Generating core module 'myproject_mux_83_3_1_1': 1 instance(s).\n",
      "INFO: [RTGEN 206-100] Finished creating RTL model for 'conv_1d_cl_array_array_ap_fixed_16u_config2_s'.\n",
      "INFO: [HLS 200-111]  Elapsed time: 0.12 seconds; current allocated memory: 627.916 MB.\n",
      "INFO: [HLS 200-10] ----------------------------------------------------------------\n",
      "INFO: [HLS 200-10] -- Generating RTL for module 'relu_array_array_ap_fixed_16u_relu_config3_s' \n",
      "INFO: [HLS 200-10] ----------------------------------------------------------------\n",
      "INFO: [RTGEN 206-100] Finished creating RTL model for 'relu_array_array_ap_fixed_16u_relu_config3_s'.\n",
      "INFO: [HLS 200-111]  Elapsed time: 0.67 seconds; current allocated memory: 632.454 MB.\n",
      "INFO: [HLS 200-10] ----------------------------------------------------------------\n",
      "INFO: [HLS 200-10] -- Generating RTL for module 'pooling1d_cl_array_array_ap_fixed_16u_config4_s' \n",
      "INFO: [HLS 200-10] ----------------------------------------------------------------\n",
      "INFO: [SYN 201-210] Renamed object name 'pooling1d_cl_array_array_ap_fixed_16u_config4_s_pool_table_width16' to 'pooling1d_cl_array_array_ap_fixed_16u_config4_s_pool_tablbkb' due to the length limit 60\n",
      "INFO: [RTGEN 206-100] Finished creating RTL model for 'pooling1d_cl_array_array_ap_fixed_16u_config4_s'.\n",
      "INFO: [HLS 200-111]  Elapsed time: 0.53 seconds; current allocated memory: 636.436 MB.\n",
      "INFO: [HLS 200-10] ----------------------------------------------------------------\n",
      "INFO: [HLS 200-10] -- Generating RTL for module 'conv_1d_cl_array_array_ap_fixed_32u_config5_s' \n",
      "INFO: [HLS 200-10] ----------------------------------------------------------------\n",
      "INFO: [RTGEN 206-100] Generating core module 'myproject_mul_mul_16s_10s_26_3_1': 1 instance(s).\n",
      "INFO: [RTGEN 206-100] Generating core module 'myproject_mul_mul_16s_16s_26_3_1': 63 instance(s).\n",
      "INFO: [RTGEN 206-100] Generating core module 'myproject_mux_1287_16_1_1': 63 instance(s).\n",
      "INFO: [RTGEN 206-100] Generating core module 'myproject_mux_164_5_1_1': 1 instance(s).\n",
      "INFO: [RTGEN 206-100] Generating core module 'myproject_mux_646_16_1_1': 1 instance(s).\n",
      "INFO: [RTGEN 206-100] Finished creating RTL model for 'conv_1d_cl_array_array_ap_fixed_32u_config5_s'.\n",
      "INFO: [HLS 200-111]  Elapsed time: 4.5 seconds; current allocated memory: 677.017 MB.\n",
      "INFO: [HLS 200-10] ----------------------------------------------------------------\n",
      "INFO: [HLS 200-10] -- Generating RTL for module 'relu_array_array_ap_fixed_32u_relu_config6_s' \n",
      "INFO: [HLS 200-10] ----------------------------------------------------------------\n",
      "INFO: [RTGEN 206-100] Finished creating RTL model for 'relu_array_array_ap_fixed_32u_relu_config6_s'.\n",
      "INFO: [HLS 200-111]  Elapsed time: 4.77 seconds; current allocated memory: 705.181 MB.\n",
      "INFO: [HLS 200-10] ----------------------------------------------------------------\n",
      "INFO: [HLS 200-10] -- Generating RTL for module 'pooling1d_cl_array_array_ap_fixed_32u_config7_s' \n",
      "INFO: [HLS 200-10] ----------------------------------------------------------------\n",
      "INFO: [SYN 201-210] Renamed object name 'pooling1d_cl_array_array_ap_fixed_32u_config7_s_pool_table_width12' to 'pooling1d_cl_array_array_ap_fixed_32u_config7_s_pool_tablcud' due to the length limit 60\n",
      "INFO: [RTGEN 206-100] Finished creating RTL model for 'pooling1d_cl_array_array_ap_fixed_32u_config7_s'.\n",
      "INFO: [HLS 200-111]  Elapsed time: 1.09 seconds; current allocated memory: 713.245 MB.\n",
      "INFO: [HLS 200-10] ----------------------------------------------------------------\n",
      "INFO: [HLS 200-10] -- Generating RTL for module 'conv_1d_cl_array_array_ap_fixed_64u_config8_s' \n",
      "INFO: [HLS 200-10] ----------------------------------------------------------------\n",
      "INFO: [RTGEN 206-104] Estimated max fanout for 'conv_1d_cl_array_array_ap_fixed_64u_config8_s' is 12035 from HDL expression: (1'b0 == ap_block_pp0_stage0_11001)\n",
      "INFO: [RTGEN 206-100] Generating core module 'myproject_mul_mul_16s_16s_26_3_1': 383 instance(s).\n",
      "INFO: [RTGEN 206-100] Generating core module 'myproject_mul_mul_16s_9s_25_3_1': 1 instance(s).\n",
      "INFO: [RTGEN 206-100] Generating core module 'myproject_mux_325_9_1_1': 1 instance(s).\n",
      "INFO: [RTGEN 206-100] Generating core module 'myproject_mux_646_16_1_1': 1 instance(s).\n",
      "INFO: [RTGEN 206-100] Finished creating RTL model for 'conv_1d_cl_array_array_ap_fixed_64u_config8_s'.\n",
      "INFO: [HLS 200-111]  Elapsed time: 91.55 seconds; current allocated memory: 759.643 MB.\n",
      "INFO: [HLS 200-10] ----------------------------------------------------------------\n",
      "INFO: [HLS 200-10] -- Generating RTL for module 'relu_array_array_ap_fixed_64u_relu_config9_s' \n",
      "INFO: [HLS 200-10] ----------------------------------------------------------------\n",
      "INFO: [RTGEN 206-100] Finished creating RTL model for 'relu_array_array_ap_fixed_64u_relu_config9_s'.\n",
      "INFO: [HLS 200-111]  Elapsed time: 20.53 seconds; current allocated memory: 835.673 MB.\n",
      "INFO: [HLS 200-10] ----------------------------------------------------------------\n",
      "INFO: [HLS 200-10] -- Generating RTL for module 'compute_global_pool_array_array_ap_fixed_64u_config10_s' \n",
      "INFO: [HLS 200-10] ----------------------------------------------------------------\n",
      "INFO: [RTGEN 206-100] Finished creating RTL model for 'compute_global_pool_array_array_ap_fixed_64u_config10_s'.\n",
      "INFO: [HLS 200-111]  Elapsed time: 1.17 seconds; current allocated memory: 851.928 MB.\n",
      "INFO: [HLS 200-10] ----------------------------------------------------------------\n",
      "INFO: [HLS 200-10] -- Generating RTL for module 'global_pooling1d_cl_array_array_ap_fixed_64u_config10_s' \n",
      "INFO: [HLS 200-10] ----------------------------------------------------------------\n",
      "INFO: [RTGEN 206-100] Finished creating RTL model for 'global_pooling1d_cl_array_array_ap_fixed_64u_config10_s'.\n",
      "INFO: [HLS 200-111]  Elapsed time: 2.35 seconds; current allocated memory: 870.228 MB.\n",
      "INFO: [HLS 200-10] ----------------------------------------------------------------\n",
      "INFO: [HLS 200-10] -- Generating RTL for module 'dense_wrapper_ap_fixed_ap_fixed_16_6_5_3_0_config12_s' \n",
      "INFO: [HLS 200-10] ----------------------------------------------------------------\n",
      "INFO: [RTGEN 206-100] Generating core module 'myproject_mul_mul_16s_10s_26_3_1': 1 instance(s).\n",
      "INFO: [RTGEN 206-100] Generating core module 'myproject_mul_mul_16s_16s_26_3_1': 1 instance(s).\n",
      "INFO: [RTGEN 206-100] Generating core module 'myproject_mux_325_16_1_1': 1 instance(s).\n",
      "INFO: [RTGEN 206-100] Generating core module 'myproject_mux_646_16_1_1': 1 instance(s).\n",
      "INFO: [RTGEN 206-100] Finished creating RTL model for 'dense_wrapper_ap_fixed_ap_fixed_16_6_5_3_0_config12_s'.\n",
      "INFO: [HLS 200-111]  Elapsed time: 2.92 seconds; current allocated memory: 878.897 MB.\n"
     ]
    },
    {
     "name": "stdout",
     "output_type": "stream",
     "text": [
      "INFO: [HLS 200-10] ----------------------------------------------------------------\n",
      "INFO: [HLS 200-10] -- Generating RTL for module 'dense_array_array_ap_fixed_16_6_5_3_0_1u_config12_s' \n",
      "INFO: [HLS 200-10] ----------------------------------------------------------------\n",
      "INFO: [RTGEN 206-100] Finished creating RTL model for 'dense_array_array_ap_fixed_16_6_5_3_0_1u_config12_s'.\n",
      "INFO: [HLS 200-111]  Elapsed time: 2.13 seconds; current allocated memory: 890.698 MB.\n",
      "INFO: [HLS 200-10] ----------------------------------------------------------------\n",
      "INFO: [HLS 200-10] -- Generating RTL for module 'sigmoid_array_array_ap_fixed_1u_sigmoid_config13_s' \n",
      "INFO: [HLS 200-10] ----------------------------------------------------------------\n",
      "INFO: [SYN 201-210] Renamed object name 'sigmoid_array_array_ap_fixed_1u_sigmoid_config13_s_sigmoid_table10' to 'sigmoid_array_array_ap_fixed_1u_sigmoid_config13_s_sigmoidEe' due to the length limit 60\n",
      "INFO: [RTGEN 206-100] Finished creating RTL model for 'sigmoid_array_array_ap_fixed_1u_sigmoid_config13_s'.\n",
      "INFO: [HLS 200-111]  Elapsed time: 1.5 seconds; current allocated memory: 892.960 MB.\n",
      "INFO: [HLS 200-10] ----------------------------------------------------------------\n",
      "INFO: [HLS 200-10] -- Generating RTL for module 'myproject' \n",
      "INFO: [HLS 200-10] ----------------------------------------------------------------\n",
      "INFO: [RTGEN 206-500] Setting interface mode on port 'myproject/conv1d_input_V_data_0_V' to 'axis' (register, both mode).\n",
      "INFO: [RTGEN 206-500] Setting interface mode on port 'myproject/layer13_out_V_data_0_V' to 'axis' (register, both mode).\n",
      "INFO: [RTGEN 206-500] Setting interface mode on port 'myproject/const_size_in_1' to 'ap_vld'.\n",
      "INFO: [RTGEN 206-500] Setting interface mode on port 'myproject/const_size_out_1' to 'ap_vld'.\n",
      "INFO: [RTGEN 206-500] Setting interface mode on function 'myproject' to 'ap_ctrl_hs'.\n",
      "WARNING: [RTGEN 206-101] RTL name 'fifo_w16_d99_A' is changed to 'fifo_w16_d99_A_x' due to conflict.\n",
      "WARNING: [RTGEN 206-101] RTL name 'fifo_w16_d49_A' is changed to 'fifo_w16_d49_A_x' due to conflict.\n",
      "WARNING: [RTGEN 206-101] RTL name 'fifo_w16_d23_A' is changed to 'fifo_w16_d23_A_x' due to conflict.\n",
      "WARNING: [RTGEN 206-101] RTL name 'fifo_w16_d11_A' is changed to 'fifo_w16_d11_A_x' due to conflict.\n",
      "WARNING: [RTGEN 206-101] RTL name 'fifo_w16_d3_A' is changed to 'fifo_w16_d3_A_x' due to conflict.\n",
      "INFO: [SYN 201-210] Renamed object name 'start_for_global_pooling1d_cl_array_array_ap_fixed_64u_config10_U0' to 'start_for_global_pooling1d_cl_array_array_ap_fixed_64u_coeOg' due to the length limit 60\n",
      "INFO: [SYN 201-210] Renamed object name 'start_for_dense_array_array_ap_fixed_16_6_5_3_0_1u_config12_U0' to 'start_for_dense_array_array_ap_fixed_16_6_5_3_0_1u_configfYi' due to the length limit 60\n",
      "INFO: [SYN 201-210] Renamed object name 'start_for_sigmoid_array_array_ap_fixed_1u_sigmoid_config13_U0' to 'start_for_sigmoid_array_array_ap_fixed_1u_sigmoid_config1g8j' due to the length limit 60\n",
      "INFO: [RTGEN 206-100] Finished creating RTL model for 'myproject'.\n",
      "INFO: [HLS 200-111]  Elapsed time: 3.11 seconds; current allocated memory: 906.692 MB.\n",
      "INFO: [HLS 200-790] **** Loop Constraint Status: All loop constraints were satisfied.\n",
      "INFO: [HLS 200-789] **** Estimated Fmax: 274.42 MHz\n",
      "INFO: [RTMG 210-279] Implementing memory 'conv_1d_cl_array_array_ap_fixed_16u_config2_s_outidx_rom' using distributed ROMs.\n",
      "INFO: [RTMG 210-279] Implementing memory 'conv_1d_cl_array_array_ap_fixed_16u_config2_s_w2_V_rom' using distributed ROMs.\n",
      "INFO: [RTMG 210-285] Implementing FIFO 'data_window_0_V_V_U(fifo_w16_d99_A)' using Block RAMs.\n",
      "INFO: [RTMG 210-285] Implementing FIFO 'data_window_1_V_V_U(fifo_w16_d99_A)' using Block RAMs.\n",
      "INFO: [RTMG 210-285] Implementing FIFO 'data_window_2_V_V_U(fifo_w16_d99_A)' using Block RAMs.\n",
      "INFO: [RTMG 210-279] Implementing memory 'pooling1d_cl_array_array_ap_fixed_16u_config4_s_pool_tablbkb_rom' using distributed ROMs.\n",
      "INFO: [RTMG 210-285] Implementing FIFO 'data_window_0_V_V_U(fifo_w16_d49_A)' using Shift Registers.\n",
      "INFO: [RTMG 210-285] Implementing FIFO 'data_window_1_V_V_U(fifo_w16_d49_A)' using Shift Registers.\n",
      "INFO: [RTMG 210-285] Implementing FIFO 'data_window_2_V_V_U(fifo_w16_d49_A)' using Shift Registers.\n",
      "INFO: [RTMG 210-285] Implementing FIFO 'data_window_3_V_V_U(fifo_w16_d49_A)' using Shift Registers.\n",
      "INFO: [RTMG 210-285] Implementing FIFO 'data_window_4_V_V_U(fifo_w16_d49_A)' using Shift Registers.\n",
      "INFO: [RTMG 210-285] Implementing FIFO 'data_window_5_V_V_U(fifo_w16_d49_A)' using Shift Registers.\n",
      "INFO: [RTMG 210-285] Implementing FIFO 'data_window_6_V_V_U(fifo_w16_d49_A)' using Shift Registers.\n",
      "INFO: [RTMG 210-285] Implementing FIFO 'data_window_7_V_V_U(fifo_w16_d49_A)' using Shift Registers.\n",
      "INFO: [RTMG 210-285] Implementing FIFO 'data_window_8_V_V_U(fifo_w16_d49_A)' using Shift Registers.\n",
      "INFO: [RTMG 210-285] Implementing FIFO 'data_window_9_V_V_U(fifo_w16_d49_A)' using Shift Registers.\n",
      "INFO: [RTMG 210-285] Implementing FIFO 'data_window_10_V_V_U(fifo_w16_d49_A)' using Shift Registers.\n",
      "INFO: [RTMG 210-285] Implementing FIFO 'data_window_11_V_V_U(fifo_w16_d49_A)' using Shift Registers.\n",
      "INFO: [RTMG 210-285] Implementing FIFO 'data_window_12_V_V_U(fifo_w16_d49_A)' using Shift Registers.\n",
      "INFO: [RTMG 210-285] Implementing FIFO 'data_window_13_V_V_U(fifo_w16_d49_A)' using Shift Registers.\n",
      "INFO: [RTMG 210-285] Implementing FIFO 'data_window_14_V_V_U(fifo_w16_d49_A)' using Shift Registers.\n",
      "INFO: [RTMG 210-285] Implementing FIFO 'data_window_15_V_V_U(fifo_w16_d49_A)' using Shift Registers.\n",
      "INFO: [RTMG 210-285] Implementing FIFO 'data_window_16_V_V_U(fifo_w16_d49_A)' using Shift Registers.\n",
      "INFO: [RTMG 210-285] Implementing FIFO 'data_window_17_V_V_U(fifo_w16_d49_A)' using Shift Registers.\n",
      "INFO: [RTMG 210-285] Implementing FIFO 'data_window_18_V_V_U(fifo_w16_d49_A)' using Shift Registers.\n",
      "INFO: [RTMG 210-285] Implementing FIFO 'data_window_19_V_V_U(fifo_w16_d49_A)' using Shift Registers.\n",
      "INFO: [RTMG 210-285] Implementing FIFO 'data_window_20_V_V_U(fifo_w16_d49_A)' using Shift Registers.\n",
      "INFO: [RTMG 210-285] Implementing FIFO 'data_window_21_V_V_U(fifo_w16_d49_A)' using Shift Registers.\n",
      "INFO: [RTMG 210-285] Implementing FIFO 'data_window_22_V_V_U(fifo_w16_d49_A)' using Shift Registers.\n",
      "INFO: [RTMG 210-285] Implementing FIFO 'data_window_23_V_V_U(fifo_w16_d49_A)' using Shift Registers.\n",
      "INFO: [RTMG 210-285] Implementing FIFO 'data_window_24_V_V_U(fifo_w16_d49_A)' using Shift Registers.\n",
      "INFO: [RTMG 210-285] Implementing FIFO 'data_window_25_V_V_U(fifo_w16_d49_A)' using Shift Registers.\n",
      "INFO: [RTMG 210-285] Implementing FIFO 'data_window_26_V_V_U(fifo_w16_d49_A)' using Shift Registers.\n",
      "INFO: [RTMG 210-285] Implementing FIFO 'data_window_27_V_V_U(fifo_w16_d49_A)' using Shift Registers.\n",
      "INFO: [RTMG 210-285] Implementing FIFO 'data_window_28_V_V_U(fifo_w16_d49_A)' using Shift Registers.\n",
      "INFO: [RTMG 210-285] Implementing FIFO 'data_window_29_V_V_U(fifo_w16_d49_A)' using Shift Registers.\n",
      "INFO: [RTMG 210-285] Implementing FIFO 'data_window_30_V_V_U(fifo_w16_d49_A)' using Shift Registers.\n",
      "INFO: [RTMG 210-285] Implementing FIFO 'data_window_31_V_V_U(fifo_w16_d49_A)' using Shift Registers.\n",
      "INFO: [RTMG 210-279] Implementing memory 'conv_1d_cl_array_array_ap_fixed_32u_config5_s_w5_V_rom' using auto ROMs.\n",
      "INFO: [RTMG 210-285] Implementing FIFO 'data_window_0_V_V_U(fifo_w16_d23_A)' using Shift Registers.\n",
      "INFO: [RTMG 210-285] Implementing FIFO 'data_window_1_V_V_U(fifo_w16_d23_A)' using Shift Registers.\n",
      "INFO: [RTMG 210-285] Implementing FIFO 'data_window_2_V_V_U(fifo_w16_d23_A)' using Shift Registers.\n",
      "INFO: [RTMG 210-285] Implementing FIFO 'data_window_3_V_V_U(fifo_w16_d23_A)' using Shift Registers.\n",
      "INFO: [RTMG 210-285] Implementing FIFO 'data_window_4_V_V_U(fifo_w16_d23_A)' using Shift Registers.\n",
      "INFO: [RTMG 210-285] Implementing FIFO 'data_window_5_V_V_U(fifo_w16_d23_A)' using Shift Registers.\n",
      "INFO: [RTMG 210-285] Implementing FIFO 'data_window_6_V_V_U(fifo_w16_d23_A)' using Shift Registers.\n",
      "INFO: [RTMG 210-285] Implementing FIFO 'data_window_7_V_V_U(fifo_w16_d23_A)' using Shift Registers.\n",
      "INFO: [RTMG 210-285] Implementing FIFO 'data_window_8_V_V_U(fifo_w16_d23_A)' using Shift Registers.\n",
      "INFO: [RTMG 210-285] Implementing FIFO 'data_window_9_V_V_U(fifo_w16_d23_A)' using Shift Registers.\n"
     ]
    },
    {
     "name": "stdout",
     "output_type": "stream",
     "text": [
      "INFO: [RTMG 210-285] Implementing FIFO 'data_window_10_V_V_U(fifo_w16_d23_A)' using Shift Registers.\n",
      "INFO: [RTMG 210-285] Implementing FIFO 'data_window_11_V_V_U(fifo_w16_d23_A)' using Shift Registers.\n",
      "INFO: [RTMG 210-285] Implementing FIFO 'data_window_12_V_V_U(fifo_w16_d23_A)' using Shift Registers.\n",
      "INFO: [RTMG 210-285] Implementing FIFO 'data_window_13_V_V_U(fifo_w16_d23_A)' using Shift Registers.\n",
      "INFO: [RTMG 210-285] Implementing FIFO 'data_window_14_V_V_U(fifo_w16_d23_A)' using Shift Registers.\n",
      "INFO: [RTMG 210-285] Implementing FIFO 'data_window_15_V_V_U(fifo_w16_d23_A)' using Shift Registers.\n",
      "INFO: [RTMG 210-285] Implementing FIFO 'data_window_16_V_V_U(fifo_w16_d23_A)' using Shift Registers.\n",
      "INFO: [RTMG 210-285] Implementing FIFO 'data_window_17_V_V_U(fifo_w16_d23_A)' using Shift Registers.\n",
      "INFO: [RTMG 210-285] Implementing FIFO 'data_window_18_V_V_U(fifo_w16_d23_A)' using Shift Registers.\n",
      "INFO: [RTMG 210-285] Implementing FIFO 'data_window_19_V_V_U(fifo_w16_d23_A)' using Shift Registers.\n",
      "INFO: [RTMG 210-285] Implementing FIFO 'data_window_20_V_V_U(fifo_w16_d23_A)' using Shift Registers.\n",
      "INFO: [RTMG 210-285] Implementing FIFO 'data_window_21_V_V_U(fifo_w16_d23_A)' using Shift Registers.\n",
      "INFO: [RTMG 210-285] Implementing FIFO 'data_window_22_V_V_U(fifo_w16_d23_A)' using Shift Registers.\n",
      "INFO: [RTMG 210-285] Implementing FIFO 'data_window_23_V_V_U(fifo_w16_d23_A)' using Shift Registers.\n",
      "INFO: [RTMG 210-285] Implementing FIFO 'data_window_24_V_V_U(fifo_w16_d23_A)' using Shift Registers.\n",
      "INFO: [RTMG 210-285] Implementing FIFO 'data_window_25_V_V_U(fifo_w16_d23_A)' using Shift Registers.\n",
      "INFO: [RTMG 210-285] Implementing FIFO 'data_window_26_V_V_U(fifo_w16_d23_A)' using Shift Registers.\n",
      "INFO: [RTMG 210-285] Implementing FIFO 'data_window_27_V_V_U(fifo_w16_d23_A)' using Shift Registers.\n",
      "INFO: [RTMG 210-285] Implementing FIFO 'data_window_28_V_V_U(fifo_w16_d23_A)' using Shift Registers.\n",
      "INFO: [RTMG 210-285] Implementing FIFO 'data_window_29_V_V_U(fifo_w16_d23_A)' using Shift Registers.\n",
      "INFO: [RTMG 210-285] Implementing FIFO 'data_window_30_V_V_U(fifo_w16_d23_A)' using Shift Registers.\n",
      "INFO: [RTMG 210-285] Implementing FIFO 'data_window_31_V_V_U(fifo_w16_d23_A)' using Shift Registers.\n",
      "INFO: [RTMG 210-285] Implementing FIFO 'data_window_32_V_V_U(fifo_w16_d23_A)' using Shift Registers.\n",
      "INFO: [RTMG 210-285] Implementing FIFO 'data_window_33_V_V_U(fifo_w16_d23_A)' using Shift Registers.\n",
      "INFO: [RTMG 210-285] Implementing FIFO 'data_window_34_V_V_U(fifo_w16_d23_A)' using Shift Registers.\n",
      "INFO: [RTMG 210-285] Implementing FIFO 'data_window_35_V_V_U(fifo_w16_d23_A)' using Shift Registers.\n",
      "INFO: [RTMG 210-285] Implementing FIFO 'data_window_36_V_V_U(fifo_w16_d23_A)' using Shift Registers.\n",
      "INFO: [RTMG 210-285] Implementing FIFO 'data_window_37_V_V_U(fifo_w16_d23_A)' using Shift Registers.\n",
      "INFO: [RTMG 210-285] Implementing FIFO 'data_window_38_V_V_U(fifo_w16_d23_A)' using Shift Registers.\n",
      "INFO: [RTMG 210-285] Implementing FIFO 'data_window_39_V_V_U(fifo_w16_d23_A)' using Shift Registers.\n",
      "INFO: [RTMG 210-285] Implementing FIFO 'data_window_40_V_V_U(fifo_w16_d23_A)' using Shift Registers.\n",
      "INFO: [RTMG 210-285] Implementing FIFO 'data_window_41_V_V_U(fifo_w16_d23_A)' using Shift Registers.\n",
      "INFO: [RTMG 210-285] Implementing FIFO 'data_window_42_V_V_U(fifo_w16_d23_A)' using Shift Registers.\n",
      "INFO: [RTMG 210-285] Implementing FIFO 'data_window_43_V_V_U(fifo_w16_d23_A)' using Shift Registers.\n",
      "INFO: [RTMG 210-285] Implementing FIFO 'data_window_44_V_V_U(fifo_w16_d23_A)' using Shift Registers.\n",
      "INFO: [RTMG 210-285] Implementing FIFO 'data_window_45_V_V_U(fifo_w16_d23_A)' using Shift Registers.\n",
      "INFO: [RTMG 210-285] Implementing FIFO 'data_window_46_V_V_U(fifo_w16_d23_A)' using Shift Registers.\n",
      "INFO: [RTMG 210-285] Implementing FIFO 'data_window_47_V_V_U(fifo_w16_d23_A)' using Shift Registers.\n",
      "INFO: [RTMG 210-285] Implementing FIFO 'data_window_48_V_V_U(fifo_w16_d23_A)' using Shift Registers.\n",
      "INFO: [RTMG 210-285] Implementing FIFO 'data_window_49_V_V_U(fifo_w16_d23_A)' using Shift Registers.\n",
      "INFO: [RTMG 210-285] Implementing FIFO 'data_window_50_V_V_U(fifo_w16_d23_A)' using Shift Registers.\n",
      "INFO: [RTMG 210-285] Implementing FIFO 'data_window_51_V_V_U(fifo_w16_d23_A)' using Shift Registers.\n",
      "INFO: [RTMG 210-285] Implementing FIFO 'data_window_52_V_V_U(fifo_w16_d23_A)' using Shift Registers.\n",
      "INFO: [RTMG 210-285] Implementing FIFO 'data_window_53_V_V_U(fifo_w16_d23_A)' using Shift Registers.\n",
      "INFO: [RTMG 210-285] Implementing FIFO 'data_window_54_V_V_U(fifo_w16_d23_A)' using Shift Registers.\n",
      "INFO: [RTMG 210-285] Implementing FIFO 'data_window_55_V_V_U(fifo_w16_d23_A)' using Shift Registers.\n",
      "INFO: [RTMG 210-285] Implementing FIFO 'data_window_56_V_V_U(fifo_w16_d23_A)' using Shift Registers.\n",
      "INFO: [RTMG 210-285] Implementing FIFO 'data_window_57_V_V_U(fifo_w16_d23_A)' using Shift Registers.\n",
      "INFO: [RTMG 210-285] Implementing FIFO 'data_window_58_V_V_U(fifo_w16_d23_A)' using Shift Registers.\n",
      "INFO: [RTMG 210-285] Implementing FIFO 'data_window_59_V_V_U(fifo_w16_d23_A)' using Shift Registers.\n",
      "INFO: [RTMG 210-285] Implementing FIFO 'data_window_60_V_V_U(fifo_w16_d23_A)' using Shift Registers.\n",
      "INFO: [RTMG 210-285] Implementing FIFO 'data_window_61_V_V_U(fifo_w16_d23_A)' using Shift Registers.\n",
      "INFO: [RTMG 210-285] Implementing FIFO 'data_window_62_V_V_U(fifo_w16_d23_A)' using Shift Registers.\n",
      "INFO: [RTMG 210-285] Implementing FIFO 'data_window_63_V_V_U(fifo_w16_d23_A)' using Shift Registers.\n",
      "INFO: [RTMG 210-285] Implementing FIFO 'data_window_64_V_V_U(fifo_w16_d23_A)' using Shift Registers.\n",
      "INFO: [RTMG 210-285] Implementing FIFO 'data_window_65_V_V_U(fifo_w16_d23_A)' using Shift Registers.\n",
      "INFO: [RTMG 210-285] Implementing FIFO 'data_window_66_V_V_U(fifo_w16_d23_A)' using Shift Registers.\n",
      "INFO: [RTMG 210-285] Implementing FIFO 'data_window_67_V_V_U(fifo_w16_d23_A)' using Shift Registers.\n",
      "INFO: [RTMG 210-285] Implementing FIFO 'data_window_68_V_V_U(fifo_w16_d23_A)' using Shift Registers.\n",
      "INFO: [RTMG 210-285] Implementing FIFO 'data_window_69_V_V_U(fifo_w16_d23_A)' using Shift Registers.\n",
      "INFO: [RTMG 210-285] Implementing FIFO 'data_window_70_V_V_U(fifo_w16_d23_A)' using Shift Registers.\n",
      "INFO: [RTMG 210-285] Implementing FIFO 'data_window_71_V_V_U(fifo_w16_d23_A)' using Shift Registers.\n",
      "INFO: [RTMG 210-285] Implementing FIFO 'data_window_72_V_V_U(fifo_w16_d23_A)' using Shift Registers.\n",
      "INFO: [RTMG 210-285] Implementing FIFO 'data_window_73_V_V_U(fifo_w16_d23_A)' using Shift Registers.\n",
      "INFO: [RTMG 210-285] Implementing FIFO 'data_window_74_V_V_U(fifo_w16_d23_A)' using Shift Registers.\n",
      "INFO: [RTMG 210-285] Implementing FIFO 'data_window_75_V_V_U(fifo_w16_d23_A)' using Shift Registers.\n",
      "INFO: [RTMG 210-285] Implementing FIFO 'data_window_76_V_V_U(fifo_w16_d23_A)' using Shift Registers.\n",
      "INFO: [RTMG 210-285] Implementing FIFO 'data_window_77_V_V_U(fifo_w16_d23_A)' using Shift Registers.\n",
      "INFO: [RTMG 210-285] Implementing FIFO 'data_window_78_V_V_U(fifo_w16_d23_A)' using Shift Registers.\n",
      "INFO: [RTMG 210-285] Implementing FIFO 'data_window_79_V_V_U(fifo_w16_d23_A)' using Shift Registers.\n",
      "INFO: [RTMG 210-279] Implementing memory 'pooling1d_cl_array_array_ap_fixed_32u_config7_s_pool_tablcud_rom' using distributed ROMs.\n",
      "INFO: [RTMG 210-285] Implementing FIFO 'data_window_0_V_V_U(fifo_w16_d11_A)' using Shift Registers.\n",
      "INFO: [RTMG 210-285] Implementing FIFO 'data_window_1_V_V_U(fifo_w16_d11_A)' using Shift Registers.\n",
      "INFO: [RTMG 210-285] Implementing FIFO 'data_window_2_V_V_U(fifo_w16_d11_A)' using Shift Registers.\n",
      "INFO: [RTMG 210-285] Implementing FIFO 'data_window_3_V_V_U(fifo_w16_d11_A)' using Shift Registers.\n",
      "INFO: [RTMG 210-285] Implementing FIFO 'data_window_4_V_V_U(fifo_w16_d11_A)' using Shift Registers.\n",
      "INFO: [RTMG 210-285] Implementing FIFO 'data_window_5_V_V_U(fifo_w16_d11_A)' using Shift Registers.\n",
      "INFO: [RTMG 210-285] Implementing FIFO 'data_window_6_V_V_U(fifo_w16_d11_A)' using Shift Registers.\n",
      "INFO: [RTMG 210-285] Implementing FIFO 'data_window_7_V_V_U(fifo_w16_d11_A)' using Shift Registers.\n",
      "INFO: [RTMG 210-285] Implementing FIFO 'data_window_8_V_V_U(fifo_w16_d11_A)' using Shift Registers.\n",
      "INFO: [RTMG 210-285] Implementing FIFO 'data_window_9_V_V_U(fifo_w16_d11_A)' using Shift Registers.\n",
      "INFO: [RTMG 210-285] Implementing FIFO 'data_window_10_V_V_U(fifo_w16_d11_A)' using Shift Registers.\n",
      "INFO: [RTMG 210-285] Implementing FIFO 'data_window_11_V_V_U(fifo_w16_d11_A)' using Shift Registers.\n",
      "INFO: [RTMG 210-285] Implementing FIFO 'data_window_12_V_V_U(fifo_w16_d11_A)' using Shift Registers.\n",
      "INFO: [RTMG 210-285] Implementing FIFO 'data_window_13_V_V_U(fifo_w16_d11_A)' using Shift Registers.\n",
      "INFO: [RTMG 210-285] Implementing FIFO 'data_window_14_V_V_U(fifo_w16_d11_A)' using Shift Registers.\n"
     ]
    },
    {
     "name": "stdout",
     "output_type": "stream",
     "text": [
      "INFO: [RTMG 210-285] Implementing FIFO 'data_window_15_V_V_U(fifo_w16_d11_A)' using Shift Registers.\n",
      "INFO: [RTMG 210-285] Implementing FIFO 'data_window_16_V_V_U(fifo_w16_d11_A)' using Shift Registers.\n",
      "INFO: [RTMG 210-285] Implementing FIFO 'data_window_17_V_V_U(fifo_w16_d11_A)' using Shift Registers.\n",
      "INFO: [RTMG 210-285] Implementing FIFO 'data_window_18_V_V_U(fifo_w16_d11_A)' using Shift Registers.\n",
      "INFO: [RTMG 210-285] Implementing FIFO 'data_window_19_V_V_U(fifo_w16_d11_A)' using Shift Registers.\n",
      "INFO: [RTMG 210-285] Implementing FIFO 'data_window_20_V_V_U(fifo_w16_d11_A)' using Shift Registers.\n",
      "INFO: [RTMG 210-285] Implementing FIFO 'data_window_21_V_V_U(fifo_w16_d11_A)' using Shift Registers.\n",
      "INFO: [RTMG 210-285] Implementing FIFO 'data_window_22_V_V_U(fifo_w16_d11_A)' using Shift Registers.\n",
      "INFO: [RTMG 210-285] Implementing FIFO 'data_window_23_V_V_U(fifo_w16_d11_A)' using Shift Registers.\n",
      "INFO: [RTMG 210-285] Implementing FIFO 'data_window_24_V_V_U(fifo_w16_d11_A)' using Shift Registers.\n",
      "INFO: [RTMG 210-285] Implementing FIFO 'data_window_25_V_V_U(fifo_w16_d11_A)' using Shift Registers.\n",
      "INFO: [RTMG 210-285] Implementing FIFO 'data_window_26_V_V_U(fifo_w16_d11_A)' using Shift Registers.\n",
      "INFO: [RTMG 210-285] Implementing FIFO 'data_window_27_V_V_U(fifo_w16_d11_A)' using Shift Registers.\n",
      "INFO: [RTMG 210-285] Implementing FIFO 'data_window_28_V_V_U(fifo_w16_d11_A)' using Shift Registers.\n",
      "INFO: [RTMG 210-285] Implementing FIFO 'data_window_29_V_V_U(fifo_w16_d11_A)' using Shift Registers.\n",
      "INFO: [RTMG 210-285] Implementing FIFO 'data_window_30_V_V_U(fifo_w16_d11_A)' using Shift Registers.\n",
      "INFO: [RTMG 210-285] Implementing FIFO 'data_window_31_V_V_U(fifo_w16_d11_A)' using Shift Registers.\n",
      "INFO: [RTMG 210-285] Implementing FIFO 'data_window_32_V_V_U(fifo_w16_d11_A)' using Shift Registers.\n",
      "INFO: [RTMG 210-285] Implementing FIFO 'data_window_33_V_V_U(fifo_w16_d11_A)' using Shift Registers.\n",
      "INFO: [RTMG 210-285] Implementing FIFO 'data_window_34_V_V_U(fifo_w16_d11_A)' using Shift Registers.\n",
      "INFO: [RTMG 210-285] Implementing FIFO 'data_window_35_V_V_U(fifo_w16_d11_A)' using Shift Registers.\n",
      "INFO: [RTMG 210-285] Implementing FIFO 'data_window_36_V_V_U(fifo_w16_d11_A)' using Shift Registers.\n",
      "INFO: [RTMG 210-285] Implementing FIFO 'data_window_37_V_V_U(fifo_w16_d11_A)' using Shift Registers.\n",
      "INFO: [RTMG 210-285] Implementing FIFO 'data_window_38_V_V_U(fifo_w16_d11_A)' using Shift Registers.\n",
      "INFO: [RTMG 210-285] Implementing FIFO 'data_window_39_V_V_U(fifo_w16_d11_A)' using Shift Registers.\n",
      "INFO: [RTMG 210-285] Implementing FIFO 'data_window_40_V_V_U(fifo_w16_d11_A)' using Shift Registers.\n",
      "INFO: [RTMG 210-285] Implementing FIFO 'data_window_41_V_V_U(fifo_w16_d11_A)' using Shift Registers.\n",
      "INFO: [RTMG 210-285] Implementing FIFO 'data_window_42_V_V_U(fifo_w16_d11_A)' using Shift Registers.\n",
      "INFO: [RTMG 210-285] Implementing FIFO 'data_window_43_V_V_U(fifo_w16_d11_A)' using Shift Registers.\n",
      "INFO: [RTMG 210-285] Implementing FIFO 'data_window_44_V_V_U(fifo_w16_d11_A)' using Shift Registers.\n",
      "INFO: [RTMG 210-285] Implementing FIFO 'data_window_45_V_V_U(fifo_w16_d11_A)' using Shift Registers.\n",
      "INFO: [RTMG 210-285] Implementing FIFO 'data_window_46_V_V_U(fifo_w16_d11_A)' using Shift Registers.\n",
      "INFO: [RTMG 210-285] Implementing FIFO 'data_window_47_V_V_U(fifo_w16_d11_A)' using Shift Registers.\n",
      "INFO: [RTMG 210-285] Implementing FIFO 'data_window_48_V_V_U(fifo_w16_d11_A)' using Shift Registers.\n",
      "INFO: [RTMG 210-285] Implementing FIFO 'data_window_49_V_V_U(fifo_w16_d11_A)' using Shift Registers.\n",
      "INFO: [RTMG 210-285] Implementing FIFO 'data_window_50_V_V_U(fifo_w16_d11_A)' using Shift Registers.\n",
      "INFO: [RTMG 210-285] Implementing FIFO 'data_window_51_V_V_U(fifo_w16_d11_A)' using Shift Registers.\n",
      "INFO: [RTMG 210-285] Implementing FIFO 'data_window_52_V_V_U(fifo_w16_d11_A)' using Shift Registers.\n",
      "INFO: [RTMG 210-285] Implementing FIFO 'data_window_53_V_V_U(fifo_w16_d11_A)' using Shift Registers.\n",
      "INFO: [RTMG 210-285] Implementing FIFO 'data_window_54_V_V_U(fifo_w16_d11_A)' using Shift Registers.\n",
      "INFO: [RTMG 210-285] Implementing FIFO 'data_window_55_V_V_U(fifo_w16_d11_A)' using Shift Registers.\n",
      "INFO: [RTMG 210-285] Implementing FIFO 'data_window_56_V_V_U(fifo_w16_d11_A)' using Shift Registers.\n",
      "INFO: [RTMG 210-285] Implementing FIFO 'data_window_57_V_V_U(fifo_w16_d11_A)' using Shift Registers.\n",
      "INFO: [RTMG 210-285] Implementing FIFO 'data_window_58_V_V_U(fifo_w16_d11_A)' using Shift Registers.\n",
      "INFO: [RTMG 210-285] Implementing FIFO 'data_window_59_V_V_U(fifo_w16_d11_A)' using Shift Registers.\n",
      "INFO: [RTMG 210-285] Implementing FIFO 'data_window_60_V_V_U(fifo_w16_d11_A)' using Shift Registers.\n",
      "INFO: [RTMG 210-285] Implementing FIFO 'data_window_61_V_V_U(fifo_w16_d11_A)' using Shift Registers.\n",
      "INFO: [RTMG 210-285] Implementing FIFO 'data_window_62_V_V_U(fifo_w16_d11_A)' using Shift Registers.\n",
      "INFO: [RTMG 210-285] Implementing FIFO 'data_window_63_V_V_U(fifo_w16_d11_A)' using Shift Registers.\n",
      "INFO: [RTMG 210-279] Implementing memory 'conv_1d_cl_array_array_ap_fixed_64u_config8_s_w8_V_rom' using auto ROMs.\n",
      "INFO: [RTMG 210-285] Implementing FIFO 'data_window_0_V_V_U(fifo_w16_d3_A)' using Shift Registers.\n",
      "INFO: [RTMG 210-285] Implementing FIFO 'data_window_1_V_V_U(fifo_w16_d3_A)' using Shift Registers.\n",
      "INFO: [RTMG 210-285] Implementing FIFO 'data_window_2_V_V_U(fifo_w16_d3_A)' using Shift Registers.\n",
      "INFO: [RTMG 210-285] Implementing FIFO 'data_window_3_V_V_U(fifo_w16_d3_A)' using Shift Registers.\n",
      "INFO: [RTMG 210-285] Implementing FIFO 'data_window_4_V_V_U(fifo_w16_d3_A)' using Shift Registers.\n",
      "INFO: [RTMG 210-285] Implementing FIFO 'data_window_5_V_V_U(fifo_w16_d3_A)' using Shift Registers.\n",
      "INFO: [RTMG 210-285] Implementing FIFO 'data_window_6_V_V_U(fifo_w16_d3_A)' using Shift Registers.\n",
      "INFO: [RTMG 210-285] Implementing FIFO 'data_window_7_V_V_U(fifo_w16_d3_A)' using Shift Registers.\n",
      "INFO: [RTMG 210-285] Implementing FIFO 'data_window_8_V_V_U(fifo_w16_d3_A)' using Shift Registers.\n",
      "INFO: [RTMG 210-285] Implementing FIFO 'data_window_9_V_V_U(fifo_w16_d3_A)' using Shift Registers.\n",
      "INFO: [RTMG 210-285] Implementing FIFO 'data_window_10_V_V_U(fifo_w16_d3_A)' using Shift Registers.\n",
      "INFO: [RTMG 210-285] Implementing FIFO 'data_window_11_V_V_U(fifo_w16_d3_A)' using Shift Registers.\n",
      "INFO: [RTMG 210-285] Implementing FIFO 'data_window_12_V_V_U(fifo_w16_d3_A)' using Shift Registers.\n",
      "INFO: [RTMG 210-285] Implementing FIFO 'data_window_13_V_V_U(fifo_w16_d3_A)' using Shift Registers.\n",
      "INFO: [RTMG 210-285] Implementing FIFO 'data_window_14_V_V_U(fifo_w16_d3_A)' using Shift Registers.\n",
      "INFO: [RTMG 210-285] Implementing FIFO 'data_window_15_V_V_U(fifo_w16_d3_A)' using Shift Registers.\n",
      "INFO: [RTMG 210-285] Implementing FIFO 'data_window_16_V_V_U(fifo_w16_d3_A)' using Shift Registers.\n",
      "INFO: [RTMG 210-285] Implementing FIFO 'data_window_17_V_V_U(fifo_w16_d3_A)' using Shift Registers.\n",
      "INFO: [RTMG 210-285] Implementing FIFO 'data_window_18_V_V_U(fifo_w16_d3_A)' using Shift Registers.\n",
      "INFO: [RTMG 210-285] Implementing FIFO 'data_window_19_V_V_U(fifo_w16_d3_A)' using Shift Registers.\n",
      "INFO: [RTMG 210-285] Implementing FIFO 'data_window_20_V_V_U(fifo_w16_d3_A)' using Shift Registers.\n",
      "INFO: [RTMG 210-285] Implementing FIFO 'data_window_21_V_V_U(fifo_w16_d3_A)' using Shift Registers.\n",
      "INFO: [RTMG 210-285] Implementing FIFO 'data_window_22_V_V_U(fifo_w16_d3_A)' using Shift Registers.\n",
      "INFO: [RTMG 210-285] Implementing FIFO 'data_window_23_V_V_U(fifo_w16_d3_A)' using Shift Registers.\n",
      "INFO: [RTMG 210-285] Implementing FIFO 'data_window_24_V_V_U(fifo_w16_d3_A)' using Shift Registers.\n",
      "INFO: [RTMG 210-285] Implementing FIFO 'data_window_25_V_V_U(fifo_w16_d3_A)' using Shift Registers.\n",
      "INFO: [RTMG 210-285] Implementing FIFO 'data_window_26_V_V_U(fifo_w16_d3_A)' using Shift Registers.\n",
      "INFO: [RTMG 210-285] Implementing FIFO 'data_window_27_V_V_U(fifo_w16_d3_A)' using Shift Registers.\n",
      "INFO: [RTMG 210-285] Implementing FIFO 'data_window_28_V_V_U(fifo_w16_d3_A)' using Shift Registers.\n",
      "INFO: [RTMG 210-285] Implementing FIFO 'data_window_29_V_V_U(fifo_w16_d3_A)' using Shift Registers.\n",
      "INFO: [RTMG 210-285] Implementing FIFO 'data_window_30_V_V_U(fifo_w16_d3_A)' using Shift Registers.\n",
      "INFO: [RTMG 210-285] Implementing FIFO 'data_window_31_V_V_U(fifo_w16_d3_A)' using Shift Registers.\n",
      "INFO: [RTMG 210-285] Implementing FIFO 'data_window_32_V_V_U(fifo_w16_d3_A)' using Shift Registers.\n",
      "INFO: [RTMG 210-285] Implementing FIFO 'data_window_33_V_V_U(fifo_w16_d3_A)' using Shift Registers.\n",
      "INFO: [RTMG 210-285] Implementing FIFO 'data_window_34_V_V_U(fifo_w16_d3_A)' using Shift Registers.\n"
     ]
    },
    {
     "name": "stdout",
     "output_type": "stream",
     "text": [
      "INFO: [RTMG 210-285] Implementing FIFO 'data_window_35_V_V_U(fifo_w16_d3_A)' using Shift Registers.\n",
      "INFO: [RTMG 210-285] Implementing FIFO 'data_window_36_V_V_U(fifo_w16_d3_A)' using Shift Registers.\n",
      "INFO: [RTMG 210-285] Implementing FIFO 'data_window_37_V_V_U(fifo_w16_d3_A)' using Shift Registers.\n",
      "INFO: [RTMG 210-285] Implementing FIFO 'data_window_38_V_V_U(fifo_w16_d3_A)' using Shift Registers.\n",
      "INFO: [RTMG 210-285] Implementing FIFO 'data_window_39_V_V_U(fifo_w16_d3_A)' using Shift Registers.\n",
      "INFO: [RTMG 210-285] Implementing FIFO 'data_window_40_V_V_U(fifo_w16_d3_A)' using Shift Registers.\n",
      "INFO: [RTMG 210-285] Implementing FIFO 'data_window_41_V_V_U(fifo_w16_d3_A)' using Shift Registers.\n",
      "INFO: [RTMG 210-285] Implementing FIFO 'data_window_42_V_V_U(fifo_w16_d3_A)' using Shift Registers.\n",
      "INFO: [RTMG 210-285] Implementing FIFO 'data_window_43_V_V_U(fifo_w16_d3_A)' using Shift Registers.\n",
      "INFO: [RTMG 210-285] Implementing FIFO 'data_window_44_V_V_U(fifo_w16_d3_A)' using Shift Registers.\n",
      "INFO: [RTMG 210-285] Implementing FIFO 'data_window_45_V_V_U(fifo_w16_d3_A)' using Shift Registers.\n",
      "INFO: [RTMG 210-285] Implementing FIFO 'data_window_46_V_V_U(fifo_w16_d3_A)' using Shift Registers.\n",
      "INFO: [RTMG 210-285] Implementing FIFO 'data_window_47_V_V_U(fifo_w16_d3_A)' using Shift Registers.\n",
      "INFO: [RTMG 210-285] Implementing FIFO 'data_window_48_V_V_U(fifo_w16_d3_A)' using Shift Registers.\n",
      "INFO: [RTMG 210-285] Implementing FIFO 'data_window_49_V_V_U(fifo_w16_d3_A)' using Shift Registers.\n",
      "INFO: [RTMG 210-285] Implementing FIFO 'data_window_50_V_V_U(fifo_w16_d3_A)' using Shift Registers.\n",
      "INFO: [RTMG 210-285] Implementing FIFO 'data_window_51_V_V_U(fifo_w16_d3_A)' using Shift Registers.\n",
      "INFO: [RTMG 210-285] Implementing FIFO 'data_window_52_V_V_U(fifo_w16_d3_A)' using Shift Registers.\n",
      "INFO: [RTMG 210-285] Implementing FIFO 'data_window_53_V_V_U(fifo_w16_d3_A)' using Shift Registers.\n",
      "INFO: [RTMG 210-285] Implementing FIFO 'data_window_54_V_V_U(fifo_w16_d3_A)' using Shift Registers.\n",
      "INFO: [RTMG 210-285] Implementing FIFO 'data_window_55_V_V_U(fifo_w16_d3_A)' using Shift Registers.\n",
      "INFO: [RTMG 210-285] Implementing FIFO 'data_window_56_V_V_U(fifo_w16_d3_A)' using Shift Registers.\n",
      "INFO: [RTMG 210-285] Implementing FIFO 'data_window_57_V_V_U(fifo_w16_d3_A)' using Shift Registers.\n",
      "INFO: [RTMG 210-285] Implementing FIFO 'data_window_58_V_V_U(fifo_w16_d3_A)' using Shift Registers.\n",
      "INFO: [RTMG 210-285] Implementing FIFO 'data_window_59_V_V_U(fifo_w16_d3_A)' using Shift Registers.\n",
      "INFO: [RTMG 210-285] Implementing FIFO 'data_window_60_V_V_U(fifo_w16_d3_A)' using Shift Registers.\n",
      "INFO: [RTMG 210-285] Implementing FIFO 'data_window_61_V_V_U(fifo_w16_d3_A)' using Shift Registers.\n",
      "INFO: [RTMG 210-285] Implementing FIFO 'data_window_62_V_V_U(fifo_w16_d3_A)' using Shift Registers.\n",
      "INFO: [RTMG 210-285] Implementing FIFO 'data_window_63_V_V_U(fifo_w16_d3_A)' using Shift Registers.\n",
      "INFO: [RTMG 210-285] Implementing FIFO 'data_window_64_V_V_U(fifo_w16_d3_A)' using Shift Registers.\n",
      "INFO: [RTMG 210-285] Implementing FIFO 'data_window_65_V_V_U(fifo_w16_d3_A)' using Shift Registers.\n",
      "INFO: [RTMG 210-285] Implementing FIFO 'data_window_66_V_V_U(fifo_w16_d3_A)' using Shift Registers.\n",
      "INFO: [RTMG 210-285] Implementing FIFO 'data_window_67_V_V_U(fifo_w16_d3_A)' using Shift Registers.\n",
      "INFO: [RTMG 210-285] Implementing FIFO 'data_window_68_V_V_U(fifo_w16_d3_A)' using Shift Registers.\n",
      "INFO: [RTMG 210-285] Implementing FIFO 'data_window_69_V_V_U(fifo_w16_d3_A)' using Shift Registers.\n",
      "INFO: [RTMG 210-285] Implementing FIFO 'data_window_70_V_V_U(fifo_w16_d3_A)' using Shift Registers.\n",
      "INFO: [RTMG 210-285] Implementing FIFO 'data_window_71_V_V_U(fifo_w16_d3_A)' using Shift Registers.\n",
      "INFO: [RTMG 210-285] Implementing FIFO 'data_window_72_V_V_U(fifo_w16_d3_A)' using Shift Registers.\n",
      "INFO: [RTMG 210-285] Implementing FIFO 'data_window_73_V_V_U(fifo_w16_d3_A)' using Shift Registers.\n",
      "INFO: [RTMG 210-285] Implementing FIFO 'data_window_74_V_V_U(fifo_w16_d3_A)' using Shift Registers.\n",
      "INFO: [RTMG 210-285] Implementing FIFO 'data_window_75_V_V_U(fifo_w16_d3_A)' using Shift Registers.\n",
      "INFO: [RTMG 210-285] Implementing FIFO 'data_window_76_V_V_U(fifo_w16_d3_A)' using Shift Registers.\n",
      "INFO: [RTMG 210-285] Implementing FIFO 'data_window_77_V_V_U(fifo_w16_d3_A)' using Shift Registers.\n",
      "INFO: [RTMG 210-285] Implementing FIFO 'data_window_78_V_V_U(fifo_w16_d3_A)' using Shift Registers.\n",
      "INFO: [RTMG 210-285] Implementing FIFO 'data_window_79_V_V_U(fifo_w16_d3_A)' using Shift Registers.\n",
      "INFO: [RTMG 210-285] Implementing FIFO 'data_window_80_V_V_U(fifo_w16_d3_A)' using Shift Registers.\n",
      "INFO: [RTMG 210-285] Implementing FIFO 'data_window_81_V_V_U(fifo_w16_d3_A)' using Shift Registers.\n",
      "INFO: [RTMG 210-285] Implementing FIFO 'data_window_82_V_V_U(fifo_w16_d3_A)' using Shift Registers.\n",
      "INFO: [RTMG 210-285] Implementing FIFO 'data_window_83_V_V_U(fifo_w16_d3_A)' using Shift Registers.\n",
      "INFO: [RTMG 210-285] Implementing FIFO 'data_window_84_V_V_U(fifo_w16_d3_A)' using Shift Registers.\n",
      "INFO: [RTMG 210-285] Implementing FIFO 'data_window_85_V_V_U(fifo_w16_d3_A)' using Shift Registers.\n",
      "INFO: [RTMG 210-285] Implementing FIFO 'data_window_86_V_V_U(fifo_w16_d3_A)' using Shift Registers.\n",
      "INFO: [RTMG 210-285] Implementing FIFO 'data_window_87_V_V_U(fifo_w16_d3_A)' using Shift Registers.\n",
      "INFO: [RTMG 210-285] Implementing FIFO 'data_window_88_V_V_U(fifo_w16_d3_A)' using Shift Registers.\n",
      "INFO: [RTMG 210-285] Implementing FIFO 'data_window_89_V_V_U(fifo_w16_d3_A)' using Shift Registers.\n",
      "INFO: [RTMG 210-285] Implementing FIFO 'data_window_90_V_V_U(fifo_w16_d3_A)' using Shift Registers.\n",
      "INFO: [RTMG 210-285] Implementing FIFO 'data_window_91_V_V_U(fifo_w16_d3_A)' using Shift Registers.\n",
      "INFO: [RTMG 210-285] Implementing FIFO 'data_window_92_V_V_U(fifo_w16_d3_A)' using Shift Registers.\n",
      "INFO: [RTMG 210-285] Implementing FIFO 'data_window_93_V_V_U(fifo_w16_d3_A)' using Shift Registers.\n",
      "INFO: [RTMG 210-285] Implementing FIFO 'data_window_94_V_V_U(fifo_w16_d3_A)' using Shift Registers.\n",
      "INFO: [RTMG 210-285] Implementing FIFO 'data_window_95_V_V_U(fifo_w16_d3_A)' using Shift Registers.\n",
      "INFO: [RTMG 210-285] Implementing FIFO 'data_window_96_V_V_U(fifo_w16_d3_A)' using Shift Registers.\n",
      "INFO: [RTMG 210-285] Implementing FIFO 'data_window_97_V_V_U(fifo_w16_d3_A)' using Shift Registers.\n",
      "INFO: [RTMG 210-285] Implementing FIFO 'data_window_98_V_V_U(fifo_w16_d3_A)' using Shift Registers.\n",
      "INFO: [RTMG 210-285] Implementing FIFO 'data_window_99_V_V_U(fifo_w16_d3_A)' using Shift Registers.\n",
      "INFO: [RTMG 210-285] Implementing FIFO 'data_window_100_V_V_U(fifo_w16_d3_A)' using Shift Registers.\n",
      "INFO: [RTMG 210-285] Implementing FIFO 'data_window_101_V_V_U(fifo_w16_d3_A)' using Shift Registers.\n",
      "INFO: [RTMG 210-285] Implementing FIFO 'data_window_102_V_V_U(fifo_w16_d3_A)' using Shift Registers.\n",
      "INFO: [RTMG 210-285] Implementing FIFO 'data_window_103_V_V_U(fifo_w16_d3_A)' using Shift Registers.\n",
      "INFO: [RTMG 210-285] Implementing FIFO 'data_window_104_V_V_U(fifo_w16_d3_A)' using Shift Registers.\n",
      "INFO: [RTMG 210-285] Implementing FIFO 'data_window_105_V_V_U(fifo_w16_d3_A)' using Shift Registers.\n",
      "INFO: [RTMG 210-285] Implementing FIFO 'data_window_106_V_V_U(fifo_w16_d3_A)' using Shift Registers.\n",
      "INFO: [RTMG 210-285] Implementing FIFO 'data_window_107_V_V_U(fifo_w16_d3_A)' using Shift Registers.\n",
      "INFO: [RTMG 210-285] Implementing FIFO 'data_window_108_V_V_U(fifo_w16_d3_A)' using Shift Registers.\n",
      "INFO: [RTMG 210-285] Implementing FIFO 'data_window_109_V_V_U(fifo_w16_d3_A)' using Shift Registers.\n",
      "INFO: [RTMG 210-285] Implementing FIFO 'data_window_110_V_V_U(fifo_w16_d3_A)' using Shift Registers.\n",
      "INFO: [RTMG 210-285] Implementing FIFO 'data_window_111_V_V_U(fifo_w16_d3_A)' using Shift Registers.\n",
      "INFO: [RTMG 210-285] Implementing FIFO 'data_window_112_V_V_U(fifo_w16_d3_A)' using Shift Registers.\n",
      "INFO: [RTMG 210-285] Implementing FIFO 'data_window_113_V_V_U(fifo_w16_d3_A)' using Shift Registers.\n",
      "INFO: [RTMG 210-285] Implementing FIFO 'data_window_114_V_V_U(fifo_w16_d3_A)' using Shift Registers.\n",
      "INFO: [RTMG 210-285] Implementing FIFO 'data_window_115_V_V_U(fifo_w16_d3_A)' using Shift Registers.\n",
      "INFO: [RTMG 210-285] Implementing FIFO 'data_window_116_V_V_U(fifo_w16_d3_A)' using Shift Registers.\n",
      "INFO: [RTMG 210-285] Implementing FIFO 'data_window_117_V_V_U(fifo_w16_d3_A)' using Shift Registers.\n",
      "INFO: [RTMG 210-285] Implementing FIFO 'data_window_118_V_V_U(fifo_w16_d3_A)' using Shift Registers.\n",
      "INFO: [RTMG 210-285] Implementing FIFO 'data_window_119_V_V_U(fifo_w16_d3_A)' using Shift Registers.\n"
     ]
    },
    {
     "name": "stdout",
     "output_type": "stream",
     "text": [
      "INFO: [RTMG 210-285] Implementing FIFO 'data_window_120_V_V_U(fifo_w16_d3_A)' using Shift Registers.\n",
      "INFO: [RTMG 210-285] Implementing FIFO 'data_window_121_V_V_U(fifo_w16_d3_A)' using Shift Registers.\n",
      "INFO: [RTMG 210-285] Implementing FIFO 'data_window_122_V_V_U(fifo_w16_d3_A)' using Shift Registers.\n",
      "INFO: [RTMG 210-285] Implementing FIFO 'data_window_123_V_V_U(fifo_w16_d3_A)' using Shift Registers.\n",
      "INFO: [RTMG 210-285] Implementing FIFO 'data_window_124_V_V_U(fifo_w16_d3_A)' using Shift Registers.\n",
      "INFO: [RTMG 210-285] Implementing FIFO 'data_window_125_V_V_U(fifo_w16_d3_A)' using Shift Registers.\n",
      "INFO: [RTMG 210-285] Implementing FIFO 'data_window_126_V_V_U(fifo_w16_d3_A)' using Shift Registers.\n",
      "INFO: [RTMG 210-285] Implementing FIFO 'data_window_127_V_V_U(fifo_w16_d3_A)' using Shift Registers.\n",
      "INFO: [RTMG 210-285] Implementing FIFO 'data_window_128_V_V_U(fifo_w16_d3_A)' using Shift Registers.\n",
      "INFO: [RTMG 210-285] Implementing FIFO 'data_window_129_V_V_U(fifo_w16_d3_A)' using Shift Registers.\n",
      "INFO: [RTMG 210-285] Implementing FIFO 'data_window_130_V_V_U(fifo_w16_d3_A)' using Shift Registers.\n",
      "INFO: [RTMG 210-285] Implementing FIFO 'data_window_131_V_V_U(fifo_w16_d3_A)' using Shift Registers.\n",
      "INFO: [RTMG 210-285] Implementing FIFO 'data_window_132_V_V_U(fifo_w16_d3_A)' using Shift Registers.\n",
      "INFO: [RTMG 210-285] Implementing FIFO 'data_window_133_V_V_U(fifo_w16_d3_A)' using Shift Registers.\n",
      "INFO: [RTMG 210-285] Implementing FIFO 'data_window_134_V_V_U(fifo_w16_d3_A)' using Shift Registers.\n",
      "INFO: [RTMG 210-285] Implementing FIFO 'data_window_135_V_V_U(fifo_w16_d3_A)' using Shift Registers.\n",
      "INFO: [RTMG 210-285] Implementing FIFO 'data_window_136_V_V_U(fifo_w16_d3_A)' using Shift Registers.\n",
      "INFO: [RTMG 210-285] Implementing FIFO 'data_window_137_V_V_U(fifo_w16_d3_A)' using Shift Registers.\n",
      "INFO: [RTMG 210-285] Implementing FIFO 'data_window_138_V_V_U(fifo_w16_d3_A)' using Shift Registers.\n",
      "INFO: [RTMG 210-285] Implementing FIFO 'data_window_139_V_V_U(fifo_w16_d3_A)' using Shift Registers.\n",
      "INFO: [RTMG 210-285] Implementing FIFO 'data_window_140_V_V_U(fifo_w16_d3_A)' using Shift Registers.\n",
      "INFO: [RTMG 210-285] Implementing FIFO 'data_window_141_V_V_U(fifo_w16_d3_A)' using Shift Registers.\n",
      "INFO: [RTMG 210-285] Implementing FIFO 'data_window_142_V_V_U(fifo_w16_d3_A)' using Shift Registers.\n",
      "INFO: [RTMG 210-285] Implementing FIFO 'data_window_143_V_V_U(fifo_w16_d3_A)' using Shift Registers.\n",
      "INFO: [RTMG 210-285] Implementing FIFO 'data_window_144_V_V_U(fifo_w16_d3_A)' using Shift Registers.\n",
      "INFO: [RTMG 210-285] Implementing FIFO 'data_window_145_V_V_U(fifo_w16_d3_A)' using Shift Registers.\n",
      "INFO: [RTMG 210-285] Implementing FIFO 'data_window_146_V_V_U(fifo_w16_d3_A)' using Shift Registers.\n",
      "INFO: [RTMG 210-285] Implementing FIFO 'data_window_147_V_V_U(fifo_w16_d3_A)' using Shift Registers.\n",
      "INFO: [RTMG 210-285] Implementing FIFO 'data_window_148_V_V_U(fifo_w16_d3_A)' using Shift Registers.\n",
      "INFO: [RTMG 210-285] Implementing FIFO 'data_window_149_V_V_U(fifo_w16_d3_A)' using Shift Registers.\n",
      "INFO: [RTMG 210-285] Implementing FIFO 'data_window_150_V_V_U(fifo_w16_d3_A)' using Shift Registers.\n",
      "INFO: [RTMG 210-285] Implementing FIFO 'data_window_151_V_V_U(fifo_w16_d3_A)' using Shift Registers.\n",
      "INFO: [RTMG 210-285] Implementing FIFO 'data_window_152_V_V_U(fifo_w16_d3_A)' using Shift Registers.\n",
      "INFO: [RTMG 210-285] Implementing FIFO 'data_window_153_V_V_U(fifo_w16_d3_A)' using Shift Registers.\n",
      "INFO: [RTMG 210-285] Implementing FIFO 'data_window_154_V_V_U(fifo_w16_d3_A)' using Shift Registers.\n",
      "INFO: [RTMG 210-285] Implementing FIFO 'data_window_155_V_V_U(fifo_w16_d3_A)' using Shift Registers.\n",
      "INFO: [RTMG 210-285] Implementing FIFO 'data_window_156_V_V_U(fifo_w16_d3_A)' using Shift Registers.\n",
      "INFO: [RTMG 210-285] Implementing FIFO 'data_window_157_V_V_U(fifo_w16_d3_A)' using Shift Registers.\n",
      "INFO: [RTMG 210-285] Implementing FIFO 'data_window_158_V_V_U(fifo_w16_d3_A)' using Shift Registers.\n",
      "INFO: [RTMG 210-285] Implementing FIFO 'data_window_159_V_V_U(fifo_w16_d3_A)' using Shift Registers.\n",
      "INFO: [RTMG 210-285] Implementing FIFO 'data_window_160_V_V_U(fifo_w16_d3_A)' using Shift Registers.\n",
      "INFO: [RTMG 210-285] Implementing FIFO 'data_window_161_V_V_U(fifo_w16_d3_A)' using Shift Registers.\n",
      "INFO: [RTMG 210-285] Implementing FIFO 'data_window_162_V_V_U(fifo_w16_d3_A)' using Shift Registers.\n",
      "INFO: [RTMG 210-285] Implementing FIFO 'data_window_163_V_V_U(fifo_w16_d3_A)' using Shift Registers.\n",
      "INFO: [RTMG 210-285] Implementing FIFO 'data_window_164_V_V_U(fifo_w16_d3_A)' using Shift Registers.\n",
      "INFO: [RTMG 210-285] Implementing FIFO 'data_window_165_V_V_U(fifo_w16_d3_A)' using Shift Registers.\n",
      "INFO: [RTMG 210-285] Implementing FIFO 'data_window_166_V_V_U(fifo_w16_d3_A)' using Shift Registers.\n",
      "INFO: [RTMG 210-285] Implementing FIFO 'data_window_167_V_V_U(fifo_w16_d3_A)' using Shift Registers.\n",
      "INFO: [RTMG 210-285] Implementing FIFO 'data_window_168_V_V_U(fifo_w16_d3_A)' using Shift Registers.\n",
      "INFO: [RTMG 210-285] Implementing FIFO 'data_window_169_V_V_U(fifo_w16_d3_A)' using Shift Registers.\n",
      "INFO: [RTMG 210-285] Implementing FIFO 'data_window_170_V_V_U(fifo_w16_d3_A)' using Shift Registers.\n",
      "INFO: [RTMG 210-285] Implementing FIFO 'data_window_171_V_V_U(fifo_w16_d3_A)' using Shift Registers.\n",
      "INFO: [RTMG 210-285] Implementing FIFO 'data_window_172_V_V_U(fifo_w16_d3_A)' using Shift Registers.\n",
      "INFO: [RTMG 210-285] Implementing FIFO 'data_window_173_V_V_U(fifo_w16_d3_A)' using Shift Registers.\n",
      "INFO: [RTMG 210-285] Implementing FIFO 'data_window_174_V_V_U(fifo_w16_d3_A)' using Shift Registers.\n",
      "INFO: [RTMG 210-285] Implementing FIFO 'data_window_175_V_V_U(fifo_w16_d3_A)' using Shift Registers.\n",
      "INFO: [RTMG 210-285] Implementing FIFO 'data_window_176_V_V_U(fifo_w16_d3_A)' using Shift Registers.\n",
      "INFO: [RTMG 210-285] Implementing FIFO 'data_window_177_V_V_U(fifo_w16_d3_A)' using Shift Registers.\n",
      "INFO: [RTMG 210-285] Implementing FIFO 'data_window_178_V_V_U(fifo_w16_d3_A)' using Shift Registers.\n",
      "INFO: [RTMG 210-285] Implementing FIFO 'data_window_179_V_V_U(fifo_w16_d3_A)' using Shift Registers.\n",
      "INFO: [RTMG 210-285] Implementing FIFO 'data_window_180_V_V_U(fifo_w16_d3_A)' using Shift Registers.\n",
      "INFO: [RTMG 210-285] Implementing FIFO 'data_window_181_V_V_U(fifo_w16_d3_A)' using Shift Registers.\n",
      "INFO: [RTMG 210-285] Implementing FIFO 'data_window_182_V_V_U(fifo_w16_d3_A)' using Shift Registers.\n",
      "INFO: [RTMG 210-285] Implementing FIFO 'data_window_183_V_V_U(fifo_w16_d3_A)' using Shift Registers.\n",
      "INFO: [RTMG 210-285] Implementing FIFO 'data_window_184_V_V_U(fifo_w16_d3_A)' using Shift Registers.\n",
      "INFO: [RTMG 210-285] Implementing FIFO 'data_window_185_V_V_U(fifo_w16_d3_A)' using Shift Registers.\n",
      "INFO: [RTMG 210-285] Implementing FIFO 'data_window_186_V_V_U(fifo_w16_d3_A)' using Shift Registers.\n",
      "INFO: [RTMG 210-285] Implementing FIFO 'data_window_187_V_V_U(fifo_w16_d3_A)' using Shift Registers.\n",
      "INFO: [RTMG 210-285] Implementing FIFO 'data_window_188_V_V_U(fifo_w16_d3_A)' using Shift Registers.\n",
      "INFO: [RTMG 210-285] Implementing FIFO 'data_window_189_V_V_U(fifo_w16_d3_A)' using Shift Registers.\n",
      "INFO: [RTMG 210-285] Implementing FIFO 'data_window_190_V_V_U(fifo_w16_d3_A)' using Shift Registers.\n",
      "INFO: [RTMG 210-285] Implementing FIFO 'data_window_191_V_V_U(fifo_w16_d3_A)' using Shift Registers.\n",
      "INFO: [RTMG 210-285] Implementing FIFO 'data_window_192_V_V_U(fifo_w16_d3_A)' using Shift Registers.\n",
      "INFO: [RTMG 210-285] Implementing FIFO 'data_window_193_V_V_U(fifo_w16_d3_A)' using Shift Registers.\n",
      "INFO: [RTMG 210-285] Implementing FIFO 'data_window_194_V_V_U(fifo_w16_d3_A)' using Shift Registers.\n",
      "INFO: [RTMG 210-285] Implementing FIFO 'data_window_195_V_V_U(fifo_w16_d3_A)' using Shift Registers.\n",
      "INFO: [RTMG 210-285] Implementing FIFO 'data_window_196_V_V_U(fifo_w16_d3_A)' using Shift Registers.\n",
      "INFO: [RTMG 210-285] Implementing FIFO 'data_window_197_V_V_U(fifo_w16_d3_A)' using Shift Registers.\n",
      "INFO: [RTMG 210-285] Implementing FIFO 'data_window_198_V_V_U(fifo_w16_d3_A)' using Shift Registers.\n",
      "INFO: [RTMG 210-285] Implementing FIFO 'data_window_199_V_V_U(fifo_w16_d3_A)' using Shift Registers.\n",
      "INFO: [RTMG 210-285] Implementing FIFO 'data_window_200_V_V_U(fifo_w16_d3_A)' using Shift Registers.\n",
      "INFO: [RTMG 210-285] Implementing FIFO 'data_window_201_V_V_U(fifo_w16_d3_A)' using Shift Registers.\n",
      "INFO: [RTMG 210-285] Implementing FIFO 'data_window_202_V_V_U(fifo_w16_d3_A)' using Shift Registers.\n",
      "INFO: [RTMG 210-285] Implementing FIFO 'data_window_203_V_V_U(fifo_w16_d3_A)' using Shift Registers.\n"
     ]
    },
    {
     "name": "stdout",
     "output_type": "stream",
     "text": [
      "INFO: [RTMG 210-285] Implementing FIFO 'data_window_204_V_V_U(fifo_w16_d3_A)' using Shift Registers.\n",
      "INFO: [RTMG 210-285] Implementing FIFO 'data_window_205_V_V_U(fifo_w16_d3_A)' using Shift Registers.\n",
      "INFO: [RTMG 210-285] Implementing FIFO 'data_window_206_V_V_U(fifo_w16_d3_A)' using Shift Registers.\n",
      "INFO: [RTMG 210-285] Implementing FIFO 'data_window_207_V_V_U(fifo_w16_d3_A)' using Shift Registers.\n",
      "INFO: [RTMG 210-285] Implementing FIFO 'data_window_208_V_V_U(fifo_w16_d3_A)' using Shift Registers.\n",
      "INFO: [RTMG 210-285] Implementing FIFO 'data_window_209_V_V_U(fifo_w16_d3_A)' using Shift Registers.\n",
      "INFO: [RTMG 210-285] Implementing FIFO 'data_window_210_V_V_U(fifo_w16_d3_A)' using Shift Registers.\n",
      "INFO: [RTMG 210-285] Implementing FIFO 'data_window_211_V_V_U(fifo_w16_d3_A)' using Shift Registers.\n",
      "INFO: [RTMG 210-285] Implementing FIFO 'data_window_212_V_V_U(fifo_w16_d3_A)' using Shift Registers.\n",
      "INFO: [RTMG 210-285] Implementing FIFO 'data_window_213_V_V_U(fifo_w16_d3_A)' using Shift Registers.\n",
      "INFO: [RTMG 210-285] Implementing FIFO 'data_window_214_V_V_U(fifo_w16_d3_A)' using Shift Registers.\n",
      "INFO: [RTMG 210-285] Implementing FIFO 'data_window_215_V_V_U(fifo_w16_d3_A)' using Shift Registers.\n",
      "INFO: [RTMG 210-285] Implementing FIFO 'data_window_216_V_V_U(fifo_w16_d3_A)' using Shift Registers.\n",
      "INFO: [RTMG 210-285] Implementing FIFO 'data_window_217_V_V_U(fifo_w16_d3_A)' using Shift Registers.\n",
      "INFO: [RTMG 210-285] Implementing FIFO 'data_window_218_V_V_U(fifo_w16_d3_A)' using Shift Registers.\n",
      "INFO: [RTMG 210-285] Implementing FIFO 'data_window_219_V_V_U(fifo_w16_d3_A)' using Shift Registers.\n",
      "INFO: [RTMG 210-285] Implementing FIFO 'data_window_220_V_V_U(fifo_w16_d3_A)' using Shift Registers.\n",
      "INFO: [RTMG 210-285] Implementing FIFO 'data_window_221_V_V_U(fifo_w16_d3_A)' using Shift Registers.\n",
      "INFO: [RTMG 210-285] Implementing FIFO 'data_window_222_V_V_U(fifo_w16_d3_A)' using Shift Registers.\n",
      "INFO: [RTMG 210-285] Implementing FIFO 'data_window_223_V_V_U(fifo_w16_d3_A)' using Shift Registers.\n",
      "INFO: [RTMG 210-285] Implementing FIFO 'data_window_224_V_V_U(fifo_w16_d3_A)' using Shift Registers.\n",
      "INFO: [RTMG 210-285] Implementing FIFO 'data_window_225_V_V_U(fifo_w16_d3_A)' using Shift Registers.\n",
      "INFO: [RTMG 210-285] Implementing FIFO 'data_window_226_V_V_U(fifo_w16_d3_A)' using Shift Registers.\n",
      "INFO: [RTMG 210-285] Implementing FIFO 'data_window_227_V_V_U(fifo_w16_d3_A)' using Shift Registers.\n",
      "INFO: [RTMG 210-285] Implementing FIFO 'data_window_228_V_V_U(fifo_w16_d3_A)' using Shift Registers.\n",
      "INFO: [RTMG 210-285] Implementing FIFO 'data_window_229_V_V_U(fifo_w16_d3_A)' using Shift Registers.\n",
      "INFO: [RTMG 210-285] Implementing FIFO 'data_window_230_V_V_U(fifo_w16_d3_A)' using Shift Registers.\n",
      "INFO: [RTMG 210-285] Implementing FIFO 'data_window_231_V_V_U(fifo_w16_d3_A)' using Shift Registers.\n",
      "INFO: [RTMG 210-285] Implementing FIFO 'data_window_232_V_V_U(fifo_w16_d3_A)' using Shift Registers.\n",
      "INFO: [RTMG 210-285] Implementing FIFO 'data_window_233_V_V_U(fifo_w16_d3_A)' using Shift Registers.\n",
      "INFO: [RTMG 210-285] Implementing FIFO 'data_window_234_V_V_U(fifo_w16_d3_A)' using Shift Registers.\n",
      "INFO: [RTMG 210-285] Implementing FIFO 'data_window_235_V_V_U(fifo_w16_d3_A)' using Shift Registers.\n",
      "INFO: [RTMG 210-285] Implementing FIFO 'data_window_236_V_V_U(fifo_w16_d3_A)' using Shift Registers.\n",
      "INFO: [RTMG 210-285] Implementing FIFO 'data_window_237_V_V_U(fifo_w16_d3_A)' using Shift Registers.\n",
      "INFO: [RTMG 210-285] Implementing FIFO 'data_window_238_V_V_U(fifo_w16_d3_A)' using Shift Registers.\n",
      "INFO: [RTMG 210-285] Implementing FIFO 'data_window_239_V_V_U(fifo_w16_d3_A)' using Shift Registers.\n",
      "INFO: [RTMG 210-285] Implementing FIFO 'data_window_240_V_V_U(fifo_w16_d3_A)' using Shift Registers.\n",
      "INFO: [RTMG 210-285] Implementing FIFO 'data_window_241_V_V_U(fifo_w16_d3_A)' using Shift Registers.\n",
      "INFO: [RTMG 210-285] Implementing FIFO 'data_window_242_V_V_U(fifo_w16_d3_A)' using Shift Registers.\n",
      "INFO: [RTMG 210-285] Implementing FIFO 'data_window_243_V_V_U(fifo_w16_d3_A)' using Shift Registers.\n",
      "INFO: [RTMG 210-285] Implementing FIFO 'data_window_244_V_V_U(fifo_w16_d3_A)' using Shift Registers.\n",
      "INFO: [RTMG 210-285] Implementing FIFO 'data_window_245_V_V_U(fifo_w16_d3_A)' using Shift Registers.\n",
      "INFO: [RTMG 210-285] Implementing FIFO 'data_window_246_V_V_U(fifo_w16_d3_A)' using Shift Registers.\n",
      "INFO: [RTMG 210-285] Implementing FIFO 'data_window_247_V_V_U(fifo_w16_d3_A)' using Shift Registers.\n",
      "INFO: [RTMG 210-285] Implementing FIFO 'data_window_248_V_V_U(fifo_w16_d3_A)' using Shift Registers.\n",
      "INFO: [RTMG 210-285] Implementing FIFO 'data_window_249_V_V_U(fifo_w16_d3_A)' using Shift Registers.\n",
      "INFO: [RTMG 210-285] Implementing FIFO 'data_window_250_V_V_U(fifo_w16_d3_A)' using Shift Registers.\n",
      "INFO: [RTMG 210-285] Implementing FIFO 'data_window_251_V_V_U(fifo_w16_d3_A)' using Shift Registers.\n",
      "INFO: [RTMG 210-285] Implementing FIFO 'data_window_252_V_V_U(fifo_w16_d3_A)' using Shift Registers.\n",
      "INFO: [RTMG 210-285] Implementing FIFO 'data_window_253_V_V_U(fifo_w16_d3_A)' using Shift Registers.\n",
      "INFO: [RTMG 210-285] Implementing FIFO 'data_window_254_V_V_U(fifo_w16_d3_A)' using Shift Registers.\n",
      "INFO: [RTMG 210-285] Implementing FIFO 'data_window_255_V_V_U(fifo_w16_d3_A)' using Shift Registers.\n",
      "INFO: [RTMG 210-285] Implementing FIFO 'data_window_256_V_V_U(fifo_w16_d3_A)' using Shift Registers.\n",
      "INFO: [RTMG 210-285] Implementing FIFO 'data_window_257_V_V_U(fifo_w16_d3_A)' using Shift Registers.\n",
      "INFO: [RTMG 210-285] Implementing FIFO 'data_window_258_V_V_U(fifo_w16_d3_A)' using Shift Registers.\n",
      "INFO: [RTMG 210-285] Implementing FIFO 'data_window_259_V_V_U(fifo_w16_d3_A)' using Shift Registers.\n",
      "INFO: [RTMG 210-285] Implementing FIFO 'data_window_260_V_V_U(fifo_w16_d3_A)' using Shift Registers.\n",
      "INFO: [RTMG 210-285] Implementing FIFO 'data_window_261_V_V_U(fifo_w16_d3_A)' using Shift Registers.\n",
      "INFO: [RTMG 210-285] Implementing FIFO 'data_window_262_V_V_U(fifo_w16_d3_A)' using Shift Registers.\n",
      "INFO: [RTMG 210-285] Implementing FIFO 'data_window_263_V_V_U(fifo_w16_d3_A)' using Shift Registers.\n",
      "INFO: [RTMG 210-285] Implementing FIFO 'data_window_264_V_V_U(fifo_w16_d3_A)' using Shift Registers.\n",
      "INFO: [RTMG 210-285] Implementing FIFO 'data_window_265_V_V_U(fifo_w16_d3_A)' using Shift Registers.\n",
      "INFO: [RTMG 210-285] Implementing FIFO 'data_window_266_V_V_U(fifo_w16_d3_A)' using Shift Registers.\n",
      "INFO: [RTMG 210-285] Implementing FIFO 'data_window_267_V_V_U(fifo_w16_d3_A)' using Shift Registers.\n",
      "INFO: [RTMG 210-285] Implementing FIFO 'data_window_268_V_V_U(fifo_w16_d3_A)' using Shift Registers.\n",
      "INFO: [RTMG 210-285] Implementing FIFO 'data_window_269_V_V_U(fifo_w16_d3_A)' using Shift Registers.\n",
      "INFO: [RTMG 210-285] Implementing FIFO 'data_window_270_V_V_U(fifo_w16_d3_A)' using Shift Registers.\n",
      "INFO: [RTMG 210-285] Implementing FIFO 'data_window_271_V_V_U(fifo_w16_d3_A)' using Shift Registers.\n",
      "INFO: [RTMG 210-285] Implementing FIFO 'data_window_272_V_V_U(fifo_w16_d3_A)' using Shift Registers.\n",
      "INFO: [RTMG 210-285] Implementing FIFO 'data_window_273_V_V_U(fifo_w16_d3_A)' using Shift Registers.\n",
      "INFO: [RTMG 210-285] Implementing FIFO 'data_window_274_V_V_U(fifo_w16_d3_A)' using Shift Registers.\n",
      "INFO: [RTMG 210-285] Implementing FIFO 'data_window_275_V_V_U(fifo_w16_d3_A)' using Shift Registers.\n",
      "INFO: [RTMG 210-285] Implementing FIFO 'data_window_276_V_V_U(fifo_w16_d3_A)' using Shift Registers.\n",
      "INFO: [RTMG 210-285] Implementing FIFO 'data_window_277_V_V_U(fifo_w16_d3_A)' using Shift Registers.\n",
      "INFO: [RTMG 210-285] Implementing FIFO 'data_window_278_V_V_U(fifo_w16_d3_A)' using Shift Registers.\n",
      "INFO: [RTMG 210-285] Implementing FIFO 'data_window_279_V_V_U(fifo_w16_d3_A)' using Shift Registers.\n",
      "INFO: [RTMG 210-285] Implementing FIFO 'data_window_280_V_V_U(fifo_w16_d3_A)' using Shift Registers.\n",
      "INFO: [RTMG 210-285] Implementing FIFO 'data_window_281_V_V_U(fifo_w16_d3_A)' using Shift Registers.\n",
      "INFO: [RTMG 210-285] Implementing FIFO 'data_window_282_V_V_U(fifo_w16_d3_A)' using Shift Registers.\n",
      "INFO: [RTMG 210-285] Implementing FIFO 'data_window_283_V_V_U(fifo_w16_d3_A)' using Shift Registers.\n",
      "INFO: [RTMG 210-285] Implementing FIFO 'data_window_284_V_V_U(fifo_w16_d3_A)' using Shift Registers.\n",
      "INFO: [RTMG 210-285] Implementing FIFO 'data_window_285_V_V_U(fifo_w16_d3_A)' using Shift Registers.\n",
      "INFO: [RTMG 210-285] Implementing FIFO 'data_window_286_V_V_U(fifo_w16_d3_A)' using Shift Registers.\n",
      "INFO: [RTMG 210-285] Implementing FIFO 'data_window_287_V_V_U(fifo_w16_d3_A)' using Shift Registers.\n"
     ]
    },
    {
     "name": "stdout",
     "output_type": "stream",
     "text": [
      "INFO: [RTMG 210-279] Implementing memory 'dense_wrapper_ap_fixed_ap_fixed_16_6_5_3_0_config12_s_w12_V_rom' using distributed ROMs.\n",
      "INFO: [RTMG 210-279] Implementing memory 'sigmoid_array_array_ap_fixed_1u_sigmoid_config13_s_sigmoidEe_rom' using auto ROMs.\n",
      "INFO: [RTMG 210-285] Implementing FIFO 'layer2_out_V_data_0_V_U(fifo_w16_d99_A_x)' using Block RAMs.\n",
      "INFO: [RTMG 210-285] Implementing FIFO 'layer2_out_V_data_1_V_U(fifo_w16_d99_A_x)' using Block RAMs.\n",
      "INFO: [RTMG 210-285] Implementing FIFO 'layer2_out_V_data_2_V_U(fifo_w16_d99_A_x)' using Block RAMs.\n",
      "INFO: [RTMG 210-285] Implementing FIFO 'layer2_out_V_data_3_V_U(fifo_w16_d99_A_x)' using Block RAMs.\n",
      "INFO: [RTMG 210-285] Implementing FIFO 'layer2_out_V_data_4_V_U(fifo_w16_d99_A_x)' using Block RAMs.\n",
      "INFO: [RTMG 210-285] Implementing FIFO 'layer2_out_V_data_5_V_U(fifo_w16_d99_A_x)' using Block RAMs.\n",
      "INFO: [RTMG 210-285] Implementing FIFO 'layer2_out_V_data_6_V_U(fifo_w16_d99_A_x)' using Block RAMs.\n",
      "INFO: [RTMG 210-285] Implementing FIFO 'layer2_out_V_data_7_V_U(fifo_w16_d99_A_x)' using Block RAMs.\n",
      "INFO: [RTMG 210-285] Implementing FIFO 'layer2_out_V_data_8_V_U(fifo_w16_d99_A_x)' using Block RAMs.\n",
      "INFO: [RTMG 210-285] Implementing FIFO 'layer2_out_V_data_9_V_U(fifo_w16_d99_A_x)' using Block RAMs.\n",
      "INFO: [RTMG 210-285] Implementing FIFO 'layer2_out_V_data_10_V_U(fifo_w16_d99_A_x)' using Block RAMs.\n",
      "INFO: [RTMG 210-285] Implementing FIFO 'layer2_out_V_data_11_V_U(fifo_w16_d99_A_x)' using Block RAMs.\n",
      "INFO: [RTMG 210-285] Implementing FIFO 'layer2_out_V_data_12_V_U(fifo_w16_d99_A_x)' using Block RAMs.\n",
      "INFO: [RTMG 210-285] Implementing FIFO 'layer2_out_V_data_13_V_U(fifo_w16_d99_A_x)' using Block RAMs.\n",
      "INFO: [RTMG 210-285] Implementing FIFO 'layer2_out_V_data_14_V_U(fifo_w16_d99_A_x)' using Block RAMs.\n",
      "INFO: [RTMG 210-285] Implementing FIFO 'layer2_out_V_data_15_V_U(fifo_w16_d99_A_x)' using Block RAMs.\n",
      "INFO: [RTMG 210-285] Implementing FIFO 'layer3_out_V_data_0_V_U(fifo_w16_d99_A_x)' using Block RAMs.\n",
      "INFO: [RTMG 210-285] Implementing FIFO 'layer3_out_V_data_1_V_U(fifo_w16_d99_A_x)' using Block RAMs.\n",
      "INFO: [RTMG 210-285] Implementing FIFO 'layer3_out_V_data_2_V_U(fifo_w16_d99_A_x)' using Block RAMs.\n",
      "INFO: [RTMG 210-285] Implementing FIFO 'layer3_out_V_data_3_V_U(fifo_w16_d99_A_x)' using Block RAMs.\n",
      "INFO: [RTMG 210-285] Implementing FIFO 'layer3_out_V_data_4_V_U(fifo_w16_d99_A_x)' using Block RAMs.\n",
      "INFO: [RTMG 210-285] Implementing FIFO 'layer3_out_V_data_5_V_U(fifo_w16_d99_A_x)' using Block RAMs.\n",
      "INFO: [RTMG 210-285] Implementing FIFO 'layer3_out_V_data_6_V_U(fifo_w16_d99_A_x)' using Block RAMs.\n",
      "INFO: [RTMG 210-285] Implementing FIFO 'layer3_out_V_data_7_V_U(fifo_w16_d99_A_x)' using Block RAMs.\n",
      "INFO: [RTMG 210-285] Implementing FIFO 'layer3_out_V_data_8_V_U(fifo_w16_d99_A_x)' using Block RAMs.\n",
      "INFO: [RTMG 210-285] Implementing FIFO 'layer3_out_V_data_9_V_U(fifo_w16_d99_A_x)' using Block RAMs.\n",
      "INFO: [RTMG 210-285] Implementing FIFO 'layer3_out_V_data_10_V_U(fifo_w16_d99_A_x)' using Block RAMs.\n",
      "INFO: [RTMG 210-285] Implementing FIFO 'layer3_out_V_data_11_V_U(fifo_w16_d99_A_x)' using Block RAMs.\n",
      "INFO: [RTMG 210-285] Implementing FIFO 'layer3_out_V_data_12_V_U(fifo_w16_d99_A_x)' using Block RAMs.\n",
      "INFO: [RTMG 210-285] Implementing FIFO 'layer3_out_V_data_13_V_U(fifo_w16_d99_A_x)' using Block RAMs.\n",
      "INFO: [RTMG 210-285] Implementing FIFO 'layer3_out_V_data_14_V_U(fifo_w16_d99_A_x)' using Block RAMs.\n",
      "INFO: [RTMG 210-285] Implementing FIFO 'layer3_out_V_data_15_V_U(fifo_w16_d99_A_x)' using Block RAMs.\n",
      "INFO: [RTMG 210-285] Implementing FIFO 'layer4_out_V_data_0_V_U(fifo_w16_d49_A_x)' using Shift Registers.\n",
      "INFO: [RTMG 210-285] Implementing FIFO 'layer4_out_V_data_1_V_U(fifo_w16_d49_A_x)' using Shift Registers.\n",
      "INFO: [RTMG 210-285] Implementing FIFO 'layer4_out_V_data_2_V_U(fifo_w16_d49_A_x)' using Shift Registers.\n",
      "INFO: [RTMG 210-285] Implementing FIFO 'layer4_out_V_data_3_V_U(fifo_w16_d49_A_x)' using Shift Registers.\n",
      "INFO: [RTMG 210-285] Implementing FIFO 'layer4_out_V_data_4_V_U(fifo_w16_d49_A_x)' using Shift Registers.\n",
      "INFO: [RTMG 210-285] Implementing FIFO 'layer4_out_V_data_5_V_U(fifo_w16_d49_A_x)' using Shift Registers.\n",
      "INFO: [RTMG 210-285] Implementing FIFO 'layer4_out_V_data_6_V_U(fifo_w16_d49_A_x)' using Shift Registers.\n",
      "INFO: [RTMG 210-285] Implementing FIFO 'layer4_out_V_data_7_V_U(fifo_w16_d49_A_x)' using Shift Registers.\n",
      "INFO: [RTMG 210-285] Implementing FIFO 'layer4_out_V_data_8_V_U(fifo_w16_d49_A_x)' using Shift Registers.\n",
      "INFO: [RTMG 210-285] Implementing FIFO 'layer4_out_V_data_9_V_U(fifo_w16_d49_A_x)' using Shift Registers.\n",
      "INFO: [RTMG 210-285] Implementing FIFO 'layer4_out_V_data_10_V_U(fifo_w16_d49_A_x)' using Shift Registers.\n",
      "INFO: [RTMG 210-285] Implementing FIFO 'layer4_out_V_data_11_V_U(fifo_w16_d49_A_x)' using Shift Registers.\n",
      "INFO: [RTMG 210-285] Implementing FIFO 'layer4_out_V_data_12_V_U(fifo_w16_d49_A_x)' using Shift Registers.\n",
      "INFO: [RTMG 210-285] Implementing FIFO 'layer4_out_V_data_13_V_U(fifo_w16_d49_A_x)' using Shift Registers.\n",
      "INFO: [RTMG 210-285] Implementing FIFO 'layer4_out_V_data_14_V_U(fifo_w16_d49_A_x)' using Shift Registers.\n",
      "INFO: [RTMG 210-285] Implementing FIFO 'layer4_out_V_data_15_V_U(fifo_w16_d49_A_x)' using Shift Registers.\n",
      "INFO: [RTMG 210-285] Implementing FIFO 'layer5_out_V_data_0_V_U(fifo_w16_d23_A_x)' using Shift Registers.\n",
      "INFO: [RTMG 210-285] Implementing FIFO 'layer5_out_V_data_1_V_U(fifo_w16_d23_A_x)' using Shift Registers.\n",
      "INFO: [RTMG 210-285] Implementing FIFO 'layer5_out_V_data_2_V_U(fifo_w16_d23_A_x)' using Shift Registers.\n",
      "INFO: [RTMG 210-285] Implementing FIFO 'layer5_out_V_data_3_V_U(fifo_w16_d23_A_x)' using Shift Registers.\n",
      "INFO: [RTMG 210-285] Implementing FIFO 'layer5_out_V_data_4_V_U(fifo_w16_d23_A_x)' using Shift Registers.\n",
      "INFO: [RTMG 210-285] Implementing FIFO 'layer5_out_V_data_5_V_U(fifo_w16_d23_A_x)' using Shift Registers.\n",
      "INFO: [RTMG 210-285] Implementing FIFO 'layer5_out_V_data_6_V_U(fifo_w16_d23_A_x)' using Shift Registers.\n",
      "INFO: [RTMG 210-285] Implementing FIFO 'layer5_out_V_data_7_V_U(fifo_w16_d23_A_x)' using Shift Registers.\n",
      "INFO: [RTMG 210-285] Implementing FIFO 'layer5_out_V_data_8_V_U(fifo_w16_d23_A_x)' using Shift Registers.\n",
      "INFO: [RTMG 210-285] Implementing FIFO 'layer5_out_V_data_9_V_U(fifo_w16_d23_A_x)' using Shift Registers.\n",
      "INFO: [RTMG 210-285] Implementing FIFO 'layer5_out_V_data_10_V_U(fifo_w16_d23_A_x)' using Shift Registers.\n",
      "INFO: [RTMG 210-285] Implementing FIFO 'layer5_out_V_data_11_V_U(fifo_w16_d23_A_x)' using Shift Registers.\n",
      "INFO: [RTMG 210-285] Implementing FIFO 'layer5_out_V_data_12_V_U(fifo_w16_d23_A_x)' using Shift Registers.\n",
      "INFO: [RTMG 210-285] Implementing FIFO 'layer5_out_V_data_13_V_U(fifo_w16_d23_A_x)' using Shift Registers.\n",
      "INFO: [RTMG 210-285] Implementing FIFO 'layer5_out_V_data_14_V_U(fifo_w16_d23_A_x)' using Shift Registers.\n",
      "INFO: [RTMG 210-285] Implementing FIFO 'layer5_out_V_data_15_V_U(fifo_w16_d23_A_x)' using Shift Registers.\n",
      "INFO: [RTMG 210-285] Implementing FIFO 'layer5_out_V_data_16_V_U(fifo_w16_d23_A_x)' using Shift Registers.\n",
      "INFO: [RTMG 210-285] Implementing FIFO 'layer5_out_V_data_17_V_U(fifo_w16_d23_A_x)' using Shift Registers.\n",
      "INFO: [RTMG 210-285] Implementing FIFO 'layer5_out_V_data_18_V_U(fifo_w16_d23_A_x)' using Shift Registers.\n",
      "INFO: [RTMG 210-285] Implementing FIFO 'layer5_out_V_data_19_V_U(fifo_w16_d23_A_x)' using Shift Registers.\n",
      "INFO: [RTMG 210-285] Implementing FIFO 'layer5_out_V_data_20_V_U(fifo_w16_d23_A_x)' using Shift Registers.\n",
      "INFO: [RTMG 210-285] Implementing FIFO 'layer5_out_V_data_21_V_U(fifo_w16_d23_A_x)' using Shift Registers.\n",
      "INFO: [RTMG 210-285] Implementing FIFO 'layer5_out_V_data_22_V_U(fifo_w16_d23_A_x)' using Shift Registers.\n",
      "INFO: [RTMG 210-285] Implementing FIFO 'layer5_out_V_data_23_V_U(fifo_w16_d23_A_x)' using Shift Registers.\n",
      "INFO: [RTMG 210-285] Implementing FIFO 'layer5_out_V_data_24_V_U(fifo_w16_d23_A_x)' using Shift Registers.\n",
      "INFO: [RTMG 210-285] Implementing FIFO 'layer5_out_V_data_25_V_U(fifo_w16_d23_A_x)' using Shift Registers.\n",
      "INFO: [RTMG 210-285] Implementing FIFO 'layer5_out_V_data_26_V_U(fifo_w16_d23_A_x)' using Shift Registers.\n",
      "INFO: [RTMG 210-285] Implementing FIFO 'layer5_out_V_data_27_V_U(fifo_w16_d23_A_x)' using Shift Registers.\n",
      "INFO: [RTMG 210-285] Implementing FIFO 'layer5_out_V_data_28_V_U(fifo_w16_d23_A_x)' using Shift Registers.\n"
     ]
    },
    {
     "name": "stdout",
     "output_type": "stream",
     "text": [
      "INFO: [RTMG 210-285] Implementing FIFO 'layer5_out_V_data_29_V_U(fifo_w16_d23_A_x)' using Shift Registers.\n",
      "INFO: [RTMG 210-285] Implementing FIFO 'layer5_out_V_data_30_V_U(fifo_w16_d23_A_x)' using Shift Registers.\n",
      "INFO: [RTMG 210-285] Implementing FIFO 'layer5_out_V_data_31_V_U(fifo_w16_d23_A_x)' using Shift Registers.\n",
      "INFO: [RTMG 210-285] Implementing FIFO 'layer6_out_V_data_0_V_U(fifo_w16_d23_A_x)' using Shift Registers.\n",
      "INFO: [RTMG 210-285] Implementing FIFO 'layer6_out_V_data_1_V_U(fifo_w16_d23_A_x)' using Shift Registers.\n",
      "INFO: [RTMG 210-285] Implementing FIFO 'layer6_out_V_data_2_V_U(fifo_w16_d23_A_x)' using Shift Registers.\n",
      "INFO: [RTMG 210-285] Implementing FIFO 'layer6_out_V_data_3_V_U(fifo_w16_d23_A_x)' using Shift Registers.\n",
      "INFO: [RTMG 210-285] Implementing FIFO 'layer6_out_V_data_4_V_U(fifo_w16_d23_A_x)' using Shift Registers.\n",
      "INFO: [RTMG 210-285] Implementing FIFO 'layer6_out_V_data_5_V_U(fifo_w16_d23_A_x)' using Shift Registers.\n",
      "INFO: [RTMG 210-285] Implementing FIFO 'layer6_out_V_data_6_V_U(fifo_w16_d23_A_x)' using Shift Registers.\n",
      "INFO: [RTMG 210-285] Implementing FIFO 'layer6_out_V_data_7_V_U(fifo_w16_d23_A_x)' using Shift Registers.\n",
      "INFO: [RTMG 210-285] Implementing FIFO 'layer6_out_V_data_8_V_U(fifo_w16_d23_A_x)' using Shift Registers.\n",
      "INFO: [RTMG 210-285] Implementing FIFO 'layer6_out_V_data_9_V_U(fifo_w16_d23_A_x)' using Shift Registers.\n",
      "INFO: [RTMG 210-285] Implementing FIFO 'layer6_out_V_data_10_V_U(fifo_w16_d23_A_x)' using Shift Registers.\n",
      "INFO: [RTMG 210-285] Implementing FIFO 'layer6_out_V_data_11_V_U(fifo_w16_d23_A_x)' using Shift Registers.\n",
      "INFO: [RTMG 210-285] Implementing FIFO 'layer6_out_V_data_12_V_U(fifo_w16_d23_A_x)' using Shift Registers.\n",
      "INFO: [RTMG 210-285] Implementing FIFO 'layer6_out_V_data_13_V_U(fifo_w16_d23_A_x)' using Shift Registers.\n",
      "INFO: [RTMG 210-285] Implementing FIFO 'layer6_out_V_data_14_V_U(fifo_w16_d23_A_x)' using Shift Registers.\n",
      "INFO: [RTMG 210-285] Implementing FIFO 'layer6_out_V_data_15_V_U(fifo_w16_d23_A_x)' using Shift Registers.\n",
      "INFO: [RTMG 210-285] Implementing FIFO 'layer6_out_V_data_16_V_U(fifo_w16_d23_A_x)' using Shift Registers.\n",
      "INFO: [RTMG 210-285] Implementing FIFO 'layer6_out_V_data_17_V_U(fifo_w16_d23_A_x)' using Shift Registers.\n",
      "INFO: [RTMG 210-285] Implementing FIFO 'layer6_out_V_data_18_V_U(fifo_w16_d23_A_x)' using Shift Registers.\n",
      "INFO: [RTMG 210-285] Implementing FIFO 'layer6_out_V_data_19_V_U(fifo_w16_d23_A_x)' using Shift Registers.\n",
      "INFO: [RTMG 210-285] Implementing FIFO 'layer6_out_V_data_20_V_U(fifo_w16_d23_A_x)' using Shift Registers.\n",
      "INFO: [RTMG 210-285] Implementing FIFO 'layer6_out_V_data_21_V_U(fifo_w16_d23_A_x)' using Shift Registers.\n",
      "INFO: [RTMG 210-285] Implementing FIFO 'layer6_out_V_data_22_V_U(fifo_w16_d23_A_x)' using Shift Registers.\n",
      "INFO: [RTMG 210-285] Implementing FIFO 'layer6_out_V_data_23_V_U(fifo_w16_d23_A_x)' using Shift Registers.\n",
      "INFO: [RTMG 210-285] Implementing FIFO 'layer6_out_V_data_24_V_U(fifo_w16_d23_A_x)' using Shift Registers.\n",
      "INFO: [RTMG 210-285] Implementing FIFO 'layer6_out_V_data_25_V_U(fifo_w16_d23_A_x)' using Shift Registers.\n",
      "INFO: [RTMG 210-285] Implementing FIFO 'layer6_out_V_data_26_V_U(fifo_w16_d23_A_x)' using Shift Registers.\n",
      "INFO: [RTMG 210-285] Implementing FIFO 'layer6_out_V_data_27_V_U(fifo_w16_d23_A_x)' using Shift Registers.\n",
      "INFO: [RTMG 210-285] Implementing FIFO 'layer6_out_V_data_28_V_U(fifo_w16_d23_A_x)' using Shift Registers.\n",
      "INFO: [RTMG 210-285] Implementing FIFO 'layer6_out_V_data_29_V_U(fifo_w16_d23_A_x)' using Shift Registers.\n",
      "INFO: [RTMG 210-285] Implementing FIFO 'layer6_out_V_data_30_V_U(fifo_w16_d23_A_x)' using Shift Registers.\n",
      "INFO: [RTMG 210-285] Implementing FIFO 'layer6_out_V_data_31_V_U(fifo_w16_d23_A_x)' using Shift Registers.\n",
      "INFO: [RTMG 210-285] Implementing FIFO 'layer7_out_V_data_0_V_U(fifo_w16_d11_A_x)' using Shift Registers.\n",
      "INFO: [RTMG 210-285] Implementing FIFO 'layer7_out_V_data_1_V_U(fifo_w16_d11_A_x)' using Shift Registers.\n",
      "INFO: [RTMG 210-285] Implementing FIFO 'layer7_out_V_data_2_V_U(fifo_w16_d11_A_x)' using Shift Registers.\n",
      "INFO: [RTMG 210-285] Implementing FIFO 'layer7_out_V_data_3_V_U(fifo_w16_d11_A_x)' using Shift Registers.\n",
      "INFO: [RTMG 210-285] Implementing FIFO 'layer7_out_V_data_4_V_U(fifo_w16_d11_A_x)' using Shift Registers.\n",
      "INFO: [RTMG 210-285] Implementing FIFO 'layer7_out_V_data_5_V_U(fifo_w16_d11_A_x)' using Shift Registers.\n",
      "INFO: [RTMG 210-285] Implementing FIFO 'layer7_out_V_data_6_V_U(fifo_w16_d11_A_x)' using Shift Registers.\n",
      "INFO: [RTMG 210-285] Implementing FIFO 'layer7_out_V_data_7_V_U(fifo_w16_d11_A_x)' using Shift Registers.\n",
      "INFO: [RTMG 210-285] Implementing FIFO 'layer7_out_V_data_8_V_U(fifo_w16_d11_A_x)' using Shift Registers.\n",
      "INFO: [RTMG 210-285] Implementing FIFO 'layer7_out_V_data_9_V_U(fifo_w16_d11_A_x)' using Shift Registers.\n",
      "INFO: [RTMG 210-285] Implementing FIFO 'layer7_out_V_data_10_V_U(fifo_w16_d11_A_x)' using Shift Registers.\n",
      "INFO: [RTMG 210-285] Implementing FIFO 'layer7_out_V_data_11_V_U(fifo_w16_d11_A_x)' using Shift Registers.\n",
      "INFO: [RTMG 210-285] Implementing FIFO 'layer7_out_V_data_12_V_U(fifo_w16_d11_A_x)' using Shift Registers.\n",
      "INFO: [RTMG 210-285] Implementing FIFO 'layer7_out_V_data_13_V_U(fifo_w16_d11_A_x)' using Shift Registers.\n",
      "INFO: [RTMG 210-285] Implementing FIFO 'layer7_out_V_data_14_V_U(fifo_w16_d11_A_x)' using Shift Registers.\n",
      "INFO: [RTMG 210-285] Implementing FIFO 'layer7_out_V_data_15_V_U(fifo_w16_d11_A_x)' using Shift Registers.\n",
      "INFO: [RTMG 210-285] Implementing FIFO 'layer7_out_V_data_16_V_U(fifo_w16_d11_A_x)' using Shift Registers.\n",
      "INFO: [RTMG 210-285] Implementing FIFO 'layer7_out_V_data_17_V_U(fifo_w16_d11_A_x)' using Shift Registers.\n",
      "INFO: [RTMG 210-285] Implementing FIFO 'layer7_out_V_data_18_V_U(fifo_w16_d11_A_x)' using Shift Registers.\n",
      "INFO: [RTMG 210-285] Implementing FIFO 'layer7_out_V_data_19_V_U(fifo_w16_d11_A_x)' using Shift Registers.\n",
      "INFO: [RTMG 210-285] Implementing FIFO 'layer7_out_V_data_20_V_U(fifo_w16_d11_A_x)' using Shift Registers.\n",
      "INFO: [RTMG 210-285] Implementing FIFO 'layer7_out_V_data_21_V_U(fifo_w16_d11_A_x)' using Shift Registers.\n",
      "INFO: [RTMG 210-285] Implementing FIFO 'layer7_out_V_data_22_V_U(fifo_w16_d11_A_x)' using Shift Registers.\n",
      "INFO: [RTMG 210-285] Implementing FIFO 'layer7_out_V_data_23_V_U(fifo_w16_d11_A_x)' using Shift Registers.\n",
      "INFO: [RTMG 210-285] Implementing FIFO 'layer7_out_V_data_24_V_U(fifo_w16_d11_A_x)' using Shift Registers.\n",
      "INFO: [RTMG 210-285] Implementing FIFO 'layer7_out_V_data_25_V_U(fifo_w16_d11_A_x)' using Shift Registers.\n",
      "INFO: [RTMG 210-285] Implementing FIFO 'layer7_out_V_data_26_V_U(fifo_w16_d11_A_x)' using Shift Registers.\n",
      "INFO: [RTMG 210-285] Implementing FIFO 'layer7_out_V_data_27_V_U(fifo_w16_d11_A_x)' using Shift Registers.\n",
      "INFO: [RTMG 210-285] Implementing FIFO 'layer7_out_V_data_28_V_U(fifo_w16_d11_A_x)' using Shift Registers.\n",
      "INFO: [RTMG 210-285] Implementing FIFO 'layer7_out_V_data_29_V_U(fifo_w16_d11_A_x)' using Shift Registers.\n",
      "INFO: [RTMG 210-285] Implementing FIFO 'layer7_out_V_data_30_V_U(fifo_w16_d11_A_x)' using Shift Registers.\n",
      "INFO: [RTMG 210-285] Implementing FIFO 'layer7_out_V_data_31_V_U(fifo_w16_d11_A_x)' using Shift Registers.\n",
      "INFO: [RTMG 210-285] Implementing FIFO 'layer8_out_V_data_0_V_U(fifo_w16_d3_A_x)' using Shift Registers.\n",
      "INFO: [RTMG 210-285] Implementing FIFO 'layer8_out_V_data_1_V_U(fifo_w16_d3_A_x)' using Shift Registers.\n",
      "INFO: [RTMG 210-285] Implementing FIFO 'layer8_out_V_data_2_V_U(fifo_w16_d3_A_x)' using Shift Registers.\n",
      "INFO: [RTMG 210-285] Implementing FIFO 'layer8_out_V_data_3_V_U(fifo_w16_d3_A_x)' using Shift Registers.\n",
      "INFO: [RTMG 210-285] Implementing FIFO 'layer8_out_V_data_4_V_U(fifo_w16_d3_A_x)' using Shift Registers.\n",
      "INFO: [RTMG 210-285] Implementing FIFO 'layer8_out_V_data_5_V_U(fifo_w16_d3_A_x)' using Shift Registers.\n",
      "INFO: [RTMG 210-285] Implementing FIFO 'layer8_out_V_data_6_V_U(fifo_w16_d3_A_x)' using Shift Registers.\n",
      "INFO: [RTMG 210-285] Implementing FIFO 'layer8_out_V_data_7_V_U(fifo_w16_d3_A_x)' using Shift Registers.\n",
      "INFO: [RTMG 210-285] Implementing FIFO 'layer8_out_V_data_8_V_U(fifo_w16_d3_A_x)' using Shift Registers.\n",
      "INFO: [RTMG 210-285] Implementing FIFO 'layer8_out_V_data_9_V_U(fifo_w16_d3_A_x)' using Shift Registers.\n",
      "INFO: [RTMG 210-285] Implementing FIFO 'layer8_out_V_data_10_V_U(fifo_w16_d3_A_x)' using Shift Registers.\n"
     ]
    },
    {
     "name": "stdout",
     "output_type": "stream",
     "text": [
      "INFO: [RTMG 210-285] Implementing FIFO 'layer8_out_V_data_11_V_U(fifo_w16_d3_A_x)' using Shift Registers.\n",
      "INFO: [RTMG 210-285] Implementing FIFO 'layer8_out_V_data_12_V_U(fifo_w16_d3_A_x)' using Shift Registers.\n",
      "INFO: [RTMG 210-285] Implementing FIFO 'layer8_out_V_data_13_V_U(fifo_w16_d3_A_x)' using Shift Registers.\n",
      "INFO: [RTMG 210-285] Implementing FIFO 'layer8_out_V_data_14_V_U(fifo_w16_d3_A_x)' using Shift Registers.\n",
      "INFO: [RTMG 210-285] Implementing FIFO 'layer8_out_V_data_15_V_U(fifo_w16_d3_A_x)' using Shift Registers.\n",
      "INFO: [RTMG 210-285] Implementing FIFO 'layer8_out_V_data_16_V_U(fifo_w16_d3_A_x)' using Shift Registers.\n",
      "INFO: [RTMG 210-285] Implementing FIFO 'layer8_out_V_data_17_V_U(fifo_w16_d3_A_x)' using Shift Registers.\n",
      "INFO: [RTMG 210-285] Implementing FIFO 'layer8_out_V_data_18_V_U(fifo_w16_d3_A_x)' using Shift Registers.\n",
      "INFO: [RTMG 210-285] Implementing FIFO 'layer8_out_V_data_19_V_U(fifo_w16_d3_A_x)' using Shift Registers.\n",
      "INFO: [RTMG 210-285] Implementing FIFO 'layer8_out_V_data_20_V_U(fifo_w16_d3_A_x)' using Shift Registers.\n",
      "INFO: [RTMG 210-285] Implementing FIFO 'layer8_out_V_data_21_V_U(fifo_w16_d3_A_x)' using Shift Registers.\n",
      "INFO: [RTMG 210-285] Implementing FIFO 'layer8_out_V_data_22_V_U(fifo_w16_d3_A_x)' using Shift Registers.\n",
      "INFO: [RTMG 210-285] Implementing FIFO 'layer8_out_V_data_23_V_U(fifo_w16_d3_A_x)' using Shift Registers.\n",
      "INFO: [RTMG 210-285] Implementing FIFO 'layer8_out_V_data_24_V_U(fifo_w16_d3_A_x)' using Shift Registers.\n",
      "INFO: [RTMG 210-285] Implementing FIFO 'layer8_out_V_data_25_V_U(fifo_w16_d3_A_x)' using Shift Registers.\n",
      "INFO: [RTMG 210-285] Implementing FIFO 'layer8_out_V_data_26_V_U(fifo_w16_d3_A_x)' using Shift Registers.\n",
      "INFO: [RTMG 210-285] Implementing FIFO 'layer8_out_V_data_27_V_U(fifo_w16_d3_A_x)' using Shift Registers.\n",
      "INFO: [RTMG 210-285] Implementing FIFO 'layer8_out_V_data_28_V_U(fifo_w16_d3_A_x)' using Shift Registers.\n",
      "INFO: [RTMG 210-285] Implementing FIFO 'layer8_out_V_data_29_V_U(fifo_w16_d3_A_x)' using Shift Registers.\n",
      "INFO: [RTMG 210-285] Implementing FIFO 'layer8_out_V_data_30_V_U(fifo_w16_d3_A_x)' using Shift Registers.\n",
      "INFO: [RTMG 210-285] Implementing FIFO 'layer8_out_V_data_31_V_U(fifo_w16_d3_A_x)' using Shift Registers.\n",
      "INFO: [RTMG 210-285] Implementing FIFO 'layer8_out_V_data_32_V_U(fifo_w16_d3_A_x)' using Shift Registers.\n",
      "INFO: [RTMG 210-285] Implementing FIFO 'layer8_out_V_data_33_V_U(fifo_w16_d3_A_x)' using Shift Registers.\n",
      "INFO: [RTMG 210-285] Implementing FIFO 'layer8_out_V_data_34_V_U(fifo_w16_d3_A_x)' using Shift Registers.\n",
      "INFO: [RTMG 210-285] Implementing FIFO 'layer8_out_V_data_35_V_U(fifo_w16_d3_A_x)' using Shift Registers.\n",
      "INFO: [RTMG 210-285] Implementing FIFO 'layer8_out_V_data_36_V_U(fifo_w16_d3_A_x)' using Shift Registers.\n",
      "INFO: [RTMG 210-285] Implementing FIFO 'layer8_out_V_data_37_V_U(fifo_w16_d3_A_x)' using Shift Registers.\n",
      "INFO: [RTMG 210-285] Implementing FIFO 'layer8_out_V_data_38_V_U(fifo_w16_d3_A_x)' using Shift Registers.\n",
      "INFO: [RTMG 210-285] Implementing FIFO 'layer8_out_V_data_39_V_U(fifo_w16_d3_A_x)' using Shift Registers.\n",
      "INFO: [RTMG 210-285] Implementing FIFO 'layer8_out_V_data_40_V_U(fifo_w16_d3_A_x)' using Shift Registers.\n",
      "INFO: [RTMG 210-285] Implementing FIFO 'layer8_out_V_data_41_V_U(fifo_w16_d3_A_x)' using Shift Registers.\n",
      "INFO: [RTMG 210-285] Implementing FIFO 'layer8_out_V_data_42_V_U(fifo_w16_d3_A_x)' using Shift Registers.\n",
      "INFO: [RTMG 210-285] Implementing FIFO 'layer8_out_V_data_43_V_U(fifo_w16_d3_A_x)' using Shift Registers.\n",
      "INFO: [RTMG 210-285] Implementing FIFO 'layer8_out_V_data_44_V_U(fifo_w16_d3_A_x)' using Shift Registers.\n",
      "INFO: [RTMG 210-285] Implementing FIFO 'layer8_out_V_data_45_V_U(fifo_w16_d3_A_x)' using Shift Registers.\n",
      "INFO: [RTMG 210-285] Implementing FIFO 'layer8_out_V_data_46_V_U(fifo_w16_d3_A_x)' using Shift Registers.\n",
      "INFO: [RTMG 210-285] Implementing FIFO 'layer8_out_V_data_47_V_U(fifo_w16_d3_A_x)' using Shift Registers.\n",
      "INFO: [RTMG 210-285] Implementing FIFO 'layer8_out_V_data_48_V_U(fifo_w16_d3_A_x)' using Shift Registers.\n",
      "INFO: [RTMG 210-285] Implementing FIFO 'layer8_out_V_data_49_V_U(fifo_w16_d3_A_x)' using Shift Registers.\n",
      "INFO: [RTMG 210-285] Implementing FIFO 'layer8_out_V_data_50_V_U(fifo_w16_d3_A_x)' using Shift Registers.\n",
      "INFO: [RTMG 210-285] Implementing FIFO 'layer8_out_V_data_51_V_U(fifo_w16_d3_A_x)' using Shift Registers.\n",
      "INFO: [RTMG 210-285] Implementing FIFO 'layer8_out_V_data_52_V_U(fifo_w16_d3_A_x)' using Shift Registers.\n",
      "INFO: [RTMG 210-285] Implementing FIFO 'layer8_out_V_data_53_V_U(fifo_w16_d3_A_x)' using Shift Registers.\n",
      "INFO: [RTMG 210-285] Implementing FIFO 'layer8_out_V_data_54_V_U(fifo_w16_d3_A_x)' using Shift Registers.\n",
      "INFO: [RTMG 210-285] Implementing FIFO 'layer8_out_V_data_55_V_U(fifo_w16_d3_A_x)' using Shift Registers.\n",
      "INFO: [RTMG 210-285] Implementing FIFO 'layer8_out_V_data_56_V_U(fifo_w16_d3_A_x)' using Shift Registers.\n",
      "INFO: [RTMG 210-285] Implementing FIFO 'layer8_out_V_data_57_V_U(fifo_w16_d3_A_x)' using Shift Registers.\n",
      "INFO: [RTMG 210-285] Implementing FIFO 'layer8_out_V_data_58_V_U(fifo_w16_d3_A_x)' using Shift Registers.\n",
      "INFO: [RTMG 210-285] Implementing FIFO 'layer8_out_V_data_59_V_U(fifo_w16_d3_A_x)' using Shift Registers.\n",
      "INFO: [RTMG 210-285] Implementing FIFO 'layer8_out_V_data_60_V_U(fifo_w16_d3_A_x)' using Shift Registers.\n",
      "INFO: [RTMG 210-285] Implementing FIFO 'layer8_out_V_data_61_V_U(fifo_w16_d3_A_x)' using Shift Registers.\n",
      "INFO: [RTMG 210-285] Implementing FIFO 'layer8_out_V_data_62_V_U(fifo_w16_d3_A_x)' using Shift Registers.\n",
      "INFO: [RTMG 210-285] Implementing FIFO 'layer8_out_V_data_63_V_U(fifo_w16_d3_A_x)' using Shift Registers.\n",
      "INFO: [RTMG 210-285] Implementing FIFO 'layer9_out_V_data_0_V_U(fifo_w16_d3_A_x)' using Shift Registers.\n",
      "INFO: [RTMG 210-285] Implementing FIFO 'layer9_out_V_data_1_V_U(fifo_w16_d3_A_x)' using Shift Registers.\n",
      "INFO: [RTMG 210-285] Implementing FIFO 'layer9_out_V_data_2_V_U(fifo_w16_d3_A_x)' using Shift Registers.\n",
      "INFO: [RTMG 210-285] Implementing FIFO 'layer9_out_V_data_3_V_U(fifo_w16_d3_A_x)' using Shift Registers.\n",
      "INFO: [RTMG 210-285] Implementing FIFO 'layer9_out_V_data_4_V_U(fifo_w16_d3_A_x)' using Shift Registers.\n",
      "INFO: [RTMG 210-285] Implementing FIFO 'layer9_out_V_data_5_V_U(fifo_w16_d3_A_x)' using Shift Registers.\n",
      "INFO: [RTMG 210-285] Implementing FIFO 'layer9_out_V_data_6_V_U(fifo_w16_d3_A_x)' using Shift Registers.\n",
      "INFO: [RTMG 210-285] Implementing FIFO 'layer9_out_V_data_7_V_U(fifo_w16_d3_A_x)' using Shift Registers.\n",
      "INFO: [RTMG 210-285] Implementing FIFO 'layer9_out_V_data_8_V_U(fifo_w16_d3_A_x)' using Shift Registers.\n",
      "INFO: [RTMG 210-285] Implementing FIFO 'layer9_out_V_data_9_V_U(fifo_w16_d3_A_x)' using Shift Registers.\n",
      "INFO: [RTMG 210-285] Implementing FIFO 'layer9_out_V_data_10_V_U(fifo_w16_d3_A_x)' using Shift Registers.\n",
      "INFO: [RTMG 210-285] Implementing FIFO 'layer9_out_V_data_11_V_U(fifo_w16_d3_A_x)' using Shift Registers.\n",
      "INFO: [RTMG 210-285] Implementing FIFO 'layer9_out_V_data_12_V_U(fifo_w16_d3_A_x)' using Shift Registers.\n",
      "INFO: [RTMG 210-285] Implementing FIFO 'layer9_out_V_data_13_V_U(fifo_w16_d3_A_x)' using Shift Registers.\n",
      "INFO: [RTMG 210-285] Implementing FIFO 'layer9_out_V_data_14_V_U(fifo_w16_d3_A_x)' using Shift Registers.\n",
      "INFO: [RTMG 210-285] Implementing FIFO 'layer9_out_V_data_15_V_U(fifo_w16_d3_A_x)' using Shift Registers.\n",
      "INFO: [RTMG 210-285] Implementing FIFO 'layer9_out_V_data_16_V_U(fifo_w16_d3_A_x)' using Shift Registers.\n",
      "INFO: [RTMG 210-285] Implementing FIFO 'layer9_out_V_data_17_V_U(fifo_w16_d3_A_x)' using Shift Registers.\n",
      "INFO: [RTMG 210-285] Implementing FIFO 'layer9_out_V_data_18_V_U(fifo_w16_d3_A_x)' using Shift Registers.\n",
      "INFO: [RTMG 210-285] Implementing FIFO 'layer9_out_V_data_19_V_U(fifo_w16_d3_A_x)' using Shift Registers.\n",
      "INFO: [RTMG 210-285] Implementing FIFO 'layer9_out_V_data_20_V_U(fifo_w16_d3_A_x)' using Shift Registers.\n",
      "INFO: [RTMG 210-285] Implementing FIFO 'layer9_out_V_data_21_V_U(fifo_w16_d3_A_x)' using Shift Registers.\n",
      "INFO: [RTMG 210-285] Implementing FIFO 'layer9_out_V_data_22_V_U(fifo_w16_d3_A_x)' using Shift Registers.\n",
      "INFO: [RTMG 210-285] Implementing FIFO 'layer9_out_V_data_23_V_U(fifo_w16_d3_A_x)' using Shift Registers.\n",
      "INFO: [RTMG 210-285] Implementing FIFO 'layer9_out_V_data_24_V_U(fifo_w16_d3_A_x)' using Shift Registers.\n"
     ]
    },
    {
     "name": "stdout",
     "output_type": "stream",
     "text": [
      "INFO: [RTMG 210-285] Implementing FIFO 'layer9_out_V_data_25_V_U(fifo_w16_d3_A_x)' using Shift Registers.\n",
      "INFO: [RTMG 210-285] Implementing FIFO 'layer9_out_V_data_26_V_U(fifo_w16_d3_A_x)' using Shift Registers.\n",
      "INFO: [RTMG 210-285] Implementing FIFO 'layer9_out_V_data_27_V_U(fifo_w16_d3_A_x)' using Shift Registers.\n",
      "INFO: [RTMG 210-285] Implementing FIFO 'layer9_out_V_data_28_V_U(fifo_w16_d3_A_x)' using Shift Registers.\n",
      "INFO: [RTMG 210-285] Implementing FIFO 'layer9_out_V_data_29_V_U(fifo_w16_d3_A_x)' using Shift Registers.\n",
      "INFO: [RTMG 210-285] Implementing FIFO 'layer9_out_V_data_30_V_U(fifo_w16_d3_A_x)' using Shift Registers.\n",
      "INFO: [RTMG 210-285] Implementing FIFO 'layer9_out_V_data_31_V_U(fifo_w16_d3_A_x)' using Shift Registers.\n",
      "INFO: [RTMG 210-285] Implementing FIFO 'layer9_out_V_data_32_V_U(fifo_w16_d3_A_x)' using Shift Registers.\n",
      "INFO: [RTMG 210-285] Implementing FIFO 'layer9_out_V_data_33_V_U(fifo_w16_d3_A_x)' using Shift Registers.\n",
      "INFO: [RTMG 210-285] Implementing FIFO 'layer9_out_V_data_34_V_U(fifo_w16_d3_A_x)' using Shift Registers.\n",
      "INFO: [RTMG 210-285] Implementing FIFO 'layer9_out_V_data_35_V_U(fifo_w16_d3_A_x)' using Shift Registers.\n",
      "INFO: [RTMG 210-285] Implementing FIFO 'layer9_out_V_data_36_V_U(fifo_w16_d3_A_x)' using Shift Registers.\n",
      "INFO: [RTMG 210-285] Implementing FIFO 'layer9_out_V_data_37_V_U(fifo_w16_d3_A_x)' using Shift Registers.\n",
      "INFO: [RTMG 210-285] Implementing FIFO 'layer9_out_V_data_38_V_U(fifo_w16_d3_A_x)' using Shift Registers.\n",
      "INFO: [RTMG 210-285] Implementing FIFO 'layer9_out_V_data_39_V_U(fifo_w16_d3_A_x)' using Shift Registers.\n",
      "INFO: [RTMG 210-285] Implementing FIFO 'layer9_out_V_data_40_V_U(fifo_w16_d3_A_x)' using Shift Registers.\n",
      "INFO: [RTMG 210-285] Implementing FIFO 'layer9_out_V_data_41_V_U(fifo_w16_d3_A_x)' using Shift Registers.\n",
      "INFO: [RTMG 210-285] Implementing FIFO 'layer9_out_V_data_42_V_U(fifo_w16_d3_A_x)' using Shift Registers.\n",
      "INFO: [RTMG 210-285] Implementing FIFO 'layer9_out_V_data_43_V_U(fifo_w16_d3_A_x)' using Shift Registers.\n",
      "INFO: [RTMG 210-285] Implementing FIFO 'layer9_out_V_data_44_V_U(fifo_w16_d3_A_x)' using Shift Registers.\n",
      "INFO: [RTMG 210-285] Implementing FIFO 'layer9_out_V_data_45_V_U(fifo_w16_d3_A_x)' using Shift Registers.\n",
      "INFO: [RTMG 210-285] Implementing FIFO 'layer9_out_V_data_46_V_U(fifo_w16_d3_A_x)' using Shift Registers.\n",
      "INFO: [RTMG 210-285] Implementing FIFO 'layer9_out_V_data_47_V_U(fifo_w16_d3_A_x)' using Shift Registers.\n",
      "INFO: [RTMG 210-285] Implementing FIFO 'layer9_out_V_data_48_V_U(fifo_w16_d3_A_x)' using Shift Registers.\n",
      "INFO: [RTMG 210-285] Implementing FIFO 'layer9_out_V_data_49_V_U(fifo_w16_d3_A_x)' using Shift Registers.\n",
      "INFO: [RTMG 210-285] Implementing FIFO 'layer9_out_V_data_50_V_U(fifo_w16_d3_A_x)' using Shift Registers.\n",
      "INFO: [RTMG 210-285] Implementing FIFO 'layer9_out_V_data_51_V_U(fifo_w16_d3_A_x)' using Shift Registers.\n",
      "INFO: [RTMG 210-285] Implementing FIFO 'layer9_out_V_data_52_V_U(fifo_w16_d3_A_x)' using Shift Registers.\n",
      "INFO: [RTMG 210-285] Implementing FIFO 'layer9_out_V_data_53_V_U(fifo_w16_d3_A_x)' using Shift Registers.\n",
      "INFO: [RTMG 210-285] Implementing FIFO 'layer9_out_V_data_54_V_U(fifo_w16_d3_A_x)' using Shift Registers.\n",
      "INFO: [RTMG 210-285] Implementing FIFO 'layer9_out_V_data_55_V_U(fifo_w16_d3_A_x)' using Shift Registers.\n",
      "INFO: [RTMG 210-285] Implementing FIFO 'layer9_out_V_data_56_V_U(fifo_w16_d3_A_x)' using Shift Registers.\n",
      "INFO: [RTMG 210-285] Implementing FIFO 'layer9_out_V_data_57_V_U(fifo_w16_d3_A_x)' using Shift Registers.\n",
      "INFO: [RTMG 210-285] Implementing FIFO 'layer9_out_V_data_58_V_U(fifo_w16_d3_A_x)' using Shift Registers.\n",
      "INFO: [RTMG 210-285] Implementing FIFO 'layer9_out_V_data_59_V_U(fifo_w16_d3_A_x)' using Shift Registers.\n",
      "INFO: [RTMG 210-285] Implementing FIFO 'layer9_out_V_data_60_V_U(fifo_w16_d3_A_x)' using Shift Registers.\n",
      "INFO: [RTMG 210-285] Implementing FIFO 'layer9_out_V_data_61_V_U(fifo_w16_d3_A_x)' using Shift Registers.\n",
      "INFO: [RTMG 210-285] Implementing FIFO 'layer9_out_V_data_62_V_U(fifo_w16_d3_A_x)' using Shift Registers.\n",
      "INFO: [RTMG 210-285] Implementing FIFO 'layer9_out_V_data_63_V_U(fifo_w16_d3_A_x)' using Shift Registers.\n",
      "INFO: [RTMG 210-285] Implementing FIFO 'start_for_relu_array_array_ap_fixed_16u_relu_config3_U0_U(start_for_relu_array_array_ap_fixed_16u_relu_config3_U0)' using Shift Registers.\n",
      "INFO: [RTMG 210-285] Implementing FIFO 'start_for_pooling1d_cl_array_array_ap_fixed_16u_config4_U0_U(start_for_pooling1d_cl_array_array_ap_fixed_16u_config4_U0)' using Shift Registers.\n",
      "INFO: [RTMG 210-285] Implementing FIFO 'start_for_conv_1d_cl_array_array_ap_fixed_32u_config5_U0_U(start_for_conv_1d_cl_array_array_ap_fixed_32u_config5_U0)' using Shift Registers.\n",
      "INFO: [RTMG 210-285] Implementing FIFO 'start_for_relu_array_array_ap_fixed_32u_relu_config6_U0_U(start_for_relu_array_array_ap_fixed_32u_relu_config6_U0)' using Shift Registers.\n",
      "INFO: [RTMG 210-285] Implementing FIFO 'start_for_pooling1d_cl_array_array_ap_fixed_32u_config7_U0_U(start_for_pooling1d_cl_array_array_ap_fixed_32u_config7_U0)' using Shift Registers.\n",
      "INFO: [RTMG 210-285] Implementing FIFO 'start_for_conv_1d_cl_array_array_ap_fixed_64u_config8_U0_U(start_for_conv_1d_cl_array_array_ap_fixed_64u_config8_U0)' using Shift Registers.\n",
      "INFO: [RTMG 210-285] Implementing FIFO 'start_for_relu_array_array_ap_fixed_64u_relu_config9_U0_U(start_for_relu_array_array_ap_fixed_64u_relu_config9_U0)' using Shift Registers.\n",
      "INFO: [RTMG 210-285] Implementing FIFO 'start_for_global_pooling1d_cl_array_array_ap_fixed_64u_coeOg_U(start_for_global_pooling1d_cl_array_array_ap_fixed_64u_coeOg)' using Shift Registers.\n",
      "INFO: [RTMG 210-285] Implementing FIFO 'start_for_dense_array_array_ap_fixed_16_6_5_3_0_1u_configfYi_U(start_for_dense_array_array_ap_fixed_16_6_5_3_0_1u_configfYi)' using Shift Registers.\n",
      "INFO: [RTMG 210-285] Implementing FIFO 'start_for_sigmoid_array_array_ap_fixed_1u_sigmoid_config1g8j_U(start_for_sigmoid_array_array_ap_fixed_1u_sigmoid_config1g8j)' using Shift Registers.\n",
      "INFO: [HLS 200-111] Finished generating all RTL models Time (s): cpu = 00:12:42 ; elapsed = 00:12:54 . Memory (MB): peak = 1964.254 ; gain = 1531.051 ; free physical = 8766 ; free virtual = 15221\n",
      "INFO: [VHDL 208-304] Generating VHDL RTL for myproject.\n",
      "INFO: [VLOG 209-307] Generating Verilog RTL for myproject.\n",
      "***** C/RTL SYNTHESIS COMPLETED IN 0h12m52s *****\n",
      "INFO: [HLS 200-112] Total elapsed time: 774.66 seconds; peak allocated memory: 906.692 MB.\n",
      "INFO: [Common 17-206] Exiting vivado_hls at Tue Jan 10 13:53:01 2023...\n"
     ]
    },
    {
     "data": {
      "text/plain": [
       "{'EstimatedClockPeriod': '3.644',\n",
       " 'BestLatency': '11328',\n",
       " 'WorstLatency': '11429',\n",
       " 'IntervalMin': '601',\n",
       " 'IntervalMax': '11401',\n",
       " 'BRAM_18K': '284',\n",
       " 'DSP48E': '451',\n",
       " 'FF': '60207',\n",
       " 'LUT': '83853',\n",
       " 'URAM': '0',\n",
       " 'AvailableBRAM_18K': '2940',\n",
       " 'AvailableDSP48E': '3600',\n",
       " 'AvailableFF': '866400',\n",
       " 'AvailableLUT': '433200',\n",
       " 'AvailableURAM': '0'}"
      ]
     },
     "execution_count": 83,
     "metadata": {},
     "output_type": "execute_result"
    }
   ],
   "source": [
    "#Use Vivado HLS to synthesize the model\n",
    "#This might take several minutes\n",
    "hls_model.build(csim=False)\n"
   ]
  },
  {
   "cell_type": "code",
   "execution_count": 85,
   "metadata": {},
   "outputs": [
    {
     "name": "stdout",
     "output_type": "stream",
     "text": [
      "Path myproject does not exist. Exiting.\n"
     ]
    }
   ],
   "source": [
    "#Print out the report if you want\n",
    "hls4ml.report.read_vivado_report('myproject')"
   ]
  }
 ],
 "metadata": {
  "accelerator": "GPU",
  "colab": {
   "name": "Small windows.ipynb",
   "provenance": []
  },
  "kernelspec": {
   "display_name": "Python 3 (ipykernel)",
   "language": "python",
   "name": "python3"
  },
  "language_info": {
   "codemirror_mode": {
    "name": "ipython",
    "version": 3
   },
   "file_extension": ".py",
   "mimetype": "text/x-python",
   "name": "python",
   "nbconvert_exporter": "python",
   "pygments_lexer": "ipython3",
   "version": "3.8.13"
  }
 },
 "nbformat": 4,
 "nbformat_minor": 4
}
