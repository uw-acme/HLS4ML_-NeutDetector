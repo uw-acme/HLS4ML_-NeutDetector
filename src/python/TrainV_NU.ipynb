{
 "cells": [
  {
   "cell_type": "code",
   "execution_count": 2,
   "metadata": {},
   "outputs": [
    {
     "name": "stderr",
     "output_type": "stream",
     "text": [
      "2022-06-22 18:07:21.645850: I tensorflow/core/util/util.cc:169] oneDNN custom operations are on. You may see slightly different numerical results due to floating-point round-off errors from different computation orders. To turn them off, set the environment variable `TF_ENABLE_ONEDNN_OPTS=0`.\n",
      "2022-06-22 18:07:21.653721: W tensorflow/stream_executor/platform/default/dso_loader.cc:64] Could not load dynamic library 'libcudart.so.11.0'; dlerror: libcudart.so.11.0: cannot open shared object file: No such file or directory\n",
      "2022-06-22 18:07:21.653744: I tensorflow/stream_executor/cuda/cudart_stub.cc:29] Ignore above cudart dlerror if you do not have a GPU set up on your machine.\n"
     ]
    }
   ],
   "source": [
    "import sys\n",
    "from os import listdir\n",
    "from os.path import isfile, join\n",
    "import pandas as pd\n",
    "#!{sys.executable} -m pip install tensorflow-gpu==2.4\n",
    "!export LD_LIBRARY_PATH=$LD_LIBRARY_PATH:/home/bhawks/.conda/envs/dune-1dcnn/lib\n",
    "import numpy as np\n",
    "import matplotlib.pyplot as plt\n",
    "import tensorflow as tf\n",
    "from tensorflow import keras \n",
    "from sklearn.preprocessing import StandardScaler\n",
    "from sklearn.compose import ColumnTransformer, make_column_transformer\n",
    "from sklearn.model_selection import train_test_split\n",
    "from sklearn.utils import shuffle"
   ]
  },
  {
   "cell_type": "code",
   "execution_count": 3,
   "metadata": {},
   "outputs": [],
   "source": [
    "from tqdm import trange"
   ]
  },
  {
   "cell_type": "markdown",
   "metadata": {},
   "source": [
    "# Load data, select ADC"
   ]
  },
  {
   "cell_type": "code",
   "execution_count": 9,
   "metadata": {},
   "outputs": [],
   "source": [
    "wireplane = \"V\"\n",
    "sig_name = wireplane+\"-signal\"\n",
    "cln_name = wireplane+\"-clnsig\"\n",
    "np.random.seed(42)\n",
    "nticks = 200\n",
    "max_mels = 11000\n",
    "min_edp = 50000\n",
    "ADC_MIN = 3\n",
    "ADC_MAX = 10\n",
    "waveform_scaler = StandardScaler()\n",
    "\n",
    "def extract_wave(data):\n",
    "    string = 'tck_'\n",
    "    waveforms = []\n",
    "    #Here I extract a column in each iteration and append to list\n",
    "    for i in range(nticks):\n",
    "        waveforms.append(data[string+str(i)].astype(np.int16))\n",
    "    #convert to numpy ndarray\n",
    "    waveforms = np.array(waveforms).astype(np.int16)\n",
    "    #since raws and columns are inverted we need to transpose it\n",
    "    return np.transpose(waveforms)\n",
    "\n",
    "def extract_peak(data):\n",
    "    #extract index of peak\n",
    "    idx = np.array([data['stp0'], data['adc0'], data['stp1'], data['adc1'], data['stp2'], data['adc2'], data['stp3'], data['adc3'], data['stp4'], data['adc4']])\n",
    "    #same as before\n",
    "    return np.transpose(idx)\n",
    "\n",
    "def extract_peak_info(data):\n",
    "    peaks_pos = [data['stp0'], data['stp1'], data['stp2'], data['stp3'], data['stp4']]\n",
    "    adcs = [data['adc0'], data['adc1'], data['adc2'], data['adc3'], data['adc4']]\n",
    "    return np.array(peaks_pos).T, np.array(adcs).T\n",
    "\n",
    "def extract_nel_info(data):\n",
    "    nels = [data['nel0'], data['nel1'], data['nel2'], data['nel3'], data['nel4']]\n",
    "    return np.array(nels).T\n",
    "\n",
    "def extract_edp_info(data):\n",
    "    edp = [data['edp0'], data['edp1'], data['edp2'], data['edp3'], data['edp4']]\n",
    "    return np.array(edp).T\n",
    "\n",
    "def filter_signals(data, clean_data, filter_adc_max=True):\n",
    "    #edp_mask = np.all(extract_edp_info(data)>min_edp, axis = 1)\n",
    "    #nel_mask = np.all(extract_nel_info(data)<max_mels, axis = 1)\n",
    "    #pd.DataFrame(np.all(extract_edp_info(data)>min_edp, axis = 1)).describe()\n",
    "    #print(edp_mask)\n",
    "    #print(nel_mask)\n",
    "    #filter_mask = nel_mask #np.logical_and(edp_mask,nel_mask) \n",
    "    filtered_data = data#[filter_mask]\n",
    "    cln_filtered_data = clean_data#[filter_mask]\n",
    "    \n",
    "    filtered_peak = extract_peak_info(cln_filtered_data)[1]\n",
    "    if filter_adc_max:\n",
    "        peak_mask = np.any(filtered_peak>ADC_MIN, axis = 1)\n",
    "        peak_mask &= np.any(filtered_peak<ADC_MAX, axis = 1)\n",
    "    else:\n",
    "        peak_mask = np.any(filtered_peak>ADC_MIN, axis = 1)\n",
    "    \n",
    "    filtered_data = filtered_data[peak_mask]\n",
    "    cln_filtered_data = cln_filtered_data[peak_mask]\n",
    "    \n",
    "    return filtered_data, cln_filtered_data, filtered_peak\n",
    "\n",
    "def get_std_waveforms(data):\n",
    "    #Extract and scale waveform data (passthrough rn)\n",
    "    raw_waveforms = extract_wave(data)\n",
    "    #print(raw_waveforms) \n",
    "    #scaled_waveforms = waveform_scaler.fit_transform(raw_waveforms)\n",
    "    return raw_waveforms"
   ]
  },
  {
   "cell_type": "code",
   "execution_count": 11,
   "metadata": {},
   "outputs": [
    {
     "name": "stderr",
     "output_type": "stream",
     "text": [
      "IOPub data rate exceeded.\n",
      "The Jupyter server will temporarily stop sending output\n",
      "to the client in order to avoid crashing it.\n",
      "To change this limit, set the config variable\n",
      "`--ServerApp.iopub_data_rate_limit`.\n",
      "\n",
      "Current values:\n",
      "ServerApp.iopub_data_rate_limit=1000000.0 (bytes/sec)\n",
      "ServerApp.rate_limit_window=3.0 (secs)\n",
      "\n"
     ]
    }
   ],
   "source": [
    "#X = np.load(\"data/X_argoneut.npz\")\n",
    "#y = np.load(\"data/y_argoneut.npz\")\n",
    "#old_peak = np.load(\"peak_argoneut.npz\")\n",
    "\n",
    "#Load Training Data\n",
    "path = \"/home/bhawks/dunesnb/1dcnn/train/train/nu_cc/\"\n",
    "path2 = \"/home/bhawks/dunesnb/1dcnn/train/train/nu_es/\"\n",
    "filenames1 = [path+f for f in listdir(path) if (isfile(join(path, f)) and sig_name in f)]\n",
    "clean_filenames1 = [path+f for f in listdir(path) if (isfile(join(path, f)) and cln_name in f)]\n",
    "filenames2 = [path2+f for f in listdir(path2) if (isfile(join(path2, f)) and sig_name in f)]\n",
    "clean_filenames2 = [path2+f for f in listdir(path2) if (isfile(join(path2, f)) and cln_name in f)]\n",
    "\n",
    "filenames =  filenames1+filenames2\n",
    "clean_filenames = clean_filenames1+clean_filenames2\n",
    "\n",
    "combined_data = np.concatenate([np.load(fname) for fname in filenames])\n",
    "combined_clean_data = np.concatenate([np.load(fname) for fname in filenames])\n",
    "\n",
    "noise_path = \"/home/bhawks/dunesnb/1dcnn/train/train/noise/\"\n",
    "noise_filenames = [f for f in listdir(noise_path) if (isfile(join(noise_path, f)) and sig_name in f)]\n",
    "#print(noise_filenames)\n",
    "noise_clean_filenames = [f for f in listdir(noise_path) if (isfile(join(noise_path, f)) and cln_name in f)]\n",
    "\n",
    "combined_noise = np.concatenate([np.load(noise_path+fname) for fname in noise_filenames])\n",
    "#print(combined_noise)\n",
    "#combined_clean_noise = np.concatenate([np.load(noise_path+fname) for fname in noise_clean_filenames])\n",
    "\n"
   ]
  },
  {
   "cell_type": "markdown",
   "metadata": {},
   "source": [
    "# Train/Noise Data Preprocessing\n",
    "\n"
   ]
  },
  {
   "cell_type": "code",
   "execution_count": 12,
   "metadata": {},
   "outputs": [
    {
     "name": "stdout",
     "output_type": "stream",
     "text": [
      "Unfiltered:231744\n",
      "> ADC_MIN:130731\n",
      "Train Split:65365\n",
      "Train Split Filtered ADC_MIN < x < ADC_MAX:62245\n",
      "Test Set:65366\n"
     ]
    }
   ],
   "source": [
    "from sklearn.utils import shuffle\n",
    "print(\"Unfiltered:\" + str(combined_data.shape[0]))\n",
    "#Filter out tiny signals < ADC_MIN, but leave big signals to test on (> ADC_MAX)\n",
    "combined_data, combined_clean_data, peak = filter_signals(combined_data, combined_clean_data, False)\n",
    "print(\"> ADC_MIN:\" + str(combined_data.shape[0]))\n",
    "\n",
    "#split train and test sets (~50k ea before filtering) \n",
    "combined_data, x_test_data, combined_clean_data, x_test_clean  = train_test_split(\n",
    "    combined_data, combined_clean_data, test_size=0.5, shuffle=True\n",
    ")\n",
    "print(\"Train Split:\" + str(combined_data.shape[0]))\n",
    "#filter data and extract waveforms of filtered data\n",
    "combined_data, combined_clean_data, peak = filter_signals(combined_data, combined_clean_data, True)\n",
    "signal_waveforms = get_std_waveforms(combined_data)\n",
    "print(\"Train Split Filtered ADC_MIN < x < ADC_MAX:\" + str(combined_data.shape[0]))\n",
    "#extract waveforms of noise\n",
    "noise_waveforms = get_std_waveforms(combined_noise)\n",
    "\n",
    "#extract waveforms of test data\n",
    "test_signal_waveforms = get_std_waveforms(x_test_data)\n",
    "print(\"Test Set:\" + str(test_signal_waveforms.shape[0]))\n",
    "#generate y data (assuming all radiologicals contain signal, all noise does not)\n",
    "y_noise_full = np.zeros(noise_waveforms.shape[0])\n",
    "y_signal = np.ones(signal_waveforms.shape[0])\n",
    "y_test_signal = np.ones(test_signal_waveforms.shape[0])\n",
    "\n",
    "\n",
    "# split test and train noise datasets (50k)\n",
    "x_noise_train, x_noise_test, y_noise_train, y_noise_test = train_test_split(\n",
    "    noise_waveforms, y_noise_full, test_size=0.5, shuffle=True\n",
    ")\n",
    "\n",
    "#Shuffle signal waveforms to be safe\n",
    "signal_waveforms, y_signal = shuffle(signal_waveforms,y_signal)\n",
    "\n",
    "#Shuffle test waveformst to be safe\n",
    "x_test, y_test = shuffle(test_signal_waveforms,y_test_signal)\n",
    "\n",
    "#Select First n signal samples from (shuffled) set of signals where n = noise samples for balanced train set \n",
    "x_train = np.concatenate((signal_waveforms[:int(x_noise_train.shape[0])], x_noise_train))\n",
    "y_train = np.concatenate((y_signal[:int(x_noise_train.shape[0])], y_noise_train))\n",
    "x_test = np.concatenate((x_test[:int(x_noise_test.shape[0])], x_noise_test))\n",
    "y_test = np.concatenate((y_test_signal[:int(x_noise_test.shape[0])], y_noise_test))\n",
    "\n",
    "\n",
    "# extra train shuffle for good measure \n",
    "x_train, y_train = shuffle(x_train,y_train)\n",
    "\n",
    "# extra test shuffle for good measure \n",
    "x_test, y_test = shuffle(x_test,y_test)\n",
    "\n",
    "#split train and valid sets (40k train 10k valid) \n",
    "x_train, x_valid, y_train, y_valid = train_test_split(\n",
    "    x_train, y_train, test_size=0.2, shuffle=True\n",
    ")"
   ]
  },
  {
   "cell_type": "markdown",
   "metadata": {},
   "source": [
    "# Load Test Data"
   ]
  },
  {
   "cell_type": "code",
   "execution_count": 6,
   "metadata": {},
   "outputs": [
    {
     "data": {
      "text/plain": [
       "'\\n#Load Test Data\\ncc_path = \"/home/bhawks/dunesnb/1dcnn/train/train/nu_cc/\"\\ncc_filenames = [f for f in listdir(cc_path) if (isfile(join(cc_path, f)) and sig_name in f)]\\ncc_clean_filenames = [f for f in listdir(cc_path) if (isfile(join(cc_path, f)) and cln_name in f)]\\n\\nes_path = \"/home/bhawks/dunesnb/1dcnn/train/train/nu_es/\"\\nes_filenames = [f for f in listdir(es_path) if (isfile(join(es_path, f)) and sig_name in f)]\\nes_clean_filenames = [f for f in listdir(es_path) if (isfile(join(es_path, f)) and cln_name in f)]\\n\\ncc_combined_data = np.concatenate([np.load(cc_path+fname) for fname in cc_filenames])\\nes_combined_data = np.concatenate([np.load(es_path+fname) for fname in es_filenames])\\n\\ncc_combined_clean_data = np.concatenate([np.load(cc_path+fname) for fname in cc_filenames])\\nes_combined_clean_data= np.concatenate([np.load(es_path+fname) for fname in es_filenames])\\n'"
      ]
     },
     "execution_count": 6,
     "metadata": {},
     "output_type": "execute_result"
    }
   ],
   "source": [
    "'''\n",
    "#Load Test Data\n",
    "cc_path = \"/home/bhawks/dunesnb/1dcnn/train/train/nu_cc/\"\n",
    "cc_filenames = [f for f in listdir(cc_path) if (isfile(join(cc_path, f)) and sig_name in f)]\n",
    "cc_clean_filenames = [f for f in listdir(cc_path) if (isfile(join(cc_path, f)) and cln_name in f)]\n",
    "\n",
    "es_path = \"/home/bhawks/dunesnb/1dcnn/train/train/nu_es/\"\n",
    "es_filenames = [f for f in listdir(es_path) if (isfile(join(es_path, f)) and sig_name in f)]\n",
    "es_clean_filenames = [f for f in listdir(es_path) if (isfile(join(es_path, f)) and cln_name in f)]\n",
    "\n",
    "cc_combined_data = np.concatenate([np.load(cc_path+fname) for fname in cc_filenames])\n",
    "es_combined_data = np.concatenate([np.load(es_path+fname) for fname in es_filenames])\n",
    "\n",
    "cc_combined_clean_data = np.concatenate([np.load(cc_path+fname) for fname in cc_filenames])\n",
    "es_combined_clean_data= np.concatenate([np.load(es_path+fname) for fname in es_filenames])\n",
    "'''"
   ]
  },
  {
   "cell_type": "markdown",
   "metadata": {},
   "source": [
    "# Test Data Pre-Processing"
   ]
  },
  {
   "cell_type": "code",
   "execution_count": 7,
   "metadata": {},
   "outputs": [
    {
     "data": {
      "text/plain": [
       "'\\ncc_combined_data, cc_combined_clean_data, cc_peak = filter_signals(cc_combined_data, cc_combined_clean_data)\\nes_combined_data, es_combined_clean_data, es_peak = filter_signals(es_combined_data, es_combined_clean_data)\\n\\ncc_signal_waveforms = get_std_waveforms(cc_combined_data)\\nes_signal_waveforms = get_std_waveforms(es_combined_data)\\n\\ncc_y_signal = np.ones(cc_signal_waveforms.shape[0])\\nes_y_signal = np.ones(es_signal_waveforms.shape[0])\\n\\n#Select First n signal samples from (shuffled) set of signals where n = noise samples for balanced test \\ncc_x_test = np.concatenate((cc_signal_waveforms[:int(x_noise_test.shape[0])], x_noise_test))\\ncc_y_test = np.concatenate((cc_y_signal[:int(x_noise_test.shape[0])], y_noise_test))\\n\\n#Select First n signal samples from (shuffled) set of signals where n = noise samples for balanced test \\nes_x_test = np.concatenate((es_signal_waveforms[:int(x_noise_test.shape[0])], x_noise_test))\\nes_y_test = np.concatenate((es_y_signal[:int(x_noise_test.shape[0])], y_noise_test))\\n\\n#shuffle for good measure \\nfrom sklearn.utils import shuffle\\ncc_x_test, cc_y_test = shuffle(cc_x_test,cc_y_test)\\nes_x_test, es_y_test = shuffle(es_x_test,es_y_test)\\n'"
      ]
     },
     "execution_count": 7,
     "metadata": {},
     "output_type": "execute_result"
    }
   ],
   "source": [
    "'''\n",
    "cc_combined_data, cc_combined_clean_data, cc_peak = filter_signals(cc_combined_data, cc_combined_clean_data)\n",
    "es_combined_data, es_combined_clean_data, es_peak = filter_signals(es_combined_data, es_combined_clean_data)\n",
    "\n",
    "cc_signal_waveforms = get_std_waveforms(cc_combined_data)\n",
    "es_signal_waveforms = get_std_waveforms(es_combined_data)\n",
    "\n",
    "cc_y_signal = np.ones(cc_signal_waveforms.shape[0])\n",
    "es_y_signal = np.ones(es_signal_waveforms.shape[0])\n",
    "\n",
    "#Select First n signal samples from (shuffled) set of signals where n = noise samples for balanced test \n",
    "cc_x_test = np.concatenate((cc_signal_waveforms[:int(x_noise_test.shape[0])], x_noise_test))\n",
    "cc_y_test = np.concatenate((cc_y_signal[:int(x_noise_test.shape[0])], y_noise_test))\n",
    "\n",
    "#Select First n signal samples from (shuffled) set of signals where n = noise samples for balanced test \n",
    "es_x_test = np.concatenate((es_signal_waveforms[:int(x_noise_test.shape[0])], x_noise_test))\n",
    "es_y_test = np.concatenate((es_y_signal[:int(x_noise_test.shape[0])], y_noise_test))\n",
    "\n",
    "#shuffle for good measure \n",
    "from sklearn.utils import shuffle\n",
    "cc_x_test, cc_y_test = shuffle(cc_x_test,cc_y_test)\n",
    "es_x_test, es_y_test = shuffle(es_x_test,es_y_test)\n",
    "'''"
   ]
  },
  {
   "cell_type": "code",
   "execution_count": 8,
   "metadata": {},
   "outputs": [],
   "source": [
    "#pd.DataFrame(extract_nel_info(combined_data)).describe()"
   ]
  },
  {
   "cell_type": "code",
   "execution_count": 9,
   "metadata": {},
   "outputs": [],
   "source": [
    "#pd.DataFrame(old_peak[\"training_set\"]).describe()\n"
   ]
  },
  {
   "cell_type": "code",
   "execution_count": 10,
   "metadata": {},
   "outputs": [],
   "source": [
    "#for i in range(0,5): \n",
    "#    plt.hist(peak[:,i],bins=120)\n",
    "#    plt.show()\n",
    "#pd.DataFrame(peak).describe()"
   ]
  },
  {
   "cell_type": "code",
   "execution_count": 11,
   "metadata": {},
   "outputs": [],
   "source": [
    "#for i in range(0,5): \n",
    "#    plt.hist(unscaled_peak[:,i],bins=120)\n",
    "#    plt.show()\n",
    "#pd.DataFrame(unscaled_peak).describe()"
   ]
  },
  {
   "cell_type": "code",
   "execution_count": 12,
   "metadata": {},
   "outputs": [],
   "source": [
    "#x_train = X[\"training_set\"]\n",
    "#y_train = y[\"training_set\"]#\n",
    "#x_test = X[\"test_set\"]\n",
    "#y_test = y[\"test_set\"]\n",
    "\n",
    "#peak_train = peak[\"training_set\"]\n",
    "#peak_test = peak[\"test_set\"]\n",
    "#del y\n",
    "#del X\n",
    "#del peak"
   ]
  },
  {
   "cell_type": "code",
   "execution_count": 13,
   "metadata": {},
   "outputs": [],
   "source": [
    "#ADC_MIN = 3"
   ]
  },
  {
   "cell_type": "code",
   "execution_count": 14,
   "metadata": {},
   "outputs": [],
   "source": [
    "#signal = x_train[y_train == 1]\n",
    "#noise = x_train[y_train == 0]\n",
    "\n",
    "#peak_signal = peak_train[y_train == 1]\n",
    "#peak_noise =  peak_train[y_train == 0]"
   ]
  },
  {
   "cell_type": "code",
   "execution_count": 15,
   "metadata": {},
   "outputs": [],
   "source": [
    "#signal_test = x_test[y_test == 1]\n",
    "#noise_test = x_test[y_test == 0]\n",
    "\n",
    "#peak_signal_test = peak_test[y_test == 1]\n",
    "#peak_noise_test =  peak_test[y_test == 0]"
   ]
  },
  {
   "cell_type": "code",
   "execution_count": 16,
   "metadata": {},
   "outputs": [],
   "source": [
    "#mask = np.any(peak_signal>ADC_MIN, axis = 1)\n",
    "#peak_signal = signal[mask]\n",
    "#signal = signal[mask]"
   ]
  },
  {
   "cell_type": "code",
   "execution_count": 17,
   "metadata": {},
   "outputs": [],
   "source": [
    "#mask = np.any(peak_signal_test>ADC_MIN, axis = 1)\n",
    "#peak_signal_test = signal_test[mask]\n",
    "#signal_test = signal_test[mask]"
   ]
  },
  {
   "cell_type": "code",
   "execution_count": 18,
   "metadata": {},
   "outputs": [],
   "source": [
    "#y_noise = np.zeros(signal.shape[0])\n",
    "#y_signal = np.ones(signal.shape[0])\n",
    "\n",
    "#x_train = np.concatenate((noise[:signal.shape[0]], signal))\n",
    "#y_train = np.concatenate((y_noise, y_signal))\n",
    "#from sklearn.utils import shuffle\n",
    "#x_train, y_train = shuffle(x_train,y_train)"
   ]
  },
  {
   "cell_type": "code",
   "execution_count": 19,
   "metadata": {},
   "outputs": [],
   "source": [
    "#y_noise_test = np.zeros(signal_test.shape[0])\n",
    "#y_signal_test = np.ones(signal_test.shape[0])\n",
    "\n",
    "#x_test = np.concatenate((noise_test[:signal_test.shape[0]], signal_test))\n",
    "#y_test = np.concatenate((y_noise_test, y_signal_test))\n",
    "#from sklearn.utils import shuffle\n",
    "#x_test, y_test = shuffle(x_test,y_test)"
   ]
  },
  {
   "cell_type": "code",
   "execution_count": 20,
   "metadata": {},
   "outputs": [
    {
     "data": {
      "text/plain": [
       "(86880, 200)"
      ]
     },
     "execution_count": 20,
     "metadata": {},
     "output_type": "execute_result"
    }
   ],
   "source": [
    "x_train.shape"
   ]
  },
  {
   "cell_type": "code",
   "execution_count": 21,
   "metadata": {},
   "outputs": [
    {
     "data": {
      "text/plain": [
       "(21720, 200)"
      ]
     },
     "execution_count": 21,
     "metadata": {},
     "output_type": "execute_result"
    }
   ],
   "source": [
    "x_valid.shape"
   ]
  },
  {
   "cell_type": "code",
   "execution_count": 22,
   "metadata": {
    "executionInfo": {
     "elapsed": 3292,
     "status": "ok",
     "timestamp": 1602697140320,
     "user": {
      "displayName": "Lorenzo Uboldi",
      "photoUrl": "",
      "userId": "12025999408021597208"
     },
     "user_tz": -120
    },
    "id": "98hh3JJMgmL5"
   },
   "outputs": [],
   "source": [
    "mean = x_train.mean()\n",
    "std = x_train.std()"
   ]
  },
  {
   "cell_type": "code",
   "execution_count": 23,
   "metadata": {
    "executionInfo": {
     "elapsed": 2199,
     "status": "ok",
     "timestamp": 1602697150258,
     "user": {
      "displayName": "Lorenzo Uboldi",
      "photoUrl": "",
      "userId": "12025999408021597208"
     },
     "user_tz": -120
    },
    "id": "GNfE_-NlgmL9"
   },
   "outputs": [],
   "source": [
    "x_train_scaled = (x_train-mean)/std\n",
    "x_valid_scaled = (x_valid-mean)/std\n",
    "x_test_scaled = (x_test-mean)/std\n",
    "#cc_x_test_scaled = (cc_x_test-mean)/std \n",
    "#es_x_test_scaled = (es_x_test-mean)/std \n",
    "time_periods = 200"
   ]
  },
  {
   "cell_type": "code",
   "execution_count": 24,
   "metadata": {
    "executionInfo": {
     "elapsed": 835,
     "status": "ok",
     "timestamp": 1602698921642,
     "user": {
      "displayName": "Lorenzo Uboldi",
      "photoUrl": "",
      "userId": "12025999408021597208"
     },
     "user_tz": -120
    },
    "id": "f1Q5D9PrR26R"
   },
   "outputs": [],
   "source": [
    "np.save(\"models/mean_v_nu\", mean)\n",
    "np.save(\"models/scale_v_nu\", std)"
   ]
  },
  {
   "cell_type": "code",
   "execution_count": 25,
   "metadata": {
    "executionInfo": {
     "elapsed": 632,
     "status": "ok",
     "timestamp": 1602697152760,
     "user": {
      "displayName": "Lorenzo Uboldi",
      "photoUrl": "",
      "userId": "12025999408021597208"
     },
     "user_tz": -120
    },
    "id": "8Kv4B_L4gmMF"
   },
   "outputs": [],
   "source": [
    "from tensorflow.keras.models import Sequential\n",
    "from tensorflow.keras.layers import Conv1D, MaxPooling1D, GlobalMaxPooling1D, \\\n",
    "    Dropout, Dense,Flatten, AveragePooling1D, BatchNormalization"
   ]
  },
  {
   "cell_type": "code",
   "execution_count": 26,
   "metadata": {
    "colab": {
     "base_uri": "https://localhost:8080/",
     "height": 503
    },
    "executionInfo": {
     "elapsed": 6059,
     "status": "ok",
     "timestamp": 1602697386319,
     "user": {
      "displayName": "Lorenzo Uboldi",
      "photoUrl": "",
      "userId": "12025999408021597208"
     },
     "user_tz": -120
    },
    "id": "Qy2CLcCzgmMK",
    "outputId": "bde22703-bb05-4503-976c-fa68081e1c69"
   },
   "outputs": [
    {
     "name": "stdout",
     "output_type": "stream",
     "text": [
      "Model: \"sequential\"\n",
      "_________________________________________________________________\n",
      " Layer (type)                Output Shape              Param #   \n",
      "=================================================================\n",
      " conv1d (Conv1D)             (None, 99, 16)            64        \n",
      "                                                                 \n",
      " max_pooling1d (MaxPooling1D  (None, 49, 16)           0         \n",
      " )                                                               \n",
      "                                                                 \n",
      " conv1d_1 (Conv1D)           (None, 23, 32)            2592      \n",
      "                                                                 \n",
      " max_pooling1d_1 (MaxPooling  (None, 11, 32)           0         \n",
      " 1D)                                                             \n",
      "                                                                 \n",
      " dropout (Dropout)           (None, 11, 32)            0         \n",
      "                                                                 \n",
      " conv1d_2 (Conv1D)           (None, 3, 64)             18496     \n",
      "                                                                 \n",
      " global_max_pooling1d (Globa  (None, 64)               0         \n",
      " lMaxPooling1D)                                                  \n",
      "                                                                 \n",
      " dropout_1 (Dropout)         (None, 64)                0         \n",
      "                                                                 \n",
      " flatten (Flatten)           (None, 64)                0         \n",
      "                                                                 \n",
      " wavrec_out (Dense)          (None, 1)                 65        \n",
      "                                                                 \n",
      "=================================================================\n",
      "Total params: 21,217\n",
      "Trainable params: 21,217\n",
      "Non-trainable params: 0\n",
      "_________________________________________________________________\n"
     ]
    },
    {
     "name": "stderr",
     "output_type": "stream",
     "text": [
      "2022-06-09 19:34:23.532773: I tensorflow/stream_executor/cuda/cuda_gpu_executor.cc:975] successful NUMA node read from SysFS had negative value (-1), but there must be at least one NUMA node, so returning NUMA node zero\n",
      "2022-06-09 19:34:23.534281: W tensorflow/stream_executor/platform/default/dso_loader.cc:64] Could not load dynamic library 'libcudart.so.11.0'; dlerror: libcudart.so.11.0: cannot open shared object file: No such file or directory\n",
      "2022-06-09 19:34:23.534472: W tensorflow/stream_executor/platform/default/dso_loader.cc:64] Could not load dynamic library 'libcublas.so.11'; dlerror: libcublas.so.11: cannot open shared object file: No such file or directory\n",
      "2022-06-09 19:34:23.534676: W tensorflow/stream_executor/platform/default/dso_loader.cc:64] Could not load dynamic library 'libcublasLt.so.11'; dlerror: libcublasLt.so.11: cannot open shared object file: No such file or directory\n",
      "2022-06-09 19:34:23.534901: W tensorflow/stream_executor/platform/default/dso_loader.cc:64] Could not load dynamic library 'libcufft.so.10'; dlerror: libcufft.so.10: cannot open shared object file: No such file or directory\n",
      "2022-06-09 19:34:23.535115: W tensorflow/stream_executor/platform/default/dso_loader.cc:64] Could not load dynamic library 'libcurand.so.10'; dlerror: libcurand.so.10: cannot open shared object file: No such file or directory\n",
      "2022-06-09 19:34:23.535316: W tensorflow/stream_executor/platform/default/dso_loader.cc:64] Could not load dynamic library 'libcusolver.so.11'; dlerror: libcusolver.so.11: cannot open shared object file: No such file or directory\n",
      "2022-06-09 19:34:23.535494: W tensorflow/stream_executor/platform/default/dso_loader.cc:64] Could not load dynamic library 'libcusparse.so.11'; dlerror: libcusparse.so.11: cannot open shared object file: No such file or directory\n",
      "2022-06-09 19:34:23.535678: W tensorflow/stream_executor/platform/default/dso_loader.cc:64] Could not load dynamic library 'libcudnn.so.8'; dlerror: libcudnn.so.8: cannot open shared object file: No such file or directory\n",
      "2022-06-09 19:34:23.535733: W tensorflow/core/common_runtime/gpu/gpu_device.cc:1850] Cannot dlopen some GPU libraries. Please make sure the missing libraries mentioned above are installed properly if you would like to use GPU. Follow the guide at https://www.tensorflow.org/install/gpu for how to download and setup the required libraries for your platform.\n",
      "Skipping registering GPU devices...\n"
     ]
    }
   ],
   "source": [
    "time_periods = 200\n",
    "def create_model():\n",
    "  model = Sequential()  \n",
    "  #first convolutional block\n",
    "  model.add(Conv1D(filters=16, kernel_size=3, strides=2, activation = \"relu\", input_shape=(time_periods,1)))\n",
    "  model.add(MaxPooling1D(pool_size=2))\n",
    "\n",
    "  #second convolutional block\n",
    "  model.add(Conv1D(filters=32, kernel_size=5, strides=2, activation = \"relu\"))\n",
    "  model.add(MaxPooling1D(pool_size=2))\n",
    "  model.add(Dropout(0.1))\n",
    "  \n",
    "  #forth convolutional block\n",
    "  model.add(Conv1D(filters=64, kernel_size=9, activation = \"relu\"))\n",
    "  model.add(GlobalMaxPooling1D())\n",
    "  model.add(Dropout(0.2)) \n",
    "    \n",
    "  model.add(Flatten())\n",
    "\n",
    "  \n",
    " \n",
    "  model.add(Dense(1, activation=\"sigmoid\", name=\"wavrec_out\"))\n",
    "  return model\n",
    "\n",
    "\n",
    "model = create_model()\n",
    "\n",
    "#lr=0.001\n",
    "adam = tf.keras.optimizers.Adam(learning_rate=0.001, beta_1=0.9, beta_2=0.999, epsilon=None, decay=0.0, amsgrad=False)\n",
    "\n",
    "model.compile(optimizer = adam, loss = 'binary_crossentropy', metrics = ['accuracy'])\n",
    "model.summary()"
   ]
  },
  {
   "cell_type": "code",
   "execution_count": 27,
   "metadata": {
    "executionInfo": {
     "elapsed": 619,
     "status": "ok",
     "timestamp": 1602697394483,
     "user": {
      "displayName": "Lorenzo Uboldi",
      "photoUrl": "",
      "userId": "12025999408021597208"
     },
     "user_tz": -120
    },
    "id": "ck6Dc8zpgmMQ"
   },
   "outputs": [],
   "source": [
    "x_train_scaled = x_train_scaled.reshape(x_train_scaled.shape[0], x_train_scaled.shape[1], 1)\n",
    "#cc_x_test_scaled = cc_x_test_scaled.reshape(cc_x_test_scaled.shape[0], cc_x_test_scaled.shape[1], 1)\n",
    "#es_x_test_scaled = es_x_test_scaled.reshape(es_x_test_scaled.shape[0], es_x_test_scaled.shape[1], 1)\n",
    "x_valid_scaled = x_valid_scaled.reshape(x_valid_scaled.shape[0], x_valid_scaled.shape[1], 1)\n",
    "x_test_scaled = x_test_scaled.reshape(x_test_scaled.shape[0], x_test_scaled.shape[1], 1)"
   ]
  },
  {
   "cell_type": "code",
   "execution_count": 28,
   "metadata": {},
   "outputs": [],
   "source": [
    "earlystop = tf.keras.callbacks.EarlyStopping(\n",
    "    monitor=\"val_loss\",\n",
    "    min_delta=0,\n",
    "    patience=5,\n",
    "    verbose=0,\n",
    "    mode=\"auto\",\n",
    "    baseline=None,\n",
    "    restore_best_weights=True,\n",
    ")\n"
   ]
  },
  {
   "cell_type": "code",
   "execution_count": 29,
   "metadata": {
    "colab": {
     "base_uri": "https://localhost:8080/",
     "height": 746
    },
    "executionInfo": {
     "elapsed": 190700,
     "status": "ok",
     "timestamp": 1602697588909,
     "user": {
      "displayName": "Lorenzo Uboldi",
      "photoUrl": "",
      "userId": "12025999408021597208"
     },
     "user_tz": -120
    },
    "id": "pvebeWPOgmMU",
    "outputId": "c59d02f0-c33a-40be-a52a-eef5f7409d69"
   },
   "outputs": [
    {
     "name": "stdout",
     "output_type": "stream",
     "text": [
      "Epoch 1/100\n",
      "43/43 [==============================] - 3s 51ms/step - loss: 0.5354 - accuracy: 0.6543 - val_loss: 0.3912 - val_accuracy: 0.8649\n",
      "Epoch 2/100\n",
      "43/43 [==============================] - 2s 35ms/step - loss: 0.3241 - accuracy: 0.8745 - val_loss: 0.2710 - val_accuracy: 0.8957\n",
      "Epoch 3/100\n",
      "43/43 [==============================] - 2s 36ms/step - loss: 0.2742 - accuracy: 0.8919 - val_loss: 0.2559 - val_accuracy: 0.9012\n",
      "Epoch 4/100\n",
      "43/43 [==============================] - 2s 36ms/step - loss: 0.2630 - accuracy: 0.8970 - val_loss: 0.2490 - val_accuracy: 0.9051\n",
      "Epoch 5/100\n",
      "43/43 [==============================] - 1s 35ms/step - loss: 0.2567 - accuracy: 0.9012 - val_loss: 0.2444 - val_accuracy: 0.9076\n",
      "Epoch 6/100\n",
      "43/43 [==============================] - 1s 35ms/step - loss: 0.2538 - accuracy: 0.9019 - val_loss: 0.2425 - val_accuracy: 0.9076\n",
      "Epoch 7/100\n",
      "43/43 [==============================] - 2s 35ms/step - loss: 0.2518 - accuracy: 0.9031 - val_loss: 0.2410 - val_accuracy: 0.9081\n",
      "Epoch 8/100\n",
      "43/43 [==============================] - 1s 34ms/step - loss: 0.2503 - accuracy: 0.9045 - val_loss: 0.2422 - val_accuracy: 0.9083\n",
      "Epoch 9/100\n",
      "43/43 [==============================] - 1s 34ms/step - loss: 0.2498 - accuracy: 0.9047 - val_loss: 0.2396 - val_accuracy: 0.9098\n",
      "Epoch 10/100\n",
      "43/43 [==============================] - 2s 35ms/step - loss: 0.2474 - accuracy: 0.9052 - val_loss: 0.2385 - val_accuracy: 0.9096\n",
      "Epoch 11/100\n",
      "43/43 [==============================] - 1s 35ms/step - loss: 0.2467 - accuracy: 0.9058 - val_loss: 0.2382 - val_accuracy: 0.9101\n",
      "Epoch 12/100\n",
      "43/43 [==============================] - 1s 35ms/step - loss: 0.2459 - accuracy: 0.9065 - val_loss: 0.2377 - val_accuracy: 0.9101\n",
      "Epoch 13/100\n",
      "43/43 [==============================] - 1s 35ms/step - loss: 0.2451 - accuracy: 0.9066 - val_loss: 0.2367 - val_accuracy: 0.9098\n",
      "Epoch 14/100\n",
      "43/43 [==============================] - 1s 34ms/step - loss: 0.2440 - accuracy: 0.9070 - val_loss: 0.2367 - val_accuracy: 0.9099\n",
      "Epoch 15/100\n",
      "43/43 [==============================] - 2s 35ms/step - loss: 0.2435 - accuracy: 0.9072 - val_loss: 0.2369 - val_accuracy: 0.9104\n",
      "Epoch 16/100\n",
      "43/43 [==============================] - 1s 35ms/step - loss: 0.2437 - accuracy: 0.9074 - val_loss: 0.2380 - val_accuracy: 0.9106\n",
      "Epoch 17/100\n",
      "43/43 [==============================] - 2s 35ms/step - loss: 0.2424 - accuracy: 0.9076 - val_loss: 0.2361 - val_accuracy: 0.9107\n",
      "Epoch 18/100\n",
      "43/43 [==============================] - 1s 35ms/step - loss: 0.2426 - accuracy: 0.9078 - val_loss: 0.2362 - val_accuracy: 0.9110\n",
      "Epoch 19/100\n",
      "43/43 [==============================] - 1s 34ms/step - loss: 0.2416 - accuracy: 0.9078 - val_loss: 0.2368 - val_accuracy: 0.9109\n",
      "Epoch 20/100\n",
      "43/43 [==============================] - 1s 35ms/step - loss: 0.2413 - accuracy: 0.9082 - val_loss: 0.2354 - val_accuracy: 0.9110\n",
      "Epoch 21/100\n",
      "43/43 [==============================] - 1s 35ms/step - loss: 0.2407 - accuracy: 0.9088 - val_loss: 0.2366 - val_accuracy: 0.9107\n",
      "Epoch 22/100\n",
      "43/43 [==============================] - 2s 36ms/step - loss: 0.2407 - accuracy: 0.9086 - val_loss: 0.2357 - val_accuracy: 0.9113\n",
      "Epoch 23/100\n",
      "43/43 [==============================] - 2s 36ms/step - loss: 0.2402 - accuracy: 0.9085 - val_loss: 0.2351 - val_accuracy: 0.9114\n",
      "Epoch 24/100\n",
      "43/43 [==============================] - 1s 35ms/step - loss: 0.2405 - accuracy: 0.9086 - val_loss: 0.2351 - val_accuracy: 0.9115\n",
      "Epoch 25/100\n",
      "43/43 [==============================] - 1s 34ms/step - loss: 0.2399 - accuracy: 0.9094 - val_loss: 0.2355 - val_accuracy: 0.9110\n",
      "Epoch 26/100\n",
      "43/43 [==============================] - 1s 35ms/step - loss: 0.2389 - accuracy: 0.9093 - val_loss: 0.2355 - val_accuracy: 0.9113\n",
      "Epoch 27/100\n",
      "43/43 [==============================] - 2s 35ms/step - loss: 0.2395 - accuracy: 0.9090 - val_loss: 0.2346 - val_accuracy: 0.9113\n",
      "Epoch 28/100\n",
      "43/43 [==============================] - 2s 35ms/step - loss: 0.2389 - accuracy: 0.9094 - val_loss: 0.2343 - val_accuracy: 0.9112\n",
      "Epoch 29/100\n",
      "43/43 [==============================] - 1s 35ms/step - loss: 0.2389 - accuracy: 0.9091 - val_loss: 0.2353 - val_accuracy: 0.9111\n",
      "Epoch 30/100\n",
      "43/43 [==============================] - 2s 37ms/step - loss: 0.2380 - accuracy: 0.9094 - val_loss: 0.2350 - val_accuracy: 0.9112\n",
      "Epoch 31/100\n",
      "43/43 [==============================] - 1s 35ms/step - loss: 0.2379 - accuracy: 0.9097 - val_loss: 0.2341 - val_accuracy: 0.9120\n",
      "Epoch 32/100\n",
      "43/43 [==============================] - 1s 35ms/step - loss: 0.2384 - accuracy: 0.9094 - val_loss: 0.2346 - val_accuracy: 0.9122\n",
      "Epoch 33/100\n",
      "43/43 [==============================] - 2s 35ms/step - loss: 0.2380 - accuracy: 0.9099 - val_loss: 0.2343 - val_accuracy: 0.9117\n",
      "Epoch 34/100\n",
      "43/43 [==============================] - 1s 34ms/step - loss: 0.2372 - accuracy: 0.9099 - val_loss: 0.2341 - val_accuracy: 0.9118\n",
      "Epoch 35/100\n",
      "43/43 [==============================] - 1s 35ms/step - loss: 0.2372 - accuracy: 0.9101 - val_loss: 0.2340 - val_accuracy: 0.9118\n",
      "Epoch 36/100\n",
      "43/43 [==============================] - 2s 36ms/step - loss: 0.2372 - accuracy: 0.9097 - val_loss: 0.2342 - val_accuracy: 0.9117\n",
      "Epoch 37/100\n",
      "43/43 [==============================] - 2s 36ms/step - loss: 0.2367 - accuracy: 0.9101 - val_loss: 0.2342 - val_accuracy: 0.9120\n",
      "Epoch 38/100\n",
      "43/43 [==============================] - 2s 35ms/step - loss: 0.2365 - accuracy: 0.9099 - val_loss: 0.2346 - val_accuracy: 0.9113\n",
      "Epoch 39/100\n",
      "43/43 [==============================] - 2s 35ms/step - loss: 0.2356 - accuracy: 0.9104 - val_loss: 0.2341 - val_accuracy: 0.9124\n",
      "Epoch 40/100\n",
      "43/43 [==============================] - 2s 37ms/step - loss: 0.2360 - accuracy: 0.9103 - val_loss: 0.2341 - val_accuracy: 0.9121\n",
      "CPU times: user 7min 1s, sys: 31.9 s, total: 7min 32s\n",
      "Wall time: 1min 2s\n"
     ]
    }
   ],
   "source": [
    "%%time\n",
    "history = model.fit(x_train_scaled,                                                              \n",
    "                    y_train,                                                            \n",
    "                    batch_size=2048,                                              \n",
    "                    epochs=100,      \n",
    "                    \n",
    "                   # epochs=30, \n",
    "                    #epochs = 6,\n",
    "                    callbacks=[earlystop],\n",
    "                     # callbacks=callbacks_list,                         \n",
    "                    validation_data=(x_valid_scaled, y_valid),                                               \n",
    "                    verbose=1)   "
   ]
  },
  {
   "cell_type": "code",
   "execution_count": 30,
   "metadata": {
    "colab": {
     "base_uri": "https://localhost:8080/",
     "height": 513
    },
    "executionInfo": {
     "elapsed": 710,
     "status": "ok",
     "timestamp": 1602697613662,
     "user": {
      "displayName": "Lorenzo Uboldi",
      "photoUrl": "",
      "userId": "12025999408021597208"
     },
     "user_tz": -120
    },
    "id": "KagllrzUgmMZ",
    "outputId": "0a5d4266-3904-4eda-9d3e-6db6aa89664e"
   },
   "outputs": [
    {
     "data": {
      "image/png": "[encoded data removed]",
      "text/plain": [
       "<Figure size 864x576 with 1 Axes>"
      ]
     },
     "metadata": {
      "needs_background": "light"
     },
     "output_type": "display_data"
    }
   ],
   "source": [
    "plt.figure(figsize=(12, 8))                                                     \n",
    "plt.plot(history.history['accuracy'], \"g--\", label=\"Accuracy of training data\", antialiased=True)\n",
    "plt.plot(history.history['val_accuracy'], \"g\", label=\"Accuracy of validation data\", antialiased=True)\n",
    "plt.plot(history.history['loss'], \"r--\", label=\"Loss of training data\", antialiased=True)\n",
    "plt.plot(history.history['val_loss'], \"r\", label=\"Loss of validation data\", antialiased=True)\n",
    "plt.title('Model Accuracy and Loss')                                            \n",
    "plt.ylabel('Accuracy and Loss')                                                 \n",
    "plt.xlabel('Training Epoch')                                                    \n",
    "#plt.ylim(0)                                                                     \n",
    "plt.legend()                                                                    \n",
    "plt.show()     "
   ]
  },
  {
   "cell_type": "code",
   "execution_count": 31,
   "metadata": {},
   "outputs": [
    {
     "data": {
      "text/plain": [
       "5305"
      ]
     },
     "execution_count": 31,
     "metadata": {},
     "output_type": "execute_result"
    }
   ],
   "source": [
    "#del x_train\n",
    "\n",
    "import gc\n",
    "gc.collect()"
   ]
  },
  {
   "cell_type": "code",
   "execution_count": 32,
   "metadata": {
    "collapsed": false,
    "jupyter": {
     "outputs_hidden": false
    },
    "pycharm": {
     "name": "#%%\n"
    }
   },
   "outputs": [],
   "source": [
    "model.save(\"models/vplane_nu.h5\")"
   ]
  },
  {
   "cell_type": "code",
   "execution_count": 33,
   "metadata": {},
   "outputs": [
    {
     "data": {
      "text/plain": [
       "[0.5354440212249756,\n",
       " 0.3240804672241211,\n",
       " 0.2741560637950897,\n",
       " 0.26295334100723267,\n",
       " 0.25674450397491455,\n",
       " 0.2538227438926697,\n",
       " 0.25183650851249695,\n",
       " 0.250310480594635,\n",
       " 0.24981650710105896,\n",
       " 0.2473600208759308,\n",
       " 0.24672004580497742,\n",
       " 0.24587704241275787,\n",
       " 0.24506984651088715,\n",
       " 0.24395394325256348,\n",
       " 0.24354106187820435,\n",
       " 0.24372468888759613,\n",
       " 0.2423694133758545,\n",
       " 0.2425718754529953,\n",
       " 0.241555318236351,\n",
       " 0.2413417249917984,\n",
       " 0.24067921936511993,\n",
       " 0.24068760871887207,\n",
       " 0.24017028510570526,\n",
       " 0.24045266211032867,\n",
       " 0.23991580307483673,\n",
       " 0.23886847496032715,\n",
       " 0.23947745561599731,\n",
       " 0.23887766897678375,\n",
       " 0.23885351419448853,\n",
       " 0.23804880678653717,\n",
       " 0.23791101574897766,\n",
       " 0.2384253889322281,\n",
       " 0.23803481459617615,\n",
       " 0.23715394735336304,\n",
       " 0.23716965317726135,\n",
       " 0.2371881753206253,\n",
       " 0.2366843968629837,\n",
       " 0.23645690083503723,\n",
       " 0.2356342375278473,\n",
       " 0.23602095246315002]"
      ]
     },
     "execution_count": 33,
     "metadata": {},
     "output_type": "execute_result"
    }
   ],
   "source": [
    "history.history['loss']"
   ]
  },
  {
   "cell_type": "code",
   "execution_count": 34,
   "metadata": {},
   "outputs": [
    {
     "data": {
      "text/plain": [
       "[0.3911876976490021,\n",
       " 0.27099958062171936,\n",
       " 0.25585153698921204,\n",
       " 0.24903222918510437,\n",
       " 0.24443319439888,\n",
       " 0.2424726039171219,\n",
       " 0.2409544289112091,\n",
       " 0.24219952523708344,\n",
       " 0.23963287472724915,\n",
       " 0.23852543532848358,\n",
       " 0.23823808133602142,\n",
       " 0.23770691454410553,\n",
       " 0.23674660921096802,\n",
       " 0.23666343092918396,\n",
       " 0.23686476051807404,\n",
       " 0.2379533052444458,\n",
       " 0.23607952892780304,\n",
       " 0.23624980449676514,\n",
       " 0.23680898547172546,\n",
       " 0.23539778590202332,\n",
       " 0.2365734726190567,\n",
       " 0.23568490147590637,\n",
       " 0.23506012558937073,\n",
       " 0.23510684072971344,\n",
       " 0.2355145663022995,\n",
       " 0.23546479642391205,\n",
       " 0.23460698127746582,\n",
       " 0.23429358005523682,\n",
       " 0.23534072935581207,\n",
       " 0.23498454689979553,\n",
       " 0.2341012805700302,\n",
       " 0.23459333181381226,\n",
       " 0.23434287309646606,\n",
       " 0.23414605855941772,\n",
       " 0.23403695225715637,\n",
       " 0.2341959923505783,\n",
       " 0.23420940339565277,\n",
       " 0.23456116020679474,\n",
       " 0.23411963880062103,\n",
       " 0.2341488003730774]"
      ]
     },
     "execution_count": 34,
     "metadata": {},
     "output_type": "execute_result"
    }
   ],
   "source": [
    "history.history['val_loss']"
   ]
  },
  {
   "cell_type": "code",
   "execution_count": 35,
   "metadata": {},
   "outputs": [
    {
     "data": {
      "text/plain": [
       "[0.6543393135070801,\n",
       " 0.8745050430297852,\n",
       " 0.8919199109077454,\n",
       " 0.897041916847229,\n",
       " 0.9012200832366943,\n",
       " 0.9018991589546204,\n",
       " 0.9030731916427612,\n",
       " 0.9045004844665527,\n",
       " 0.9046846032142639,\n",
       " 0.9051795601844788,\n",
       " 0.9058356285095215,\n",
       " 0.9064571857452393,\n",
       " 0.9066067934036255,\n",
       " 0.907021164894104,\n",
       " 0.9072283506393433,\n",
       " 0.9074355363845825,\n",
       " 0.9075736403465271,\n",
       " 0.9077578186988831,\n",
       " 0.9078153967857361,\n",
       " 0.9081721901893616,\n",
       " 0.908805251121521,\n",
       " 0.9085865616798401,\n",
       " 0.9085289835929871,\n",
       " 0.9085635542869568,\n",
       " 0.9094268083572388,\n",
       " 0.9092541337013245,\n",
       " 0.9089779257774353,\n",
       " 0.9094038009643555,\n",
       " 0.9091160297393799,\n",
       " 0.9094038009643555,\n",
       " 0.9096570014953613,\n",
       " 0.9094153046607971,\n",
       " 0.9099447727203369,\n",
       " 0.9098526835441589,\n",
       " 0.9100943803787231,\n",
       " 0.9096800088882446,\n",
       " 0.9100598692893982,\n",
       " 0.9098641872406006,\n",
       " 0.9103821516036987,\n",
       " 0.9102670550346375]"
      ]
     },
     "execution_count": 35,
     "metadata": {},
     "output_type": "execute_result"
    }
   ],
   "source": [
    "history.history['accuracy']"
   ]
  },
  {
   "cell_type": "code",
   "execution_count": 36,
   "metadata": {},
   "outputs": [
    {
     "data": {
      "text/plain": [
       "[0.864871084690094,\n",
       " 0.8957182168960571,\n",
       " 0.901197075843811,\n",
       " 0.9050644636154175,\n",
       " 0.9075967073440552,\n",
       " 0.9075967073440552,\n",
       " 0.9081491827964783,\n",
       " 0.9083333611488342,\n",
       " 0.909760594367981,\n",
       " 0.909576416015625,\n",
       " 0.9101288914680481,\n",
       " 0.9101288914680481,\n",
       " 0.909760594367981,\n",
       " 0.9099447727203369,\n",
       " 0.910405158996582,\n",
       " 0.910589337348938,\n",
       " 0.9107274413108826,\n",
       " 0.9110037088394165,\n",
       " 0.9108655452728271,\n",
       " 0.9109576344490051,\n",
       " 0.9107274413108826,\n",
       " 0.9112799167633057,\n",
       " 0.9113720059394836,\n",
       " 0.9115101099014282,\n",
       " 0.9110037088394165,\n",
       " 0.9112799167633057,\n",
       " 0.9112799167633057,\n",
       " 0.9112339019775391,\n",
       " 0.9110957384109497,\n",
       " 0.9112339019775391,\n",
       " 0.9119705557823181,\n",
       " 0.9122007489204407,\n",
       " 0.9117403030395508,\n",
       " 0.9117863774299622,\n",
       " 0.9118323922157288,\n",
       " 0.9117403030395508,\n",
       " 0.9120165705680847,\n",
       " 0.9112799167633057,\n",
       " 0.9123849272727966,\n",
       " 0.9120625853538513]"
      ]
     },
     "execution_count": 36,
     "metadata": {},
     "output_type": "execute_result"
    }
   ],
   "source": [
    "history.history['val_accuracy']"
   ]
  },
  {
   "cell_type": "code",
   "execution_count": 37,
   "metadata": {
    "collapsed": false,
    "jupyter": {
     "outputs_hidden": false
    },
    "pycharm": {
     "name": "#%%\n"
    }
   },
   "outputs": [
    {
     "name": "stdout",
     "output_type": "stream",
     "text": [
      "27/27 [==============================] - 1s 19ms/step - loss: 0.2264 - accuracy: 0.9135\n"
     ]
    },
    {
     "data": {
      "text/plain": [
       "[0.22638656198978424, 0.9134898781776428]"
      ]
     },
     "execution_count": 37,
     "metadata": {},
     "output_type": "execute_result"
    }
   ],
   "source": [
    "model.evaluate(x_test_scaled, y_test, batch_size=4096)"
   ]
  },
  {
   "cell_type": "code",
   "execution_count": 38,
   "metadata": {
    "colab": {
     "base_uri": "https://localhost:8080/",
     "height": 52
    },
    "executionInfo": {
     "elapsed": 2171,
     "status": "ok",
     "timestamp": 1602697903973,
     "user": {
      "displayName": "Lorenzo Uboldi",
      "photoUrl": "",
      "userId": "12025999408021597208"
     },
     "user_tz": -120
    },
    "id": "8ErHxak3gmMc",
    "outputId": "6dd2309f-6cf0-4d2c-b194-03a61962813a"
   },
   "outputs": [],
   "source": [
    "#model.evaluate(es_x_test_scaled, es_y_test, batch_size=4096)"
   ]
  },
  {
   "cell_type": "code",
   "execution_count": 39,
   "metadata": {},
   "outputs": [],
   "source": [
    "x_train_ = x_train_scaled\n",
    "y_train_ = y_train\n",
    "\n",
    "x_valid_ = x_valid_scaled\n",
    "y_valid_ = y_valid\n"
   ]
  },
  {
   "cell_type": "markdown",
   "metadata": {},
   "source": [
    "# Train"
   ]
  },
  {
   "cell_type": "code",
   "execution_count": 40,
   "metadata": {},
   "outputs": [
    {
     "name": "stdout",
     "output_type": "stream",
     "text": [
      "22/22 [==============================] - 1s 19ms/step\n",
      "CPU times: user 2.84 s, sys: 157 ms, total: 3 s\n",
      "Wall time: 916 ms\n"
     ]
    }
   ],
   "source": [
    "%%time\n",
    "%matplotlib inline\n",
    "import seaborn as sns\n",
    "infer = model.predict(x_train_, batch_size=4096)"
   ]
  },
  {
   "cell_type": "code",
   "execution_count": 41,
   "metadata": {},
   "outputs": [
    {
     "data": {
      "text/plain": [
       "<AxesSubplot:>"
      ]
     },
     "execution_count": 41,
     "metadata": {},
     "output_type": "execute_result"
    },
    {
     "data": {
      "image/png": "[encoded data removed]",
      "text/plain": [
       "<Figure size 432x288 with 2 Axes>"
      ]
     },
     "metadata": {
      "needs_background": "light"
     },
     "output_type": "display_data"
    }
   ],
   "source": [
    "from sklearn.metrics import confusion_matrix, ConfusionMatrixDisplay\n",
    "cm = confusion_matrix(y_train_, infer>0.5)\n",
    "sns.heatmap(cm, annot=True)"
   ]
  },
  {
   "cell_type": "code",
   "execution_count": 42,
   "metadata": {},
   "outputs": [
    {
     "data": {
      "text/plain": [
       "<AxesSubplot:>"
      ]
     },
     "execution_count": 42,
     "metadata": {},
     "output_type": "execute_result"
    },
    {
     "data": {
      "image/png": "[encoded data removed]",
      "text/plain": [
       "<Figure size 432x288 with 2 Axes>"
      ]
     },
     "metadata": {
      "needs_background": "light"
     },
     "output_type": "display_data"
    }
   ],
   "source": [
    "from sklearn.metrics import confusion_matrix\n",
    "cm2 = confusion_matrix(y_train_, infer>0.9)\n",
    "sns.heatmap(cm2, annot=True)"
   ]
  },
  {
   "cell_type": "code",
   "execution_count": 43,
   "metadata": {},
   "outputs": [],
   "source": [
    "from sklearn.metrics import roc_curve\n",
    "fpr_keras, tpr_keras, thresholds_keras = roc_curve(y_train_, infer)"
   ]
  },
  {
   "cell_type": "code",
   "execution_count": 44,
   "metadata": {},
   "outputs": [],
   "source": [
    "from sklearn.metrics import auc\n",
    "auc_keras = auc(fpr_keras, tpr_keras)"
   ]
  },
  {
   "cell_type": "code",
   "execution_count": 45,
   "metadata": {},
   "outputs": [],
   "source": [
    "np.save(\"results/false_positive_V_train\", fpr_keras)\n",
    "np.save(\"results/true_positive_V_train\", tpr_keras)\n",
    "np.save(\"results/thresholds_V_train\", thresholds_keras)"
   ]
  },
  {
   "cell_type": "code",
   "execution_count": 46,
   "metadata": {},
   "outputs": [],
   "source": [
    "from sklearn.metrics import auc\n",
    "auc_keras = auc(fpr_keras, tpr_keras)"
   ]
  },
  {
   "cell_type": "markdown",
   "metadata": {},
   "source": [
    "# Valid"
   ]
  },
  {
   "cell_type": "code",
   "execution_count": 47,
   "metadata": {},
   "outputs": [
    {
     "name": "stdout",
     "output_type": "stream",
     "text": [
      "6/6 [==============================] - 0s 18ms/step\n",
      "CPU times: user 742 ms, sys: 23.3 ms, total: 765 ms\n",
      "Wall time: 186 ms\n"
     ]
    }
   ],
   "source": [
    "%%time\n",
    "infer = model.predict(x_valid_, batch_size=4096)"
   ]
  },
  {
   "cell_type": "code",
   "execution_count": 48,
   "metadata": {},
   "outputs": [
    {
     "data": {
      "image/png": "[encoded data removed]",
      "text/plain": [
       "<Figure size 432x288 with 2 Axes>"
      ]
     },
     "metadata": {
      "needs_background": "light"
     },
     "output_type": "display_data"
    }
   ],
   "source": [
    "from sklearn.metrics import confusion_matrix\n",
    "cmv = confusion_matrix(y_valid_, infer>0.5)\n",
    "sns.heatmap(cmv, annot=True)\n",
    "plt.show()"
   ]
  },
  {
   "cell_type": "code",
   "execution_count": 49,
   "metadata": {},
   "outputs": [
    {
     "data": {
      "text/plain": [
       "<AxesSubplot:>"
      ]
     },
     "execution_count": 49,
     "metadata": {},
     "output_type": "execute_result"
    },
    {
     "data": {
      "image/png": "[encoded data removed]",
      "text/plain": [
       "<Figure size 432x288 with 2 Axes>"
      ]
     },
     "metadata": {
      "needs_background": "light"
     },
     "output_type": "display_data"
    }
   ],
   "source": [
    "from sklearn.metrics import confusion_matrix\n",
    "cmv2 = confusion_matrix(y_valid_, infer>0.9)\n",
    "sns.heatmap(cmv2, annot=True)"
   ]
  },
  {
   "cell_type": "code",
   "execution_count": 50,
   "metadata": {},
   "outputs": [],
   "source": [
    "from sklearn.metrics import roc_curve\n",
    "fpr_keras, tpr_keras, thresholds_keras = roc_curve(y_valid_, infer)"
   ]
  },
  {
   "cell_type": "code",
   "execution_count": 51,
   "metadata": {},
   "outputs": [],
   "source": [
    "np.save(\"results/false_positive_V_valid\", fpr_keras)\n",
    "np.save(\"results/true_positive_V_valid\", tpr_keras)\n",
    "np.save(\"results/thresholds_V_valid\", thresholds_keras)"
   ]
  },
  {
   "cell_type": "code",
   "execution_count": 52,
   "metadata": {},
   "outputs": [
    {
     "data": {
      "text/plain": [
       "[<matplotlib.lines.Line2D at 0x7f68ab6f6280>]"
      ]
     },
     "execution_count": 52,
     "metadata": {},
     "output_type": "execute_result"
    },
    {
     "data": {
      "image/png": "[encoded data removed]",
      "text/plain": [
       "<Figure size 432x288 with 1 Axes>"
      ]
     },
     "metadata": {
      "needs_background": "light"
     },
     "output_type": "display_data"
    }
   ],
   "source": [
    "plt.plot(fpr_keras, tpr_keras)"
   ]
  },
  {
   "cell_type": "markdown",
   "metadata": {},
   "source": [
    "# test"
   ]
  },
  {
   "cell_type": "code",
   "execution_count": 53,
   "metadata": {},
   "outputs": [
    {
     "data": {
      "text/plain": [
       "'\\nradio_model = tf.keras.models.load_model(\"models/vplane_radio.h5\")\\nradio_mean = np.load(\"models/mean_radio.npy\")\\nradio_scale = np.load(\"models/scale_radio.npy\")\\nx_test_radio_scaled = (x_test-radio_mean)/radio_scale\\nx_test_radio_scaled = x_test_radio_scaled.reshape(x_test_radio_scaled.shape[0], x_test_radio_scaled.shape[1], 1)\\nradio_infer = radio_model.predict(x_test_radio_scaled, batch_size=4096)\\nmodel.evaluate(x_test_scaled, y_test, batch_size=4096)\\n'"
      ]
     },
     "execution_count": 53,
     "metadata": {},
     "output_type": "execute_result"
    }
   ],
   "source": [
    "'''\n",
    "radio_model = tf.keras.models.load_model(\"models/vplane_radio.h5\")\n",
    "radio_mean = np.load(\"models/mean_radio.npy\")\n",
    "radio_scale = np.load(\"models/scale_radio.npy\")\n",
    "x_test_radio_scaled = (x_test-radio_mean)/radio_scale\n",
    "x_test_radio_scaled = x_test_radio_scaled.reshape(x_test_radio_scaled.shape[0], x_test_radio_scaled.shape[1], 1)\n",
    "radio_infer = radio_model.predict(x_test_radio_scaled, batch_size=4096)\n",
    "model.evaluate(x_test_scaled, y_test, batch_size=4096)\n",
    "'''"
   ]
  },
  {
   "cell_type": "code",
   "execution_count": 54,
   "metadata": {},
   "outputs": [
    {
     "name": "stdout",
     "output_type": "stream",
     "text": [
      "27/27 [==============================] - 1s 18ms/step\n"
     ]
    }
   ],
   "source": [
    "#%%time\n",
    "#cc_infer = model.predict(cc_x_test_scaled, batch_size=4096)\n",
    "#es_infer = model.predict(es_x_test_scaled, batch_size=4096)\n",
    "all_infer = model.predict(x_test_scaled, batch_size=4096)\n",
    "all_y_test = y_test\n"
   ]
  },
  {
   "cell_type": "code",
   "execution_count": 55,
   "metadata": {},
   "outputs": [],
   "source": [
    "from sklearn.metrics import confusion_matrix\n",
    "#cc1 = confusion_matrix(cc_y_test, cc_infer>0.5)\n",
    "#sns.heatmap(cc1, annot=True)"
   ]
  },
  {
   "cell_type": "code",
   "execution_count": 56,
   "metadata": {},
   "outputs": [],
   "source": [
    "#es1 = confusion_matrix(es_y_test, es_infer>0.5)\n",
    "#sns.heatmap(es1, annot=True)"
   ]
  },
  {
   "cell_type": "code",
   "execution_count": 57,
   "metadata": {},
   "outputs": [
    {
     "data": {
      "image/png": "[encoded data removed]",
      "text/plain": [
       "<Figure size 432x288 with 2 Axes>"
      ]
     },
     "metadata": {
      "needs_background": "light"
     },
     "output_type": "display_data"
    }
   ],
   "source": [
    "all1 = confusion_matrix(all_y_test, all_infer>0.5)\n",
    "sns.heatmap(all1, annot=True)\n",
    "plt.title(\"Confusion Matrix - Test Dataset Plane \" + wireplane)\n",
    "plt.xlabel(\"Predicted Class (>0.5)\")\n",
    "plt.ylabel(\"True Class\")\n",
    "plt.show()"
   ]
  },
  {
   "cell_type": "code",
   "execution_count": 58,
   "metadata": {},
   "outputs": [],
   "source": [
    "from sklearn.metrics import confusion_matrix\n",
    "#cc2 = confusion_matrix(cc_y_test, cc_infer>0.9)\n",
    "#sns.heatmap(cc2, annot=True)"
   ]
  },
  {
   "cell_type": "code",
   "execution_count": 59,
   "metadata": {},
   "outputs": [],
   "source": [
    "#es2 = confusion_matrix(es_y_test, es_infer>0.9)\n",
    "#sns.heatmap(es2, annot=True)"
   ]
  },
  {
   "cell_type": "code",
   "execution_count": 60,
   "metadata": {},
   "outputs": [
    {
     "data": {
      "image/png": "[encoded data removed]",
      "text/plain": [
       "<Figure size 432x288 with 2 Axes>"
      ]
     },
     "metadata": {
      "needs_background": "light"
     },
     "output_type": "display_data"
    }
   ],
   "source": [
    "all2 = confusion_matrix(all_y_test, all_infer>0.9)\n",
    "sns.heatmap(all2, annot=True)\n",
    "plt.title(\"Confusion Matrix - Test Dataset Plane \" + wireplane)\n",
    "plt.xlabel(\"Predicted Class (>0.9)\")\n",
    "plt.ylabel(\"True Class\")\n",
    "plt.show()"
   ]
  },
  {
   "cell_type": "code",
   "execution_count": 61,
   "metadata": {},
   "outputs": [],
   "source": [
    "from sklearn.metrics import roc_curve\n",
    "#fpr_keras, tpr_keras, thresholds_keras = roc_curve(cc_y_test, cc_infer)\n",
    "#plt.plot(fpr_keras, tpr_keras)"
   ]
  },
  {
   "cell_type": "code",
   "execution_count": 62,
   "metadata": {},
   "outputs": [],
   "source": [
    "#fpr_keras, tpr_keras, thresholds_keras = roc_curve(es_y_test, es_infer)\n",
    "#plt.plot(fpr_keras, tpr_keras)"
   ]
  },
  {
   "cell_type": "code",
   "execution_count": 63,
   "metadata": {},
   "outputs": [
    {
     "data": {
      "image/png": "[encoded data removed]",
      "text/plain": [
       "<Figure size 432x288 with 1 Axes>"
      ]
     },
     "metadata": {
      "needs_background": "light"
     },
     "output_type": "display_data"
    }
   ],
   "source": [
    "fpr_keras, tpr_keras, thresholds_keras = roc_curve(all_y_test, all_infer)\n",
    "plt.plot(fpr_keras, tpr_keras)\n",
    "plt.title(\"ROC Curve - Test Dataset Plane \" + wireplane)\n",
    "plt.xlabel(\"False Positive Rate\")\n",
    "plt.ylabel(\"True Positive Rate\")\n",
    "plt.show()"
   ]
  },
  {
   "cell_type": "code",
   "execution_count": 64,
   "metadata": {},
   "outputs": [],
   "source": [
    "np.save(\"results/false_positive_V_test\", fpr_keras)\n",
    "np.save(\"results/true_positive_V_test\", tpr_keras)\n",
    "np.save(\"results/thresholds_V_test\", thresholds_keras)"
   ]
  },
  {
   "cell_type": "code",
   "execution_count": 65,
   "metadata": {},
   "outputs": [],
   "source": [
    "#plt.hist(cc_infer, bins = 100);"
   ]
  },
  {
   "cell_type": "code",
   "execution_count": 66,
   "metadata": {},
   "outputs": [],
   "source": [
    "#plt.hist(es_infer, bins = 100);"
   ]
  },
  {
   "cell_type": "code",
   "execution_count": 67,
   "metadata": {},
   "outputs": [
    {
     "data": {
      "image/png": "[encoded data removed]",
      "text/plain": [
       "<Figure size 432x288 with 1 Axes>"
      ]
     },
     "metadata": {
      "needs_background": "light"
     },
     "output_type": "display_data"
    }
   ],
   "source": [
    "plt.hist(all_infer, bins = 100);"
   ]
  },
  {
   "cell_type": "code",
   "execution_count": 68,
   "metadata": {},
   "outputs": [
    {
     "name": "stdout",
     "output_type": "stream",
     "text": [
      "14/14 [==============================] - 0s 18ms/step\n",
      "14/14 [==============================] - 0s 18ms/step\n",
      "CPU times: user 3.6 s, sys: 310 ms, total: 3.91 s\n",
      "Wall time: 975 ms\n"
     ]
    }
   ],
   "source": [
    "%%time\n",
    "#cc_infer_signal = model.predict(cc_x_test_scaled[cc_y_test==1], batch_size=4096)\n",
    "#cc_infer_noise = model.predict(cc_x_test_scaled[cc_y_test==0], batch_size=4096)\n",
    "#es_infer_signal = model.predict(es_x_test_scaled[es_y_test==1], batch_size=4096)\n",
    "#es_infer_noise = model.predict(es_x_test_scaled[es_y_test==0], batch_size=4096)\n",
    "all_infer_signal = model.predict(x_test_scaled[y_test==1], batch_size=4096)\n",
    "all_infer_noise = model.predict(x_test_scaled[y_test==0], batch_size=4096)"
   ]
  },
  {
   "cell_type": "code",
   "execution_count": 69,
   "metadata": {},
   "outputs": [],
   "source": [
    "#plt.hist(cc_infer_noise, range = (0,1), bins=20)"
   ]
  },
  {
   "cell_type": "code",
   "execution_count": 70,
   "metadata": {},
   "outputs": [],
   "source": [
    "#plt.hist(es_infer_noise, range = (0,1), bins=20)"
   ]
  },
  {
   "cell_type": "code",
   "execution_count": 71,
   "metadata": {},
   "outputs": [
    {
     "data": {
      "text/plain": [
       "(array([    0., 27150., 14754.,  4881.,  2322.,  1361.,   946.,   641.,\n",
       "          447.,   360.,   297.,   257.,   191.,   162.,   137.,   121.,\n",
       "           94.,    74.,    62.,    43.]),\n",
       " array([0.  , 0.05, 0.1 , 0.15, 0.2 , 0.25, 0.3 , 0.35, 0.4 , 0.45, 0.5 ,\n",
       "        0.55, 0.6 , 0.65, 0.7 , 0.75, 0.8 , 0.85, 0.9 , 0.95, 1.  ],\n",
       "       dtype=float32),\n",
       " <BarContainer object of 20 artists>)"
      ]
     },
     "execution_count": 71,
     "metadata": {},
     "output_type": "execute_result"
    },
    {
     "data": {
      "image/png": "[encoded data removed]",
      "text/plain": [
       "<Figure size 432x288 with 1 Axes>"
      ]
     },
     "metadata": {
      "needs_background": "light"
     },
     "output_type": "display_data"
    }
   ],
   "source": [
    "plt.hist(all_infer_noise, range = (0,1), bins=20)"
   ]
  },
  {
   "cell_type": "code",
   "execution_count": 72,
   "metadata": {},
   "outputs": [],
   "source": [
    "#plt.hist(cc_infer_signal, range = (0,1), bins=20)"
   ]
  },
  {
   "cell_type": "code",
   "execution_count": 73,
   "metadata": {},
   "outputs": [],
   "source": [
    "#plt.hist(es_infer_signal, range = (0,1), bins=20)"
   ]
  },
  {
   "cell_type": "code",
   "execution_count": 74,
   "metadata": {},
   "outputs": [
    {
     "data": {
      "text/plain": [
       "(array([    0.,  2016.,  2133.,  1097.,   752.,   533.,   422.,   368.,\n",
       "          332.,   304.,   233.,   232.,   265.,   250.,   274.,   321.,\n",
       "          384.,   418.,   656., 43310.]),\n",
       " array([0.  , 0.05, 0.1 , 0.15, 0.2 , 0.25, 0.3 , 0.35, 0.4 , 0.45, 0.5 ,\n",
       "        0.55, 0.6 , 0.65, 0.7 , 0.75, 0.8 , 0.85, 0.9 , 0.95, 1.  ],\n",
       "       dtype=float32),\n",
       " <BarContainer object of 20 artists>)"
      ]
     },
     "execution_count": 74,
     "metadata": {},
     "output_type": "execute_result"
    },
    {
     "data": {
      "image/png": "[encoded data removed]",
      "text/plain": [
       "<Figure size 432x288 with 1 Axes>"
      ]
     },
     "metadata": {
      "needs_background": "light"
     },
     "output_type": "display_data"
    }
   ],
   "source": [
    "plt.hist(all_infer_signal, range = (0,1), bins=20)"
   ]
  },
  {
   "cell_type": "code",
   "execution_count": null,
   "metadata": {},
   "outputs": [],
   "source": []
  },
  {
   "cell_type": "code",
   "execution_count": null,
   "metadata": {},
   "outputs": [],
   "source": []
  },
  {
   "cell_type": "code",
   "execution_count": null,
   "metadata": {},
   "outputs": [],
   "source": []
  },
  {
   "cell_type": "code",
   "execution_count": null,
   "metadata": {},
   "outputs": [],
   "source": []
  },
  {
   "cell_type": "code",
   "execution_count": null,
   "metadata": {},
   "outputs": [],
   "source": []
  },
  {
   "cell_type": "code",
   "execution_count": null,
   "metadata": {},
   "outputs": [],
   "source": []
  }
 ],
 "metadata": {
  "accelerator": "GPU",
  "colab": {
   "name": "Small windows.ipynb",
   "provenance": []
  },
  "kernelspec": {
   "display_name": "dune-1dcnn",
   "language": "python",
   "name": "dune-1dcnn"
  },
  "language_info": {
   "codemirror_mode": {
    "name": "ipython",
    "version": 3
   },
   "file_extension": ".py",
   "mimetype": "text/x-python",
   "name": "python",
   "nbconvert_exporter": "python",
   "pygments_lexer": "ipython3",
   "version": "3.9.9"
  }
 },
 "nbformat": 4,
 "nbformat_minor": 4
}
